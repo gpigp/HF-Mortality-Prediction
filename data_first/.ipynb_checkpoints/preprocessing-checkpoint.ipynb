{
 "cells": [
  {
   "cell_type": "code",
   "execution_count": 116,
   "id": "51d72c55-cf9a-4b88-90eb-a39548b70b72",
   "metadata": {},
   "outputs": [],
   "source": [
    "import pandas as pd\n",
    "import numpy as np"
   ]
  },
  {
   "cell_type": "code",
   "execution_count": 117,
   "id": "7e99e8fd-77c4-4604-83ab-3fc49b24c344",
   "metadata": {},
   "outputs": [],
   "source": [
    "df = pd.read_excel(\"Data.xlsx\", engine = 'openpyxl')"
   ]
  },
  {
   "cell_type": "code",
   "execution_count": 402,
   "id": "b6a40a5f-7345-481a-b142-c5697df83caa",
   "metadata": {},
   "outputs": [],
   "source": [
    "data = df\n",
    "\n",
    "str_ = []\n",
    "# Colums에서 결측값이 총데이터의 40% 이상인 열은 제거\n",
    "for i in range(len(data.columns)):\n",
    "    if data[[data.columns[i]]].isnull().sum()[0] > len(data)*0.4:\n",
    "        str_.append( str(data.columns[i]) )\n",
    "data = data.drop(str_,axis=1)\n",
    "\n",
    "# Row 에서 결측값이 총 Column 개수의 40% 이상인 행은 제거\n",
    "data_row_na = data.isnull().sum(1)\n",
    "index_ = []\n",
    "for i in range(len(data)):\n",
    "    if data_row_na[i] > len(data.columns)*0.4:\n",
    "        index_.append( i )\n",
    "data = data.drop(data.index[index_])"
   ]
  },
  {
   "cell_type": "code",
   "execution_count": 403,
   "id": "53ce6036-fad2-4c91-96aa-02f362a4d797",
   "metadata": {},
   "outputs": [],
   "source": [
    "data = data.drop(['Code','Name','birthday'],axis=1)"
   ]
  },
  {
   "cell_type": "code",
   "execution_count": 408,
   "id": "6f3f3114-ad95-4a35-9c82-0aac0bd6f220",
   "metadata": {},
   "outputs": [
    {
     "name": "stderr",
     "output_type": "stream",
     "text": [
      "/usr/local/lib/python3.6/dist-packages/ipykernel_launcher.py:4: SettingWithCopyWarning: \n",
      "A value is trying to be set on a copy of a slice from a DataFrame\n",
      "\n",
      "See the caveats in the documentation: https://pandas.pydata.org/pandas-docs/stable/user_guide/indexing.html#returning-a-view-versus-a-copy\n",
      "  after removing the cwd from sys.path.\n",
      "/usr/local/lib/python3.6/dist-packages/ipykernel_launcher.py:5: SettingWithCopyWarning: \n",
      "A value is trying to be set on a copy of a slice from a DataFrame\n",
      "\n",
      "See the caveats in the documentation: https://pandas.pydata.org/pandas-docs/stable/user_guide/indexing.html#returning-a-view-versus-a-copy\n",
      "  \"\"\"\n",
      "/usr/local/lib/python3.6/dist-packages/ipykernel_launcher.py:6: SettingWithCopyWarning: \n",
      "A value is trying to be set on a copy of a slice from a DataFrame\n",
      "\n",
      "See the caveats in the documentation: https://pandas.pydata.org/pandas-docs/stable/user_guide/indexing.html#returning-a-view-versus-a-copy\n",
      "  \n"
     ]
    }
   ],
   "source": [
    "# data.Step 이산화\n",
    "for i in range(11):\n",
    "    str_ = str(i) + '단계(진행)'\n",
    "    data.Step[data.Step == str_] = float(i-1)\n",
    "data.Step[data.Step == '10단계(완료)'] = float(10)\n",
    "data.Step[data.Step.isnull()] = float(0)"
   ]
  },
  {
   "cell_type": "code",
   "execution_count": 417,
   "id": "34a2a14a-5752-4131-beb2-b1af12891c17",
   "metadata": {},
   "outputs": [
    {
     "ename": "KeyError",
     "evalue": "'EKG rhythm'",
     "output_type": "error",
     "traceback": [
      "\u001b[0;31m---------------------------------------------------------------------------\u001b[0m",
      "\u001b[0;31mKeyError\u001b[0m                                  Traceback (most recent call last)",
      "\u001b[0;32m/usr/local/lib/python3.6/dist-packages/pandas/core/indexes/base.py\u001b[0m in \u001b[0;36mget_loc\u001b[0;34m(self, key, method, tolerance)\u001b[0m\n\u001b[1;32m   2897\u001b[0m             \u001b[0;32mtry\u001b[0m\u001b[0;34m:\u001b[0m\u001b[0;34m\u001b[0m\u001b[0;34m\u001b[0m\u001b[0m\n\u001b[0;32m-> 2898\u001b[0;31m                 \u001b[0;32mreturn\u001b[0m \u001b[0mself\u001b[0m\u001b[0;34m.\u001b[0m\u001b[0m_engine\u001b[0m\u001b[0;34m.\u001b[0m\u001b[0mget_loc\u001b[0m\u001b[0;34m(\u001b[0m\u001b[0mcasted_key\u001b[0m\u001b[0;34m)\u001b[0m\u001b[0;34m\u001b[0m\u001b[0;34m\u001b[0m\u001b[0m\n\u001b[0m\u001b[1;32m   2899\u001b[0m             \u001b[0;32mexcept\u001b[0m \u001b[0mKeyError\u001b[0m \u001b[0;32mas\u001b[0m \u001b[0merr\u001b[0m\u001b[0;34m:\u001b[0m\u001b[0;34m\u001b[0m\u001b[0;34m\u001b[0m\u001b[0m\n",
      "\u001b[0;32mpandas/_libs/index.pyx\u001b[0m in \u001b[0;36mpandas._libs.index.IndexEngine.get_loc\u001b[0;34m()\u001b[0m\n",
      "\u001b[0;32mpandas/_libs/index.pyx\u001b[0m in \u001b[0;36mpandas._libs.index.IndexEngine.get_loc\u001b[0;34m()\u001b[0m\n",
      "\u001b[0;32mpandas/_libs/hashtable_class_helper.pxi\u001b[0m in \u001b[0;36mpandas._libs.hashtable.PyObjectHashTable.get_item\u001b[0;34m()\u001b[0m\n",
      "\u001b[0;32mpandas/_libs/hashtable_class_helper.pxi\u001b[0m in \u001b[0;36mpandas._libs.hashtable.PyObjectHashTable.get_item\u001b[0;34m()\u001b[0m\n",
      "\u001b[0;31mKeyError\u001b[0m: 'EKG rhythm'",
      "\nThe above exception was the direct cause of the following exception:\n",
      "\u001b[0;31mKeyError\u001b[0m                                  Traceback (most recent call last)",
      "\u001b[0;32m<ipython-input-417-c55859cef2ca>\u001b[0m in \u001b[0;36m<module>\u001b[0;34m\u001b[0m\n\u001b[0;32m----> 1\u001b[0;31m \u001b[0mprint\u001b[0m\u001b[0;34m(\u001b[0m\u001b[0mdata\u001b[0m\u001b[0;34m.\u001b[0m\u001b[0mcorr\u001b[0m\u001b[0;34m(\u001b[0m\u001b[0mmethod\u001b[0m\u001b[0;34m=\u001b[0m\u001b[0;34m'pearson'\u001b[0m\u001b[0;34m)\u001b[0m\u001b[0;34m[\u001b[0m\u001b[0;34m'EKG rhythm'\u001b[0m\u001b[0;34m]\u001b[0m\u001b[0;34m)\u001b[0m\u001b[0;34m\u001b[0m\u001b[0;34m\u001b[0m\u001b[0m\n\u001b[0m\u001b[1;32m      2\u001b[0m \u001b[0mprint\u001b[0m\u001b[0;34m(\u001b[0m\u001b[0mdata\u001b[0m\u001b[0;34m[\u001b[0m\u001b[0;34m[\u001b[0m\u001b[0;34m'EKG rhythm'\u001b[0m\u001b[0;34m]\u001b[0m\u001b[0;34m]\u001b[0m\u001b[0;34m)\u001b[0m\u001b[0;34m\u001b[0m\u001b[0;34m\u001b[0m\u001b[0m\n",
      "\u001b[0;32m/usr/local/lib/python3.6/dist-packages/pandas/core/frame.py\u001b[0m in \u001b[0;36m__getitem__\u001b[0;34m(self, key)\u001b[0m\n\u001b[1;32m   2904\u001b[0m             \u001b[0;32mif\u001b[0m \u001b[0mself\u001b[0m\u001b[0;34m.\u001b[0m\u001b[0mcolumns\u001b[0m\u001b[0;34m.\u001b[0m\u001b[0mnlevels\u001b[0m \u001b[0;34m>\u001b[0m \u001b[0;36m1\u001b[0m\u001b[0;34m:\u001b[0m\u001b[0;34m\u001b[0m\u001b[0;34m\u001b[0m\u001b[0m\n\u001b[1;32m   2905\u001b[0m                 \u001b[0;32mreturn\u001b[0m \u001b[0mself\u001b[0m\u001b[0;34m.\u001b[0m\u001b[0m_getitem_multilevel\u001b[0m\u001b[0;34m(\u001b[0m\u001b[0mkey\u001b[0m\u001b[0;34m)\u001b[0m\u001b[0;34m\u001b[0m\u001b[0;34m\u001b[0m\u001b[0m\n\u001b[0;32m-> 2906\u001b[0;31m             \u001b[0mindexer\u001b[0m \u001b[0;34m=\u001b[0m \u001b[0mself\u001b[0m\u001b[0;34m.\u001b[0m\u001b[0mcolumns\u001b[0m\u001b[0;34m.\u001b[0m\u001b[0mget_loc\u001b[0m\u001b[0;34m(\u001b[0m\u001b[0mkey\u001b[0m\u001b[0;34m)\u001b[0m\u001b[0;34m\u001b[0m\u001b[0;34m\u001b[0m\u001b[0m\n\u001b[0m\u001b[1;32m   2907\u001b[0m             \u001b[0;32mif\u001b[0m \u001b[0mis_integer\u001b[0m\u001b[0;34m(\u001b[0m\u001b[0mindexer\u001b[0m\u001b[0;34m)\u001b[0m\u001b[0;34m:\u001b[0m\u001b[0;34m\u001b[0m\u001b[0;34m\u001b[0m\u001b[0m\n\u001b[1;32m   2908\u001b[0m                 \u001b[0mindexer\u001b[0m \u001b[0;34m=\u001b[0m \u001b[0;34m[\u001b[0m\u001b[0mindexer\u001b[0m\u001b[0;34m]\u001b[0m\u001b[0;34m\u001b[0m\u001b[0;34m\u001b[0m\u001b[0m\n",
      "\u001b[0;32m/usr/local/lib/python3.6/dist-packages/pandas/core/indexes/base.py\u001b[0m in \u001b[0;36mget_loc\u001b[0;34m(self, key, method, tolerance)\u001b[0m\n\u001b[1;32m   2898\u001b[0m                 \u001b[0;32mreturn\u001b[0m \u001b[0mself\u001b[0m\u001b[0;34m.\u001b[0m\u001b[0m_engine\u001b[0m\u001b[0;34m.\u001b[0m\u001b[0mget_loc\u001b[0m\u001b[0;34m(\u001b[0m\u001b[0mcasted_key\u001b[0m\u001b[0;34m)\u001b[0m\u001b[0;34m\u001b[0m\u001b[0;34m\u001b[0m\u001b[0m\n\u001b[1;32m   2899\u001b[0m             \u001b[0;32mexcept\u001b[0m \u001b[0mKeyError\u001b[0m \u001b[0;32mas\u001b[0m \u001b[0merr\u001b[0m\u001b[0;34m:\u001b[0m\u001b[0;34m\u001b[0m\u001b[0;34m\u001b[0m\u001b[0m\n\u001b[0;32m-> 2900\u001b[0;31m                 \u001b[0;32mraise\u001b[0m \u001b[0mKeyError\u001b[0m\u001b[0;34m(\u001b[0m\u001b[0mkey\u001b[0m\u001b[0;34m)\u001b[0m \u001b[0;32mfrom\u001b[0m \u001b[0merr\u001b[0m\u001b[0;34m\u001b[0m\u001b[0;34m\u001b[0m\u001b[0m\n\u001b[0m\u001b[1;32m   2901\u001b[0m \u001b[0;34m\u001b[0m\u001b[0m\n\u001b[1;32m   2902\u001b[0m         \u001b[0;32mif\u001b[0m \u001b[0mtolerance\u001b[0m \u001b[0;32mis\u001b[0m \u001b[0;32mnot\u001b[0m \u001b[0;32mNone\u001b[0m\u001b[0;34m:\u001b[0m\u001b[0;34m\u001b[0m\u001b[0;34m\u001b[0m\u001b[0m\n",
      "\u001b[0;31mKeyError\u001b[0m: 'EKG rhythm'"
     ]
    }
   ],
   "source": [
    "# pearson 상관관계에는 string은 빠진다.\n",
    "print(data.corr(method='pearson')['EKG rhythm'])\n",
    "print(data[['EKG rhythm']])"
   ]
  },
  {
   "cell_type": "code",
   "execution_count": 376,
   "id": "76f4e72c-fc65-496d-95f4-0388d6694098",
   "metadata": {},
   "outputs": [
    {
     "name": "stdout",
     "output_type": "stream",
     "text": [
      "Step\n",
      "age\n",
      "gender\n",
      "height\n",
      "weight\n",
      "BMI\n",
      "ER arrival time\n",
      "first medical contact time\n",
      "first medical center\n",
      "119 call time\n",
      "vehicle\n",
      "전원여부\n",
      "도착전 CPR\n",
      "도착시 DOA\n",
      "내원당시 Sx\n",
      "chest pain\n",
      "dyspnea\n",
      "Sx onset time\n",
      "prev angina sx\n",
      "SBP\n",
      "DBP\n",
      "HR\n",
      "Killip\n",
      "final diagnosis\n",
      "입원당시 EKG\n",
      "EKG 상 ischemia location\n",
      "EKG rhythm\n",
      "NSR\n",
      "A.fib/A.fl\n",
      "VT/VF\n",
      "AV block\n",
      "SVT\n",
      "IHD Hx\n",
      "HTN\n",
      "DM\n",
      "HL\n",
      "Smoking\n",
      "FHX\n",
      "initial therapeutic strategy\n",
      "thrombolysis\n",
      "thrombolysis time\n",
      "why thrombolysis not performed\n",
      "PCI\n",
      "cath room arrival time\n",
      "PCI location\n",
      "reason for PCI\n",
      "first balloon time\n",
      "premed before PCI\n",
      "clopidogrel 용량\n",
      "clopidogrel 종류\n",
      "II/IIIa\n",
      "distal protection device\n",
      "approach method\n",
      "CAG\n",
      "CAG finding\n",
      "target vessel \n",
      "lesion type\n",
      "pre TIMI\n",
      "treated vv\n",
      "IVUS\n",
      "post TIMI\n",
      "Stent\n",
      "target lesion stent\n",
      "stent size\n",
      "stent diameter\n",
      "stent number\n",
      "PCI 결과\n",
      "revascularization 상태\n",
      "QCA data\n",
      "complication\n",
      "complication 치료\n",
      "CCU\n",
      "CCU days\n",
      "Echo\n",
      "echo date\n",
      "LVEF\n",
      "MR Gr\n",
      "LVESD\n",
      "LVEDD\n",
      "Stress test\n",
      "CABG\n",
      "EPS\n",
      "Cardiac CT\n",
      "glucose\n",
      "Cr\n",
      "CK\n",
      "CK-MB\n",
      "TnI\n",
      "lipid date\n",
      "TC\n",
      "TG\n",
      "HDL\n",
      "L DL\n",
      "hsCRP\n",
      "aspirin\n",
      "clopidogrel\n",
      "cilostazol\n",
      "ticlopid\n",
      "trifusal\n",
      "abcximab\n",
      "trofiban\n",
      "epifibatide\n",
      "argatroban\n",
      "Unfractionated heparin\n",
      "LMWH\n",
      "beta blocker\n",
      "betablocker종류\n",
      "ACEi\n",
      "ARB\n",
      "CCB\n",
      "Nitrate\n",
      "Nicroandil\n",
      "digoxin\n",
      "diuretics\n",
      "statin\n",
      "statin 종류\n",
      "fibrate\n",
      "eztrole\n",
      "vytorin\n",
      "vasopressor\n",
      "mucomyst\n",
      "other\n",
      "survival\n",
      "discharge date\n",
      "discharge 장소\n",
      "discharge med\n",
      "Daspirin\n",
      "Dclopidogrel\n",
      "Dclopidogrel.1\n",
      "Dcilostazol\n",
      "Dtichlopid\n",
      "Dtrifusal\n",
      "DCCB\n",
      "DBB\n",
      "DBB.1\n",
      "DACEi\n",
      "DARB\n",
      "Dstatin\n",
      "Dnitrate\n",
      "Dnicorandil\n",
      "Ddiuretics\n",
      "Dspiractone\n",
      "Dfibrate\n",
      "Deztrole\n",
      "Dvytorin\n",
      "In hospital Death\n",
      "1MFU\n",
      "12M Total MACE\n",
      "12M comp CD\n",
      "12M comp total death\n",
      "12M comp MI\n",
      "12M comp RePCI\n",
      "12M comp TLR\n",
      "12M comp CABG\n",
      "24M Total MACE\n"
     ]
    }
   ],
   "source": [
    "# pd.set_option('display.max_rows', None)\n",
    "# pd.set_option('display.max_columns', None)\n",
    "# pd.reset_option(\"display.max_rows\")\n",
    "# pd.reset_option('display.max_columns')\n",
    "for col in data.columns:\n",
    "    print(col)\n",
    "\n"
   ]
  },
  {
   "cell_type": "code",
   "execution_count": 130,
   "id": "f9ef5c09-2ca8-4be3-ae72-dd4a18e28328",
   "metadata": {},
   "outputs": [],
   "source": [
    "data.age = df.age.fillna(round(df.age.mean(), 0))\n",
    "data.height = df.height.fillna(round(df.height.mean(), 0))\n",
    "data.weight = df.weight.fillna(round(df.weight.mean(), 0))\n",
    "data.BMI = df.BMI.fillna(df.BMI.mean())"
   ]
  },
  {
   "cell_type": "code",
   "execution_count": 150,
   "id": "d607f590-706d-4f27-bfae-8d4fba6ee68d",
   "metadata": {},
   "outputs": [
    {
     "name": "stdout",
     "output_type": "stream",
     "text": [
      "14282\n"
     ]
    }
   ],
   "source": [
    "print(len(df.AC[df.AC.isnull() == True]))"
   ]
  },
  {
   "cell_type": "code",
   "execution_count": 136,
   "id": "46c3e2ec-cd06-4c10-b27c-16fb5ed4f75f",
   "metadata": {},
   "outputs": [
    {
     "name": "stdout",
     "output_type": "stream",
     "text": [
      "0        60.0\n",
      "1        65.0\n",
      "2        75.0\n",
      "3        65.0\n",
      "4        58.0\n",
      "         ... \n",
      "25190    65.0\n",
      "25191    65.0\n",
      "25192    65.0\n",
      "25193    65.0\n",
      "25194    65.0\n",
      "Name: weight, Length: 25195, dtype: float64\n"
     ]
    }
   ],
   "source": [
    "print(data.weight)"
   ]
  },
  {
   "cell_type": "code",
   "execution_count": 133,
   "id": "10db5fb6-ffb9-4242-862f-7a12341aeb70",
   "metadata": {},
   "outputs": [
    {
     "name": "stdout",
     "output_type": "stream",
     "text": [
      "Index(['Step', 'age', 'gender', 'height', 'weight', 'BMI', 'AC', 'HC',\n",
      "       'ER arrival time', 'first medical contact time',\n",
      "       ...\n",
      "       '12M comp total death', '12M comp MI', '12M comp RePCI', '12M comp TLR',\n",
      "       '12M comp CABG', '24M Total MACE', 'ST', 'ST type', 'ST ARC',\n",
      "       'ST result'],\n",
      "      dtype='object', length=300)\n"
     ]
    }
   ],
   "source": [
    "print(data.columns)"
   ]
  },
  {
   "cell_type": "code",
   "execution_count": 309,
   "id": "4ce44ba3-3356-435f-ad63-7b1328673317",
   "metadata": {},
   "outputs": [],
   "source": []
  },
  {
   "cell_type": "code",
   "execution_count": null,
   "id": "cbaf6fe5-a4dc-42c9-8a36-6f3277c893d2",
   "metadata": {},
   "outputs": [],
   "source": []
  }
 ],
 "metadata": {
  "kernelspec": {
   "display_name": "Python 3",
   "language": "python",
   "name": "python3"
  },
  "language_info": {
   "codemirror_mode": {
    "name": "ipython",
    "version": 3
   },
   "file_extension": ".py",
   "mimetype": "text/x-python",
   "name": "python",
   "nbconvert_exporter": "python",
   "pygments_lexer": "ipython3",
   "version": "3.6.9"
  }
 },
 "nbformat": 4,
 "nbformat_minor": 5
}
