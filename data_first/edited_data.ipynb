{
 "cells": [
  {
   "cell_type": "code",
   "execution_count": 1,
   "id": "5d03c616-bd91-4c06-b63b-c54bcdbab75f",
   "metadata": {},
   "outputs": [],
   "source": [
    "import pandas as pd\n",
    "import matplotlib.pyplot as plt\n",
    "import missingno as msno\n",
    "import seaborn as sns\n",
    "import numpy as np"
   ]
  },
  {
   "cell_type": "code",
   "execution_count": 2,
   "id": "69d99bfa-fd8c-412c-a44d-e308260a042a",
   "metadata": {},
   "outputs": [],
   "source": [
    "# neighber.base 라이브러리 이름을 neighber._base로 변경하기\n",
    "import sklearn.neighbors._base\n",
    "import sys\n",
    "sys.modules['sklearn.neighbors.base'] = sklearn.neighbors._base\n",
    "from missingpy import MissForest"
   ]
  },
  {
   "cell_type": "code",
   "execution_count": 3,
   "id": "cef553e1-5a6b-48d5-9af6-c4b5a381d712",
   "metadata": {},
   "outputs": [],
   "source": [
    "# 엑셀파일에서 데이터 불러오기\n",
    "df = pd.read_excel(\"edit_Data.xlsx\", engine = 'openpyxl')"
   ]
  },
  {
   "cell_type": "code",
   "execution_count": 4,
   "id": "3a1a620c-88fb-4f4d-8e08-f379a10b66a0",
   "metadata": {},
   "outputs": [
    {
     "data": {
      "text/plain": [
       "(22182, 124)"
      ]
     },
     "execution_count": 4,
     "metadata": {},
     "output_type": "execute_result"
    }
   ],
   "source": [
    "df.shape"
   ]
  },
  {
   "cell_type": "code",
   "execution_count": 5,
   "id": "c11e009d-7b13-46dc-a464-4f684cf83a4e",
   "metadata": {
    "scrolled": true,
    "tags": []
   },
   "outputs": [],
   "source": [
    "# 결측치가 있는 columns만을 추출\n",
    "missing_df = df.columns[df.isnull().any()].tolist()\n",
    "# msno.heatmap(df[missing_df], annot=True, figsize=(100,100))"
   ]
  },
  {
   "cell_type": "code",
   "execution_count": 6,
   "id": "13391807-d142-4151-a7f4-75739181302a",
   "metadata": {},
   "outputs": [
    {
     "data": {
      "text/plain": [
       "102"
      ]
     },
     "execution_count": 6,
     "metadata": {},
     "output_type": "execute_result"
    }
   ],
   "source": [
    "len(missing_df)"
   ]
  },
  {
   "cell_type": "code",
   "execution_count": 7,
   "id": "0b1a5d62-ab70-40b4-84b5-a805eaafdc59",
   "metadata": {},
   "outputs": [],
   "source": [
    "# original 데이터프레임 df를 data에 복사\n",
    "data = df"
   ]
  },
  {
   "cell_type": "code",
   "execution_count": 8,
   "id": "43e75ebc-1ed4-48a2-bd3c-ef8b33618d7d",
   "metadata": {},
   "outputs": [
    {
     "data": {
      "text/plain": [
       "(22182, 124)"
      ]
     },
     "execution_count": 8,
     "metadata": {},
     "output_type": "execute_result"
    }
   ],
   "source": [
    "data.shape"
   ]
  },
  {
   "cell_type": "code",
   "execution_count": 9,
   "id": "cce6eb89-8b1d-4b70-8adb-257f6e89e561",
   "metadata": {},
   "outputs": [
    {
     "name": "stdout",
     "output_type": "stream",
     "text": [
      "['prior HF', 'prior MI', 'DTN time (min)', 'Q36-5 thrombolysis 결과 (fail-0, success-1)', 'door to cath room (min)', 'DTB time (min)', 'Sx to balloon time (hr)', 'Q37-6 GpII/IIIa 사용여부', 'Q37-8 approach (TRI-0, TFI-1, other-2)', 'stent 종류 (BMS-0, DES-1)', 'stent length Q38-8-2', 'diameter Q38-8-3', 'number Q38-8-4', 'Q41-1 CSU stay (day)', 'Q42-3 RWMI', 'Q42-5 LVESD', 'Q42-6 LVEDD', 'Q42-7 LVESV', 'LVESVi', 'LVEDVi', 'Q42-8 LVEDV', 'Q59 pro-BNP', 'Q60 BNP', 'Q61 HbA1c', 'ST']\n"
     ]
    }
   ],
   "source": [
    "# Colums에서 결측값이 총데이터의 20% 이상인 열은 제거\n",
    "str_ = []\n",
    "for i in range(len(data.columns)):\n",
    "    if data[[data.columns[i]]].isnull().sum()[0] > len(data)*0.2:\n",
    "        str_.append( str(data.columns[i]) )\n",
    "print(str_)\n",
    "data = data.drop(str_,axis=1)"
   ]
  },
  {
   "cell_type": "code",
   "execution_count": 10,
   "id": "bd1e25c5-4f51-4da9-9b3d-12d395c61668",
   "metadata": {
    "scrolled": true,
    "tags": []
   },
   "outputs": [
    {
     "data": {
      "text/plain": [
       "(22182, 99)"
      ]
     },
     "execution_count": 10,
     "metadata": {},
     "output_type": "execute_result"
    }
   ],
   "source": [
    "data.shape\n",
    "# msno.bar(data)"
   ]
  },
  {
   "cell_type": "code",
   "execution_count": 11,
   "id": "5c1b39ad-295a-4da9-b524-59adec4eec0c",
   "metadata": {},
   "outputs": [
    {
     "name": "stderr",
     "output_type": "stream",
     "text": [
      "/usr/local/lib/python3.6/dist-packages/ipykernel_launcher.py:2: SettingWithCopyWarning: \n",
      "A value is trying to be set on a copy of a slice from a DataFrame\n",
      "\n",
      "See the caveats in the documentation: https://pandas.pydata.org/pandas-docs/stable/user_guide/indexing.html#returning-a-view-versus-a-copy\n",
      "  \n",
      "/usr/local/lib/python3.6/dist-packages/ipykernel_launcher.py:3: SettingWithCopyWarning: \n",
      "A value is trying to be set on a copy of a slice from a DataFrame\n",
      "\n",
      "See the caveats in the documentation: https://pandas.pydata.org/pandas-docs/stable/user_guide/indexing.html#returning-a-view-versus-a-copy\n",
      "  This is separate from the ipykernel package so we can avoid doing imports until\n",
      "/usr/local/lib/python3.6/dist-packages/ipykernel_launcher.py:4: SettingWithCopyWarning: \n",
      "A value is trying to be set on a copy of a slice from a DataFrame\n",
      "\n",
      "See the caveats in the documentation: https://pandas.pydata.org/pandas-docs/stable/user_guide/indexing.html#returning-a-view-versus-a-copy\n",
      "  after removing the cwd from sys.path.\n"
     ]
    }
   ],
   "source": [
    "# string으로 인식된 데이터값 null로 대체\n",
    "data['result (successful-2, sub-1, failed-0)'][data['result (successful-2, sub-1, failed-0)'] == 'PCI was not preferred'] = np.nan\n",
    "data['Q47 glucose'][data['Q47 glucose']=='22+'] = np.nan\n",
    "data['Q47 glucose'][data['Q47 glucose']=='`90'] = np.nan"
   ]
  },
  {
   "cell_type": "code",
   "execution_count": 12,
   "id": "c7fa20ed-ad69-438d-affb-d5819e2715b3",
   "metadata": {},
   "outputs": [
    {
     "name": "stdout",
     "output_type": "stream",
     "text": [
      "Iteration: 0\n",
      "Iteration: 1\n",
      "Iteration: 2\n",
      "Iteration: 3\n",
      "Iteration: 4\n"
     ]
    }
   ],
   "source": [
    "# RandomForest missing 방법으로 결측치 대체\n",
    "imputer = MissForest()\n",
    "data_imputed = imputer.fit_transform(data)"
   ]
  },
  {
   "cell_type": "code",
   "execution_count": 13,
   "id": "94e6d641-2780-4d7e-8c16-94b78be6954d",
   "metadata": {},
   "outputs": [],
   "source": [
    "# 결측치 대체하니 numpy로 출력돼서 데이타프레임 씌워줌\n",
    "data_ = pd.DataFrame(data = data_imputed, columns = data.columns)"
   ]
  },
  {
   "cell_type": "code",
   "execution_count": 30,
   "id": "8df984d6-a490-483b-a6e3-f515153ee6b7",
   "metadata": {},
   "outputs": [
    {
     "name": "stdout",
     "output_type": "stream",
     "text": [
      "(3680, 92)\n",
      "(392,) (3288,)\n"
     ]
    }
   ],
   "source": [
    "print(x.shape)\n",
    "print (y[y==0].shape,y[y==1].shape)"
   ]
  },
  {
   "cell_type": "code",
   "execution_count": 15,
   "id": "c483f842-3b51-493d-83ec-3e6cc5c1cecf",
   "metadata": {},
   "outputs": [],
   "source": [
    "# LVEF 40%이하에서의 생존률을 확인하는것이 목표.\n",
    "data_LVEF = data_[data_['Q42-2 LVEF']<=40]\n",
    "x = data_LVEF.drop(['Q87 survival (inhospital death-0, survival-1)',\n",
    "                    'MACE(cardiac death-0, noncardiac death-1, TLR-2, TVR-3, NTV-4, reMI-5, ST-6, CABG-7, No MACE-8)',\n",
    "                    'MACE (없다-0, 있다-1)',\n",
    "                    'cardiac death',\n",
    "                   'death of any causes',\n",
    "                   'number',\n",
    "                   'total number'],axis=1)\n",
    "y = data_LVEF['Q87 survival (inhospital death-0, survival-1)']"
   ]
  },
  {
   "cell_type": "code",
   "execution_count": 17,
   "id": "a0d50db9-af8f-4751-b82e-4871cf91b8a7",
   "metadata": {},
   "outputs": [
    {
     "name": "stderr",
     "output_type": "stream",
     "text": [
      "/usr/local/lib/python3.6/dist-packages/xgboost/sklearn.py:1224: UserWarning: The use of label encoder in XGBClassifier is deprecated and will be removed in a future release. To remove this warning, do the following: 1) Pass option use_label_encoder=False when constructing XGBClassifier object; and 2) Encode your labels (y) as integers starting with 0, i.e. 0, 1, 2, ..., [num_class - 1].\n",
      "  warnings.warn(label_encoder_deprecation_msg, UserWarning)\n"
     ]
    },
    {
     "name": "stdout",
     "output_type": "stream",
     "text": [
      "[16:02:01] WARNING: ../src/learner.cc:1115: Starting in XGBoost 1.3.0, the default evaluation metric used with the objective 'binary:logistic' was changed from 'error' to 'logloss'. Explicitly set eval_metric if you'd like to restore the old behavior.\n"
     ]
    },
    {
     "data": {
      "text/plain": [
       "<AxesSubplot:title={'center':'Feature importance'}, xlabel='F score', ylabel='Features'>"
      ]
     },
     "execution_count": 17,
     "metadata": {},
     "output_type": "execute_result"
    },
    {
     "data": {
      "image/png": "[encoded data removed]",
      "text/plain": [
       "<Figure size 720x864 with 1 Axes>"
      ]
     },
     "metadata": {
      "needs_background": "light"
     },
     "output_type": "display_data"
    }
   ],
   "source": [
    "import xgboost as xgb\n",
    "import matplotlib.pyplot as plt\n",
    "from sklearn.model_selection import train_test_split\n",
    "\n",
    "x_train, x_test, y_train, y_test = train_test_split(x, y, test_size=0.2, shuffle=True, stratify=y)\n",
    "# 모델 선언\n",
    "model = xgb.XGBClassifier() \n",
    "\n",
    "# 모델 훈련\n",
    "model.fit(x_train,y_train) \n",
    "# 모델 예측\n",
    "y_pred = model.predict(x_test)\n",
    "\n",
    "fig, ax = plt.subplots(figsize=(10,12))\n",
    "xgb.plot_importance(model, ax=ax)"
   ]
  },
  {
   "cell_type": "code",
   "execution_count": null,
   "id": "7744a687-4d98-4e84-9aeb-e92416608a2f",
   "metadata": {
    "scrolled": true,
    "tags": []
   },
   "outputs": [],
   "source": [
    "from sklearn.ensemble import RandomForestClassifier\n",
    "import matplotlib.pyplot as plt\n",
    "\n",
    "forest = RandomForestClassifier()\n",
    "\n",
    "forest.fit(x, y)\n",
    "\n",
    "importances = forest.feature_importances_\n",
    "std = np.std([tree.feature_importances_ for tree in forest.estimators_], axis = 0)\n",
    "indices = np.argsort(importances)[::-1]\n",
    "\n",
    "print(\"Feature ranking:\")\n",
    "\n",
    "for f in range(x.shape[1]):\n",
    "    print(\"{}. {} ({:.3f})\".format(f + 1, x.columns[indices][f], importances[indices[f]]))\n",
    "\n",
    "\n",
    "\n",
    "plt.figure(figsize=(25,30))\n",
    "plt.title(\"Feature importances\")\n",
    "plt.bar(range(x.shape[1]), importances[indices],\n",
    "       color=\"r\", yerr=std[indices], align=\"center\")\n",
    "plt.xticks(range(x.shape[1]), x.columns[indices], rotation=90)\n",
    "plt.xlim([-1, x.shape[1]])\n",
    "plt.show()"
   ]
  },
  {
   "cell_type": "markdown",
   "id": "e056271a-33de-48b0-9ed4-972f32d07e2e",
   "metadata": {},
   "source": [
    "\n",
    "\n",
    "\n",
    "목표 1 :  초기에 심초음파에서 Ejection fraction 40% 이하인 사람의 사망예측   \n",
    "\n",
    "\n",
    "목표 2 :  추적 심초음파에서 호전여부를 예측하는 모델\n",
    "\n",
    "\n"
   ]
  },
  {
   "cell_type": "markdown",
   "id": "1617d178-47c3-4b3d-b700-7d6b676e3305",
   "metadata": {},
   "source": [
    "# SMOTE를 통한 over sampling"
   ]
  },
  {
   "cell_type": "code",
   "execution_count": null,
   "id": "b98fa03d-57e2-4d56-b7bf-7146fa8622fc",
   "metadata": {},
   "outputs": [],
   "source": [
    "from imblearn.over_sampling import SMOTE\n",
    "\n",
    "smote = SMOTE(random_state=0)\n",
    "x_train_over,y_train_over = smote.fit_resample(x,y)\n",
    "print('SMOTE 적용 전 학습용 피처/레이블 데이터 세트: ', x.shape, pd.Series(y).value_counts())\n",
    "print('SMOTE 적용 후 학습용 피처/레이블 데이터 세트: ', x_train_over.shape, y_train_over.shape)\n",
    "print('SMOTE 적용 후 레이블 값 분포: \\n', pd.Series(y_train_over).value_counts())"
   ]
  },
  {
   "cell_type": "code",
   "execution_count": null,
   "id": "e3bcc2a9-b732-405e-990e-3f25e3ddbf3f",
   "metadata": {},
   "outputs": [],
   "source": [
    "print(x.shape, y.shape)\n",
    "print(y[y==1].shape,y[y==1].shape)"
   ]
  },
  {
   "cell_type": "code",
   "execution_count": null,
   "id": "18995818-c1c2-4cd4-bac0-5c4f1b276405",
   "metadata": {},
   "outputs": [],
   "source": [
    "from sklearn.model_selection import train_test_split\n",
    "from sklearn.linear_model import LogisticRegression\n",
    "from sklearn.ensemble import RandomForestClassifier\n",
    "from sklearn import svm\n",
    "from sklearn import metrics\n",
    "from sklearn.metrics import roc_curve, roc_auc_score\n",
    "from sklearn.metrics import accuracy_score\n",
    "from sklearn.metrics import f1_score\n",
    "from sklearn.metrics import precision_score\n",
    "from sklearn.metrics import recall_score"
   ]
  },
  {
   "cell_type": "markdown",
   "id": "f0a7f1d5-7d9e-49da-b525-a7416709361f",
   "metadata": {},
   "source": [
    "# logistic regression - all features"
   ]
  },
  {
   "cell_type": "code",
   "execution_count": null,
   "id": "ebbf52a4-4758-46e7-89e6-2a9486c0f496",
   "metadata": {},
   "outputs": [],
   "source": [
    "data_LVEF = data_[data_['Q42-2 LVEF']<=40]\n",
    "x = data_LVEF.drop(['Q87 survival (inhospital death-0, survival-1)',\n",
    "                    'MACE(cardiac death-0, noncardiac death-1, TLR-2, TVR-3, NTV-4, reMI-5, ST-6, CABG-7, No MACE-8)',\n",
    "                    'MACE (없다-0, 있다-1)',\n",
    "                    'cardiac death',\n",
    "                   'death of any causes',\n",
    "                   'number',\n",
    "                   'total number'],axis=1)\n",
    "y = data_LVEF['Q87 survival (inhospital death-0, survival-1)']"
   ]
  },
  {
   "cell_type": "code",
   "execution_count": null,
   "id": "72f85dd4-26ec-4098-9a18-1ce83cad4f11",
   "metadata": {
    "scrolled": true,
    "tags": []
   },
   "outputs": [],
   "source": [
    "x_train, x_test, y_train, y_test = train_test_split(x, y, test_size=0.2, shuffle=True,stratify=y)\n",
    "\n",
    "lr_all = LogisticRegression(max_iter = 100)\n",
    "lr_all.fit(x_train,y_train)\n",
    "y_pred = lr_all.predict(x_test)\n",
    "\n",
    "f1_acc = f1_score(y_test, y_pred)\n",
    "\n",
    "acc = accuracy_score(y_test, y_pred)\n",
    "\n",
    "fpr, tpr, thresholds = roc_curve(y_test, lr_all.predict_proba(x_test)[:, 1])\n",
    "roc_auc = metrics.roc_auc_score(y_test, lr_all.predict_proba(x_test)[:, 1])\n",
    "\n",
    "TN, FP, FN, TP = confusion_matrix(y_test, y_pred).ravel()\n",
    "TNR = TN/(TN+FP)\n",
    "TPR = TP/(TP+FN)\n",
    "\n",
    "print(\"f1 score : \", f1_acc)\n",
    "print(\"acc : \", acc)\n",
    "print(\"roc auc : \", roc_auc)\n",
    "print(\"True Negative rate : \", TNR)\n",
    "print(\"recall : \", TPR)"
   ]
  },
  {
   "cell_type": "markdown",
   "id": "39353950-90bf-4de8-b2bb-820e8e9decc9",
   "metadata": {},
   "source": [
    "# logistic regression - 3 features"
   ]
  },
  {
   "cell_type": "code",
   "execution_count": null,
   "id": "50be94a3-00dd-48bf-b30c-7047637b8138",
   "metadata": {},
   "outputs": [],
   "source": [
    "x = x[['insulin','MACE f/u','clopidogrel Q87-3-2']]"
   ]
  },
  {
   "cell_type": "code",
   "execution_count": null,
   "id": "f16cb441-b626-411c-8446-b48bb7a81a0f",
   "metadata": {},
   "outputs": [],
   "source": [
    "x_train, x_test, y_train, y_test = train_test_split(x, y, test_size=0.2, shuffle=True,stratify=y)\n",
    "\n",
    "lr_all = LogisticRegression()\n",
    "lr_all.fit(x_train,y_train)\n",
    "y_pred = lr_all.predict(x_test)\n",
    "\n",
    "f1_acc = f1_score(y_test, y_pred)\n",
    "\n",
    "acc = accuracy_score(y_test, y_pred)\n",
    "\n",
    "fpr, tpr, thresholds = roc_curve(y_test, lr_all.predict_proba(x_test)[:, 1])\n",
    "roc_auc = metrics.roc_auc_score(y_test, lr_all.predict_proba(x_test)[:, 1])\n",
    "\n",
    "TN, FP, FN, TP = confusion_matrix(y_test, y_pred).ravel()\n",
    "TNR = TN/(TN+FP)\n",
    "TPR = TP/(TP+FN)\n",
    "\n",
    "print(\"f1 score : \", f1_acc)\n",
    "print(\"acc : \", acc)\n",
    "print(\"roc auc : \", roc_auc)\n",
    "print(\"True Negative rate : \", TNR)\n",
    "print(\"recall : \", TPR)"
   ]
  },
  {
   "cell_type": "markdown",
   "id": "4feadfe9-eca4-467c-afa4-cbc1670bb9d4",
   "metadata": {},
   "source": [
    "# random forest classifier - all features"
   ]
  },
  {
   "cell_type": "code",
   "execution_count": null,
   "id": "5d2e42b9-171a-41c6-8edf-4b1f18952546",
   "metadata": {},
   "outputs": [],
   "source": [
    "x = data_LVEF.drop(['Q87 survival (inhospital death-0, survival-1)',\n",
    "                    'MACE(cardiac death-0, noncardiac death-1, TLR-2, TVR-3, NTV-4, reMI-5, ST-6, CABG-7, No MACE-8)',\n",
    "                    'MACE (없다-0, 있다-1)',\n",
    "                    'cardiac death',\n",
    "                   'death of any causes',\n",
    "                   'number',\n",
    "                   'total number'],axis=1)"
   ]
  },
  {
   "cell_type": "code",
   "execution_count": null,
   "id": "baa9f2c6-bc88-44c6-aad8-b9343ef0cd52",
   "metadata": {},
   "outputs": [],
   "source": [
    "x_train, x_test, y_train, y_test = train_test_split(x, y, test_size=0.2, shuffle=True, stratify=y)\n",
    "\n",
    "model = RandomForestClassifier()\n",
    "model.fit(x_train, y_train)\n",
    "y_pred = model.predict(x_test)\n",
    "\n",
    "f1_acc = f1_score(y_test, y_pred)\n",
    "\n",
    "acc = accuracy_score(y_test, y_pred)\n",
    "\n",
    "fpr, tpr, thresholds = roc_curve(y_test, model.predict_proba(x_test)[:, 1])\n",
    "roc_auc = metrics.roc_auc_score(y_test, model.predict_proba(x_test)[:, 1])\n",
    "\n",
    "TN, FP, FN, TP = confusion_matrix(y_test, y_pred).ravel()\n",
    "TNR = TN/(TN+FP)\n",
    "TPR = TP/(TP+FN)\n",
    "\n",
    "print(\"f1 score : \", f1_acc)\n",
    "print(\"acc : \", acc)\n",
    "print(\"roc auc : \", roc_auc)\n",
    "print(\"True Negative rate : \", TNR)\n",
    "print(\"recall : \", TPR)"
   ]
  },
  {
   "cell_type": "markdown",
   "id": "9919a3dc-df88-441f-a9c2-67c4ac270a05",
   "metadata": {},
   "source": [
    "# random forest classifier - 3 features"
   ]
  },
  {
   "cell_type": "code",
   "execution_count": null,
   "id": "6c339807-dcb3-4069-af40-e76ffa9ffdf0",
   "metadata": {},
   "outputs": [],
   "source": [
    "x = x[['insulin','MACE f/u','clopidogrel Q87-3-2']]"
   ]
  },
  {
   "cell_type": "code",
   "execution_count": null,
   "id": "f3c9201d-6434-4ea0-b307-07ef8fde377c",
   "metadata": {},
   "outputs": [],
   "source": [
    "x_train, x_test, y_train, y_test = train_test_split(x, y, test_size=0.2, shuffle=True, stratify=y)\n",
    "\n",
    "model = RandomForestClassifier()\n",
    "model.fit(x_train, y_train)\n",
    "y_pred = model.predict(x_test)\n",
    "\n",
    "f1_acc = f1_score(y_test, y_pred)\n",
    "\n",
    "acc = accuracy_score(y_test, y_pred)\n",
    "\n",
    "fpr, tpr, thresholds = roc_curve(y_test, model.predict_proba(x_test)[:, 1])\n",
    "roc_auc = metrics.roc_auc_score(y_test, model.predict_proba(x_test)[:, 1])\n",
    "\n",
    "TN, FP, FN, TP = confusion_matrix(y_test, y_pred).ravel()\n",
    "TNR = TN/(TN+FP)\n",
    "TPR = TP/(TP+FN)\n",
    "\n",
    "print(\"f1 score : \", f1_acc)\n",
    "print(\"acc : \", acc)\n",
    "print(\"roc auc : \", roc_auc)\n",
    "print(\"True Negative rate : \", TNR)\n",
    "print(\"recall : \", TPR)"
   ]
  },
  {
   "cell_type": "markdown",
   "id": "527a9acd-5a16-4e95-b12b-cdc3f24ada05",
   "metadata": {},
   "source": [
    "# svm - all features"
   ]
  },
  {
   "cell_type": "code",
   "execution_count": null,
   "id": "748bcd19-cbc8-4565-bacb-f015b48bc987",
   "metadata": {},
   "outputs": [],
   "source": [
    "x = data_LVEF.drop(['Q87 survival (inhospital death-0, survival-1)',\n",
    "                    'MACE(cardiac death-0, noncardiac death-1, TLR-2, TVR-3, NTV-4, reMI-5, ST-6, CABG-7, No MACE-8)',\n",
    "                    'MACE (없다-0, 있다-1)',\n",
    "                    'cardiac death',\n",
    "                   'death of any causes',\n",
    "                   'number',\n",
    "                   'total number'],axis=1)"
   ]
  },
  {
   "cell_type": "code",
   "execution_count": null,
   "id": "eb5a770f-3a75-428e-8372-f7a0f2027afd",
   "metadata": {},
   "outputs": [],
   "source": [
    "x_train, x_test, y_train, y_test = train_test_split(x, y, test_size=0.2, shuffle=True, stratify=y)\n",
    "\n",
    "model = svm.SVC(kernel='linear',probability=True)\n",
    "model.fit(x_train, y_train)\n",
    "\n",
    "y_pred = model.predict(x_test)\n",
    "\n",
    "f1_acc = f1_score(y_test, y_pred)\n",
    "\n",
    "acc = accuracy_score(y_test, y_pred)\n",
    "\n",
    "fpr, tpr, thresholds = roc_curve(y_test, model.predict_proba(x_test)[:, 1])\n",
    "roc_auc = metrics.roc_auc_score(y_test, model.predict_proba(x_test)[:, 1])\n",
    "\n",
    "TN, FP, FN, TP = confusion_matrix(y_test, y_pred).ravel()\n",
    "TNR = TN/(TN+FP)\n",
    "TPR = TP/(TP+FN)\n",
    "\n",
    "print(\"f1 score : \", f1_acc)\n",
    "print(\"acc : \", acc)\n",
    "print(\"roc auc : \", roc_auc)\n",
    "print(\"True Negative rate : \", TNR)\n",
    "print(\"recall : \", TPR)"
   ]
  },
  {
   "cell_type": "markdown",
   "id": "0cc5c1b0-5af7-44f9-884c-a7b28fcdc85d",
   "metadata": {},
   "source": [
    "# svm - 3 features"
   ]
  },
  {
   "cell_type": "code",
   "execution_count": null,
   "id": "f03f078b-950d-4640-abcf-ca762d296345",
   "metadata": {},
   "outputs": [],
   "source": [
    "x = x[['insulin','MACE f/u','clopidogrel Q87-3-2']]"
   ]
  },
  {
   "cell_type": "code",
   "execution_count": null,
   "id": "78eeaf0b-c9d5-46d0-89b0-67a3d80284b5",
   "metadata": {},
   "outputs": [],
   "source": [
    "x_train, x_test, y_train, y_test = train_test_split(x, y, test_size=0.2, shuffle=True, stratify=y)\n",
    "\n",
    "model = svm.SVC(kernel='linear',probability=True)\n",
    "model.fit(x_train, y_train)\n",
    "\n",
    "y_pred = model.predict(x_test)\n",
    "\n",
    "f1_acc = f1_score(y_test, y_pred)\n",
    "\n",
    "acc = accuracy_score(y_test, y_pred)\n",
    "\n",
    "fpr, tpr, thresholds = roc_curve(y_test, model.predict_proba(x_test)[:, 1])\n",
    "roc_auc = metrics.roc_auc_score(y_test, model.predict_proba(x_test)[:, 1])\n",
    "\n",
    "TN, FP, FN, TP = confusion_matrix(y_test, y_pred).ravel()\n",
    "TNR = TN/(TN+FP)\n",
    "TPR = TP/(TP+FN)\n",
    "\n",
    "print(\"f1 score : \", f1_acc)\n",
    "print(\"acc : \", acc)\n",
    "print(\"roc auc : \", roc_auc)\n",
    "print(\"True Negative rate : \", TNR)\n",
    "print(\"recall : \", TPR)"
   ]
  },
  {
   "cell_type": "markdown",
   "id": "08fb3bd7-d7b1-44dc-9059-734e22284b42",
   "metadata": {},
   "source": [
    "# confusion matrix"
   ]
  },
  {
   "cell_type": "code",
   "execution_count": null,
   "id": "a290d312-8597-4273-b7a8-5faddeab5296",
   "metadata": {},
   "outputs": [],
   "source": [
    "from sklearn.metrics import confusion_matrix\n",
    "\n",
    "confusion_matrix(y_test, y_pred)"
   ]
  },
  {
   "cell_type": "code",
   "execution_count": null,
   "id": "e2a28402-69b8-4dc7-bcb9-b3cc9e655723",
   "metadata": {},
   "outputs": [],
   "source": [
    "import matplotlib.pyplot as plt\n",
    "import numpy as np\n",
    "\n",
    "x = np.arange(5)\n",
    "evaluation = ['F1 score', 'Accuracy', 'ROC AUC', 'TN rate', 'Recall']\n",
    "values = [0.714, 0.833, 0.818, 0.856, 0.780]\n",
    "\n",
    "plt.bar(x, values, width=0.4)\n",
    "# plt.bar(x, values, width=0.6)\n",
    "# plt.bar(x, values, width=0.8)\n",
    "# plt.bar(x, values, width=1.0)\n",
    "plt.xticks(x, evaluation)\n",
    "\n",
    "plt.show()"
   ]
  },
  {
   "cell_type": "code",
   "execution_count": null,
   "id": "8ef4f0fe-dcab-46a9-8226-e373c07b483b",
   "metadata": {},
   "outputs": [],
   "source": [
    "# Dodged Bar Chart (with same X coordinates side by side)\n",
    "\n",
    "label = ['F1 score', 'Accuracy', 'ROC AUC', 'TN rate', 'Recall']\n",
    "\n",
    "tips_sum_by_day_male = [0.719, 0.838, 0.822, 0.860, 0.785]\n",
    "tips_sum_by_day_female = [0.987, 0.978, 0.991, 0.911, 0.986]\n",
    "\n",
    "index = np.arange(len(label))\n",
    "\n",
    "bar_width = 0.35\n",
    "\n",
    "alpha = 0.5\n",
    "\n",
    "plt.figure(figsize=(5,4))\n",
    "\n",
    "p1 = plt.bar(index, tips_sum_by_day_male, \n",
    "             bar_width, \n",
    "             color='b', \n",
    "             alpha=alpha,\n",
    "             label='Male')\n",
    "\n",
    "p2 = plt.bar(index + bar_width, tips_sum_by_day_female, \n",
    "             bar_width, \n",
    "             color='r', \n",
    "             alpha=alpha,\n",
    "             label='Female')\n",
    "\n",
    "plt.title('Logistic regression with 3 features', fontsize=12)\n",
    "\n",
    "plt.ylim(0,1.5)\n",
    "plt.ylabel('Value', fontsize=10)\n",
    "\n",
    "plt.xlabel('Evaluation', fontsize=10)\n",
    "\n",
    "plt.xticks(index, label, fontsize=7.5)\n",
    "\n",
    "plt.legend((p1[0], p2[0]), ('Other research', 'This research'), fontsize=9)\n",
    "\n",
    "plt.show()\n"
   ]
  },
  {
   "cell_type": "code",
   "execution_count": null,
   "id": "88e708b3-b081-46c5-9ad0-c959003c14d8",
   "metadata": {},
   "outputs": [],
   "source": []
  },
  {
   "cell_type": "code",
   "execution_count": null,
   "id": "ce28c959-561e-4219-8d21-8cdb144de942",
   "metadata": {},
   "outputs": [],
   "source": []
  }
 ],
 "metadata": {
  "kernelspec": {
   "display_name": "Python 3",
   "language": "python",
   "name": "python3"
  },
  "language_info": {
   "codemirror_mode": {
    "name": "ipython",
    "version": 3
   },
   "file_extension": ".py",
   "mimetype": "text/x-python",
   "name": "python",
   "nbconvert_exporter": "python",
   "pygments_lexer": "ipython3",
   "version": "3.6.9"
  }
 },
 "nbformat": 4,
 "nbformat_minor": 5
}
