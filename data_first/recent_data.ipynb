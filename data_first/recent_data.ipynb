{
 "cells": [
  {
   "cell_type": "code",
   "execution_count": 1,
   "id": "5d03c616-bd91-4c06-b63b-c54bcdbab75f",
   "metadata": {},
   "outputs": [],
   "source": [
    "import pandas as pd\n",
    "import matplotlib.pyplot as plt\n",
    "import missingno as msno\n",
    "import seaborn as sns\n",
    "import numpy as np"
   ]
  },
  {
   "cell_type": "code",
   "execution_count": 2,
   "id": "69d99bfa-fd8c-412c-a44d-e308260a042a",
   "metadata": {},
   "outputs": [],
   "source": [
    "# neighber.base 라이브러리 이름을 neighber._base로 변경하기\n",
    "import sklearn.neighbors._base\n",
    "import sys\n",
    "sys.modules['sklearn.neighbors.base'] = sklearn.neighbors._base\n",
    "from missingpy import MissForest"
   ]
  },
  {
   "cell_type": "code",
   "execution_count": 3,
   "id": "cef553e1-5a6b-48d5-9af6-c4b5a381d712",
   "metadata": {},
   "outputs": [],
   "source": [
    "# 엑셀파일에서 데이터 불러오기\n",
    "original_data = pd.read_excel(\"/home/Lab_Project_001/data_first/recent_data.xlsx\", engine = 'openpyxl')"
   ]
  },
  {
   "cell_type": "code",
   "execution_count": 4,
   "id": "3a1a620c-88fb-4f4d-8e08-f379a10b66a0",
   "metadata": {},
   "outputs": [
    {
     "data": {
      "text/plain": [
       "(15629, 614)"
      ]
     },
     "execution_count": 4,
     "metadata": {},
     "output_type": "execute_result"
    }
   ],
   "source": [
    "original_data.shape"
   ]
  },
  {
   "cell_type": "code",
   "execution_count": 7,
   "id": "c11e009d-7b13-46dc-a464-4f684cf83a4e",
   "metadata": {
    "scrolled": true,
    "tags": []
   },
   "outputs": [],
   "source": [
    "# 결측치가 있는 columns만을 추출\n",
    "missing_df = df.columns[df.isnull().any()].tolist()\n",
    "# msno.heatmap(df[missing_df], annot=True, figsize=(100,100))"
   ]
  },
  {
   "cell_type": "code",
   "execution_count": 8,
   "id": "13391807-d142-4151-a7f4-75739181302a",
   "metadata": {},
   "outputs": [
    {
     "data": {
      "text/plain": [
       "102"
      ]
     },
     "execution_count": 8,
     "metadata": {},
     "output_type": "execute_result"
    }
   ],
   "source": [
    "len(missing_df)"
   ]
  },
  {
   "cell_type": "code",
   "execution_count": 9,
   "id": "0b1a5d62-ab70-40b4-84b5-a805eaafdc59",
   "metadata": {},
   "outputs": [],
   "source": [
    "# original 데이터프레임 df를 data에 복사\n",
    "data = df"
   ]
  },
  {
   "cell_type": "code",
   "execution_count": 10,
   "id": "43e75ebc-1ed4-48a2-bd3c-ef8b33618d7d",
   "metadata": {},
   "outputs": [
    {
     "data": {
      "text/plain": [
       "(22182, 124)"
      ]
     },
     "execution_count": 10,
     "metadata": {},
     "output_type": "execute_result"
    }
   ],
   "source": [
    "data.shape"
   ]
  },
  {
   "cell_type": "code",
   "execution_count": 11,
   "id": "cce6eb89-8b1d-4b70-8adb-257f6e89e561",
   "metadata": {},
   "outputs": [
    {
     "name": "stdout",
     "output_type": "stream",
     "text": [
      "['prior HF', 'prior MI', 'DTN time (min)', 'Q36-5 thrombolysis 결과 (fail-0, success-1)', 'door to cath room (min)', 'DTB time (min)', 'Sx to balloon time (hr)', 'Q37-6 GpII/IIIa 사용여부', 'Q37-8 approach (TRI-0, TFI-1, other-2)', 'stent 종류 (BMS-0, DES-1)', 'stent length Q38-8-2', 'diameter Q38-8-3', 'number Q38-8-4', 'Q41-1 CSU stay (day)', 'Q42-3 RWMI', 'Q42-5 LVESD', 'Q42-6 LVEDD', 'Q42-7 LVESV', 'LVESVi', 'LVEDVi', 'Q42-8 LVEDV', 'Q59 pro-BNP', 'Q60 BNP', 'Q61 HbA1c', 'ST']\n"
     ]
    }
   ],
   "source": [
    "# Colums에서 결측값이 총데이터의 20% 이상인 열은 제거\n",
    "str_ = []\n",
    "for i in range(len(data.columns)):\n",
    "    if data[[data.columns[i]]].isnull().sum()[0] > len(data)*0.2:\n",
    "        str_.append( str(data.columns[i]) )\n",
    "print(str_)\n",
    "data = data.drop(str_,axis=1)"
   ]
  },
  {
   "cell_type": "code",
   "execution_count": 12,
   "id": "bd1e25c5-4f51-4da9-9b3d-12d395c61668",
   "metadata": {
    "scrolled": true,
    "tags": []
   },
   "outputs": [
    {
     "data": {
      "text/plain": [
       "(22182, 99)"
      ]
     },
     "execution_count": 12,
     "metadata": {},
     "output_type": "execute_result"
    }
   ],
   "source": [
    "data.shape\n",
    "# msno.bar(data)"
   ]
  },
  {
   "cell_type": "code",
   "execution_count": 13,
   "id": "5c1b39ad-295a-4da9-b524-59adec4eec0c",
   "metadata": {},
   "outputs": [
    {
     "name": "stderr",
     "output_type": "stream",
     "text": [
      "/usr/local/lib/python3.6/dist-packages/ipykernel_launcher.py:2: SettingWithCopyWarning: \n",
      "A value is trying to be set on a copy of a slice from a DataFrame\n",
      "\n",
      "See the caveats in the documentation: https://pandas.pydata.org/pandas-docs/stable/user_guide/indexing.html#returning-a-view-versus-a-copy\n",
      "  \n",
      "/usr/local/lib/python3.6/dist-packages/ipykernel_launcher.py:3: SettingWithCopyWarning: \n",
      "A value is trying to be set on a copy of a slice from a DataFrame\n",
      "\n",
      "See the caveats in the documentation: https://pandas.pydata.org/pandas-docs/stable/user_guide/indexing.html#returning-a-view-versus-a-copy\n",
      "  This is separate from the ipykernel package so we can avoid doing imports until\n",
      "/usr/local/lib/python3.6/dist-packages/ipykernel_launcher.py:4: SettingWithCopyWarning: \n",
      "A value is trying to be set on a copy of a slice from a DataFrame\n",
      "\n",
      "See the caveats in the documentation: https://pandas.pydata.org/pandas-docs/stable/user_guide/indexing.html#returning-a-view-versus-a-copy\n",
      "  after removing the cwd from sys.path.\n"
     ]
    }
   ],
   "source": [
    "# string으로 인식된 데이터값 null로 대체\n",
    "data['result (successful-2, sub-1, failed-0)'][data['result (successful-2, sub-1, failed-0)'] == 'PCI was not preferred'] = np.nan\n",
    "data['Q47 glucose'][data['Q47 glucose']=='22+'] = np.nan\n",
    "data['Q47 glucose'][data['Q47 glucose']=='`90'] = np.nan"
   ]
  },
  {
   "cell_type": "code",
   "execution_count": 16,
   "id": "abaad3fd-fed5-42fe-9a80-e0aa2147ebe8",
   "metadata": {},
   "outputs": [],
   "source": [
    "# LVEF 40%이하에서의 생존률을 확인하는것이 목표.\n",
    "data_LVEF = data[data['Q42-2 LVEF']<=40]\n",
    "x = data_LVEF.drop(['Q87 survival (inhospital death-0, survival-1)',\n",
    "                   'total number'],axis=1)\n",
    "y = data_LVEF['Q87 survival (inhospital death-0, survival-1)']"
   ]
  },
  {
   "cell_type": "code",
   "execution_count": 17,
   "id": "b98105c7-0289-472f-9f2d-6f524dbdced9",
   "metadata": {},
   "outputs": [
    {
     "name": "stdout",
     "output_type": "stream",
     "text": [
      "(230,) (3232,)\n"
     ]
    }
   ],
   "source": [
    "print (y[y==0].shape,y[y==1].shape)"
   ]
  },
  {
   "cell_type": "code",
   "execution_count": 12,
   "id": "c7fa20ed-ad69-438d-affb-d5819e2715b3",
   "metadata": {},
   "outputs": [
    {
     "name": "stdout",
     "output_type": "stream",
     "text": [
      "Iteration: 0\n",
      "Iteration: 1\n",
      "Iteration: 2\n",
      "Iteration: 3\n",
      "Iteration: 4\n"
     ]
    }
   ],
   "source": [
    "# RandomForest missing 방법으로 결측치 대체\n",
    "imputer = MissForest()\n",
    "data_imputed = imputer.fit_transform(data)"
   ]
  },
  {
   "cell_type": "code",
   "execution_count": 13,
   "id": "94e6d641-2780-4d7e-8c16-94b78be6954d",
   "metadata": {},
   "outputs": [],
   "source": [
    "# 결측치 대체하니 numpy로 출력돼서 데이타프레임 씌워줌\n",
    "data_ = pd.DataFrame(data = data_imputed, columns = data.columns)"
   ]
  },
  {
   "cell_type": "code",
   "execution_count": 30,
   "id": "8df984d6-a490-483b-a6e3-f515153ee6b7",
   "metadata": {},
   "outputs": [
    {
     "name": "stdout",
     "output_type": "stream",
     "text": [
      "(3680, 92)\n",
      "(392,) (3288,)\n"
     ]
    }
   ],
   "source": [
    "print(x.shape)\n",
    "print (y[y==0].shape,y[y==1].shape)"
   ]
  },
  {
   "cell_type": "code",
   "execution_count": 15,
   "id": "c483f842-3b51-493d-83ec-3e6cc5c1cecf",
   "metadata": {},
   "outputs": [
    {
     "ename": "NameError",
     "evalue": "name 'data_' is not defined",
     "output_type": "error",
     "traceback": [
      "\u001b[0;31m---------------------------------------------------------------------------\u001b[0m",
      "\u001b[0;31mNameError\u001b[0m                                 Traceback (most recent call last)",
      "\u001b[0;32m<ipython-input-15-5acbd9d2ee1f>\u001b[0m in \u001b[0;36m<module>\u001b[0;34m\u001b[0m\n\u001b[1;32m      1\u001b[0m \u001b[0;31m# LVEF 40%이하에서의 생존률을 확인하는것이 목표.\u001b[0m\u001b[0;34m\u001b[0m\u001b[0;34m\u001b[0m\u001b[0;34m\u001b[0m\u001b[0m\n\u001b[0;32m----> 2\u001b[0;31m \u001b[0mdata_LVEF\u001b[0m \u001b[0;34m=\u001b[0m \u001b[0mdata_\u001b[0m\u001b[0;34m[\u001b[0m\u001b[0mdata_\u001b[0m\u001b[0;34m[\u001b[0m\u001b[0;34m'Q42-2 LVEF'\u001b[0m\u001b[0;34m]\u001b[0m\u001b[0;34m<=\u001b[0m\u001b[0;36m40\u001b[0m\u001b[0;34m]\u001b[0m\u001b[0;34m\u001b[0m\u001b[0;34m\u001b[0m\u001b[0m\n\u001b[0m\u001b[1;32m      3\u001b[0m x = data_LVEF.drop(['Q87 survival (inhospital death-0, survival-1)',\n\u001b[1;32m      4\u001b[0m                    'total number'],axis=1)\n\u001b[1;32m      5\u001b[0m \u001b[0my\u001b[0m \u001b[0;34m=\u001b[0m \u001b[0mdata_LVEF\u001b[0m\u001b[0;34m[\u001b[0m\u001b[0;34m'Q87 survival (inhospital death-0, survival-1)'\u001b[0m\u001b[0;34m]\u001b[0m\u001b[0;34m\u001b[0m\u001b[0;34m\u001b[0m\u001b[0m\n",
      "\u001b[0;31mNameError\u001b[0m: name 'data_' is not defined"
     ]
    }
   ],
   "source": [
    "# LVEF 40%이하에서의 생존률을 확인하는것이 목표.\n",
    "data_LVEF = data_[data_['Q42-2 LVEF']<=40]\n",
    "x = data_LVEF.drop(['Q87 survival (inhospital death-0, survival-1)',\n",
    "                   'total number'],axis=1)\n",
    "y = data_LVEF['Q87 survival (inhospital death-0, survival-1)']"
   ]
  },
  {
   "cell_type": "code",
   "execution_count": null,
   "id": "0dcc1839-7cd2-4e7c-99a8-75e791ecfd89",
   "metadata": {},
   "outputs": [],
   "source": []
  }
 ],
 "metadata": {
  "kernelspec": {
   "display_name": "Python 3",
   "language": "python",
   "name": "python3"
  },
  "language_info": {
   "codemirror_mode": {
    "name": "ipython",
    "version": 3
   },
   "file_extension": ".py",
   "mimetype": "text/x-python",
   "name": "python",
   "nbconvert_exporter": "python",
   "pygments_lexer": "ipython3",
   "version": "3.6.9"
  }
 },
 "nbformat": 4,
 "nbformat_minor": 5
}
