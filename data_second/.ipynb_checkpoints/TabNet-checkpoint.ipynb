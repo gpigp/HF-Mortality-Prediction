{
 "cells": [
  {
   "cell_type": "code",
   "execution_count": 1,
   "id": "5a9ce9e9-8ce1-4a08-8d49-4c4d96fa3633",
   "metadata": {},
   "outputs": [],
   "source": [
    "# Auto Reload\n",
    "%load_ext autoreload\n",
    "%autoreload 2"
   ]
  },
  {
   "cell_type": "code",
   "execution_count": 2,
   "id": "13b6d858-3caa-405a-bc8d-9408a9e226b9",
   "metadata": {},
   "outputs": [],
   "source": [
    "import pandas as pd\n",
    "import numpy as np\n",
    "\n",
    "x = pd.read_csv(\"./data/KAMIR_data_preprocessing_no_normalization.csv\", encoding = 'unicode_escape')\n",
    "y = pd.read_csv(\"./data/KAMIR_Labels1.csv\", encoding = 'unicode_escape')\n",
    "x = x.iloc[:, 1:]\n",
    "y = y.iloc[:, 1:]\n",
    "y = y.iloc[:, 20]\n",
    "y = y.fillna(0)"
   ]
  },
  {
   "cell_type": "code",
   "execution_count": 3,
   "id": "2fcfbe42-0cee-4c51-b692-9f2e6fdd565d",
   "metadata": {},
   "outputs": [],
   "source": [
    "idx = []\n",
    "for i in range(len(x.columns)):\n",
    "    idx.append(i)"
   ]
  },
  {
   "cell_type": "code",
   "execution_count": 4,
   "id": "7119233f-af6a-4d55-9753-d28ef6ec2c7f",
   "metadata": {},
   "outputs": [],
   "source": [
    "cat_col = ['Sex',\n",
    " 'ECG Change',\n",
    " 'Chest pain',\n",
    " 'FMC',\n",
    " 'Killip Class at admission',\n",
    " 'ST change on ECG',\n",
    " 'Heart rhythm on ECG',\n",
    " 'Smoking History',\n",
    " 'Initial diagnosis',\n",
    " 'STEMI',\n",
    " 'NSTEMI',\n",
    " 'Coronary artery stenosis',\n",
    " 'Puncture route',\n",
    " 'Target vessel',\n",
    " 'Lesion type of target vessel',\n",
    " 'Pre TIMI flow of target vessel',\n",
    " 'Treatment of target Vessel',\n",
    " 'Post TIMI flow of target vessel',\n",
    " 'Result of PCI',\n",
    " 'Status of revascularization',\n",
    " 'MR grade',\n",
    " 'Final diagnosis',\n",
    " '12M_MR grade',\n",
    " '12M_Oral hypoglycemic agent (1)',\n",
    " '12M_Oral anticoagulant',\n",
    " '12M_Ezetimide',\n",
    " '12M_Fibrate',\n",
    " '12M_Statin',\n",
    " '12M_Aspirin',\n",
    " '12M_ACE inhibitor',\n",
    " '12M_Beta-blocker',\n",
    " '12M_Ca-channel blocker',\n",
    " '12M_Ticagrelor',\n",
    " '12M_Cilostazol',\n",
    " '12M_Prasugurel',\n",
    " '12M_Clopidogrel',\n",
    " 'on Treatment',\n",
    " 'on Treatment.1',\n",
    " 'on Treatment.2',\n",
    " 'on Treatment.3',\n",
    " 'on Treatment.4',\n",
    " 'on Treatment.5',\n",
    " 'DiagnosisCerebrovascular Disease',\n",
    " 'on Treatment.6',\n",
    " 'Menopause',\n",
    " 'Hysterectomy History',\n",
    " 'Number of involved vessels',\n",
    " 'Index procedure',\n",
    " 'Staged PCI',\n",
    " '12M_ARB',\n",
    " '12M_Omega3 FA',\n",
    " '12M_Oral hypoglycemic agent (3)',\n",
    " '12M_Oral hypoglycemic agent (2)']\n",
    "\n",
    "cat_idx = []\n",
    "for i in cat_col:\n",
    "    cat_idx.append(x.columns.get_loc(i))\n",
    "\n",
    "cat_dim = []\n",
    "\n",
    "for i in cat_idx:\n",
    "    cat_dim.append(max(x.iloc[:,i])+1)"
   ]
  },
  {
   "cell_type": "code",
   "execution_count": 5,
   "id": "84d83c7e-c266-47de-89cb-1dca23c34fd8",
   "metadata": {},
   "outputs": [],
   "source": [
    "for i in cat_idx:\n",
    "    idx.remove(i)"
   ]
  },
  {
   "cell_type": "code",
   "execution_count": 6,
   "id": "57eada1c-2d25-455e-b95f-08be7b8b753d",
   "metadata": {},
   "outputs": [],
   "source": [
    "from sklearn import preprocessing\n",
    "\n",
    "x.iloc[:,idx] = preprocessing.normalize(x.iloc[:,idx])"
   ]
  },
  {
   "cell_type": "code",
   "execution_count": 7,
   "id": "5fa78ec8-be74-4573-9d0b-9ffdee77ddd6",
   "metadata": {},
   "outputs": [],
   "source": [
    "from sklearn.model_selection import train_test_split\n",
    "\n",
    "x_train, x_test, y_train, y_test = train_test_split(x, y, test_size=0.2, random_state=22, stratify=y)\n",
    "x_train, x_valid, y_train, y_valid =  train_test_split(x_train, y_train, test_size=0.2, random_state=22, stratify=y_train)"
   ]
  },
  {
   "cell_type": "code",
   "execution_count": 8,
   "id": "3b951bc7-bd62-4462-b70c-af1ea4a90e5b",
   "metadata": {},
   "outputs": [
    {
     "name": "stdout",
     "output_type": "stream",
     "text": [
      "train : 578\n",
      "valid : 144\n",
      "test : 180\n"
     ]
    }
   ],
   "source": [
    "print(\"train :\", len(y_train[y_train==1]))\n",
    "print(\"valid :\",len(y_valid[y_valid==1]))\n",
    "print(\"test :\",len(y_test[y_test==1]))"
   ]
  },
  {
   "cell_type": "markdown",
   "id": "3a892eac-6706-401b-8e6e-eb58aeee4a73",
   "metadata": {},
   "source": [
    "## https://wsshin.tistory.com/5"
   ]
  },
  {
   "cell_type": "code",
   "execution_count": 9,
   "id": "d0a75d0d-1a0b-4fe6-a8bd-771ebdabc1ac",
   "metadata": {
    "scrolled": true,
    "tags": []
   },
   "outputs": [],
   "source": [
    "import torch\n",
    "import torch.nn as nn\n",
    "\n",
    "# device = 'cuda' if torch.cuda.is_available() else 'cpu'\n",
    "device = 'cpu'"
   ]
  },
  {
   "cell_type": "code",
   "execution_count": 10,
   "id": "52355c13-b95e-494b-9fa3-ecd33f246334",
   "metadata": {},
   "outputs": [],
   "source": [
    "x_train = np.array(x_train)\n",
    "x_valid = np.array(x_valid)\n",
    "x_test = np.array(x_test)\n",
    "y_train = np.array(y_train)\n",
    "y_valid = np.array(y_valid)\n",
    "y_test = np.array(y_test)\n",
    "\n",
    "\n",
    "# x_train = torch.tensor(x_train, device=device)\n",
    "# y_train = torch.tensor(y_train)\n",
    "# x_valid = torch.tensor(x_valid, device=device)\n",
    "# y_valid = torch.tensor(y_valid, device=device)\n",
    "# x_test = torch.tensor(x_test, device=device)\n",
    "# y_test = torch.tensor(y_test, device=device)"
   ]
  },
  {
   "cell_type": "code",
   "execution_count": 11,
   "id": "491d5e45-b561-45d6-abec-1635648c0ca1",
   "metadata": {},
   "outputs": [],
   "source": [
    "from pytorch_tabnet.tab_model import TabNetClassifier"
   ]
  },
  {
   "cell_type": "code",
   "execution_count": 12,
   "id": "addf6548-ef6b-4905-85f6-758a7ba82ac7",
   "metadata": {},
   "outputs": [
    {
     "name": "stdout",
     "output_type": "stream",
     "text": [
      "Device used : cuda\n"
     ]
    }
   ],
   "source": [
    "tabnet = TabNetClassifier(cat_idxs=cat_idx,\n",
    "                       cat_dims=cat_dim,\n",
    "                       cat_emb_dim=10,\n",
    "                       optimizer_fn=torch.optim.Adam,\n",
    "                       optimizer_params=dict(lr=1e-2),\n",
    "                       scheduler_params={\"step_size\":50,\n",
    "                                         \"gamma\":0.9},\n",
    "                       scheduler_fn=torch.optim.lr_scheduler.StepLR,\n",
    "                       mask_type='sparsemax' # \"sparsemax\", entmax\n",
    "                      )"
   ]
  },
  {
   "cell_type": "code",
   "execution_count": 13,
   "id": "740cfb18-4c55-408f-bb5b-8ddf292ca95d",
   "metadata": {
    "scrolled": true,
    "tags": []
   },
   "outputs": [
    {
     "name": "stdout",
     "output_type": "stream",
     "text": [
      "epoch 0  | loss: 0.74353 | train_auc: 0.8087  | valid_auc: 0.79495 |  0:00:01s\n",
      "epoch 1  | loss: 0.54835 | train_auc: 0.88891 | valid_auc: 0.8928  |  0:00:03s\n",
      "epoch 2  | loss: 0.39277 | train_auc: 0.91336 | valid_auc: 0.91414 |  0:00:04s\n",
      "epoch 3  | loss: 0.29549 | train_auc: 0.92654 | valid_auc: 0.92068 |  0:00:05s\n",
      "epoch 4  | loss: 0.27998 | train_auc: 0.92814 | valid_auc: 0.91867 |  0:00:07s\n",
      "epoch 5  | loss: 0.26154 | train_auc: 0.91538 | valid_auc: 0.91384 |  0:00:08s\n",
      "epoch 6  | loss: 0.26028 | train_auc: 0.92181 | valid_auc: 0.92872 |  0:00:10s\n",
      "epoch 7  | loss: 0.23723 | train_auc: 0.92833 | valid_auc: 0.93089 |  0:00:11s\n",
      "epoch 8  | loss: 0.24176 | train_auc: 0.93058 | valid_auc: 0.91881 |  0:00:12s\n",
      "epoch 9  | loss: 0.22569 | train_auc: 0.93081 | valid_auc: 0.92603 |  0:00:14s\n",
      "epoch 10 | loss: 0.21867 | train_auc: 0.93588 | valid_auc: 0.92603 |  0:00:15s\n",
      "epoch 11 | loss: 0.21467 | train_auc: 0.94492 | valid_auc: 0.94376 |  0:00:17s\n",
      "epoch 12 | loss: 0.21279 | train_auc: 0.94207 | valid_auc: 0.94294 |  0:00:18s\n",
      "epoch 13 | loss: 0.20756 | train_auc: 0.93978 | valid_auc: 0.93714 |  0:00:19s\n",
      "epoch 14 | loss: 0.19607 | train_auc: 0.95089 | valid_auc: 0.94917 |  0:00:21s\n",
      "epoch 15 | loss: 0.19217 | train_auc: 0.94614 | valid_auc: 0.93957 |  0:00:22s\n",
      "epoch 16 | loss: 0.18566 | train_auc: 0.95012 | valid_auc: 0.94502 |  0:00:23s\n",
      "epoch 17 | loss: 0.19023 | train_auc: 0.94094 | valid_auc: 0.94641 |  0:00:25s\n",
      "epoch 18 | loss: 0.17863 | train_auc: 0.94458 | valid_auc: 0.94337 |  0:00:26s\n",
      "epoch 19 | loss: 0.17929 | train_auc: 0.9451  | valid_auc: 0.94056 |  0:00:28s\n",
      "epoch 20 | loss: 0.18339 | train_auc: 0.94456 | valid_auc: 0.9391  |  0:00:29s\n",
      "epoch 21 | loss: 0.18449 | train_auc: 0.94805 | valid_auc: 0.94019 |  0:00:30s\n",
      "epoch 22 | loss: 0.17436 | train_auc: 0.95162 | valid_auc: 0.94899 |  0:00:32s\n",
      "epoch 23 | loss: 0.17682 | train_auc: 0.95385 | valid_auc: 0.94935 |  0:00:33s\n",
      "epoch 24 | loss: 0.1689  | train_auc: 0.95656 | valid_auc: 0.95177 |  0:00:34s\n",
      "epoch 25 | loss: 0.1617  | train_auc: 0.95816 | valid_auc: 0.95224 |  0:00:36s\n",
      "epoch 26 | loss: 0.17181 | train_auc: 0.95736 | valid_auc: 0.94958 |  0:00:37s\n",
      "epoch 27 | loss: 0.16466 | train_auc: 0.95851 | valid_auc: 0.95438 |  0:00:39s\n",
      "epoch 28 | loss: 0.16359 | train_auc: 0.95895 | valid_auc: 0.95144 |  0:00:40s\n",
      "epoch 29 | loss: 0.15462 | train_auc: 0.95794 | valid_auc: 0.94599 |  0:00:41s\n",
      "epoch 30 | loss: 0.1474  | train_auc: 0.96382 | valid_auc: 0.95317 |  0:00:43s\n",
      "epoch 31 | loss: 0.14586 | train_auc: 0.96247 | valid_auc: 0.95466 |  0:00:44s\n",
      "epoch 32 | loss: 0.14728 | train_auc: 0.96243 | valid_auc: 0.95684 |  0:00:46s\n",
      "epoch 33 | loss: 0.13637 | train_auc: 0.96593 | valid_auc: 0.95468 |  0:00:47s\n",
      "epoch 34 | loss: 0.14219 | train_auc: 0.96642 | valid_auc: 0.95217 |  0:00:49s\n",
      "epoch 35 | loss: 0.13649 | train_auc: 0.96492 | valid_auc: 0.94711 |  0:00:50s\n",
      "epoch 36 | loss: 0.13274 | train_auc: 0.96932 | valid_auc: 0.94956 |  0:00:51s\n",
      "epoch 37 | loss: 0.12634 | train_auc: 0.97018 | valid_auc: 0.95478 |  0:00:53s\n",
      "epoch 38 | loss: 0.12834 | train_auc: 0.96691 | valid_auc: 0.95303 |  0:00:54s\n",
      "epoch 39 | loss: 0.13522 | train_auc: 0.97416 | valid_auc: 0.96022 |  0:00:56s\n",
      "epoch 40 | loss: 0.12627 | train_auc: 0.97011 | valid_auc: 0.95434 |  0:00:57s\n",
      "epoch 41 | loss: 0.11475 | train_auc: 0.97262 | valid_auc: 0.94887 |  0:00:58s\n",
      "epoch 42 | loss: 0.11527 | train_auc: 0.97423 | valid_auc: 0.95273 |  0:01:00s\n",
      "epoch 43 | loss: 0.10923 | train_auc: 0.97562 | valid_auc: 0.95351 |  0:01:01s\n",
      "epoch 44 | loss: 0.11112 | train_auc: 0.9769  | valid_auc: 0.95191 |  0:01:03s\n",
      "epoch 45 | loss: 0.10916 | train_auc: 0.97595 | valid_auc: 0.94629 |  0:01:04s\n",
      "epoch 46 | loss: 0.09863 | train_auc: 0.97895 | valid_auc: 0.94509 |  0:01:05s\n",
      "epoch 47 | loss: 0.10005 | train_auc: 0.97864 | valid_auc: 0.95542 |  0:01:07s\n",
      "epoch 48 | loss: 0.0953  | train_auc: 0.98076 | valid_auc: 0.94868 |  0:01:08s\n",
      "epoch 49 | loss: 0.09215 | train_auc: 0.97491 | valid_auc: 0.91308 |  0:01:10s\n",
      "epoch 50 | loss: 0.08916 | train_auc: 0.9783  | valid_auc: 0.92972 |  0:01:11s\n",
      "epoch 51 | loss: 0.08608 | train_auc: 0.97831 | valid_auc: 0.92846 |  0:01:13s\n",
      "epoch 52 | loss: 0.08312 | train_auc: 0.98208 | valid_auc: 0.94302 |  0:01:14s\n",
      "epoch 53 | loss: 0.07842 | train_auc: 0.98355 | valid_auc: 0.92857 |  0:01:15s\n",
      "epoch 54 | loss: 0.08033 | train_auc: 0.98293 | valid_auc: 0.94782 |  0:01:17s\n",
      "epoch 55 | loss: 0.08499 | train_auc: 0.98088 | valid_auc: 0.9161  |  0:01:18s\n",
      "epoch 56 | loss: 0.08618 | train_auc: 0.98303 | valid_auc: 0.92398 |  0:01:20s\n",
      "epoch 57 | loss: 0.08174 | train_auc: 0.98218 | valid_auc: 0.92719 |  0:01:21s\n",
      "epoch 58 | loss: 0.075   | train_auc: 0.98687 | valid_auc: 0.9348  |  0:01:23s\n",
      "epoch 59 | loss: 0.07316 | train_auc: 0.9867  | valid_auc: 0.93226 |  0:01:24s\n",
      "\n",
      "Early stopping occurred at epoch 59 with best_epoch = 39 and best_valid_auc = 0.96022\n",
      "Best weights from best epoch are automatically used!\n"
     ]
    }
   ],
   "source": [
    "max_epochs = 200\n",
    "\n",
    "tabnet.fit(\n",
    "    X_train=x_train, y_train=y_train,\n",
    "    eval_set=[(x_train, y_train), (x_valid, y_valid)],\n",
    "    eval_name=['train', 'valid'],\n",
    "    eval_metric=['auc'],\n",
    "    max_epochs=max_epochs , patience=20,\n",
    "    batch_size=1024, virtual_batch_size=128,\n",
    "    num_workers=0,\n",
    "    weights=1,\n",
    "    drop_last=False,\n",
    ")"
   ]
  },
  {
   "cell_type": "code",
   "execution_count": 14,
   "id": "afdf73d1-5949-4768-9d30-ccae55118bf4",
   "metadata": {},
   "outputs": [],
   "source": [
    "from sklearn.metrics import roc_auc_score\n",
    "from sklearn.metrics import precision_score\n",
    "from sklearn.metrics import recall_score\n",
    "from sklearn.metrics import f1_score\n",
    "\n",
    "pred = tabnet.predict_proba(x_test)\n",
    "test_auc = roc_auc_score(y_score=pred[:,1], y_true=y_test)\n",
    "\n",
    "pred = tabnet.predict(x_test)\n",
    "test_pre = precision_score(y_test, pred, average='macro')\n",
    "test_rec = recall_score(y_test, pred, average='macro')\n",
    "test_f1s = f1_score(y_test, pred, average='macro')"
   ]
  },
  {
   "cell_type": "code",
   "execution_count": 15,
   "id": "31025048-1acc-4c94-b8ff-4affc6fd2aed",
   "metadata": {},
   "outputs": [
    {
     "name": "stdout",
     "output_type": "stream",
     "text": [
      "AUC : 0.956628573583767\n",
      "Precision : 0.723089609675646\n",
      "Recall : 0.8788017651052273\n",
      "F1 score : 0.7754163035431485\n"
     ]
    }
   ],
   "source": [
    "print(\"AUC :\", test_auc)\n",
    "print(\"Precision :\", test_pre)\n",
    "print(\"Recall :\", test_rec)\n",
    "print(\"F1 score :\", test_f1s)"
   ]
  },
  {
   "cell_type": "code",
   "execution_count": 16,
   "id": "47d86ab3-a14f-4420-8ff9-cda3d4be72b6",
   "metadata": {},
   "outputs": [
    {
     "name": "stdout",
     "output_type": "stream",
     "text": [
      "[[ 147   33]\n",
      " [ 174 2772]]\n"
     ]
    }
   ],
   "source": [
    "from sklearn.metrics import confusion_matrix\n",
    "con_mat = confusion_matrix(y_test,pred, labels=[1,0])\n",
    "print(con_mat)"
   ]
  },
  {
   "cell_type": "code",
   "execution_count": 17,
   "id": "d66e30aa-8f9a-468d-9615-5cba49bae5be",
   "metadata": {},
   "outputs": [
    {
     "name": "stdout",
     "output_type": "stream",
     "text": [
      "Actual Death : 180\n",
      "Actual Survive : 2946\n",
      "Predicted Death : 321\n",
      "Predicted Survive : 2805\n",
      "\n",
      "Death Recall : 81.66666666666667\n",
      "Survival Recall : 94.09368635437882\n",
      "\n",
      "Death Precision : 45.794392523364486\n",
      "Survival Precision : 98.82352941176471\n"
     ]
    }
   ],
   "source": [
    "print(\"Actual Death :\", len(y_test[y_test==1]))\n",
    "print(\"Actual Survive :\", len(y_test[y_test==0]))\n",
    "print(\"Predicted Death :\", len(pred[pred==1]))\n",
    "print(\"Predicted Survive :\", len(pred[pred==0]))\n",
    "print()\n",
    "print(\"Death Recall :\", con_mat[0][0]/len(y_test[y_test==1])*100)\n",
    "print(\"Survival Recall :\", con_mat[1][1]/len(y_test[y_test==0])*100)\n",
    "print()\n",
    "print(\"Death Precision :\", con_mat[0][0]/len(pred[pred==1])*100)\n",
    "print(\"Survival Precision :\", con_mat[1][1]/len(pred[pred==0])*100)"
   ]
  },
  {
   "cell_type": "code",
   "execution_count": 18,
   "id": "4de2f80d-29bb-4c26-a7c3-68ed0761b144",
   "metadata": {},
   "outputs": [],
   "source": [
    "import matplotlib.pyplot as plt\n",
    "\n",
    "explain_matrix, masks = tabnet.explain(x_test)\n",
    "\n",
    "# for i in range(3):\n",
    "#     plt.figure(figsize=(20, 400))\n",
    "#     plt.imshow(masks[i][:50])"
   ]
  },
  {
   "cell_type": "code",
   "execution_count": 19,
   "id": "7fb663a5-1bc5-4d60-b1aa-aaec699682fb",
   "metadata": {},
   "outputs": [
    {
     "data": {
      "text/plain": [
       "(3126, 230)"
      ]
     },
     "execution_count": 19,
     "metadata": {},
     "output_type": "execute_result"
    }
   ],
   "source": [
    "x_test.shape"
   ]
  },
  {
   "cell_type": "code",
   "execution_count": 20,
   "id": "2efd4a56-3fba-463c-8ec2-f2a3cd996c94",
   "metadata": {},
   "outputs": [],
   "source": [
    "important_feature = []\n",
    "\n",
    "for i in range(len(explain_matrix)):\n",
    "    imp_idx = np.where(explain_matrix[i]==max(explain_matrix[i]))[0][0] \n",
    "#     print(\"Test Case\", i, \":\", imp_idx)\n",
    "    important_feature.append(imp_idx)"
   ]
  },
  {
   "cell_type": "code",
   "execution_count": 21,
   "id": "ea86f015-584d-4db5-8c96-da4584744197",
   "metadata": {},
   "outputs": [
    {
     "name": "stdout",
     "output_type": "stream",
     "text": [
      "(array([  0,  11,  15,  18,  28,  32,  42,  45,  49,  57,  63,  64,  66,\n",
      "        71, 113, 151, 182, 185, 191, 194, 195, 197, 200, 206, 212, 221,\n",
      "       224, 227]), array([   1,    2,    6,   62,    2,    5,  115,   54,   25,   12,   30,\n",
      "          8,    1,    1,  108,   20,   64, 1538,   89,  295,    1,   21,\n",
      "        204,  149,  225,    6,   81,    1]))\n"
     ]
    }
   ],
   "source": [
    "uniq_arr = np.unique(important_feature, return_counts=True)\n",
    "print(uniq_arr)"
   ]
  },
  {
   "cell_type": "code",
   "execution_count": 22,
   "id": "529dee5a-378b-4229-9100-0e9e5aa85625",
   "metadata": {},
   "outputs": [],
   "source": [
    "most_idx = np.where(uniq_arr[1]==max(uniq_arr[1]))"
   ]
  },
  {
   "cell_type": "code",
   "execution_count": 23,
   "id": "115d4bd8-bd17-41d1-bfd8-275a8dd1f3ab",
   "metadata": {},
   "outputs": [],
   "source": [
    "first_imp_feature = uniq_arr[0][most_idx][0]"
   ]
  },
  {
   "cell_type": "code",
   "execution_count": 24,
   "id": "55fd77ce-34d3-4b54-b786-436983120280",
   "metadata": {},
   "outputs": [
    {
     "data": {
      "text/plain": [
       "'12M_Oral hypoglycemic agent (3)'"
      ]
     },
     "execution_count": 24,
     "metadata": {},
     "output_type": "execute_result"
    }
   ],
   "source": [
    "x.columns[first_imp_feature]"
   ]
  },
  {
   "cell_type": "code",
   "execution_count": 26,
   "id": "f7caea2e-9422-4c7a-a9ce-73072547b697",
   "metadata": {},
   "outputs": [
    {
     "name": "stdout",
     "output_type": "stream",
     "text": [
      "Successfully saved model at saveModel/tabnet_1.zip\n"
     ]
    }
   ],
   "source": [
    "# saving_path_name = \"saveModel/tabnet_1\"\n",
    "# saved_filepath = tabnet.save_model(saving_path_name)"
   ]
  },
  {
   "cell_type": "code",
   "execution_count": null,
   "id": "a93a1b82-71b8-4044-bdcf-5e9bc2d36dcd",
   "metadata": {},
   "outputs": [],
   "source": [
    "# loaded_tabnet = TabNetClassifier()\n",
    "# loaded_tabnet.load_model(saved_filepath)\n",
    "\n",
    "# max_epochs = 200\n",
    "\n",
    "# loaded_tabnet.fit(\n",
    "#     X_train=x_train, y_train=y_train,\n",
    "#     eval_set=[(x_train, y_train), (x_valid, y_valid)],\n",
    "#     eval_name=['train', 'valid'],\n",
    "#     eval_metric=['auc'],\n",
    "#     max_epochs=max_epochs , patience=20,\n",
    "#     batch_size=1024, virtual_batch_size=128,\n",
    "#     num_workers=0,\n",
    "#     weights=1,\n",
    "#     drop_last=False,\n",
    "# )"
   ]
  }
 ],
 "metadata": {
  "kernelspec": {
   "display_name": "Python 3",
   "language": "python",
   "name": "python3"
  },
  "language_info": {
   "codemirror_mode": {
    "name": "ipython",
    "version": 3
   },
   "file_extension": ".py",
   "mimetype": "text/x-python",
   "name": "python",
   "nbconvert_exporter": "python",
   "pygments_lexer": "ipython3",
   "version": "3.6.9"
  }
 },
 "nbformat": 4,
 "nbformat_minor": 5
}
