{
 "cells": [
  {
   "cell_type": "code",
   "execution_count": 1,
   "id": "5a9ce9e9-8ce1-4a08-8d49-4c4d96fa3633",
   "metadata": {},
   "outputs": [],
   "source": [
    "# Auto Reload\n",
    "%load_ext autoreload\n",
    "%autoreload 2"
   ]
  },
  {
   "cell_type": "markdown",
   "id": "34924bf5-6dee-4a79-9325-a5a017dee13f",
   "metadata": {
    "tags": []
   },
   "source": [
    "### Data Preprocess"
   ]
  },
  {
   "cell_type": "code",
   "execution_count": 2,
   "id": "13b6d858-3caa-405a-bc8d-9408a9e226b9",
   "metadata": {},
   "outputs": [],
   "source": [
    "import pandas as pd\n",
    "import numpy as np\n",
    "\n",
    "x = pd.read_csv(\"./data/KAMIR_data_preprocessing_no_normalization.csv\", encoding = 'unicode_escape')\n",
    "y = pd.read_csv(\"./data/KAMIR_Labels1.csv\", encoding = 'unicode_escape')\n",
    "x = x.iloc[:, 1:]\n",
    "y = y.iloc[:, 1:]\n",
    "y = y.iloc[:, 20]\n",
    "y = y.fillna(0)"
   ]
  },
  {
   "cell_type": "code",
   "execution_count": 3,
   "id": "2fcfbe42-0cee-4c51-b692-9f2e6fdd565d",
   "metadata": {},
   "outputs": [],
   "source": [
    "idx = []\n",
    "for i in range(len(x.columns)):\n",
    "    idx.append(i)"
   ]
  },
  {
   "cell_type": "code",
   "execution_count": 4,
   "id": "7119233f-af6a-4d55-9753-d28ef6ec2c7f",
   "metadata": {},
   "outputs": [],
   "source": [
    "cat_col = ['Sex',\n",
    " 'ECG Change',\n",
    " 'Chest pain',\n",
    " 'FMC',\n",
    " 'Killip Class at admission',\n",
    " 'ST change on ECG',\n",
    " 'Heart rhythm on ECG',\n",
    " 'Smoking History',\n",
    " 'Initial diagnosis',\n",
    " 'STEMI',\n",
    " 'NSTEMI',\n",
    " 'Coronary artery stenosis',\n",
    " 'Puncture route',\n",
    " 'Target vessel',\n",
    " 'Lesion type of target vessel',\n",
    " 'Pre TIMI flow of target vessel',\n",
    " 'Treatment of target Vessel',\n",
    " 'Post TIMI flow of target vessel',\n",
    " 'Result of PCI',\n",
    " 'Status of revascularization',\n",
    " 'MR grade',\n",
    " 'Final diagnosis',\n",
    " '12M_MR grade',\n",
    " '12M_Oral hypoglycemic agent (1)',\n",
    " '12M_Oral anticoagulant',\n",
    " '12M_Ezetimide',\n",
    " '12M_Fibrate',\n",
    " '12M_Statin',\n",
    " '12M_Aspirin',\n",
    " '12M_ACE inhibitor',\n",
    " '12M_Beta-blocker',\n",
    " '12M_Ca-channel blocker',\n",
    " '12M_Ticagrelor',\n",
    " '12M_Cilostazol',\n",
    " '12M_Prasugurel',\n",
    " '12M_Clopidogrel',\n",
    " 'on Treatment',\n",
    " 'on Treatment.1',\n",
    " 'on Treatment.2',\n",
    " 'on Treatment.3',\n",
    " 'on Treatment.4',\n",
    " 'on Treatment.5',\n",
    " 'DiagnosisCerebrovascular Disease',\n",
    " 'on Treatment.6',\n",
    " 'Menopause',\n",
    " 'Hysterectomy History',\n",
    " 'Number of involved vessels',\n",
    " 'Index procedure',\n",
    " 'Staged PCI',\n",
    " '12M_ARB',\n",
    " '12M_Omega3 FA',\n",
    " '12M_Oral hypoglycemic agent (3)',\n",
    " '12M_Oral hypoglycemic agent (2)']\n",
    "\n",
    "cat_idx = []\n",
    "for i in cat_col:\n",
    "    cat_idx.append(x.columns.get_loc(i))\n",
    "\n",
    "cat_dim = []\n",
    "\n",
    "for i in cat_idx:\n",
    "    cat_dim.append(max(x.iloc[:,i])+1)"
   ]
  },
  {
   "cell_type": "code",
   "execution_count": 5,
   "id": "84d83c7e-c266-47de-89cb-1dca23c34fd8",
   "metadata": {},
   "outputs": [],
   "source": [
    "for i in cat_idx:\n",
    "    idx.remove(i)"
   ]
  },
  {
   "cell_type": "code",
   "execution_count": 6,
   "id": "57eada1c-2d25-455e-b95f-08be7b8b753d",
   "metadata": {},
   "outputs": [],
   "source": [
    "from sklearn import preprocessing\n",
    "\n",
    "x.iloc[:,idx] = preprocessing.normalize(x.iloc[:,idx])"
   ]
  },
  {
   "cell_type": "code",
   "execution_count": 7,
   "id": "5fa78ec8-be74-4573-9d0b-9ffdee77ddd6",
   "metadata": {},
   "outputs": [],
   "source": [
    "from sklearn.model_selection import train_test_split\n",
    "\n",
    "x_train, x_test, y_train, y_test = train_test_split(x, y, test_size=0.2, random_state=22, stratify=y)"
   ]
  },
  {
   "cell_type": "code",
   "execution_count": 8,
   "id": "d0a75d0d-1a0b-4fe6-a8bd-771ebdabc1ac",
   "metadata": {
    "scrolled": true,
    "tags": []
   },
   "outputs": [],
   "source": [
    "import torch\n",
    "import torch.nn as nn\n",
    "\n",
    "# device = 'cuda' if torch.cuda.is_available() else 'cpu'\n",
    "device = 'cpu'"
   ]
  },
  {
   "cell_type": "code",
   "execution_count": 9,
   "id": "52355c13-b95e-494b-9fa3-ecd33f246334",
   "metadata": {},
   "outputs": [],
   "source": [
    "x = np.array(x_train)\n",
    "y = np.array(y_train)\n",
    "\n",
    "x_test = np.array(x_test)\n",
    "y_test = np.array(y_test)"
   ]
  },
  {
   "cell_type": "code",
   "execution_count": 10,
   "id": "0cc0c84b-1425-43b8-acbc-1381e516ee9e",
   "metadata": {},
   "outputs": [
    {
     "name": "stdout",
     "output_type": "stream",
     "text": [
      "0.5306451612903226\n",
      "8.657894736842104\n"
     ]
    }
   ],
   "source": [
    "alive = len(y[y==0])\n",
    "mortality = len(y[y==1])\n",
    "total = len(y)\n",
    "weight_0 = (1/alive)*(total)/2.0\n",
    "weight_1 = (1/mortality)*(total)/2.0\n",
    "print(weight_0)\n",
    "print(weight_1)"
   ]
  },
  {
   "cell_type": "markdown",
   "id": "b534b4c9-8c98-440d-be4b-9ac8c4822957",
   "metadata": {},
   "source": [
    "### Model : TabNet with Optuna"
   ]
  },
  {
   "cell_type": "code",
   "execution_count": 11,
   "id": "491d5e45-b561-45d6-abec-1635648c0ca1",
   "metadata": {},
   "outputs": [],
   "source": [
    "from pytorch_tabnet.tab_model import TabNetClassifier\n",
    "import optuna\n",
    "from optuna import Trial, visualization\n",
    "from sklearn.model_selection import StratifiedKFold"
   ]
  },
  {
   "cell_type": "code",
   "execution_count": 12,
   "id": "46938780-ae73-4591-b9d2-d7e4d5685af7",
   "metadata": {},
   "outputs": [],
   "source": [
    "def Objective(trial):\n",
    "    mask_type     = trial.suggest_categorical(\"mask_type\", [\"entmax\", \"sparsemax\"])\n",
    "    n_da          = trial.suggest_int(\"n_da\", 20, 64, step=4)\n",
    "    n_steps       = trial.suggest_int(\"n_steps\", 4, 10, step=3)\n",
    "    gamma         = trial.suggest_float(\"gamma\", 1.0, 2.0, step=0.1)\n",
    "    n_shared      = trial.suggest_int(\"n_shared\", 1, 5, step=1)\n",
    "    lambda_sparse = trial.suggest_float(\"lambda_sparse\", 1e-6, 1e-3, log=True)\n",
    "    sc_gamma      = trial.suggest_float(\"sc_gamma\", 0.5, 2.0, step=0.1)\n",
    "    sc_steps      = trial.suggest_int(\"sc_steps\", 10, 50, step=10)\n",
    "    tabnet_params = dict(cat_idxs         = cat_idx,\n",
    "                         cat_dims         = cat_dim,\n",
    "                         n_d              = n_da,\n",
    "                         n_a              = n_da,\n",
    "                         n_steps          = n_steps,\n",
    "                         gamma            = gamma,\n",
    "                         lambda_sparse    = lambda_sparse, optimizer_fn=torch.optim.Adam,\n",
    "                         optimizer_params = dict(lr=2e-2, weight_decay=1e-5),\n",
    "                         mask_type        = mask_type,\n",
    "                         n_shared         = n_shared,\n",
    "                         scheduler_params = dict(gamma=sc_gamma, step_size=sc_steps),\n",
    "                         scheduler_fn     = torch.optim.lr_scheduler.StepLR,\n",
    "                         verbose=0,\n",
    "                         ) #early stopping\n",
    "    kf = StratifiedKFold(n_splits=5, random_state=42, shuffle=True)\n",
    "    CV_score_array = []\n",
    "    for train_index, test_index in kf.split(x):\n",
    "        x_train, x_valid       = x[train_index], x[test_index]\n",
    "        y_train, y_valid       = y[train_index], y[test_index]\n",
    "        tabnet                 = TabNetClassifier(**tabnet_params)\n",
    "        tabnet.fit(X_train     = x_train,\n",
    "                   y_train     = y_train,\n",
    "                   eval_set    = [(x_valid, y_valid)],\n",
    "                   patience    = trial.suggest_int(\"patience\",low=15,high=30),\n",
    "                   max_epochs  = trial.suggest_int('epochs', 15, 100),\n",
    "                   eval_metric = ['accuracy'],\n",
    "                   weights     = {0:weight_0, 1:weight_1})\n",
    "        CV_score_array.append(tabnet.best_cost)\n",
    "    avg = np.mean(CV_score_array)\n",
    "    return avg"
   ]
  },
  {
   "cell_type": "code",
   "execution_count": 13,
   "id": "a1f3bf83-39c3-46ee-b309-ee65ace3c0ed",
   "metadata": {},
   "outputs": [
    {
     "name": "stderr",
     "output_type": "stream",
     "text": [
      "\u001b[32m[I 2022-05-12 07:31:09,626]\u001b[0m A new study created in memory with name: TabNet optimization\u001b[0m\n"
     ]
    },
    {
     "name": "stdout",
     "output_type": "stream",
     "text": [
      "\n",
      "Early stopping occurred at epoch 62 with best_epoch = 37 and best_val_0_accuracy = 0.93483\n",
      "Best weights from best epoch are automatically used!\n",
      "\n",
      "Early stopping occurred at epoch 28 with best_epoch = 3 and best_val_0_accuracy = 0.94442\n",
      "Best weights from best epoch are automatically used!\n",
      "\n",
      "Early stopping occurred at epoch 30 with best_epoch = 5 and best_val_0_accuracy = 0.9416\n",
      "Best weights from best epoch are automatically used!\n",
      "Stop training because you reached max_epochs = 99 with best_epoch = 83 and best_val_0_accuracy = 0.9556\n",
      "Best weights from best epoch are automatically used!\n",
      "Stop training because you reached max_epochs = 99 with best_epoch = 97 and best_val_0_accuracy = 0.9592\n",
      "Best weights from best epoch are automatically used!\n"
     ]
    },
    {
     "name": "stderr",
     "output_type": "stream",
     "text": [
      "\u001b[32m[I 2022-05-12 07:38:24,890]\u001b[0m Trial 0 finished with value: 0.9471296601359456 and parameters: {'mask_type': 'entmax', 'n_da': 36, 'n_steps': 7, 'gamma': 1.1, 'n_shared': 1, 'lambda_sparse': 6.725627863421793e-05, 'sc_gamma': 2.0, 'sc_steps': 50, 'patience': 25, 'epochs': 99}. Best is trial 0 with value: 0.9471296601359456.\u001b[0m\n"
     ]
    }
   ],
   "source": [
    "study = optuna.create_study(direction=\"maximize\", study_name='TabNet optimization')\n",
    "study.optimize(Objective, timeout=6*60)"
   ]
  },
  {
   "cell_type": "code",
   "execution_count": 14,
   "id": "9f80dbc5-6e42-4345-81ac-7c998e7f88e6",
   "metadata": {},
   "outputs": [
    {
     "name": "stdout",
     "output_type": "stream",
     "text": [
      "{'mask_type': 'entmax', 'n_da': 36, 'n_steps': 7, 'gamma': 1.1, 'n_shared': 1, 'lambda_sparse': 6.725627863421793e-05, 'sc_gamma': 2.0, 'sc_steps': 50, 'patience': 25, 'epochs': 99}\n"
     ]
    }
   ],
   "source": [
    "TabNet_params = study.best_params\n",
    "print(TabNet_params)"
   ]
  },
  {
   "cell_type": "code",
   "execution_count": 15,
   "id": "40818758-1fc0-4d20-a495-34db8651fee6",
   "metadata": {},
   "outputs": [],
   "source": [
    "final_params = dict(cat_idxs         = cat_idx,\n",
    "                    cat_dims         = cat_dim,\n",
    "                    n_d              = TabNet_params['n_da'],\n",
    "                    n_a              = TabNet_params['n_da'],\n",
    "                    n_steps          = TabNet_params['n_steps'],\n",
    "                    gamma            = TabNet_params['gamma'],\n",
    "                    lambda_sparse    = TabNet_params['lambda_sparse'],\n",
    "                    optimizer_fn     = torch.optim.Adam,\n",
    "                    optimizer_params = dict(lr=2e-2, weight_decay=1e-5),\n",
    "                    mask_type        = TabNet_params['mask_type'],\n",
    "                    n_shared         = TabNet_params['n_shared'],\n",
    "                    scheduler_params = dict(gamma=TabNet_params[\"sc_gamma\"], step_size=TabNet_params[\"sc_steps\"]),\n",
    "                    scheduler_fn     = torch.optim.lr_scheduler.StepLR,\n",
    "                    verbose=0,\n",
    "                    )\n",
    "\n",
    "epochs = TabNet_params['epochs']"
   ]
  },
  {
   "cell_type": "code",
   "execution_count": null,
   "id": "e9fa374d-35dc-479a-9334-8143b48ba136",
   "metadata": {},
   "outputs": [
    {
     "name": "stdout",
     "output_type": "stream",
     "text": [
      "No early stopping will be performed, last training weights will be used.\n"
     ]
    }
   ],
   "source": [
    "tabnet = TabNetClassifier(**final_params)\n",
    "tabnet.fit(X_train     = x,\n",
    "           y_train     = y,\n",
    "           patience    = TabNet_params['patience'],\n",
    "           max_epochs  = epochs,\n",
    "           eval_metric = ['accuracy'],\n",
    "           weights     = {0:weight_0, 1:weight_1})"
   ]
  },
  {
   "cell_type": "markdown",
   "id": "a95fbf99-f731-4f91-9f4e-86bd1befe3d6",
   "metadata": {
    "tags": []
   },
   "source": [
    "### Prediction and Confusion Matrix"
   ]
  },
  {
   "cell_type": "code",
   "execution_count": null,
   "id": "afdf73d1-5949-4768-9d30-ccae55118bf4",
   "metadata": {},
   "outputs": [],
   "source": [
    "from sklearn.metrics import roc_auc_score\n",
    "from sklearn.metrics import precision_score\n",
    "from sklearn.metrics import recall_score\n",
    "from sklearn.metrics import f1_score\n",
    "\n",
    "pred = tabnet.predict_proba(x_test)\n",
    "test_auc = roc_auc_score(y_score=pred[:,1], y_true=y_test)\n",
    "\n",
    "pred = tabnet.predict(x_test)\n",
    "test_pre = precision_score(y_test, pred, average='macro')\n",
    "test_rec = recall_score(y_test, pred, average='macro')\n",
    "test_f1s = f1_score(y_test, pred, average='macro')"
   ]
  },
  {
   "cell_type": "code",
   "execution_count": null,
   "id": "31025048-1acc-4c94-b8ff-4affc6fd2aed",
   "metadata": {},
   "outputs": [],
   "source": [
    "print(\"AUC \\t\\t:\", test_auc)\n",
    "print(\"Precision \\t:\", test_pre)\n",
    "print(\"Recall \\t\\t:\", test_rec)\n",
    "print(\"F1 score \\t:\", test_f1s)"
   ]
  },
  {
   "cell_type": "code",
   "execution_count": null,
   "id": "47d86ab3-a14f-4420-8ff9-cda3d4be72b6",
   "metadata": {},
   "outputs": [],
   "source": [
    "from sklearn.metrics import confusion_matrix\n",
    "con_mat = confusion_matrix(y_test,pred, labels=[1,0])\n",
    "print(con_mat)"
   ]
  },
  {
   "cell_type": "code",
   "execution_count": null,
   "id": "d66e30aa-8f9a-468d-9615-5cba49bae5be",
   "metadata": {},
   "outputs": [],
   "source": [
    "print(\"Actual Death :\", len(y_test[y_test==1]))\n",
    "print(\"Actual Survive :\", len(y_test[y_test==0]))\n",
    "print(\"Predicted Death :\", len(pred[pred==1]))\n",
    "print(\"Predicted Survive :\", len(pred[pred==0]))\n",
    "print()\n",
    "print(\"Death Recall :\", con_mat[0][0]/len(y_test[y_test==1])*100)\n",
    "print(\"Survival Recall :\", con_mat[1][1]/len(y_test[y_test==0])*100)\n",
    "print()\n",
    "print(\"Death Precision :\", con_mat[0][0]/len(pred[pred==1])*100)\n",
    "print(\"Survival Precision :\", con_mat[1][1]/len(pred[pred==0])*100)"
   ]
  },
  {
   "cell_type": "markdown",
   "id": "61c25254-5e33-4db6-9234-32ef58960e96",
   "metadata": {
    "tags": []
   },
   "source": [
    "### Explainable"
   ]
  },
  {
   "cell_type": "code",
   "execution_count": null,
   "id": "4de2f80d-29bb-4c26-a7c3-68ed0761b144",
   "metadata": {},
   "outputs": [],
   "source": [
    "import matplotlib.pyplot as plt\n",
    "\n",
    "explain_matrix, masks = tabnet.explain(x_test)\n",
    "\n",
    "# for i in range(3):\n",
    "#     plt.figure(figsize=(20, 400))\n",
    "#     plt.imshow(masks[i][:50])"
   ]
  },
  {
   "cell_type": "code",
   "execution_count": null,
   "id": "7fb663a5-1bc5-4d60-b1aa-aaec699682fb",
   "metadata": {},
   "outputs": [],
   "source": [
    "x_test.shape"
   ]
  },
  {
   "cell_type": "code",
   "execution_count": null,
   "id": "2efd4a56-3fba-463c-8ec2-f2a3cd996c94",
   "metadata": {},
   "outputs": [],
   "source": [
    "important_feature = []\n",
    "\n",
    "for i in range(len(explain_matrix)):\n",
    "    imp_idx = np.where(explain_matrix[i]==max(explain_matrix[i]))[0][0] \n",
    "#     print(\"Test Case\", i, \":\", imp_idx)\n",
    "    important_feature.append(imp_idx)"
   ]
  },
  {
   "cell_type": "code",
   "execution_count": null,
   "id": "ea86f015-584d-4db5-8c96-da4584744197",
   "metadata": {},
   "outputs": [],
   "source": [
    "uniq_arr = np.unique(important_feature, return_counts=True)\n",
    "print(uniq_arr)"
   ]
  },
  {
   "cell_type": "code",
   "execution_count": null,
   "id": "529dee5a-378b-4229-9100-0e9e5aa85625",
   "metadata": {},
   "outputs": [],
   "source": [
    "most_idx = np.where(uniq_arr[1]==max(uniq_arr[1]))"
   ]
  },
  {
   "cell_type": "code",
   "execution_count": null,
   "id": "115d4bd8-bd17-41d1-bfd8-275a8dd1f3ab",
   "metadata": {},
   "outputs": [],
   "source": [
    "first_imp_feature = uniq_arr[0][most_idx][0]"
   ]
  },
  {
   "cell_type": "markdown",
   "id": "11c58581-06e5-4bb7-9655-17fd20503452",
   "metadata": {
    "tags": []
   },
   "source": [
    "### Save model"
   ]
  },
  {
   "cell_type": "code",
   "execution_count": null,
   "id": "f7caea2e-9422-4c7a-a9ce-73072547b697",
   "metadata": {},
   "outputs": [],
   "source": [
    "# saving_path_name = \"saveModel/tabnet_optuna1\"\n",
    "# saved_filepath = tabnet.save_model(saving_path_name)"
   ]
  },
  {
   "cell_type": "markdown",
   "id": "25d5ac3b-aac5-413c-9a99-c182e3e49002",
   "metadata": {
    "jp-MarkdownHeadingCollapsed": true,
    "tags": []
   },
   "source": [
    "### Load model"
   ]
  },
  {
   "cell_type": "code",
   "execution_count": null,
   "id": "a93a1b82-71b8-4044-bdcf-5e9bc2d36dcd",
   "metadata": {},
   "outputs": [],
   "source": [
    "# loaded_tabnet = TabNetClassifier()\n",
    "# loaded_tabnet.load_model(saved_filepath)\n",
    "\n",
    "# max_epochs = 200\n",
    "\n",
    "# loaded_tabnet.fit(\n",
    "#     X_train=x_train, y_train=y_train,\n",
    "#     eval_set=[(x_train, y_train), (x_valid, y_valid)],\n",
    "#     eval_name=['train', 'valid'],\n",
    "#     eval_metric=['auc'],\n",
    "#     max_epochs=max_epochs , patience=20,\n",
    "#     batch_size=1024, virtual_batch_size=128,\n",
    "#     num_workers=0,\n",
    "#     weights=1,\n",
    "#     drop_last=False,\n",
    "# )"
   ]
  },
  {
   "cell_type": "markdown",
   "id": "9f83a9ba-f2c2-443b-a9df-b81bc2c071af",
   "metadata": {},
   "source": [
    "### Reference\n",
    "##### https://wsshin.tistory.com/5"
   ]
  }
 ],
 "metadata": {
  "kernelspec": {
   "display_name": "Python 3",
   "language": "python",
   "name": "python3"
  },
  "language_info": {
   "codemirror_mode": {
    "name": "ipython",
    "version": 3
   },
   "file_extension": ".py",
   "mimetype": "text/x-python",
   "name": "python",
   "nbconvert_exporter": "python",
   "pygments_lexer": "ipython3",
   "version": "3.6.9"
  }
 },
 "nbformat": 4,
 "nbformat_minor": 5
}
