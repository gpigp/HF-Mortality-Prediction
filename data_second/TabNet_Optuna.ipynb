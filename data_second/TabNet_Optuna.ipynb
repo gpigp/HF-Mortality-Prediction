{
 "cells": [
  {
   "cell_type": "code",
   "execution_count": 1,
   "id": "5a9ce9e9-8ce1-4a08-8d49-4c4d96fa3633",
   "metadata": {},
   "outputs": [],
   "source": [
    "# Auto Reload\n",
    "%load_ext autoreload\n",
    "%autoreload 2"
   ]
  },
  {
   "cell_type": "markdown",
   "id": "34924bf5-6dee-4a79-9325-a5a017dee13f",
   "metadata": {
    "tags": []
   },
   "source": [
    "### Data Preprocess"
   ]
  },
  {
   "cell_type": "code",
   "execution_count": 2,
   "id": "13b6d858-3caa-405a-bc8d-9408a9e226b9",
   "metadata": {},
   "outputs": [],
   "source": [
    "import pandas as pd\n",
    "import numpy as np\n",
    "\n",
    "x = pd.read_csv(\"./data/KAMIR_data_preprocessing_no_normalization.csv\", encoding = 'unicode_escape')\n",
    "y = pd.read_csv(\"./data/KAMIR_Labels1.csv\", encoding = 'unicode_escape')\n",
    "x = x.iloc[:, 1:]\n",
    "y = y.iloc[:, 1:]\n",
    "y = y.iloc[:, 20]\n",
    "y = y.fillna(0)"
   ]
  },
  {
   "cell_type": "code",
   "execution_count": 3,
   "id": "2fcfbe42-0cee-4c51-b692-9f2e6fdd565d",
   "metadata": {},
   "outputs": [],
   "source": [
    "idx = []\n",
    "for i in range(len(x.columns)):\n",
    "    idx.append(i)"
   ]
  },
  {
   "cell_type": "code",
   "execution_count": 4,
   "id": "7119233f-af6a-4d55-9753-d28ef6ec2c7f",
   "metadata": {},
   "outputs": [],
   "source": [
    "cat_col = ['Sex',\n",
    " 'ECG Change',\n",
    " 'Chest pain',\n",
    " 'FMC',\n",
    " 'Killip Class at admission',\n",
    " 'ST change on ECG',\n",
    " 'Heart rhythm on ECG',\n",
    " 'Smoking History',\n",
    " 'Initial diagnosis',\n",
    " 'STEMI',\n",
    " 'NSTEMI',\n",
    " 'Coronary artery stenosis',\n",
    " 'Puncture route',\n",
    " 'Target vessel',\n",
    " 'Lesion type of target vessel',\n",
    " 'Pre TIMI flow of target vessel',\n",
    " 'Treatment of target Vessel',\n",
    " 'Post TIMI flow of target vessel',\n",
    " 'Result of PCI',\n",
    " 'Status of revascularization',\n",
    " 'MR grade',\n",
    " 'Final diagnosis',\n",
    " '12M_MR grade',\n",
    " '12M_Oral hypoglycemic agent (1)',\n",
    " '12M_Oral anticoagulant',\n",
    " '12M_Ezetimide',\n",
    " '12M_Fibrate',\n",
    " '12M_Statin',\n",
    " '12M_Aspirin',\n",
    " '12M_ACE inhibitor',\n",
    " '12M_Beta-blocker',\n",
    " '12M_Ca-channel blocker',\n",
    " '12M_Ticagrelor',\n",
    " '12M_Cilostazol',\n",
    " '12M_Prasugurel',\n",
    " '12M_Clopidogrel',\n",
    " 'on Treatment',\n",
    " 'on Treatment.1',\n",
    " 'on Treatment.2',\n",
    " 'on Treatment.3',\n",
    " 'on Treatment.4',\n",
    " 'on Treatment.5',\n",
    " 'DiagnosisCerebrovascular Disease',\n",
    " 'on Treatment.6',\n",
    " 'Menopause',\n",
    " 'Hysterectomy History',\n",
    " 'Number of involved vessels',\n",
    " 'Index procedure',\n",
    " 'Staged PCI',\n",
    " '12M_ARB',\n",
    " '12M_Omega3 FA',\n",
    " '12M_Oral hypoglycemic agent (3)',\n",
    " '12M_Oral hypoglycemic agent (2)']\n",
    "\n",
    "cat_idx = []\n",
    "for i in cat_col:\n",
    "    cat_idx.append(x.columns.get_loc(i))\n",
    "\n",
    "cat_dim = []\n",
    "\n",
    "for i in cat_idx:\n",
    "    cat_dim.append(max(x.iloc[:,i])+1)"
   ]
  },
  {
   "cell_type": "code",
   "execution_count": 5,
   "id": "84d83c7e-c266-47de-89cb-1dca23c34fd8",
   "metadata": {},
   "outputs": [],
   "source": [
    "for i in cat_idx:\n",
    "    idx.remove(i)"
   ]
  },
  {
   "cell_type": "code",
   "execution_count": 6,
   "id": "57eada1c-2d25-455e-b95f-08be7b8b753d",
   "metadata": {},
   "outputs": [],
   "source": [
    "from sklearn import preprocessing\n",
    "\n",
    "x.iloc[:,idx] = preprocessing.normalize(x.iloc[:,idx])"
   ]
  },
  {
   "cell_type": "code",
   "execution_count": 7,
   "id": "5fa78ec8-be74-4573-9d0b-9ffdee77ddd6",
   "metadata": {},
   "outputs": [],
   "source": [
    "from sklearn.model_selection import train_test_split\n",
    "\n",
    "x_train, x_test, y_train, y_test = train_test_split(x, y, test_size=0.2, random_state=22, stratify=y)"
   ]
  },
  {
   "cell_type": "code",
   "execution_count": 8,
   "id": "d0a75d0d-1a0b-4fe6-a8bd-771ebdabc1ac",
   "metadata": {
    "scrolled": true,
    "tags": []
   },
   "outputs": [],
   "source": [
    "import torch\n",
    "import torch.nn as nn\n",
    "\n",
    "# device = 'cuda' if torch.cuda.is_available() else 'cpu'\n",
    "device = 'cpu'"
   ]
  },
  {
   "cell_type": "code",
   "execution_count": 9,
   "id": "52355c13-b95e-494b-9fa3-ecd33f246334",
   "metadata": {},
   "outputs": [],
   "source": [
    "x = np.array(x_train)\n",
    "y = np.array(y_train)\n",
    "\n",
    "x_test = np.array(x_test)\n",
    "y_test = np.array(y_test)"
   ]
  },
  {
   "cell_type": "code",
   "execution_count": 10,
   "id": "0cc0c84b-1425-43b8-acbc-1381e516ee9e",
   "metadata": {},
   "outputs": [
    {
     "name": "stdout",
     "output_type": "stream",
     "text": [
      "0.5306451612903226\n",
      "8.657894736842104\n"
     ]
    }
   ],
   "source": [
    "alive = len(y[y==0])\n",
    "mortality = len(y[y==1])\n",
    "total = len(y)\n",
    "weight_0 = (1/alive)*(total)/2.0\n",
    "weight_1 = (1/mortality)*(total)/2.0\n",
    "print(weight_0)\n",
    "print(weight_1)"
   ]
  },
  {
   "cell_type": "markdown",
   "id": "b534b4c9-8c98-440d-be4b-9ac8c4822957",
   "metadata": {},
   "source": [
    "### Model : TabNet with Optuna"
   ]
  },
  {
   "cell_type": "code",
   "execution_count": 11,
   "id": "491d5e45-b561-45d6-abec-1635648c0ca1",
   "metadata": {},
   "outputs": [],
   "source": [
    "from pytorch_tabnet.tab_model import TabNetClassifier\n",
    "import optuna\n",
    "from optuna import Trial, visualization\n",
    "from sklearn.model_selection import StratifiedKFold"
   ]
  },
  {
   "cell_type": "code",
   "execution_count": 12,
   "id": "46938780-ae73-4591-b9d2-d7e4d5685af7",
   "metadata": {},
   "outputs": [],
   "source": [
    "def Objective(trial):\n",
    "    mask_type     = trial.suggest_categorical(\"mask_type\", [\"entmax\", \"sparsemax\"])\n",
    "    n_da          = trial.suggest_int(\"n_da\", 20, 64, step=4)\n",
    "    n_steps       = trial.suggest_int(\"n_steps\", 4, 10, step=3)\n",
    "    gamma         = trial.suggest_float(\"gamma\", 1.0, 2.0, step=0.1)\n",
    "    n_shared      = trial.suggest_int(\"n_shared\", 1, 5, step=1)\n",
    "    lambda_sparse = trial.suggest_float(\"lambda_sparse\", 1e-6, 1e-3, log=True)\n",
    "    sc_gamma      = trial.suggest_float(\"sc_gamma\", 0.5, 2.0, step=0.1)\n",
    "    sc_steps      = trial.suggest_int(\"sc_steps\", 10, 50, step=10)\n",
    "    tabnet_params = dict(cat_idxs         = cat_idx,\n",
    "                         cat_dims         = cat_dim,\n",
    "                         n_d              = n_da,\n",
    "                         n_a              = n_da,\n",
    "                         n_steps          = n_steps,\n",
    "                         gamma            = gamma,\n",
    "                         lambda_sparse    = lambda_sparse, optimizer_fn=torch.optim.Adam,\n",
    "                         optimizer_params = dict(lr=2e-2, weight_decay=1e-5),\n",
    "                         mask_type        = mask_type,\n",
    "                         n_shared         = n_shared,\n",
    "                         scheduler_params = dict(gamma=sc_gamma, step_size=sc_steps),\n",
    "                         scheduler_fn     = torch.optim.lr_scheduler.StepLR,\n",
    "                         verbose=0,\n",
    "                         ) #early stopping\n",
    "    kf = StratifiedKFold(n_splits=5, random_state=42, shuffle=True)\n",
    "    CV_score_array = []\n",
    "    for train_index, test_index in kf.split(x, y):\n",
    "        x_train, x_valid       = x[train_index], x[test_index]\n",
    "        y_train, y_valid       = y[train_index], y[test_index]\n",
    "        tabnet                 = TabNetClassifier(**tabnet_params)\n",
    "        tabnet.fit(X_train     = x_train,\n",
    "                   y_train     = y_train,\n",
    "                   eval_set    = [(x_valid, y_valid)],\n",
    "                   patience    = trial.suggest_int(\"patience\",low=15,high=30),\n",
    "                   max_epochs  = trial.suggest_int('epochs', 1, 100),\n",
    "                   eval_metric = ['accuracy'],\n",
    "                   weights     = {0:weight_0, 1:weight_1})\n",
    "        CV_score_array.append(tabnet.best_cost)\n",
    "    avg = np.mean(CV_score_array)\n",
    "    return avg"
   ]
  },
  {
   "cell_type": "code",
   "execution_count": null,
   "id": "a1f3bf83-39c3-46ee-b309-ee65ace3c0ed",
   "metadata": {},
   "outputs": [
    {
     "name": "stderr",
     "output_type": "stream",
     "text": [
      "\u001b[32m[I 2022-05-12 08:34:03,415]\u001b[0m A new study created in memory with name: TabNet optimization\u001b[0m\n"
     ]
    },
    {
     "name": "stdout",
     "output_type": "stream",
     "text": [
      "\n",
      "Early stopping occurred at epoch 24 with best_epoch = 4 and best_val_0_accuracy = 0.91044\n",
      "Best weights from best epoch are automatically used!\n",
      "\n",
      "Early stopping occurred at epoch 22 with best_epoch = 2 and best_val_0_accuracy = 0.94162\n",
      "Best weights from best epoch are automatically used!\n",
      "\n",
      "Early stopping occurred at epoch 23 with best_epoch = 3 and best_val_0_accuracy = 0.9188\n",
      "Best weights from best epoch are automatically used!\n",
      "\n",
      "Early stopping occurred at epoch 28 with best_epoch = 8 and best_val_0_accuracy = 0.9112\n",
      "Best weights from best epoch are automatically used!\n",
      "\n",
      "Early stopping occurred at epoch 53 with best_epoch = 33 and best_val_0_accuracy = 0.9444\n",
      "Best weights from best epoch are automatically used!\n"
     ]
    },
    {
     "name": "stderr",
     "output_type": "stream",
     "text": [
      "\u001b[32m[I 2022-05-12 08:38:49,412]\u001b[0m Trial 0 finished with value: 0.9252918352658936 and parameters: {'mask_type': 'entmax', 'n_da': 60, 'n_steps': 10, 'gamma': 1.7000000000000002, 'n_shared': 1, 'lambda_sparse': 0.0002679998630428393, 'sc_gamma': 1.9000000000000001, 'sc_steps': 50, 'patience': 20, 'epochs': 67}. Best is trial 0 with value: 0.9252918352658936.\u001b[0m\n"
     ]
    },
    {
     "name": "stdout",
     "output_type": "stream",
     "text": [
      "Stop training because you reached max_epochs = 42 with best_epoch = 21 and best_val_0_accuracy = 0.92443\n",
      "Best weights from best epoch are automatically used!\n",
      "\n",
      "Early stopping occurred at epoch 34 with best_epoch = 12 and best_val_0_accuracy = 0.93882\n",
      "Best weights from best epoch are automatically used!\n",
      "Stop training because you reached max_epochs = 42 with best_epoch = 29 and best_val_0_accuracy = 0.9488\n",
      "Best weights from best epoch are automatically used!\n",
      "\n",
      "Early stopping occurred at epoch 41 with best_epoch = 19 and best_val_0_accuracy = 0.952\n",
      "Best weights from best epoch are automatically used!\n",
      "Stop training because you reached max_epochs = 42 with best_epoch = 24 and best_val_0_accuracy = 0.948\n",
      "Best weights from best epoch are automatically used!\n"
     ]
    },
    {
     "name": "stderr",
     "output_type": "stream",
     "text": [
      "\u001b[32m[I 2022-05-12 08:45:42,278]\u001b[0m Trial 1 finished with value: 0.9424109396241503 and parameters: {'mask_type': 'entmax', 'n_da': 48, 'n_steps': 10, 'gamma': 1.0, 'n_shared': 2, 'lambda_sparse': 0.0003558485884585781, 'sc_gamma': 1.9000000000000001, 'sc_steps': 20, 'patience': 22, 'epochs': 42}. Best is trial 1 with value: 0.9424109396241503.\u001b[0m\n"
     ]
    },
    {
     "name": "stdout",
     "output_type": "stream",
     "text": [
      "Stop training because you reached max_epochs = 4 with best_epoch = 2 and best_val_0_accuracy = 0.10596\n",
      "Best weights from best epoch are automatically used!\n",
      "Stop training because you reached max_epochs = 4 with best_epoch = 2 and best_val_0_accuracy = 0.90364\n",
      "Best weights from best epoch are automatically used!\n",
      "Stop training because you reached max_epochs = 4 with best_epoch = 2 and best_val_0_accuracy = 0.4492\n",
      "Best weights from best epoch are automatically used!\n",
      "Stop training because you reached max_epochs = 4 with best_epoch = 2 and best_val_0_accuracy = 0.9404\n",
      "Best weights from best epoch are automatically used!\n",
      "Stop training because you reached max_epochs = 4 with best_epoch = 3 and best_val_0_accuracy = 0.642\n",
      "Best weights from best epoch are automatically used!\n"
     ]
    },
    {
     "name": "stderr",
     "output_type": "stream",
     "text": [
      "\u001b[32m[I 2022-05-12 08:46:36,853]\u001b[0m Trial 2 finished with value: 0.6082392323070771 and parameters: {'mask_type': 'entmax', 'n_da': 32, 'n_steps': 10, 'gamma': 2.0, 'n_shared': 4, 'lambda_sparse': 0.00025042677674997244, 'sc_gamma': 0.9, 'sc_steps': 20, 'patience': 22, 'epochs': 4}. Best is trial 1 with value: 0.9424109396241503.\u001b[0m\n"
     ]
    },
    {
     "name": "stdout",
     "output_type": "stream",
     "text": [
      "Stop training because you reached max_epochs = 9 with best_epoch = 4 and best_val_0_accuracy = 0.94922\n",
      "Best weights from best epoch are automatically used!\n",
      "Stop training because you reached max_epochs = 9 with best_epoch = 7 and best_val_0_accuracy = 0.93643\n",
      "Best weights from best epoch are automatically used!\n",
      "Stop training because you reached max_epochs = 9 with best_epoch = 4 and best_val_0_accuracy = 0.9148\n",
      "Best weights from best epoch are automatically used!\n",
      "Stop training because you reached max_epochs = 9 with best_epoch = 8 and best_val_0_accuracy = 0.8864\n",
      "Best weights from best epoch are automatically used!\n",
      "Stop training because you reached max_epochs = 9 with best_epoch = 8 and best_val_0_accuracy = 0.8632\n",
      "Best weights from best epoch are automatically used!\n"
     ]
    },
    {
     "name": "stderr",
     "output_type": "stream",
     "text": [
      "\u001b[32m[I 2022-05-12 08:47:44,853]\u001b[0m Trial 3 finished with value: 0.9100091483406636 and parameters: {'mask_type': 'entmax', 'n_da': 48, 'n_steps': 7, 'gamma': 1.5, 'n_shared': 1, 'lambda_sparse': 3.7114593026128867e-06, 'sc_gamma': 1.1, 'sc_steps': 10, 'patience': 27, 'epochs': 9}. Best is trial 1 with value: 0.9424109396241503.\u001b[0m\n"
     ]
    },
    {
     "name": "stdout",
     "output_type": "stream",
     "text": [
      "\n",
      "Early stopping occurred at epoch 19 with best_epoch = 3 and best_val_0_accuracy = 0.91084\n",
      "Best weights from best epoch are automatically used!\n",
      "\n",
      "Early stopping occurred at epoch 41 with best_epoch = 25 and best_val_0_accuracy = 0.94482\n",
      "Best weights from best epoch are automatically used!\n",
      "\n",
      "Early stopping occurred at epoch 22 with best_epoch = 6 and best_val_0_accuracy = 0.9044\n",
      "Best weights from best epoch are automatically used!\n",
      "\n",
      "Early stopping occurred at epoch 21 with best_epoch = 5 and best_val_0_accuracy = 0.9324\n",
      "Best weights from best epoch are automatically used!\n",
      "\n",
      "Early stopping occurred at epoch 22 with best_epoch = 6 and best_val_0_accuracy = 0.9008\n",
      "Best weights from best epoch are automatically used!\n"
     ]
    },
    {
     "name": "stderr",
     "output_type": "stream",
     "text": [
      "\u001b[32m[I 2022-05-12 08:50:18,292]\u001b[0m Trial 4 finished with value: 0.9186515473810475 and parameters: {'mask_type': 'sparsemax', 'n_da': 36, 'n_steps': 4, 'gamma': 1.8, 'n_shared': 2, 'lambda_sparse': 0.0004316064996178283, 'sc_gamma': 1.0, 'sc_steps': 40, 'patience': 16, 'epochs': 61}. Best is trial 1 with value: 0.9424109396241503.\u001b[0m\n"
     ]
    },
    {
     "name": "stdout",
     "output_type": "stream",
     "text": [
      "\n",
      "Early stopping occurred at epoch 28 with best_epoch = 3 and best_val_0_accuracy = 0.92443\n",
      "Best weights from best epoch are automatically used!\n",
      "\n",
      "Early stopping occurred at epoch 55 with best_epoch = 30 and best_val_0_accuracy = 0.94722\n",
      "Best weights from best epoch are automatically used!\n",
      "\n",
      "Early stopping occurred at epoch 35 with best_epoch = 10 and best_val_0_accuracy = 0.888\n",
      "Best weights from best epoch are automatically used!\n",
      "Stop training because you reached max_epochs = 67 with best_epoch = 64 and best_val_0_accuracy = 0.9472\n",
      "Best weights from best epoch are automatically used!\n",
      "\n",
      "Early stopping occurred at epoch 28 with best_epoch = 3 and best_val_0_accuracy = 0.9132\n",
      "Best weights from best epoch are automatically used!\n"
     ]
    },
    {
     "name": "stderr",
     "output_type": "stream",
     "text": [
      "\u001b[32m[I 2022-05-12 08:56:06,910]\u001b[0m Trial 5 finished with value: 0.9240102678928428 and parameters: {'mask_type': 'entmax', 'n_da': 20, 'n_steps': 7, 'gamma': 1.8, 'n_shared': 2, 'lambda_sparse': 4.035518896148051e-06, 'sc_gamma': 1.3, 'sc_steps': 40, 'patience': 25, 'epochs': 67}. Best is trial 1 with value: 0.9424109396241503.\u001b[0m\n"
     ]
    },
    {
     "name": "stdout",
     "output_type": "stream",
     "text": [
      "Stop training because you reached max_epochs = 70 with best_epoch = 64 and best_val_0_accuracy = 0.95562\n",
      "Best weights from best epoch are automatically used!\n",
      "Stop training because you reached max_epochs = 70 with best_epoch = 68 and best_val_0_accuracy = 0.95282\n",
      "Best weights from best epoch are automatically used!\n",
      "Stop training because you reached max_epochs = 70 with best_epoch = 54 and best_val_0_accuracy = 0.9596\n",
      "Best weights from best epoch are automatically used!\n",
      "Stop training because you reached max_epochs = 70 with best_epoch = 65 and best_val_0_accuracy = 0.958\n",
      "Best weights from best epoch are automatically used!\n",
      "Stop training because you reached max_epochs = 70 with best_epoch = 64 and best_val_0_accuracy = 0.9588\n",
      "Best weights from best epoch are automatically used!\n"
     ]
    },
    {
     "name": "stderr",
     "output_type": "stream",
     "text": [
      "\u001b[32m[I 2022-05-12 09:03:38,811]\u001b[0m Trial 6 finished with value: 0.9569673250699721 and parameters: {'mask_type': 'sparsemax', 'n_da': 64, 'n_steps': 4, 'gamma': 1.0, 'n_shared': 3, 'lambda_sparse': 0.00013018775711877596, 'sc_gamma': 0.7, 'sc_steps': 50, 'patience': 29, 'epochs': 70}. Best is trial 6 with value: 0.9569673250699721.\u001b[0m\n"
     ]
    },
    {
     "name": "stdout",
     "output_type": "stream",
     "text": [
      "Stop training because you reached max_epochs = 20 with best_epoch = 7 and best_val_0_accuracy = 0.93483\n",
      "Best weights from best epoch are automatically used!\n",
      "Stop training because you reached max_epochs = 20 with best_epoch = 10 and best_val_0_accuracy = 0.89604\n",
      "Best weights from best epoch are automatically used!\n",
      "Stop training because you reached max_epochs = 20 with best_epoch = 1 and best_val_0_accuracy = 0.8968\n",
      "Best weights from best epoch are automatically used!\n",
      "Stop training because you reached max_epochs = 20 with best_epoch = 7 and best_val_0_accuracy = 0.8988\n",
      "Best weights from best epoch are automatically used!\n",
      "Stop training because you reached max_epochs = 20 with best_epoch = 15 and best_val_0_accuracy = 0.8756\n",
      "Best weights from best epoch are automatically used!\n"
     ]
    },
    {
     "name": "stderr",
     "output_type": "stream",
     "text": [
      "\u001b[32m[I 2022-05-12 09:06:41,794]\u001b[0m Trial 7 finished with value: 0.9004135305877649 and parameters: {'mask_type': 'sparsemax', 'n_da': 56, 'n_steps': 7, 'gamma': 1.2, 'n_shared': 3, 'lambda_sparse': 1.137518917894612e-06, 'sc_gamma': 1.3, 'sc_steps': 40, 'patience': 23, 'epochs': 20}. Best is trial 6 with value: 0.9569673250699721.\u001b[0m\n"
     ]
    },
    {
     "name": "stdout",
     "output_type": "stream",
     "text": [
      "Stop training because you reached max_epochs = 5 with best_epoch = 4 and best_val_0_accuracy = 0.88485\n",
      "Best weights from best epoch are automatically used!\n",
      "Stop training because you reached max_epochs = 5 with best_epoch = 2 and best_val_0_accuracy = 0.87205\n",
      "Best weights from best epoch are automatically used!\n",
      "Stop training because you reached max_epochs = 5 with best_epoch = 3 and best_val_0_accuracy = 0.8608\n",
      "Best weights from best epoch are automatically used!\n",
      "Stop training because you reached max_epochs = 5 with best_epoch = 3 and best_val_0_accuracy = 0.926\n",
      "Best weights from best epoch are automatically used!\n",
      "Stop training because you reached max_epochs = 5 with best_epoch = 2 and best_val_0_accuracy = 0.8768\n",
      "Best weights from best epoch are automatically used!\n"
     ]
    },
    {
     "name": "stderr",
     "output_type": "stream",
     "text": [
      "\u001b[32m[I 2022-05-12 09:07:25,843]\u001b[0m Trial 8 finished with value: 0.8840994482207117 and parameters: {'mask_type': 'entmax', 'n_da': 52, 'n_steps': 7, 'gamma': 1.7000000000000002, 'n_shared': 2, 'lambda_sparse': 3.8931568658443e-05, 'sc_gamma': 1.0, 'sc_steps': 20, 'patience': 22, 'epochs': 5}. Best is trial 6 with value: 0.9569673250699721.\u001b[0m\n"
     ]
    },
    {
     "name": "stdout",
     "output_type": "stream",
     "text": [
      "Stop training because you reached max_epochs = 98 with best_epoch = 82 and best_val_0_accuracy = 0.92363\n",
      "Best weights from best epoch are automatically used!\n",
      "\n",
      "Early stopping occurred at epoch 35 with best_epoch = 8 and best_val_0_accuracy = 0.88605\n",
      "Best weights from best epoch are automatically used!\n",
      "\n",
      "Early stopping occurred at epoch 34 with best_epoch = 7 and best_val_0_accuracy = 0.9424\n",
      "Best weights from best epoch are automatically used!\n",
      "\n",
      "Early stopping occurred at epoch 31 with best_epoch = 4 and best_val_0_accuracy = 0.924\n",
      "Best weights from best epoch are automatically used!\n",
      "\n",
      "Early stopping occurred at epoch 34 with best_epoch = 7 and best_val_0_accuracy = 0.88\n",
      "Best weights from best epoch are automatically used!\n"
     ]
    },
    {
     "name": "stderr",
     "output_type": "stream",
     "text": [
      "\u001b[32m[I 2022-05-12 09:14:26,959]\u001b[0m Trial 9 finished with value: 0.9112152259096362 and parameters: {'mask_type': 'sparsemax', 'n_da': 28, 'n_steps': 10, 'gamma': 1.7000000000000002, 'n_shared': 1, 'lambda_sparse': 8.976285854180885e-05, 'sc_gamma': 1.1, 'sc_steps': 30, 'patience': 27, 'epochs': 98}. Best is trial 6 with value: 0.9569673250699721.\u001b[0m\n"
     ]
    },
    {
     "name": "stdout",
     "output_type": "stream",
     "text": [
      "Stop training because you reached max_epochs = 93 with best_epoch = 80 and best_val_0_accuracy = 0.95282\n",
      "Best weights from best epoch are automatically used!\n",
      "Stop training because you reached max_epochs = 93 with best_epoch = 87 and best_val_0_accuracy = 0.95482\n",
      "Best weights from best epoch are automatically used!\n",
      "\n",
      "Early stopping occurred at epoch 67 with best_epoch = 37 and best_val_0_accuracy = 0.956\n",
      "Best weights from best epoch are automatically used!\n",
      "\n",
      "Early stopping occurred at epoch 34 with best_epoch = 4 and best_val_0_accuracy = 0.9396\n",
      "Best weights from best epoch are automatically used!\n",
      "Stop training because you reached max_epochs = 93 with best_epoch = 75 and best_val_0_accuracy = 0.9568\n",
      "Best weights from best epoch are automatically used!\n"
     ]
    },
    {
     "name": "stderr",
     "output_type": "stream",
     "text": [
      "\u001b[32m[I 2022-05-12 09:24:07,488]\u001b[0m Trial 10 finished with value: 0.9520073890443822 and parameters: {'mask_type': 'sparsemax', 'n_da': 64, 'n_steps': 4, 'gamma': 1.3, 'n_shared': 5, 'lambda_sparse': 1.813880572510568e-05, 'sc_gamma': 0.5, 'sc_steps': 50, 'patience': 30, 'epochs': 93}. Best is trial 6 with value: 0.9569673250699721.\u001b[0m\n"
     ]
    },
    {
     "name": "stdout",
     "output_type": "stream",
     "text": [
      "\n",
      "Early stopping occurred at epoch 53 with best_epoch = 23 and best_val_0_accuracy = 0.94962\n",
      "Best weights from best epoch are automatically used!\n",
      "Stop training because you reached max_epochs = 93 with best_epoch = 88 and best_val_0_accuracy = 0.95762\n",
      "Best weights from best epoch are automatically used!\n",
      "Stop training because you reached max_epochs = 93 with best_epoch = 81 and best_val_0_accuracy = 0.9576\n",
      "Best weights from best epoch are automatically used!\n",
      "Stop training because you reached max_epochs = 93 with best_epoch = 91 and best_val_0_accuracy = 0.958\n",
      "Best weights from best epoch are automatically used!\n",
      "Stop training because you reached max_epochs = 93 with best_epoch = 74 and best_val_0_accuracy = 0.956\n",
      "Best weights from best epoch are automatically used!\n"
     ]
    },
    {
     "name": "stderr",
     "output_type": "stream",
     "text": [
      "\u001b[32m[I 2022-05-12 09:34:49,074]\u001b[0m Trial 11 finished with value: 0.9557674210315874 and parameters: {'mask_type': 'sparsemax', 'n_da': 64, 'n_steps': 4, 'gamma': 1.2, 'n_shared': 5, 'lambda_sparse': 1.493203877853479e-05, 'sc_gamma': 0.5, 'sc_steps': 50, 'patience': 30, 'epochs': 93}. Best is trial 6 with value: 0.9569673250699721.\u001b[0m\n"
     ]
    },
    {
     "name": "stdout",
     "output_type": "stream",
     "text": [
      "\n",
      "Early stopping occurred at epoch 47 with best_epoch = 17 and best_val_0_accuracy = 0.94242\n",
      "Best weights from best epoch are automatically used!\n",
      "\n",
      "Early stopping occurred at epoch 82 with best_epoch = 52 and best_val_0_accuracy = 0.95042\n",
      "Best weights from best epoch are automatically used!\n",
      "Stop training because you reached max_epochs = 84 with best_epoch = 63 and best_val_0_accuracy = 0.9612\n",
      "Best weights from best epoch are automatically used!\n",
      "Stop training because you reached max_epochs = 84 with best_epoch = 83 and best_val_0_accuracy = 0.9584\n",
      "Best weights from best epoch are automatically used!\n",
      "Stop training because you reached max_epochs = 84 with best_epoch = 82 and best_val_0_accuracy = 0.952\n",
      "Best weights from best epoch are automatically used!\n"
     ]
    },
    {
     "name": "stderr",
     "output_type": "stream",
     "text": [
      "\u001b[32m[I 2022-05-12 09:44:27,612]\u001b[0m Trial 12 finished with value: 0.9528885725709717 and parameters: {'mask_type': 'sparsemax', 'n_da': 64, 'n_steps': 4, 'gamma': 1.0, 'n_shared': 5, 'lambda_sparse': 1.7822932936410078e-05, 'sc_gamma': 0.5, 'sc_steps': 50, 'patience': 30, 'epochs': 84}. Best is trial 6 with value: 0.9569673250699721.\u001b[0m\n"
     ]
    },
    {
     "name": "stdout",
     "output_type": "stream",
     "text": [
      "Stop training because you reached max_epochs = 83 with best_epoch = 66 and best_val_0_accuracy = 0.94962\n",
      "Best weights from best epoch are automatically used!\n",
      "\n",
      "Early stopping occurred at epoch 36 with best_epoch = 8 and best_val_0_accuracy = 0.90444\n",
      "Best weights from best epoch are automatically used!\n",
      "Stop training because you reached max_epochs = 83 with best_epoch = 81 and best_val_0_accuracy = 0.9552\n",
      "Best weights from best epoch are automatically used!\n",
      "Stop training because you reached max_epochs = 83 with best_epoch = 80 and best_val_0_accuracy = 0.956\n",
      "Best weights from best epoch are automatically used!\n",
      "Stop training because you reached max_epochs = 83 with best_epoch = 77 and best_val_0_accuracy = 0.9548\n",
      "Best weights from best epoch are automatically used!\n"
     ]
    },
    {
     "name": "stderr",
     "output_type": "stream",
     "text": [
      "\u001b[32m[I 2022-05-12 09:53:02,760]\u001b[0m Trial 13 finished with value: 0.944011675329868 and parameters: {'mask_type': 'sparsemax', 'n_da': 44, 'n_steps': 4, 'gamma': 1.2, 'n_shared': 4, 'lambda_sparse': 6.515896021898107e-05, 'sc_gamma': 0.7, 'sc_steps': 50, 'patience': 28, 'epochs': 83}. Best is trial 6 with value: 0.9569673250699721.\u001b[0m\n"
     ]
    },
    {
     "name": "stdout",
     "output_type": "stream",
     "text": [
      "Stop training because you reached max_epochs = 43 with best_epoch = 24 and best_val_0_accuracy = 0.93962\n",
      "Best weights from best epoch are automatically used!\n",
      "Stop training because you reached max_epochs = 43 with best_epoch = 42 and best_val_0_accuracy = 0.94322\n",
      "Best weights from best epoch are automatically used!\n",
      "Stop training because you reached max_epochs = 43 with best_epoch = 40 and best_val_0_accuracy = 0.9472\n",
      "Best weights from best epoch are automatically used!\n",
      "Stop training because you reached max_epochs = 43 with best_epoch = 39 and best_val_0_accuracy = 0.944\n",
      "Best weights from best epoch are automatically used!\n",
      "Stop training because you reached max_epochs = 43 with best_epoch = 42 and best_val_0_accuracy = 0.9388\n",
      "Best weights from best epoch are automatically used!\n"
     ]
    },
    {
     "name": "stderr",
     "output_type": "stream",
     "text": [
      "\u001b[32m[I 2022-05-12 09:58:05,998]\u001b[0m Trial 14 finished with value: 0.9425693722510996 and parameters: {'mask_type': 'sparsemax', 'n_da': 56, 'n_steps': 4, 'gamma': 1.4, 'n_shared': 4, 'lambda_sparse': 7.539023463901812e-06, 'sc_gamma': 0.7, 'sc_steps': 40, 'patience': 29, 'epochs': 43}. Best is trial 6 with value: 0.9569673250699721.\u001b[0m\n"
     ]
    },
    {
     "name": "stdout",
     "output_type": "stream",
     "text": [
      "\n",
      "Early stopping occurred at epoch 52 with best_epoch = 27 and best_val_0_accuracy = 0.95002\n",
      "Best weights from best epoch are automatically used!\n",
      "\n",
      "Early stopping occurred at epoch 51 with best_epoch = 26 and best_val_0_accuracy = 0.94922\n",
      "Best weights from best epoch are automatically used!\n",
      "\n",
      "Early stopping occurred at epoch 57 with best_epoch = 32 and best_val_0_accuracy = 0.9504\n",
      "Best weights from best epoch are automatically used!\n",
      "Stop training because you reached max_epochs = 80 with best_epoch = 55 and best_val_0_accuracy = 0.9592\n",
      "Best weights from best epoch are automatically used!\n",
      "Stop training because you reached max_epochs = 80 with best_epoch = 59 and best_val_0_accuracy = 0.952\n",
      "Best weights from best epoch are automatically used!\n"
     ]
    },
    {
     "name": "stderr",
     "output_type": "stream",
     "text": [
      "\u001b[32m[I 2022-05-12 10:04:59,486]\u001b[0m Trial 15 finished with value: 0.9521680607756897 and parameters: {'mask_type': 'sparsemax', 'n_da': 64, 'n_steps': 4, 'gamma': 1.1, 'n_shared': 3, 'lambda_sparse': 0.00010387577242730729, 'sc_gamma': 1.5, 'sc_steps': 30, 'patience': 25, 'epochs': 80}. Best is trial 6 with value: 0.9569673250699721.\u001b[0m\n"
     ]
    },
    {
     "name": "stdout",
     "output_type": "stream",
     "text": [
      "Stop training because you reached max_epochs = 56 with best_epoch = 54 and best_val_0_accuracy = 0.94322\n",
      "Best weights from best epoch are automatically used!\n",
      "\n",
      "Early stopping occurred at epoch 19 with best_epoch = 3 and best_val_0_accuracy = 0.89444\n",
      "Best weights from best epoch are automatically used!\n",
      "\n",
      "Early stopping occurred at epoch 31 with best_epoch = 15 and best_val_0_accuracy = 0.9468\n",
      "Best weights from best epoch are automatically used!\n",
      "Stop training because you reached max_epochs = 56 with best_epoch = 50 and best_val_0_accuracy = 0.9464\n",
      "Best weights from best epoch are automatically used!\n",
      "Stop training because you reached max_epochs = 56 with best_epoch = 55 and best_val_0_accuracy = 0.9496\n",
      "Best weights from best epoch are automatically used!\n"
     ]
    },
    {
     "name": "stderr",
     "output_type": "stream",
     "text": [
      "\u001b[32m[I 2022-05-12 10:10:05,983]\u001b[0m Trial 16 finished with value: 0.9360929868052779 and parameters: {'mask_type': 'sparsemax', 'n_da': 56, 'n_steps': 4, 'gamma': 1.2, 'n_shared': 4, 'lambda_sparse': 1.4990163810163727e-05, 'sc_gamma': 0.7, 'sc_steps': 50, 'patience': 16, 'epochs': 56}. Best is trial 6 with value: 0.9569673250699721.\u001b[0m\n"
     ]
    },
    {
     "name": "stdout",
     "output_type": "stream",
     "text": [
      "\n",
      "Early stopping occurred at epoch 36 with best_epoch = 11 and best_val_0_accuracy = 0.94522\n",
      "Best weights from best epoch are automatically used!\n",
      "\n",
      "Early stopping occurred at epoch 29 with best_epoch = 4 and best_val_0_accuracy = 0.94082\n",
      "Best weights from best epoch are automatically used!\n",
      "\n",
      "Early stopping occurred at epoch 31 with best_epoch = 6 and best_val_0_accuracy = 0.9516\n",
      "Best weights from best epoch are automatically used!\n",
      "\n",
      "Early stopping occurred at epoch 26 with best_epoch = 1 and best_val_0_accuracy = 0.9032\n",
      "Best weights from best epoch are automatically used!\n",
      "\n",
      "Early stopping occurred at epoch 27 with best_epoch = 2 and best_val_0_accuracy = 0.93\n",
      "Best weights from best epoch are automatically used!\n"
     ]
    },
    {
     "name": "stderr",
     "output_type": "stream",
     "text": [
      "\u001b[32m[I 2022-05-12 10:15:32,651]\u001b[0m Trial 17 finished with value: 0.9341691163534586 and parameters: {'mask_type': 'sparsemax', 'n_da': 44, 'n_steps': 7, 'gamma': 1.0, 'n_shared': 5, 'lambda_sparse': 0.00013422819673471748, 'sc_gamma': 0.5, 'sc_steps': 40, 'patience': 25, 'epochs': 72}. Best is trial 6 with value: 0.9569673250699721.\u001b[0m\n"
     ]
    },
    {
     "name": "stdout",
     "output_type": "stream",
     "text": [
      "Stop training because you reached max_epochs = 47 with best_epoch = 43 and best_val_0_accuracy = 0.95122\n",
      "Best weights from best epoch are automatically used!\n",
      "Stop training because you reached max_epochs = 47 with best_epoch = 40 and best_val_0_accuracy = 0.91363\n",
      "Best weights from best epoch are automatically used!\n",
      "Stop training because you reached max_epochs = 47 with best_epoch = 30 and best_val_0_accuracy = 0.9504\n",
      "Best weights from best epoch are automatically used!\n",
      "\n",
      "Early stopping occurred at epoch 21 with best_epoch = 2 and best_val_0_accuracy = 0.9296\n",
      "Best weights from best epoch are automatically used!\n",
      "Stop training because you reached max_epochs = 47 with best_epoch = 29 and best_val_0_accuracy = 0.9524\n",
      "Best weights from best epoch are automatically used!\n"
     ]
    },
    {
     "name": "stderr",
     "output_type": "stream",
     "text": [
      "\u001b[32m[I 2022-05-12 10:20:04,377]\u001b[0m Trial 18 finished with value: 0.9394508116753298 and parameters: {'mask_type': 'sparsemax', 'n_da': 60, 'n_steps': 4, 'gamma': 1.4, 'n_shared': 3, 'lambda_sparse': 4.017912681593677e-05, 'sc_gamma': 1.6, 'sc_steps': 30, 'patience': 19, 'epochs': 47}. Best is trial 6 with value: 0.9569673250699721.\u001b[0m\n"
     ]
    },
    {
     "name": "stdout",
     "output_type": "stream",
     "text": [
      "Stop training because you reached max_epochs = 31 with best_epoch = 8 and best_val_0_accuracy = 0.94962\n",
      "Best weights from best epoch are automatically used!\n",
      "Stop training because you reached max_epochs = 31 with best_epoch = 29 and best_val_0_accuracy = 0.93443\n",
      "Best weights from best epoch are automatically used!\n",
      "Stop training because you reached max_epochs = 31 with best_epoch = 26 and best_val_0_accuracy = 0.93\n",
      "Best weights from best epoch are automatically used!\n",
      "Stop training because you reached max_epochs = 31 with best_epoch = 30 and best_val_0_accuracy = 0.9392\n",
      "Best weights from best epoch are automatically used!\n",
      "Stop training because you reached max_epochs = 31 with best_epoch = 28 and best_val_0_accuracy = 0.942\n",
      "Best weights from best epoch are automatically used!\n"
     ]
    },
    {
     "name": "stderr",
     "output_type": "stream",
     "text": [
      "\u001b[32m[I 2022-05-12 10:23:42,071]\u001b[0m Trial 19 finished with value: 0.9390492762894842 and parameters: {'mask_type': 'sparsemax', 'n_da': 36, 'n_steps': 4, 'gamma': 1.1, 'n_shared': 4, 'lambda_sparse': 0.0006584389078845956, 'sc_gamma': 0.8, 'sc_steps': 50, 'patience': 28, 'epochs': 31}. Best is trial 6 with value: 0.9569673250699721.\u001b[0m\n"
     ]
    },
    {
     "name": "stdout",
     "output_type": "stream",
     "text": [
      "\n",
      "Early stopping occurred at epoch 43 with best_epoch = 17 and best_val_0_accuracy = 0.94442\n",
      "Best weights from best epoch are automatically used!\n",
      "\n",
      "Early stopping occurred at epoch 32 with best_epoch = 6 and best_val_0_accuracy = 0.89564\n",
      "Best weights from best epoch are automatically used!\n",
      "\n",
      "Early stopping occurred at epoch 30 with best_epoch = 4 and best_val_0_accuracy = 0.9424\n",
      "Best weights from best epoch are automatically used!\n",
      "Stop training because you reached max_epochs = 89 with best_epoch = 83 and best_val_0_accuracy = 0.9324\n",
      "Best weights from best epoch are automatically used!\n",
      "\n",
      "Early stopping occurred at epoch 30 with best_epoch = 4 and best_val_0_accuracy = 0.9396\n",
      "Best weights from best epoch are automatically used!\n"
     ]
    },
    {
     "name": "stderr",
     "output_type": "stream",
     "text": [
      "\u001b[32m[I 2022-05-12 10:30:28,380]\u001b[0m Trial 20 finished with value: 0.9308927948820471 and parameters: {'mask_type': 'sparsemax', 'n_da': 52, 'n_steps': 7, 'gamma': 1.4, 'n_shared': 3, 'lambda_sparse': 1.5167633533484858e-06, 'sc_gamma': 0.6, 'sc_steps': 10, 'patience': 26, 'epochs': 89}. Best is trial 6 with value: 0.9569673250699721.\u001b[0m\n"
     ]
    },
    {
     "name": "stdout",
     "output_type": "stream",
     "text": [
      "Stop training because you reached max_epochs = 78 with best_epoch = 73 and best_val_0_accuracy = 0.95282\n",
      "Best weights from best epoch are automatically used!\n",
      "\n",
      "Early stopping occurred at epoch 43 with best_epoch = 13 and best_val_0_accuracy = 0.94562\n",
      "Best weights from best epoch are automatically used!\n",
      "Stop training because you reached max_epochs = 78 with best_epoch = 74 and best_val_0_accuracy = 0.952\n",
      "Best weights from best epoch are automatically used!\n",
      "\n",
      "Early stopping occurred at epoch 61 with best_epoch = 31 and best_val_0_accuracy = 0.9588\n",
      "Best weights from best epoch are automatically used!\n",
      "\n",
      "Early stopping occurred at epoch 46 with best_epoch = 16 and best_val_0_accuracy = 0.952\n",
      "Best weights from best epoch are automatically used!\n"
     ]
    },
    {
     "name": "stderr",
     "output_type": "stream",
     "text": [
      "\u001b[32m[I 2022-05-12 10:38:23,078]\u001b[0m Trial 21 finished with value: 0.9522481247501 and parameters: {'mask_type': 'sparsemax', 'n_da': 64, 'n_steps': 4, 'gamma': 1.0, 'n_shared': 5, 'lambda_sparse': 1.717301429038928e-05, 'sc_gamma': 0.5, 'sc_steps': 50, 'patience': 30, 'epochs': 78}. Best is trial 6 with value: 0.9569673250699721.\u001b[0m\n"
     ]
    },
    {
     "name": "stdout",
     "output_type": "stream",
     "text": [
      "Stop training because you reached max_epochs = 87 with best_epoch = 61 and best_val_0_accuracy = 0.95402\n",
      "Best weights from best epoch are automatically used!\n",
      "Stop training because you reached max_epochs = 87 with best_epoch = 72 and best_val_0_accuracy = 0.95402\n",
      "Best weights from best epoch are automatically used!\n",
      "Stop training because you reached max_epochs = 87 with best_epoch = 66 and best_val_0_accuracy = 0.9588\n",
      "Best weights from best epoch are automatically used!\n",
      "\n",
      "Early stopping occurred at epoch 59 with best_epoch = 29 and best_val_0_accuracy = 0.9428\n",
      "Best weights from best epoch are automatically used!\n",
      "Stop training because you reached max_epochs = 87 with best_epoch = 76 and best_val_0_accuracy = 0.956\n",
      "Best weights from best epoch are automatically used!\n"
     ]
    },
    {
     "name": "stderr",
     "output_type": "stream",
     "text": [
      "\u001b[32m[I 2022-05-12 10:48:49,585]\u001b[0m Trial 22 finished with value: 0.9531273570571772 and parameters: {'mask_type': 'sparsemax', 'n_da': 60, 'n_steps': 4, 'gamma': 1.1, 'n_shared': 5, 'lambda_sparse': 8.982938219637528e-06, 'sc_gamma': 0.8, 'sc_steps': 50, 'patience': 30, 'epochs': 87}. Best is trial 6 with value: 0.9569673250699721.\u001b[0m\n"
     ]
    },
    {
     "name": "stdout",
     "output_type": "stream",
     "text": [
      "\n",
      "Early stopping occurred at epoch 40 with best_epoch = 12 and best_val_0_accuracy = 0.94922\n",
      "Best weights from best epoch are automatically used!\n",
      "Stop training because you reached max_epochs = 98 with best_epoch = 97 and best_val_0_accuracy = 0.95722\n",
      "Best weights from best epoch are automatically used!\n",
      "Stop training because you reached max_epochs = 98 with best_epoch = 83 and best_val_0_accuracy = 0.9592\n",
      "Best weights from best epoch are automatically used!\n",
      "Stop training because you reached max_epochs = 98 with best_epoch = 72 and best_val_0_accuracy = 0.9624\n",
      "Best weights from best epoch are automatically used!\n",
      "\n",
      "Early stopping occurred at epoch 77 with best_epoch = 49 and best_val_0_accuracy = 0.9524\n",
      "Best weights from best epoch are automatically used!\n"
     ]
    },
    {
     "name": "stderr",
     "output_type": "stream",
     "text": [
      "\u001b[32m[I 2022-05-12 10:59:24,438]\u001b[0m Trial 23 finished with value: 0.9560874850059976 and parameters: {'mask_type': 'sparsemax', 'n_da': 60, 'n_steps': 4, 'gamma': 1.1, 'n_shared': 5, 'lambda_sparse': 6.932055487659952e-06, 'sc_gamma': 0.9, 'sc_steps': 40, 'patience': 28, 'epochs': 98}. Best is trial 6 with value: 0.9569673250699721.\u001b[0m\n"
     ]
    },
    {
     "name": "stdout",
     "output_type": "stream",
     "text": [
      "Stop training because you reached max_epochs = 100 with best_epoch = 99 and best_val_0_accuracy = 0.95402\n",
      "Best weights from best epoch are automatically used!\n",
      "\n",
      "Early stopping occurred at epoch 30 with best_epoch = 2 and best_val_0_accuracy = 0.94202\n",
      "Best weights from best epoch are automatically used!\n",
      "\n",
      "Early stopping occurred at epoch 75 with best_epoch = 47 and best_val_0_accuracy = 0.9536\n",
      "Best weights from best epoch are automatically used!\n",
      "\n",
      "Early stopping occurred at epoch 29 with best_epoch = 1 and best_val_0_accuracy = 0.9132\n",
      "Best weights from best epoch are automatically used!\n",
      "Stop training because you reached max_epochs = 100 with best_epoch = 83 and best_val_0_accuracy = 0.96\n",
      "Best weights from best epoch are automatically used!\n"
     ]
    },
    {
     "name": "stderr",
     "output_type": "stream",
     "text": [
      "\u001b[32m[I 2022-05-12 11:07:22,792]\u001b[0m Trial 24 finished with value: 0.9445683166733307 and parameters: {'mask_type': 'sparsemax', 'n_da': 60, 'n_steps': 4, 'gamma': 1.3, 'n_shared': 4, 'lambda_sparse': 3.3317327383688407e-06, 'sc_gamma': 0.9, 'sc_steps': 40, 'patience': 28, 'epochs': 100}. Best is trial 6 with value: 0.9569673250699721.\u001b[0m\n"
     ]
    },
    {
     "name": "stdout",
     "output_type": "stream",
     "text": [
      "\n",
      "Early stopping occurred at epoch 31 with best_epoch = 2 and best_val_0_accuracy = 0.92643\n",
      "Best weights from best epoch are automatically used!\n",
      "\n",
      "Early stopping occurred at epoch 32 with best_epoch = 3 and best_val_0_accuracy = 0.90764\n",
      "Best weights from best epoch are automatically used!\n",
      "\n",
      "Early stopping occurred at epoch 31 with best_epoch = 2 and best_val_0_accuracy = 0.8976\n",
      "Best weights from best epoch are automatically used!\n",
      "\n",
      "Early stopping occurred at epoch 55 with best_epoch = 26 and best_val_0_accuracy = 0.9512\n",
      "Best weights from best epoch are automatically used!\n",
      "Stop training because you reached max_epochs = 75 with best_epoch = 63 and best_val_0_accuracy = 0.9292\n",
      "Best weights from best epoch are automatically used!\n"
     ]
    },
    {
     "name": "stderr",
     "output_type": "stream",
     "text": [
      "\u001b[32m[I 2022-05-12 11:15:35,990]\u001b[0m Trial 25 finished with value: 0.9224132746901239 and parameters: {'mask_type': 'sparsemax', 'n_da': 52, 'n_steps': 7, 'gamma': 1.1, 'n_shared': 5, 'lambda_sparse': 6.8677142120270735e-06, 'sc_gamma': 0.7, 'sc_steps': 40, 'patience': 29, 'epochs': 75}. Best is trial 6 with value: 0.9569673250699721.\u001b[0m\n"
     ]
    },
    {
     "name": "stdout",
     "output_type": "stream",
     "text": [
      "\n",
      "Early stopping occurred at epoch 54 with best_epoch = 27 and best_val_0_accuracy = 0.95162\n",
      "Best weights from best epoch are automatically used!\n",
      "Stop training because you reached max_epochs = 93 with best_epoch = 91 and best_val_0_accuracy = 0.95602\n",
      "Best weights from best epoch are automatically used!\n",
      "Stop training because you reached max_epochs = 93 with best_epoch = 92 and best_val_0_accuracy = 0.9516\n",
      "Best weights from best epoch are automatically used!\n",
      "Stop training because you reached max_epochs = 93 with best_epoch = 85 and best_val_0_accuracy = 0.9584\n",
      "Best weights from best epoch are automatically used!\n",
      "Stop training because you reached max_epochs = 93 with best_epoch = 90 and best_val_0_accuracy = 0.958\n",
      "Best weights from best epoch are automatically used!\n"
     ]
    },
    {
     "name": "stderr",
     "output_type": "stream",
     "text": [
      "\u001b[32m[I 2022-05-12 11:24:49,090]\u001b[0m Trial 26 finished with value: 0.9551273890443822 and parameters: {'mask_type': 'sparsemax', 'n_da': 56, 'n_steps': 4, 'gamma': 1.3, 'n_shared': 3, 'lambda_sparse': 2.8889206392471043e-05, 'sc_gamma': 0.9, 'sc_steps': 30, 'patience': 27, 'epochs': 93}. Best is trial 6 with value: 0.9569673250699721.\u001b[0m\n"
     ]
    },
    {
     "name": "stdout",
     "output_type": "stream",
     "text": [
      "\n",
      "Early stopping occurred at epoch 46 with best_epoch = 22 and best_val_0_accuracy = 0.95722\n",
      "Best weights from best epoch are automatically used!\n",
      "\n",
      "Early stopping occurred at epoch 70 with best_epoch = 46 and best_val_0_accuracy = 0.95122\n",
      "Best weights from best epoch are automatically used!\n",
      "Stop training because you reached max_epochs = 100 with best_epoch = 98 and best_val_0_accuracy = 0.9624\n",
      "Best weights from best epoch are automatically used!\n",
      "Stop training because you reached max_epochs = 100 with best_epoch = 86 and best_val_0_accuracy = 0.9612\n",
      "Best weights from best epoch are automatically used!\n",
      "Stop training because you reached max_epochs = 100 with best_epoch = 94 and best_val_0_accuracy = 0.956\n",
      "Best weights from best epoch are automatically used!\n"
     ]
    },
    {
     "name": "stderr",
     "output_type": "stream",
     "text": [
      "\u001b[32m[I 2022-05-12 11:34:28,829]\u001b[0m Trial 27 finished with value: 0.9576073250699721 and parameters: {'mask_type': 'sparsemax', 'n_da': 64, 'n_steps': 4, 'gamma': 1.2, 'n_shared': 4, 'lambda_sparse': 1.8529314752331623e-06, 'sc_gamma': 0.6, 'sc_steps': 40, 'patience': 24, 'epochs': 100}. Best is trial 27 with value: 0.9576073250699721.\u001b[0m\n"
     ]
    },
    {
     "name": "stdout",
     "output_type": "stream",
     "text": [
      "\n",
      "Early stopping occurred at epoch 60 with best_epoch = 36 and best_val_0_accuracy = 0.94242\n",
      "Best weights from best epoch are automatically used!\n",
      "\n",
      "Early stopping occurred at epoch 33 with best_epoch = 9 and best_val_0_accuracy = 0.91363\n",
      "Best weights from best epoch are automatically used!\n",
      "\n",
      "Early stopping occurred at epoch 26 with best_epoch = 2 and best_val_0_accuracy = 0.938\n",
      "Best weights from best epoch are automatically used!\n",
      "\n",
      "Early stopping occurred at epoch 27 with best_epoch = 3 and best_val_0_accuracy = 0.896\n",
      "Best weights from best epoch are automatically used!\n",
      "\n",
      "Early stopping occurred at epoch 26 with best_epoch = 2 and best_val_0_accuracy = 0.9096\n",
      "Best weights from best epoch are automatically used!\n"
     ]
    },
    {
     "name": "stderr",
     "output_type": "stream",
     "text": [
      "\u001b[32m[I 2022-05-12 11:40:19,655]\u001b[0m Trial 28 finished with value: 0.9199315153938425 and parameters: {'mask_type': 'sparsemax', 'n_da': 60, 'n_steps': 7, 'gamma': 1.5, 'n_shared': 4, 'lambda_sparse': 2.003552433461209e-06, 'sc_gamma': 1.2000000000000002, 'sc_steps': 40, 'patience': 24, 'epochs': 61}. Best is trial 27 with value: 0.9576073250699721.\u001b[0m\n"
     ]
    },
    {
     "name": "stdout",
     "output_type": "stream",
     "text": [
      "\n",
      "Early stopping occurred at epoch 37 with best_epoch = 17 and best_val_0_accuracy = 0.95202\n",
      "Best weights from best epoch are automatically used!\n",
      "Stop training because you reached max_epochs = 69 with best_epoch = 64 and best_val_0_accuracy = 0.95202\n",
      "Best weights from best epoch are automatically used!\n",
      "\n",
      "Early stopping occurred at epoch 44 with best_epoch = 24 and best_val_0_accuracy = 0.9516\n",
      "Best weights from best epoch are automatically used!\n",
      "\n",
      "Early stopping occurred at epoch 37 with best_epoch = 17 and best_val_0_accuracy = 0.9524\n",
      "Best weights from best epoch are automatically used!\n",
      "\n",
      "Early stopping occurred at epoch 60 with best_epoch = 40 and best_val_0_accuracy = 0.9532\n",
      "Best weights from best epoch are automatically used!\n"
     ]
    },
    {
     "name": "stderr",
     "output_type": "stream",
     "text": [
      "\u001b[32m[I 2022-05-12 11:45:43,646]\u001b[0m Trial 29 finished with value: 0.9522476769292283 and parameters: {'mask_type': 'entmax', 'n_da': 48, 'n_steps': 4, 'gamma': 1.1, 'n_shared': 3, 'lambda_sparse': 0.0001709195516737452, 'sc_gamma': 0.8, 'sc_steps': 40, 'patience': 20, 'epochs': 69}. Best is trial 27 with value: 0.9576073250699721.\u001b[0m\n"
     ]
    },
    {
     "name": "stdout",
     "output_type": "stream",
     "text": [
      "\n",
      "Early stopping occurred at epoch 46 with best_epoch = 26 and best_val_0_accuracy = 0.95282\n",
      "Best weights from best epoch are automatically used!\n",
      "Stop training because you reached max_epochs = 100 with best_epoch = 89 and best_val_0_accuracy = 0.95682\n",
      "Best weights from best epoch are automatically used!\n",
      "\n",
      "Early stopping occurred at epoch 46 with best_epoch = 26 and best_val_0_accuracy = 0.9508\n",
      "Best weights from best epoch are automatically used!\n",
      "\n",
      "Early stopping occurred at epoch 85 with best_epoch = 65 and best_val_0_accuracy = 0.9484\n",
      "Best weights from best epoch are automatically used!\n",
      "\n",
      "Early stopping occurred at epoch 55 with best_epoch = 35 and best_val_0_accuracy = 0.9484\n",
      "Best weights from best epoch are automatically used!\n"
     ]
    },
    {
     "name": "stderr",
     "output_type": "stream",
     "text": [
      "\u001b[32m[I 2022-05-12 11:53:34,243]\u001b[0m Trial 30 finished with value: 0.9514472291083568 and parameters: {'mask_type': 'sparsemax', 'n_da': 60, 'n_steps': 4, 'gamma': 1.0, 'n_shared': 4, 'lambda_sparse': 2.8193223846315657e-06, 'sc_gamma': 0.6, 'sc_steps': 30, 'patience': 20, 'epochs': 100}. Best is trial 27 with value: 0.9576073250699721.\u001b[0m\n"
     ]
    },
    {
     "name": "stdout",
     "output_type": "stream",
     "text": [
      "\n",
      "Early stopping occurred at epoch 46 with best_epoch = 17 and best_val_0_accuracy = 0.95002\n",
      "Best weights from best epoch are automatically used!\n",
      "\n",
      "Early stopping occurred at epoch 47 with best_epoch = 18 and best_val_0_accuracy = 0.94562\n",
      "Best weights from best epoch are automatically used!\n",
      "\n",
      "Early stopping occurred at epoch 83 with best_epoch = 54 and best_val_0_accuracy = 0.9544\n",
      "Best weights from best epoch are automatically used!\n",
      "\n",
      "Early stopping occurred at epoch 46 with best_epoch = 17 and best_val_0_accuracy = 0.9452\n",
      "Best weights from best epoch are automatically used!\n",
      "\n",
      "Early stopping occurred at epoch 38 with best_epoch = 9 and best_val_0_accuracy = 0.9364\n",
      "Best weights from best epoch are automatically used!\n"
     ]
    },
    {
     "name": "stderr",
     "output_type": "stream",
     "text": [
      "\u001b[32m[I 2022-05-12 12:00:15,961]\u001b[0m Trial 31 finished with value: 0.9463283486605357 and parameters: {'mask_type': 'sparsemax', 'n_da': 64, 'n_steps': 4, 'gamma': 1.2, 'n_shared': 5, 'lambda_sparse': 6.124096505309094e-06, 'sc_gamma': 0.6, 'sc_steps': 50, 'patience': 29, 'epochs': 93}. Best is trial 27 with value: 0.9576073250699721.\u001b[0m\n"
     ]
    },
    {
     "name": "stdout",
     "output_type": "stream",
     "text": [
      "\n",
      "Early stopping occurred at epoch 60 with best_epoch = 34 and best_val_0_accuracy = 0.95202\n",
      "Best weights from best epoch are automatically used!\n",
      "\n",
      "Early stopping occurred at epoch 60 with best_epoch = 34 and best_val_0_accuracy = 0.95002\n",
      "Best weights from best epoch are automatically used!\n",
      "Stop training because you reached max_epochs = 92 with best_epoch = 70 and best_val_0_accuracy = 0.9548\n",
      "Best weights from best epoch are automatically used!\n",
      "\n",
      "Early stopping occurred at epoch 32 with best_epoch = 6 and best_val_0_accuracy = 0.9412\n",
      "Best weights from best epoch are automatically used!\n",
      "\n",
      "Early stopping occurred at epoch 51 with best_epoch = 25 and best_val_0_accuracy = 0.9452\n",
      "Best weights from best epoch are automatically used!\n"
     ]
    },
    {
     "name": "stderr",
     "output_type": "stream",
     "text": [
      "\u001b[32m[I 2022-05-12 12:07:46,503]\u001b[0m Trial 32 finished with value: 0.948647836865254 and parameters: {'mask_type': 'sparsemax', 'n_da': 64, 'n_steps': 4, 'gamma': 1.2, 'n_shared': 5, 'lambda_sparse': 2.1358195433772674e-06, 'sc_gamma': 0.6, 'sc_steps': 50, 'patience': 26, 'epochs': 92}. Best is trial 27 with value: 0.9576073250699721.\u001b[0m\n"
     ]
    },
    {
     "name": "stdout",
     "output_type": "stream",
     "text": [
      "\n",
      "Early stopping occurred at epoch 60 with best_epoch = 42 and best_val_0_accuracy = 0.95402\n",
      "Best weights from best epoch are automatically used!\n",
      "\n",
      "Early stopping occurred at epoch 67 with best_epoch = 49 and best_val_0_accuracy = 0.94602\n",
      "Best weights from best epoch are automatically used!\n",
      "\n",
      "Early stopping occurred at epoch 81 with best_epoch = 63 and best_val_0_accuracy = 0.9528\n",
      "Best weights from best epoch are automatically used!\n",
      "\n",
      "Early stopping occurred at epoch 85 with best_epoch = 67 and best_val_0_accuracy = 0.9592\n",
      "Best weights from best epoch are automatically used!\n",
      "\n",
      "Early stopping occurred at epoch 19 with best_epoch = 1 and best_val_0_accuracy = 0.9404\n",
      "Best weights from best epoch are automatically used!\n"
     ]
    },
    {
     "name": "stderr",
     "output_type": "stream",
     "text": [
      "\u001b[32m[I 2022-05-12 12:15:10,053]\u001b[0m Trial 33 finished with value: 0.9504879968012796 and parameters: {'mask_type': 'sparsemax', 'n_da': 56, 'n_steps': 4, 'gamma': 1.3, 'n_shared': 4, 'lambda_sparse': 1.2183165221719103e-05, 'sc_gamma': 2.0, 'sc_steps': 50, 'patience': 18, 'epochs': 95}. Best is trial 27 with value: 0.9576073250699721.\u001b[0m\n"
     ]
    },
    {
     "name": "stdout",
     "output_type": "stream",
     "text": [
      "Stop training because you reached max_epochs = 86 with best_epoch = 62 and best_val_0_accuracy = 0.95322\n",
      "Best weights from best epoch are automatically used!\n",
      "Stop training because you reached max_epochs = 86 with best_epoch = 76 and best_val_0_accuracy = 0.95202\n",
      "Best weights from best epoch are automatically used!\n",
      "\n",
      "Early stopping occurred at epoch 64 with best_epoch = 36 and best_val_0_accuracy = 0.9476\n",
      "Best weights from best epoch are automatically used!\n",
      "Stop training because you reached max_epochs = 86 with best_epoch = 64 and best_val_0_accuracy = 0.9612\n",
      "Best weights from best epoch are automatically used!\n",
      "Stop training because you reached max_epochs = 86 with best_epoch = 76 and best_val_0_accuracy = 0.9584\n",
      "Best weights from best epoch are automatically used!\n"
     ]
    },
    {
     "name": "stderr",
     "output_type": "stream",
     "text": [
      "\u001b[32m[I 2022-05-12 12:25:28,816]\u001b[0m Trial 34 finished with value: 0.954487580967613 and parameters: {'mask_type': 'entmax', 'n_da': 60, 'n_steps': 4, 'gamma': 1.1, 'n_shared': 5, 'lambda_sparse': 1.0264864089321046e-06, 'sc_gamma': 0.8, 'sc_steps': 40, 'patience': 28, 'epochs': 86}. Best is trial 27 with value: 0.9576073250699721.\u001b[0m\n"
     ]
    },
    {
     "name": "stdout",
     "output_type": "stream",
     "text": [
      "\n",
      "Early stopping occurred at epoch 36 with best_epoch = 13 and best_val_0_accuracy = 0.94562\n",
      "Best weights from best epoch are automatically used!\n",
      "\n",
      "Early stopping occurred at epoch 35 with best_epoch = 12 and best_val_0_accuracy = 0.90764\n",
      "Best weights from best epoch are automatically used!\n",
      "\n",
      "Early stopping occurred at epoch 26 with best_epoch = 3 and best_val_0_accuracy = 0.8956\n",
      "Best weights from best epoch are automatically used!\n",
      "\n",
      "Early stopping occurred at epoch 27 with best_epoch = 4 and best_val_0_accuracy = 0.9244\n",
      "Best weights from best epoch are automatically used!\n",
      "\n",
      "Early stopping occurred at epoch 31 with best_epoch = 8 and best_val_0_accuracy = 0.9368\n",
      "Best weights from best epoch are automatically used!\n"
     ]
    },
    {
     "name": "stderr",
     "output_type": "stream",
     "text": [
      "\u001b[32m[I 2022-05-12 12:32:05,775]\u001b[0m Trial 35 finished with value: 0.9220117393042783 and parameters: {'mask_type': 'sparsemax', 'n_da': 64, 'n_steps': 10, 'gamma': 1.0, 'n_shared': 4, 'lambda_sparse': 4.66412653423361e-06, 'sc_gamma': 1.0, 'sc_steps': 20, 'patience': 23, 'epochs': 77}. Best is trial 27 with value: 0.9576073250699721.\u001b[0m\n"
     ]
    },
    {
     "name": "stdout",
     "output_type": "stream",
     "text": [
      "Stop training because you reached max_epochs = 36 with best_epoch = 23 and best_val_0_accuracy = 0.94602\n",
      "Best weights from best epoch are automatically used!\n",
      "Stop training because you reached max_epochs = 36 with best_epoch = 30 and best_val_0_accuracy = 0.94282\n",
      "Best weights from best epoch are automatically used!\n",
      "Stop training because you reached max_epochs = 36 with best_epoch = 31 and best_val_0_accuracy = 0.946\n",
      "Best weights from best epoch are automatically used!\n",
      "Stop training because you reached max_epochs = 36 with best_epoch = 35 and best_val_0_accuracy = 0.956\n",
      "Best weights from best epoch are automatically used!\n",
      "Stop training because you reached max_epochs = 36 with best_epoch = 34 and best_val_0_accuracy = 0.9472\n",
      "Best weights from best epoch are automatically used!\n"
     ]
    },
    {
     "name": "stderr",
     "output_type": "stream",
     "text": [
      "\u001b[32m[I 2022-05-12 12:36:38,574]\u001b[0m Trial 36 finished with value: 0.9476088924430227 and parameters: {'mask_type': 'entmax', 'n_da': 52, 'n_steps': 4, 'gamma': 1.2, 'n_shared': 5, 'lambda_sparse': 0.00029559969124460383, 'sc_gamma': 0.9, 'sc_steps': 50, 'patience': 26, 'epochs': 36}. Best is trial 27 with value: 0.9576073250699721.\u001b[0m\n"
     ]
    },
    {
     "name": "stdout",
     "output_type": "stream",
     "text": [
      "\n",
      "Early stopping occurred at epoch 29 with best_epoch = 0 and best_val_0_accuracy = 0.93563\n",
      "Best weights from best epoch are automatically used!\n",
      "\n",
      "Early stopping occurred at epoch 32 with best_epoch = 3 and best_val_0_accuracy = 0.90284\n",
      "Best weights from best epoch are automatically used!\n",
      "Stop training because you reached max_epochs = 61 with best_epoch = 42 and best_val_0_accuracy = 0.9208\n",
      "Best weights from best epoch are automatically used!\n",
      "\n",
      "Early stopping occurred at epoch 36 with best_epoch = 7 and best_val_0_accuracy = 0.9308\n",
      "Best weights from best epoch are automatically used!\n",
      "\n",
      "Early stopping occurred at epoch 36 with best_epoch = 7 and best_val_0_accuracy = 0.942\n",
      "Best weights from best epoch are automatically used!\n"
     ]
    },
    {
     "name": "stderr",
     "output_type": "stream",
     "text": [
      "\u001b[32m[I 2022-05-12 12:42:31,294]\u001b[0m Trial 37 finished with value: 0.9264129228308675 and parameters: {'mask_type': 'sparsemax', 'n_da': 20, 'n_steps': 7, 'gamma': 2.0, 'n_shared': 3, 'lambda_sparse': 2.7558875413089698e-05, 'sc_gamma': 0.6, 'sc_steps': 40, 'patience': 29, 'epochs': 61}. Best is trial 27 with value: 0.9576073250699721.\u001b[0m\n"
     ]
    },
    {
     "name": "stdout",
     "output_type": "stream",
     "text": [
      "\n",
      "Early stopping occurred at epoch 40 with best_epoch = 13 and best_val_0_accuracy = 0.92443\n",
      "Best weights from best epoch are automatically used!\n",
      "\n",
      "Early stopping occurred at epoch 38 with best_epoch = 11 and best_val_0_accuracy = 0.91323\n",
      "Best weights from best epoch are automatically used!\n",
      "Stop training because you reached max_epochs = 53 with best_epoch = 49 and best_val_0_accuracy = 0.946\n",
      "Best weights from best epoch are automatically used!\n",
      "Stop training because you reached max_epochs = 53 with best_epoch = 33 and best_val_0_accuracy = 0.9468\n",
      "Best weights from best epoch are automatically used!\n",
      "Stop training because you reached max_epochs = 53 with best_epoch = 36 and best_val_0_accuracy = 0.93\n",
      "Best weights from best epoch are automatically used!\n"
     ]
    },
    {
     "name": "stderr",
     "output_type": "stream",
     "text": [
      "\u001b[32m[I 2022-05-12 12:50:19,044]\u001b[0m Trial 38 finished with value: 0.932092986805278 and parameters: {'mask_type': 'entmax', 'n_da': 28, 'n_steps': 7, 'gamma': 1.1, 'n_shared': 4, 'lambda_sparse': 5.769376596476872e-05, 'sc_gamma': 1.6, 'sc_steps': 40, 'patience': 27, 'epochs': 53}. Best is trial 27 with value: 0.9576073250699721.\u001b[0m\n"
     ]
    },
    {
     "name": "stdout",
     "output_type": "stream",
     "text": [
      "\n",
      "Early stopping occurred at epoch 76 with best_epoch = 52 and best_val_0_accuracy = 0.95082\n",
      "Best weights from best epoch are automatically used!\n",
      "\n",
      "Early stopping occurred at epoch 82 with best_epoch = 58 and best_val_0_accuracy = 0.95442\n",
      "Best weights from best epoch are automatically used!\n",
      "Stop training because you reached max_epochs = 89 with best_epoch = 78 and best_val_0_accuracy = 0.9612\n",
      "Best weights from best epoch are automatically used!\n",
      "Stop training because you reached max_epochs = 89 with best_epoch = 88 and best_val_0_accuracy = 0.9588\n",
      "Best weights from best epoch are automatically used!\n",
      "Stop training because you reached max_epochs = 89 with best_epoch = 78 and best_val_0_accuracy = 0.9524\n",
      "Best weights from best epoch are automatically used!\n"
     ]
    },
    {
     "name": "stderr",
     "output_type": "stream",
     "text": [
      "\u001b[32m[I 2022-05-12 12:58:31,902]\u001b[0m Trial 39 finished with value: 0.955527580967613 and parameters: {'mask_type': 'sparsemax', 'n_da': 56, 'n_steps': 4, 'gamma': 1.5, 'n_shared': 2, 'lambda_sparse': 4.979046886876226e-06, 'sc_gamma': 1.1, 'sc_steps': 50, 'patience': 24, 'epochs': 89}. Best is trial 27 with value: 0.9576073250699721.\u001b[0m\n"
     ]
    },
    {
     "name": "stdout",
     "output_type": "stream",
     "text": [
      "Stop training because you reached max_epochs = 82 with best_epoch = 81 and best_val_0_accuracy = 0.95842\n",
      "Best weights from best epoch are automatically used!\n",
      "Stop training because you reached max_epochs = 82 with best_epoch = 77 and best_val_0_accuracy = 0.95442\n",
      "Best weights from best epoch are automatically used!\n",
      "Stop training because you reached max_epochs = 82 with best_epoch = 75 and best_val_0_accuracy = 0.9604\n",
      "Best weights from best epoch are automatically used!\n",
      "\n",
      "Early stopping occurred at epoch 39 with best_epoch = 10 and best_val_0_accuracy = 0.9424\n",
      "Best weights from best epoch are automatically used!\n",
      "Stop training because you reached max_epochs = 82 with best_epoch = 56 and best_val_0_accuracy = 0.9512\n",
      "Best weights from best epoch are automatically used!\n"
     ]
    },
    {
     "name": "stderr",
     "output_type": "stream",
     "text": [
      "\u001b[32m[I 2022-05-12 13:05:29,533]\u001b[0m Trial 40 finished with value: 0.9533669732107157 and parameters: {'mask_type': 'sparsemax', 'n_da': 48, 'n_steps': 4, 'gamma': 1.6, 'n_shared': 2, 'lambda_sparse': 9.52042364744979e-06, 'sc_gamma': 0.7, 'sc_steps': 30, 'patience': 29, 'epochs': 82}. Best is trial 27 with value: 0.9576073250699721.\u001b[0m\n"
     ]
    },
    {
     "name": "stdout",
     "output_type": "stream",
     "text": [
      "Stop training because you reached max_epochs = 97 with best_epoch = 78 and best_val_0_accuracy = 0.95722\n",
      "Best weights from best epoch are automatically used!\n",
      "Stop training because you reached max_epochs = 97 with best_epoch = 87 and best_val_0_accuracy = 0.95442\n",
      "Best weights from best epoch are automatically used!\n",
      "\n",
      "Early stopping occurred at epoch 70 with best_epoch = 49 and best_val_0_accuracy = 0.9544\n",
      "Best weights from best epoch are automatically used!\n",
      "Stop training because you reached max_epochs = 97 with best_epoch = 84 and best_val_0_accuracy = 0.9584\n",
      "Best weights from best epoch are automatically used!\n",
      "Stop training because you reached max_epochs = 97 with best_epoch = 88 and best_val_0_accuracy = 0.9504\n",
      "Best weights from best epoch are automatically used!\n"
     ]
    },
    {
     "name": "stderr",
     "output_type": "stream",
     "text": [
      "\u001b[32m[I 2022-05-12 13:13:29,350]\u001b[0m Trial 41 finished with value: 0.9549670691723311 and parameters: {'mask_type': 'sparsemax', 'n_da': 56, 'n_steps': 4, 'gamma': 1.6, 'n_shared': 1, 'lambda_sparse': 4.895844287287085e-06, 'sc_gamma': 1.1, 'sc_steps': 50, 'patience': 21, 'epochs': 97}. Best is trial 27 with value: 0.9576073250699721.\u001b[0m\n"
     ]
    },
    {
     "name": "stdout",
     "output_type": "stream",
     "text": [
      "Stop training because you reached max_epochs = 89 with best_epoch = 83 and best_val_0_accuracy = 0.94442\n",
      "Best weights from best epoch are automatically used!\n",
      "Stop training because you reached max_epochs = 89 with best_epoch = 86 and best_val_0_accuracy = 0.94322\n",
      "Best weights from best epoch are automatically used!\n",
      "\n",
      "Early stopping occurred at epoch 25 with best_epoch = 1 and best_val_0_accuracy = 0.9212\n",
      "Best weights from best epoch are automatically used!\n",
      "\n",
      "Early stopping occurred at epoch 27 with best_epoch = 3 and best_val_0_accuracy = 0.942\n",
      "Best weights from best epoch are automatically used!\n",
      "\n",
      "Early stopping occurred at epoch 43 with best_epoch = 19 and best_val_0_accuracy = 0.9292\n",
      "Best weights from best epoch are automatically used!\n"
     ]
    },
    {
     "name": "stderr",
     "output_type": "stream",
     "text": [
      "\u001b[32m[I 2022-05-12 13:18:51,120]\u001b[0m Trial 42 finished with value: 0.9360089884046381 and parameters: {'mask_type': 'sparsemax', 'n_da': 60, 'n_steps': 4, 'gamma': 1.9, 'n_shared': 2, 'lambda_sparse': 2.119342902265964e-06, 'sc_gamma': 1.2000000000000002, 'sc_steps': 50, 'patience': 24, 'epochs': 89}. Best is trial 27 with value: 0.9576073250699721.\u001b[0m\n"
     ]
    },
    {
     "name": "stdout",
     "output_type": "stream",
     "text": [
      "Stop training because you reached max_epochs = 100 with best_epoch = 90 and best_val_0_accuracy = 0.95362\n",
      "Best weights from best epoch are automatically used!\n",
      "\n",
      "Early stopping occurred at epoch 33 with best_epoch = 9 and best_val_0_accuracy = 0.89084\n",
      "Best weights from best epoch are automatically used!\n",
      "\n",
      "Early stopping occurred at epoch 79 with best_epoch = 55 and best_val_0_accuracy = 0.9596\n",
      "Best weights from best epoch are automatically used!\n",
      "Stop training because you reached max_epochs = 100 with best_epoch = 82 and best_val_0_accuracy = 0.96\n",
      "Best weights from best epoch are automatically used!\n",
      "\n",
      "Early stopping occurred at epoch 87 with best_epoch = 63 and best_val_0_accuracy = 0.9572\n",
      "Best weights from best epoch are automatically used!\n"
     ]
    },
    {
     "name": "stderr",
     "output_type": "stream",
     "text": [
      "\u001b[32m[I 2022-05-12 13:26:38,023]\u001b[0m Trial 43 finished with value: 0.9442524430227909 and parameters: {'mask_type': 'sparsemax', 'n_da': 64, 'n_steps': 4, 'gamma': 1.5, 'n_shared': 2, 'lambda_sparse': 1.0435237534967965e-05, 'sc_gamma': 1.0, 'sc_steps': 50, 'patience': 24, 'epochs': 100}. Best is trial 27 with value: 0.9576073250699721.\u001b[0m\n"
     ]
    },
    {
     "name": "stdout",
     "output_type": "stream",
     "text": [
      "\n",
      "Early stopping occurred at epoch 23 with best_epoch = 0 and best_val_0_accuracy = 0.90524\n",
      "Best weights from best epoch are automatically used!\n",
      "Stop training because you reached max_epochs = 88 with best_epoch = 85 and best_val_0_accuracy = 0.95202\n",
      "Best weights from best epoch are automatically used!\n",
      "\n",
      "Early stopping occurred at epoch 83 with best_epoch = 60 and best_val_0_accuracy = 0.9604\n",
      "Best weights from best epoch are automatically used!\n",
      "Stop training because you reached max_epochs = 88 with best_epoch = 76 and best_val_0_accuracy = 0.9596\n",
      "Best weights from best epoch are automatically used!\n",
      "\n",
      "Early stopping occurred at epoch 66 with best_epoch = 43 and best_val_0_accuracy = 0.9424\n",
      "Best weights from best epoch are automatically used!\n"
     ]
    },
    {
     "name": "stderr",
     "output_type": "stream",
     "text": [
      "\u001b[32m[I 2022-05-12 13:32:45,911]\u001b[0m Trial 44 finished with value: 0.9439314194322271 and parameters: {'mask_type': 'sparsemax', 'n_da': 60, 'n_steps': 4, 'gamma': 1.6, 'n_shared': 1, 'lambda_sparse': 2.9406375106570724e-06, 'sc_gamma': 1.3, 'sc_steps': 40, 'patience': 23, 'epochs': 88}. Best is trial 27 with value: 0.9576073250699721.\u001b[0m\n"
     ]
    },
    {
     "name": "stdout",
     "output_type": "stream",
     "text": [
      "\n",
      "Early stopping occurred at epoch 44 with best_epoch = 22 and best_val_0_accuracy = 0.95882\n",
      "Best weights from best epoch are automatically used!\n",
      "\n",
      "Early stopping occurred at epoch 38 with best_epoch = 16 and best_val_0_accuracy = 0.93243\n",
      "Best weights from best epoch are automatically used!\n",
      "Stop training because you reached max_epochs = 65 with best_epoch = 63 and best_val_0_accuracy = 0.9532\n",
      "Best weights from best epoch are automatically used!\n",
      "Stop training because you reached max_epochs = 65 with best_epoch = 49 and best_val_0_accuracy = 0.9624\n",
      "Best weights from best epoch are automatically used!\n",
      "\n",
      "Early stopping occurred at epoch 45 with best_epoch = 23 and best_val_0_accuracy = 0.94\n",
      "Best weights from best epoch are automatically used!\n"
     ]
    },
    {
     "name": "stderr",
     "output_type": "stream",
     "text": [
      "\u001b[32m[I 2022-05-12 13:38:21,869]\u001b[0m Trial 45 finished with value: 0.9493687005197922 and parameters: {'mask_type': 'sparsemax', 'n_da': 64, 'n_steps': 4, 'gamma': 1.3, 'n_shared': 3, 'lambda_sparse': 2.2775365444315466e-05, 'sc_gamma': 1.4, 'sc_steps': 50, 'patience': 22, 'epochs': 65}. Best is trial 27 with value: 0.9576073250699721.\u001b[0m\n"
     ]
    },
    {
     "name": "stdout",
     "output_type": "stream",
     "text": [
      "Stop training because you reached max_epochs = 83 with best_epoch = 79 and best_val_0_accuracy = 0.94722\n",
      "Best weights from best epoch are automatically used!\n",
      "Stop training because you reached max_epochs = 83 with best_epoch = 80 and best_val_0_accuracy = 0.94762\n",
      "Best weights from best epoch are automatically used!\n",
      "\n",
      "Early stopping occurred at epoch 32 with best_epoch = 5 and best_val_0_accuracy = 0.8972\n",
      "Best weights from best epoch are automatically used!\n",
      "\n",
      "Early stopping occurred at epoch 34 with best_epoch = 7 and best_val_0_accuracy = 0.9404\n",
      "Best weights from best epoch are automatically used!\n",
      "\n",
      "Early stopping occurred at epoch 27 with best_epoch = 0 and best_val_0_accuracy = 0.8952\n",
      "Best weights from best epoch are automatically used!\n"
     ]
    },
    {
     "name": "stderr",
     "output_type": "stream",
     "text": [
      "\u001b[32m[I 2022-05-12 13:47:11,221]\u001b[0m Trial 46 finished with value: 0.9255284126349459 and parameters: {'mask_type': 'entmax', 'n_da': 56, 'n_steps': 10, 'gamma': 1.8, 'n_shared': 2, 'lambda_sparse': 1.4050448979522986e-06, 'sc_gamma': 1.0, 'sc_steps': 40, 'patience': 27, 'epochs': 83}. Best is trial 27 with value: 0.9576073250699721.\u001b[0m\n"
     ]
    },
    {
     "name": "stdout",
     "output_type": "stream",
     "text": [
      "Stop training because you reached max_epochs = 73 with best_epoch = 57 and best_val_0_accuracy = 0.94922\n",
      "Best weights from best epoch are automatically used!\n",
      "\n",
      "Early stopping occurred at epoch 31 with best_epoch = 10 and best_val_0_accuracy = 0.94402\n",
      "Best weights from best epoch are automatically used!\n",
      "\n",
      "Early stopping occurred at epoch 40 with best_epoch = 19 and best_val_0_accuracy = 0.94\n",
      "Best weights from best epoch are automatically used!\n",
      "Stop training because you reached max_epochs = 73 with best_epoch = 69 and best_val_0_accuracy = 0.9532\n",
      "Best weights from best epoch are automatically used!\n",
      "Stop training because you reached max_epochs = 73 with best_epoch = 52 and best_val_0_accuracy = 0.952\n",
      "Best weights from best epoch are automatically used!\n"
     ]
    },
    {
     "name": "stderr",
     "output_type": "stream",
     "text": [
      "\u001b[32m[I 2022-05-12 13:54:32,570]\u001b[0m Trial 47 finished with value: 0.9476885405837665 and parameters: {'mask_type': 'sparsemax', 'n_da': 40, 'n_steps': 4, 'gamma': 1.0, 'n_shared': 5, 'lambda_sparse': 5.176138182171961e-06, 'sc_gamma': 1.1, 'sc_steps': 50, 'patience': 21, 'epochs': 73}. Best is trial 27 with value: 0.9576073250699721.\u001b[0m\n"
     ]
    },
    {
     "name": "stdout",
     "output_type": "stream",
     "text": [
      "\n",
      "Early stopping occurred at epoch 71 with best_epoch = 46 and best_val_0_accuracy = 0.94882\n",
      "Best weights from best epoch are automatically used!\n",
      "Stop training because you reached max_epochs = 96 with best_epoch = 72 and best_val_0_accuracy = 0.93842\n",
      "Best weights from best epoch are automatically used!\n",
      "\n",
      "Early stopping occurred at epoch 29 with best_epoch = 4 and best_val_0_accuracy = 0.9124\n",
      "Best weights from best epoch are automatically used!\n",
      "\n",
      "Early stopping occurred at epoch 54 with best_epoch = 29 and best_val_0_accuracy = 0.9372\n",
      "Best weights from best epoch are automatically used!\n",
      "Stop training because you reached max_epochs = 96 with best_epoch = 77 and best_val_0_accuracy = 0.9212\n",
      "Best weights from best epoch are automatically used!\n"
     ]
    },
    {
     "name": "stderr",
     "output_type": "stream",
     "text": [
      "\u001b[32m[I 2022-05-12 14:05:11,263]\u001b[0m Trial 48 finished with value: 0.9316090203918431 and parameters: {'mask_type': 'sparsemax', 'n_da': 64, 'n_steps': 7, 'gamma': 1.2, 'n_shared': 2, 'lambda_sparse': 4.2781415092149295e-05, 'sc_gamma': 0.5, 'sc_steps': 20, 'patience': 25, 'epochs': 96}. Best is trial 27 with value: 0.9576073250699721.\u001b[0m\n"
     ]
    },
    {
     "name": "stdout",
     "output_type": "stream",
     "text": [
      "Stop training because you reached max_epochs = 12 with best_epoch = 11 and best_val_0_accuracy = 0.91403\n",
      "Best weights from best epoch are automatically used!\n",
      "Stop training because you reached max_epochs = 12 with best_epoch = 7 and best_val_0_accuracy = 0.92523\n",
      "Best weights from best epoch are automatically used!\n",
      "Stop training because you reached max_epochs = 12 with best_epoch = 8 and best_val_0_accuracy = 0.8884\n",
      "Best weights from best epoch are automatically used!\n",
      "Stop training because you reached max_epochs = 12 with best_epoch = 10 and best_val_0_accuracy = 0.8868\n",
      "Best weights from best epoch are automatically used!\n",
      "Stop training because you reached max_epochs = 12 with best_epoch = 11 and best_val_0_accuracy = 0.8764\n",
      "Best weights from best epoch are automatically used!\n"
     ]
    },
    {
     "name": "stderr",
     "output_type": "stream",
     "text": [
      "\u001b[32m[I 2022-05-12 14:06:56,505]\u001b[0m Trial 49 finished with value: 0.8981728588564574 and parameters: {'mask_type': 'sparsemax', 'n_da': 60, 'n_steps': 4, 'gamma': 1.4, 'n_shared': 3, 'lambda_sparse': 0.00020486186814119096, 'sc_gamma': 0.8, 'sc_steps': 50, 'patience': 30, 'epochs': 12}. Best is trial 27 with value: 0.9576073250699721.\u001b[0m\n"
     ]
    },
    {
     "name": "stdout",
     "output_type": "stream",
     "text": [
      "\n",
      "Early stopping occurred at epoch 42 with best_epoch = 16 and best_val_0_accuracy = 0.94922\n",
      "Best weights from best epoch are automatically used!\n",
      "Stop training because you reached max_epochs = 91 with best_epoch = 76 and best_val_0_accuracy = 0.95682\n",
      "Best weights from best epoch are automatically used!\n",
      "\n",
      "Early stopping occurred at epoch 30 with best_epoch = 4 and best_val_0_accuracy = 0.9156\n",
      "Best weights from best epoch are automatically used!\n",
      "Stop training because you reached max_epochs = 91 with best_epoch = 83 and best_val_0_accuracy = 0.96\n",
      "Best weights from best epoch are automatically used!\n",
      "Stop training because you reached max_epochs = 91 with best_epoch = 88 and best_val_0_accuracy = 0.9584\n",
      "Best weights from best epoch are automatically used!\n"
     ]
    },
    {
     "name": "stderr",
     "output_type": "stream",
     "text": [
      "\u001b[32m[I 2022-05-12 14:15:07,633]\u001b[0m Trial 50 finished with value: 0.9480075169932027 and parameters: {'mask_type': 'sparsemax', 'n_da': 56, 'n_steps': 4, 'gamma': 1.5, 'n_shared': 1, 'lambda_sparse': 1.3987421227591007e-05, 'sc_gamma': 0.9, 'sc_steps': 40, 'patience': 26, 'epochs': 91}. Best is trial 27 with value: 0.9576073250699721.\u001b[0m\n"
     ]
    },
    {
     "name": "stdout",
     "output_type": "stream",
     "text": [
      "Stop training because you reached max_epochs = 95 with best_epoch = 89 and best_val_0_accuracy = 0.95642\n",
      "Best weights from best epoch are automatically used!\n",
      "\n",
      "Early stopping occurred at epoch 33 with best_epoch = 5 and best_val_0_accuracy = 0.94122\n",
      "Best weights from best epoch are automatically used!\n",
      "Stop training because you reached max_epochs = 95 with best_epoch = 73 and best_val_0_accuracy = 0.9588\n",
      "Best weights from best epoch are automatically used!\n",
      "Stop training because you reached max_epochs = 95 with best_epoch = 90 and best_val_0_accuracy = 0.9592\n",
      "Best weights from best epoch are automatically used!\n",
      "Stop training because you reached max_epochs = 95 with best_epoch = 93 and best_val_0_accuracy = 0.9584\n",
      "Best weights from best epoch are automatically used!\n"
     ]
    },
    {
     "name": "stderr",
     "output_type": "stream",
     "text": [
      "\u001b[32m[I 2022-05-12 14:29:32,777]\u001b[0m Trial 51 finished with value: 0.9548081887245102 and parameters: {'mask_type': 'sparsemax', 'n_da': 56, 'n_steps': 4, 'gamma': 1.3, 'n_shared': 3, 'lambda_sparse': 2.3157289251355722e-05, 'sc_gamma': 0.9, 'sc_steps': 30, 'patience': 28, 'epochs': 95}. Best is trial 27 with value: 0.9576073250699721.\u001b[0m\n"
     ]
    },
    {
     "name": "stdout",
     "output_type": "stream",
     "text": [
      "Stop training because you reached max_epochs = 92 with best_epoch = 79 and best_val_0_accuracy = 0.95922\n",
      "Best weights from best epoch are automatically used!\n",
      "Stop training because you reached max_epochs = 92 with best_epoch = 65 and best_val_0_accuracy = 0.95722\n",
      "Best weights from best epoch are automatically used!\n",
      "Stop training because you reached max_epochs = 92 with best_epoch = 78 and best_val_0_accuracy = 0.954\n",
      "Best weights from best epoch are automatically used!\n",
      "\n",
      "Early stopping occurred at epoch 65 with best_epoch = 38 and best_val_0_accuracy = 0.9516\n",
      "Best weights from best epoch are automatically used!\n",
      "\n",
      "Early stopping occurred at epoch 63 with best_epoch = 36 and best_val_0_accuracy = 0.9392\n",
      "Best weights from best epoch are automatically used!\n"
     ]
    },
    {
     "name": "stderr",
     "output_type": "stream",
     "text": [
      "\u001b[32m[I 2022-05-12 14:43:52,388]\u001b[0m Trial 52 finished with value: 0.9522466853258695 and parameters: {'mask_type': 'sparsemax', 'n_da': 52, 'n_steps': 4, 'gamma': 1.2, 'n_shared': 3, 'lambda_sparse': 5.826958641532016e-05, 'sc_gamma': 0.7, 'sc_steps': 30, 'patience': 27, 'epochs': 92}. Best is trial 27 with value: 0.9576073250699721.\u001b[0m\n"
     ]
    },
    {
     "name": "stdout",
     "output_type": "stream",
     "text": [
      "\n",
      "Early stopping occurred at epoch 46 with best_epoch = 19 and best_val_0_accuracy = 0.95682\n",
      "Best weights from best epoch are automatically used!\n",
      "Stop training because you reached max_epochs = 80 with best_epoch = 70 and best_val_0_accuracy = 0.95402\n",
      "Best weights from best epoch are automatically used!\n",
      "Stop training because you reached max_epochs = 80 with best_epoch = 75 and best_val_0_accuracy = 0.9564\n",
      "Best weights from best epoch are automatically used!\n",
      "Stop training because you reached max_epochs = 80 with best_epoch = 73 and best_val_0_accuracy = 0.9572\n",
      "Best weights from best epoch are automatically used!\n",
      "Stop training because you reached max_epochs = 80 with best_epoch = 71 and best_val_0_accuracy = 0.9524\n",
      "Best weights from best epoch are automatically used!\n"
     ]
    },
    {
     "name": "stderr",
     "output_type": "stream",
     "text": [
      "\u001b[32m[I 2022-05-12 14:56:48,972]\u001b[0m Trial 53 finished with value: 0.9553671331467413 and parameters: {'mask_type': 'sparsemax', 'n_da': 64, 'n_steps': 4, 'gamma': 1.3, 'n_shared': 3, 'lambda_sparse': 3.3988874670132764e-05, 'sc_gamma': 0.5, 'sc_steps': 30, 'patience': 27, 'epochs': 80}. Best is trial 27 with value: 0.9576073250699721.\u001b[0m\n"
     ]
    },
    {
     "name": "stdout",
     "output_type": "stream",
     "text": [
      "\n",
      "Early stopping occurred at epoch 57 with best_epoch = 27 and best_val_0_accuracy = 0.94922\n",
      "Best weights from best epoch are automatically used!\n",
      "Stop training because you reached max_epochs = 79 with best_epoch = 57 and best_val_0_accuracy = 0.94682\n",
      "Best weights from best epoch are automatically used!\n",
      "Stop training because you reached max_epochs = 79 with best_epoch = 77 and best_val_0_accuracy = 0.954\n",
      "Best weights from best epoch are automatically used!\n",
      "Stop training because you reached max_epochs = 79 with best_epoch = 77 and best_val_0_accuracy = 0.956\n",
      "Best weights from best epoch are automatically used!\n",
      "\n",
      "Early stopping occurred at epoch 78 with best_epoch = 48 and best_val_0_accuracy = 0.956\n",
      "Best weights from best epoch are automatically used!\n"
     ]
    },
    {
     "name": "stderr",
     "output_type": "stream",
     "text": [
      "\u001b[32m[I 2022-05-12 15:08:59,383]\u001b[0m Trial 54 finished with value: 0.9524083166733307 and parameters: {'mask_type': 'sparsemax', 'n_da': 64, 'n_steps': 4, 'gamma': 1.1, 'n_shared': 4, 'lambda_sparse': 9.352789729987172e-05, 'sc_gamma': 0.5, 'sc_steps': 20, 'patience': 30, 'epochs': 79}. Best is trial 27 with value: 0.9576073250699721.\u001b[0m\n"
     ]
    },
    {
     "name": "stdout",
     "output_type": "stream",
     "text": [
      "Stop training because you reached max_epochs = 86 with best_epoch = 77 and best_val_0_accuracy = 0.95842\n",
      "Best weights from best epoch are automatically used!\n",
      "Stop training because you reached max_epochs = 86 with best_epoch = 84 and best_val_0_accuracy = 0.95282\n",
      "Best weights from best epoch are automatically used!\n",
      "Stop training because you reached max_epochs = 86 with best_epoch = 71 and best_val_0_accuracy = 0.9576\n",
      "Best weights from best epoch are automatically used!\n",
      "Stop training because you reached max_epochs = 86 with best_epoch = 77 and best_val_0_accuracy = 0.9604\n",
      "Best weights from best epoch are automatically used!\n",
      "Stop training because you reached max_epochs = 86 with best_epoch = 63 and best_val_0_accuracy = 0.9584\n",
      "Best weights from best epoch are automatically used!\n"
     ]
    },
    {
     "name": "stderr",
     "output_type": "stream",
     "text": [
      "\u001b[32m[I 2022-05-12 15:18:21,481]\u001b[0m Trial 55 finished with value: 0.9575271011595362 and parameters: {'mask_type': 'sparsemax', 'n_da': 60, 'n_steps': 4, 'gamma': 1.4, 'n_shared': 3, 'lambda_sparse': 9.057439495220705e-06, 'sc_gamma': 0.6, 'sc_steps': 30, 'patience': 29, 'epochs': 86}. Best is trial 27 with value: 0.9576073250699721.\u001b[0m\n"
     ]
    },
    {
     "name": "stdout",
     "output_type": "stream",
     "text": [
      "Stop training because you reached max_epochs = 85 with best_epoch = 77 and best_val_0_accuracy = 0.94762\n",
      "Best weights from best epoch are automatically used!\n",
      "\n",
      "Early stopping occurred at epoch 31 with best_epoch = 2 and best_val_0_accuracy = 0.93483\n",
      "Best weights from best epoch are automatically used!\n",
      "\n",
      "Early stopping occurred at epoch 36 with best_epoch = 7 and best_val_0_accuracy = 0.9264\n",
      "Best weights from best epoch are automatically used!\n",
      "Stop training because you reached max_epochs = 85 with best_epoch = 67 and best_val_0_accuracy = 0.9608\n",
      "Best weights from best epoch are automatically used!\n",
      "Stop training because you reached max_epochs = 85 with best_epoch = 69 and best_val_0_accuracy = 0.9508\n",
      "Best weights from best epoch are automatically used!\n"
     ]
    },
    {
     "name": "stderr",
     "output_type": "stream",
     "text": [
      "\u001b[32m[I 2022-05-12 15:24:45,906]\u001b[0m Trial 56 finished with value: 0.9440894042383047 and parameters: {'mask_type': 'sparsemax', 'n_da': 60, 'n_steps': 4, 'gamma': 1.4, 'n_shared': 2, 'lambda_sparse': 7.716519715903895e-06, 'sc_gamma': 0.6, 'sc_steps': 10, 'patience': 29, 'epochs': 85}. Best is trial 27 with value: 0.9576073250699721.\u001b[0m\n"
     ]
    },
    {
     "name": "stdout",
     "output_type": "stream",
     "text": [
      "\n",
      "Early stopping occurred at epoch 40 with best_epoch = 10 and best_val_0_accuracy = 0.94522\n",
      "Best weights from best epoch are automatically used!\n",
      "Stop training because you reached max_epochs = 70 with best_epoch = 52 and best_val_0_accuracy = 0.94362\n",
      "Best weights from best epoch are automatically used!\n",
      "Stop training because you reached max_epochs = 70 with best_epoch = 51 and best_val_0_accuracy = 0.9548\n",
      "Best weights from best epoch are automatically used!\n",
      "Stop training because you reached max_epochs = 70 with best_epoch = 59 and best_val_0_accuracy = 0.958\n",
      "Best weights from best epoch are automatically used!\n",
      "Stop training because you reached max_epochs = 70 with best_epoch = 61 and best_val_0_accuracy = 0.9532\n",
      "Best weights from best epoch are automatically used!\n"
     ]
    },
    {
     "name": "stderr",
     "output_type": "stream",
     "text": [
      "\u001b[32m[I 2022-05-12 15:32:59,972]\u001b[0m Trial 57 finished with value: 0.9509688924430227 and parameters: {'mask_type': 'sparsemax', 'n_da': 60, 'n_steps': 4, 'gamma': 1.0, 'n_shared': 5, 'lambda_sparse': 0.0004795855603563915, 'sc_gamma': 0.7, 'sc_steps': 30, 'patience': 30, 'epochs': 70}. Best is trial 27 with value: 0.9576073250699721.\u001b[0m\n"
     ]
    },
    {
     "name": "stdout",
     "output_type": "stream",
     "text": [
      "Stop training because you reached max_epochs = 97 with best_epoch = 84 and best_val_0_accuracy = 0.94842\n",
      "Best weights from best epoch are automatically used!\n",
      "Stop training because you reached max_epochs = 97 with best_epoch = 96 and best_val_0_accuracy = 0.93802\n",
      "Best weights from best epoch are automatically used!\n",
      "\n",
      "Early stopping occurred at epoch 31 with best_epoch = 3 and best_val_0_accuracy = 0.9184\n",
      "Best weights from best epoch are automatically used!\n",
      "Stop training because you reached max_epochs = 97 with best_epoch = 96 and best_val_0_accuracy = 0.9652\n",
      "Best weights from best epoch are automatically used!\n",
      "\n",
      "Early stopping occurred at epoch 62 with best_epoch = 34 and best_val_0_accuracy = 0.942\n",
      "Best weights from best epoch are automatically used!\n"
     ]
    },
    {
     "name": "stderr",
     "output_type": "stream",
     "text": [
      "\u001b[32m[I 2022-05-12 15:42:01,553]\u001b[0m Trial 58 finished with value: 0.9424090843662535 and parameters: {'mask_type': 'sparsemax', 'n_da': 24, 'n_steps': 4, 'gamma': 1.4, 'n_shared': 4, 'lambda_sparse': 4.04650331791321e-06, 'sc_gamma': 0.6, 'sc_steps': 50, 'patience': 28, 'epochs': 97}. Best is trial 27 with value: 0.9576073250699721.\u001b[0m\n"
     ]
    },
    {
     "name": "stdout",
     "output_type": "stream",
     "text": [
      "\n",
      "Early stopping occurred at epoch 22 with best_epoch = 5 and best_val_0_accuracy = 0.92883\n",
      "Best weights from best epoch are automatically used!\n",
      "\n",
      "Early stopping occurred at epoch 20 with best_epoch = 3 and best_val_0_accuracy = 0.92963\n",
      "Best weights from best epoch are automatically used!\n",
      "\n",
      "Early stopping occurred at epoch 19 with best_epoch = 2 and best_val_0_accuracy = 0.9308\n",
      "Best weights from best epoch are automatically used!\n",
      "\n",
      "Early stopping occurred at epoch 30 with best_epoch = 13 and best_val_0_accuracy = 0.9244\n",
      "Best weights from best epoch are automatically used!\n",
      "Stop training because you reached max_epochs = 89 with best_epoch = 88 and best_val_0_accuracy = 0.9536\n",
      "Best weights from best epoch are automatically used!\n"
     ]
    },
    {
     "name": "stderr",
     "output_type": "stream",
     "text": [
      "\u001b[32m[I 2022-05-12 15:47:34,504]\u001b[0m Trial 59 finished with value: 0.9334513234706117 and parameters: {'mask_type': 'entmax', 'n_da': 64, 'n_steps': 7, 'gamma': 1.5, 'n_shared': 3, 'lambda_sparse': 6.060781773787473e-06, 'sc_gamma': 0.8, 'sc_steps': 40, 'patience': 17, 'epochs': 89}. Best is trial 27 with value: 0.9576073250699721.\u001b[0m\n"
     ]
    },
    {
     "name": "stdout",
     "output_type": "stream",
     "text": [
      "\n",
      "Early stopping occurred at epoch 27 with best_epoch = 12 and best_val_0_accuracy = 0.89884\n",
      "Best weights from best epoch are automatically used!\n",
      "\n",
      "Early stopping occurred at epoch 42 with best_epoch = 27 and best_val_0_accuracy = 0.95162\n",
      "Best weights from best epoch are automatically used!\n",
      "\n",
      "Early stopping occurred at epoch 53 with best_epoch = 38 and best_val_0_accuracy = 0.9488\n",
      "Best weights from best epoch are automatically used!\n",
      "\n",
      "Early stopping occurred at epoch 19 with best_epoch = 4 and best_val_0_accuracy = 0.8988\n",
      "Best weights from best epoch are automatically used!\n",
      "Stop training because you reached max_epochs = 84 with best_epoch = 72 and best_val_0_accuracy = 0.948\n",
      "Best weights from best epoch are automatically used!\n"
     ]
    },
    {
     "name": "stderr",
     "output_type": "stream",
     "text": [
      "\u001b[32m[I 2022-05-12 15:53:25,891]\u001b[0m Trial 60 finished with value: 0.9292119632147141 and parameters: {'mask_type': 'sparsemax', 'n_da': 44, 'n_steps': 4, 'gamma': 1.1, 'n_shared': 5, 'lambda_sparse': 1.3421082916160167e-05, 'sc_gamma': 0.7, 'sc_steps': 40, 'patience': 15, 'epochs': 84}. Best is trial 27 with value: 0.9576073250699721.\u001b[0m\n"
     ]
    },
    {
     "name": "stdout",
     "output_type": "stream",
     "text": [
      "\n",
      "Early stopping occurred at epoch 53 with best_epoch = 24 and best_val_0_accuracy = 0.95202\n",
      "Best weights from best epoch are automatically used!\n",
      "Stop training because you reached max_epochs = 80 with best_epoch = 76 and best_val_0_accuracy = 0.95442\n",
      "Best weights from best epoch are automatically used!\n",
      "Stop training because you reached max_epochs = 80 with best_epoch = 76 and best_val_0_accuracy = 0.956\n",
      "Best weights from best epoch are automatically used!\n",
      "\n",
      "Early stopping occurred at epoch 35 with best_epoch = 6 and best_val_0_accuracy = 0.9428\n",
      "Best weights from best epoch are automatically used!\n",
      "Stop training because you reached max_epochs = 80 with best_epoch = 65 and best_val_0_accuracy = 0.956\n",
      "Best weights from best epoch are automatically used!\n"
     ]
    },
    {
     "name": "stderr",
     "output_type": "stream",
     "text": [
      "\u001b[32m[I 2022-05-12 16:00:36,071]\u001b[0m Trial 61 finished with value: 0.9522474850059975 and parameters: {'mask_type': 'sparsemax', 'n_da': 64, 'n_steps': 4, 'gamma': 1.3, 'n_shared': 3, 'lambda_sparse': 1.0556520437314328e-05, 'sc_gamma': 0.5, 'sc_steps': 30, 'patience': 29, 'epochs': 80}. Best is trial 27 with value: 0.9576073250699721.\u001b[0m\n"
     ]
    },
    {
     "name": "stdout",
     "output_type": "stream",
     "text": [
      "\n",
      "Early stopping occurred at epoch 55 with best_epoch = 27 and best_val_0_accuracy = 0.94922\n",
      "Best weights from best epoch are automatically used!\n",
      "Stop training because you reached max_epochs = 75 with best_epoch = 60 and best_val_0_accuracy = 0.95162\n",
      "Best weights from best epoch are automatically used!\n",
      "Stop training because you reached max_epochs = 75 with best_epoch = 71 and best_val_0_accuracy = 0.9512\n",
      "Best weights from best epoch are automatically used!\n",
      "Stop training because you reached max_epochs = 75 with best_epoch = 73 and best_val_0_accuracy = 0.954\n",
      "Best weights from best epoch are automatically used!\n",
      "Stop training because you reached max_epochs = 75 with best_epoch = 63 and best_val_0_accuracy = 0.9524\n",
      "Best weights from best epoch are automatically used!\n"
     ]
    },
    {
     "name": "stderr",
     "output_type": "stream",
     "text": [
      "\u001b[32m[I 2022-05-12 16:08:17,207]\u001b[0m Trial 62 finished with value: 0.9516879328268691 and parameters: {'mask_type': 'sparsemax', 'n_da': 60, 'n_steps': 4, 'gamma': 1.2, 'n_shared': 3, 'lambda_sparse': 1.9520714103570953e-05, 'sc_gamma': 0.5, 'sc_steps': 30, 'patience': 28, 'epochs': 75}. Best is trial 27 with value: 0.9576073250699721.\u001b[0m\n"
     ]
    },
    {
     "name": "stdout",
     "output_type": "stream",
     "text": [
      "Stop training because you reached max_epochs = 66 with best_epoch = 62 and best_val_0_accuracy = 0.94642\n",
      "Best weights from best epoch are automatically used!\n",
      "\n",
      "Early stopping occurred at epoch 60 with best_epoch = 35 and best_val_0_accuracy = 0.94922\n",
      "Best weights from best epoch are automatically used!\n",
      "Stop training because you reached max_epochs = 66 with best_epoch = 52 and best_val_0_accuracy = 0.9588\n",
      "Best weights from best epoch are automatically used!\n",
      "Stop training because you reached max_epochs = 66 with best_epoch = 63 and best_val_0_accuracy = 0.9548\n",
      "Best weights from best epoch are automatically used!\n",
      "Stop training because you reached max_epochs = 66 with best_epoch = 64 and best_val_0_accuracy = 0.95\n",
      "Best weights from best epoch are automatically used!\n"
     ]
    },
    {
     "name": "stderr",
     "output_type": "stream",
     "text": [
      "\u001b[32m[I 2022-05-12 16:15:17,229]\u001b[0m Trial 63 finished with value: 0.9518483486605358 and parameters: {'mask_type': 'sparsemax', 'n_da': 64, 'n_steps': 4, 'gamma': 1.4, 'n_shared': 3, 'lambda_sparse': 7.293194089117297e-06, 'sc_gamma': 0.6, 'sc_steps': 30, 'patience': 25, 'epochs': 66}. Best is trial 27 with value: 0.9576073250699721.\u001b[0m\n"
     ]
    },
    {
     "name": "stdout",
     "output_type": "stream",
     "text": [
      "Stop training because you reached max_epochs = 87 with best_epoch = 83 and best_val_0_accuracy = 0.95562\n",
      "Best weights from best epoch are automatically used!\n",
      "Stop training because you reached max_epochs = 87 with best_epoch = 84 and best_val_0_accuracy = 0.95682\n",
      "Best weights from best epoch are automatically used!\n",
      "Stop training because you reached max_epochs = 87 with best_epoch = 82 and best_val_0_accuracy = 0.9588\n",
      "Best weights from best epoch are automatically used!\n",
      "Stop training because you reached max_epochs = 87 with best_epoch = 85 and best_val_0_accuracy = 0.96\n",
      "Best weights from best epoch are automatically used!\n",
      "Stop training because you reached max_epochs = 87 with best_epoch = 86 and best_val_0_accuracy = 0.9576\n",
      "Best weights from best epoch are automatically used!\n"
     ]
    },
    {
     "name": "stderr",
     "output_type": "stream",
     "text": [
      "\u001b[32m[I 2022-05-12 16:24:40,391]\u001b[0m Trial 64 finished with value: 0.9577670051979208 and parameters: {'mask_type': 'sparsemax', 'n_da': 60, 'n_steps': 4, 'gamma': 1.3, 'n_shared': 3, 'lambda_sparse': 0.0008928448070152222, 'sc_gamma': 0.5, 'sc_steps': 30, 'patience': 29, 'epochs': 87}. Best is trial 64 with value: 0.9577670051979208.\u001b[0m\n"
     ]
    },
    {
     "name": "stdout",
     "output_type": "stream",
     "text": [
      "Stop training because you reached max_epochs = 90 with best_epoch = 78 and best_val_0_accuracy = 0.94962\n",
      "Best weights from best epoch are automatically used!\n",
      "Stop training because you reached max_epochs = 90 with best_epoch = 89 and best_val_0_accuracy = 0.95362\n",
      "Best weights from best epoch are automatically used!\n",
      "Stop training because you reached max_epochs = 90 with best_epoch = 74 and best_val_0_accuracy = 0.9628\n",
      "Best weights from best epoch are automatically used!\n",
      "Stop training because you reached max_epochs = 90 with best_epoch = 88 and best_val_0_accuracy = 0.9604\n",
      "Best weights from best epoch are automatically used!\n",
      "Stop training because you reached max_epochs = 90 with best_epoch = 69 and best_val_0_accuracy = 0.9596\n",
      "Best weights from best epoch are automatically used!\n"
     ]
    },
    {
     "name": "stderr",
     "output_type": "stream",
     "text": [
      "\u001b[32m[I 2022-05-12 16:35:16,728]\u001b[0m Trial 65 finished with value: 0.9572077409036386 and parameters: {'mask_type': 'sparsemax', 'n_da': 60, 'n_steps': 4, 'gamma': 1.2, 'n_shared': 4, 'lambda_sparse': 0.0005326760560696264, 'sc_gamma': 0.6, 'sc_steps': 50, 'patience': 30, 'epochs': 90}. Best is trial 64 with value: 0.9577670051979208.\u001b[0m\n"
     ]
    },
    {
     "name": "stdout",
     "output_type": "stream",
     "text": [
      "\n",
      "Early stopping occurred at epoch 46 with best_epoch = 16 and best_val_0_accuracy = 0.94322\n",
      "Best weights from best epoch are automatically used!\n",
      "Stop training because you reached max_epochs = 100 with best_epoch = 84 and best_val_0_accuracy = 0.95682\n",
      "Best weights from best epoch are automatically used!\n",
      "\n",
      "Early stopping occurred at epoch 76 with best_epoch = 46 and best_val_0_accuracy = 0.9556\n",
      "Best weights from best epoch are automatically used!\n",
      "Stop training because you reached max_epochs = 100 with best_epoch = 98 and best_val_0_accuracy = 0.962\n",
      "Best weights from best epoch are automatically used!\n",
      "Stop training because you reached max_epochs = 100 with best_epoch = 95 and best_val_0_accuracy = 0.9548\n",
      "Best weights from best epoch are automatically used!\n"
     ]
    },
    {
     "name": "stderr",
     "output_type": "stream",
     "text": [
      "\u001b[32m[I 2022-05-12 16:45:15,082]\u001b[0m Trial 66 finished with value: 0.9544879968012794 and parameters: {'mask_type': 'sparsemax', 'n_da': 60, 'n_steps': 4, 'gamma': 1.2, 'n_shared': 4, 'lambda_sparse': 0.0009423347950356616, 'sc_gamma': 0.6, 'sc_steps': 50, 'patience': 30, 'epochs': 100}. Best is trial 64 with value: 0.9577670051979208.\u001b[0m\n"
     ]
    },
    {
     "name": "stdout",
     "output_type": "stream",
     "text": [
      "Stop training because you reached max_epochs = 94 with best_epoch = 74 and best_val_0_accuracy = 0.95042\n",
      "Best weights from best epoch are automatically used!\n",
      "Stop training because you reached max_epochs = 94 with best_epoch = 81 and best_val_0_accuracy = 0.95762\n",
      "Best weights from best epoch are automatically used!\n",
      "\n",
      "Early stopping occurred at epoch 53 with best_epoch = 24 and best_val_0_accuracy = 0.9396\n",
      "Best weights from best epoch are automatically used!\n",
      "Stop training because you reached max_epochs = 94 with best_epoch = 73 and best_val_0_accuracy = 0.956\n",
      "Best weights from best epoch are automatically used!\n",
      "Stop training because you reached max_epochs = 94 with best_epoch = 91 and best_val_0_accuracy = 0.9572\n",
      "Best weights from best epoch are automatically used!\n"
     ]
    },
    {
     "name": "stderr",
     "output_type": "stream",
     "text": [
      "\u001b[32m[I 2022-05-12 16:55:21,430]\u001b[0m Trial 67 finished with value: 0.9521673570571771 and parameters: {'mask_type': 'sparsemax', 'n_da': 56, 'n_steps': 4, 'gamma': 1.1, 'n_shared': 4, 'lambda_sparse': 0.0008631160453097113, 'sc_gamma': 0.7, 'sc_steps': 20, 'patience': 29, 'epochs': 94}. Best is trial 64 with value: 0.9577670051979208.\u001b[0m\n"
     ]
    },
    {
     "name": "stdout",
     "output_type": "stream",
     "text": [
      "Stop training because you reached max_epochs = 87 with best_epoch = 81 and best_val_0_accuracy = 0.95762\n",
      "Best weights from best epoch are automatically used!\n",
      "\n",
      "Early stopping occurred at epoch 52 with best_epoch = 22 and best_val_0_accuracy = 0.94682\n",
      "Best weights from best epoch are automatically used!\n",
      "\n",
      "Early stopping occurred at epoch 49 with best_epoch = 19 and best_val_0_accuracy = 0.9392\n",
      "Best weights from best epoch are automatically used!\n",
      "Stop training because you reached max_epochs = 87 with best_epoch = 61 and best_val_0_accuracy = 0.9616\n",
      "Best weights from best epoch are automatically used!\n",
      "Stop training because you reached max_epochs = 87 with best_epoch = 83 and best_val_0_accuracy = 0.956\n",
      "Best weights from best epoch are automatically used!\n"
     ]
    },
    {
     "name": "stderr",
     "output_type": "stream",
     "text": [
      "\u001b[32m[I 2022-05-12 17:04:36,950]\u001b[0m Trial 68 finished with value: 0.9522476449420232 and parameters: {'mask_type': 'sparsemax', 'n_da': 60, 'n_steps': 4, 'gamma': 1.3, 'n_shared': 5, 'lambda_sparse': 0.0005586874613009939, 'sc_gamma': 0.5, 'sc_steps': 30, 'patience': 30, 'epochs': 87}. Best is trial 64 with value: 0.9577670051979208.\u001b[0m\n"
     ]
    },
    {
     "name": "stdout",
     "output_type": "stream",
     "text": [
      "Stop training because you reached max_epochs = 91 with best_epoch = 73 and best_val_0_accuracy = 0.95762\n",
      "Best weights from best epoch are automatically used!\n",
      "\n",
      "Early stopping occurred at epoch 39 with best_epoch = 10 and best_val_0_accuracy = 0.92443\n",
      "Best weights from best epoch are automatically used!\n",
      "Stop training because you reached max_epochs = 91 with best_epoch = 65 and best_val_0_accuracy = 0.9512\n",
      "Best weights from best epoch are automatically used!\n",
      "Stop training because you reached max_epochs = 91 with best_epoch = 80 and best_val_0_accuracy = 0.9584\n",
      "Best weights from best epoch are automatically used!\n",
      "\n",
      "Early stopping occurred at epoch 46 with best_epoch = 17 and best_val_0_accuracy = 0.9396\n",
      "Best weights from best epoch are automatically used!\n"
     ]
    },
    {
     "name": "stderr",
     "output_type": "stream",
     "text": [
      "\u001b[32m[I 2022-05-12 17:13:03,205]\u001b[0m Trial 69 finished with value: 0.9462494362255098 and parameters: {'mask_type': 'sparsemax', 'n_da': 52, 'n_steps': 4, 'gamma': 1.2, 'n_shared': 4, 'lambda_sparse': 0.0007228957742360694, 'sc_gamma': 1.8, 'sc_steps': 40, 'patience': 29, 'epochs': 91}. Best is trial 64 with value: 0.9577670051979208.\u001b[0m\n"
     ]
    },
    {
     "name": "stdout",
     "output_type": "stream",
     "text": [
      "Stop training because you reached max_epochs = 97 with best_epoch = 91 and best_val_0_accuracy = 0.96042\n",
      "Best weights from best epoch are automatically used!\n",
      "\n",
      "Early stopping occurred at epoch 32 with best_epoch = 4 and best_val_0_accuracy = 0.94002\n",
      "Best weights from best epoch are automatically used!\n",
      "\n",
      "Early stopping occurred at epoch 33 with best_epoch = 5 and best_val_0_accuracy = 0.9408\n",
      "Best weights from best epoch are automatically used!\n",
      "\n",
      "Early stopping occurred at epoch 42 with best_epoch = 14 and best_val_0_accuracy = 0.9428\n",
      "Best weights from best epoch are automatically used!\n",
      "\n",
      "Early stopping occurred at epoch 32 with best_epoch = 4 and best_val_0_accuracy = 0.924\n",
      "Best weights from best epoch are automatically used!\n"
     ]
    },
    {
     "name": "stderr",
     "output_type": "stream",
     "text": [
      "\u001b[32m[I 2022-05-12 17:18:12,344]\u001b[0m Trial 70 finished with value: 0.9416079648140745 and parameters: {'mask_type': 'sparsemax', 'n_da': 40, 'n_steps': 4, 'gamma': 1.2, 'n_shared': 3, 'lambda_sparse': 0.0003883905940988307, 'sc_gamma': 0.6, 'sc_steps': 50, 'patience': 28, 'epochs': 97}. Best is trial 64 with value: 0.9577670051979208.\u001b[0m\n"
     ]
    },
    {
     "name": "stdout",
     "output_type": "stream",
     "text": [
      "\n",
      "Early stopping occurred at epoch 31 with best_epoch = 2 and best_val_0_accuracy = 0.91044\n",
      "Best weights from best epoch are automatically used!\n",
      "Stop training because you reached max_epochs = 90 with best_epoch = 77 and best_val_0_accuracy = 0.95642\n",
      "Best weights from best epoch are automatically used!\n",
      "Stop training because you reached max_epochs = 90 with best_epoch = 85 and best_val_0_accuracy = 0.9476\n",
      "Best weights from best epoch are automatically used!\n",
      "Stop training because you reached max_epochs = 90 with best_epoch = 82 and best_val_0_accuracy = 0.9652\n",
      "Best weights from best epoch are automatically used!\n",
      "\n",
      "Early stopping occurred at epoch 63 with best_epoch = 34 and best_val_0_accuracy = 0.9432\n",
      "Best weights from best epoch are automatically used!\n"
     ]
    },
    {
     "name": "stderr",
     "output_type": "stream",
     "text": [
      "\u001b[32m[I 2022-05-12 17:27:29,475]\u001b[0m Trial 71 finished with value: 0.9445706517393042 and parameters: {'mask_type': 'sparsemax', 'n_da': 60, 'n_steps': 4, 'gamma': 1.1, 'n_shared': 5, 'lambda_sparse': 0.00013075569302220503, 'sc_gamma': 0.5, 'sc_steps': 50, 'patience': 29, 'epochs': 90}. Best is trial 64 with value: 0.9577670051979208.\u001b[0m\n"
     ]
    },
    {
     "name": "stdout",
     "output_type": "stream",
     "text": [
      "Stop training because you reached max_epochs = 86 with best_epoch = 70 and best_val_0_accuracy = 0.95562\n",
      "Best weights from best epoch are automatically used!\n",
      "Stop training because you reached max_epochs = 86 with best_epoch = 84 and best_val_0_accuracy = 0.95482\n",
      "Best weights from best epoch are automatically used!\n",
      "Stop training because you reached max_epochs = 86 with best_epoch = 80 and best_val_0_accuracy = 0.9516\n",
      "Best weights from best epoch are automatically used!\n",
      "\n",
      "Early stopping occurred at epoch 44 with best_epoch = 14 and best_val_0_accuracy = 0.9424\n",
      "Best weights from best epoch are automatically used!\n",
      "Stop training because you reached max_epochs = 86 with best_epoch = 84 and best_val_0_accuracy = 0.9548\n",
      "Best weights from best epoch are automatically used!\n"
     ]
    },
    {
     "name": "stderr",
     "output_type": "stream",
     "text": [
      "\u001b[32m[I 2022-05-12 17:36:38,321]\u001b[0m Trial 72 finished with value: 0.9518471651339464 and parameters: {'mask_type': 'sparsemax', 'n_da': 64, 'n_steps': 4, 'gamma': 1.4, 'n_shared': 4, 'lambda_sparse': 0.00024740753325880614, 'sc_gamma': 0.7, 'sc_steps': 50, 'patience': 30, 'epochs': 86}. Best is trial 64 with value: 0.9577670051979208.\u001b[0m\n"
     ]
    },
    {
     "name": "stdout",
     "output_type": "stream",
     "text": [
      "\n",
      "Early stopping occurred at epoch 44 with best_epoch = 20 and best_val_0_accuracy = 0.94762\n",
      "Best weights from best epoch are automatically used!\n",
      "Stop training because you reached max_epochs = 94 with best_epoch = 93 and best_val_0_accuracy = 0.95322\n",
      "Best weights from best epoch are automatically used!\n",
      "\n",
      "Early stopping occurred at epoch 85 with best_epoch = 61 and best_val_0_accuracy = 0.9524\n",
      "Best weights from best epoch are automatically used!\n",
      "\n",
      "Early stopping occurred at epoch 26 with best_epoch = 2 and best_val_0_accuracy = 0.9396\n",
      "Best weights from best epoch are automatically used!\n",
      "Stop training because you reached max_epochs = 94 with best_epoch = 90 and best_val_0_accuracy = 0.96\n",
      "Best weights from best epoch are automatically used!\n"
     ]
    },
    {
     "name": "stderr",
     "output_type": "stream",
     "text": [
      "\u001b[32m[I 2022-05-12 17:44:11,879]\u001b[0m Trial 73 finished with value: 0.9505679328268691 and parameters: {'mask_type': 'sparsemax', 'n_da': 56, 'n_steps': 4, 'gamma': 1.0, 'n_shared': 3, 'lambda_sparse': 0.0005932023208617198, 'sc_gamma': 0.8, 'sc_steps': 50, 'patience': 24, 'epochs': 94}. Best is trial 64 with value: 0.9577670051979208.\u001b[0m\n"
     ]
    },
    {
     "name": "stdout",
     "output_type": "stream",
     "text": [
      "Stop training because you reached max_epochs = 82 with best_epoch = 79 and best_val_0_accuracy = 0.94842\n",
      "Best weights from best epoch are automatically used!\n",
      "\n",
      "Early stopping occurred at epoch 29 with best_epoch = 1 and best_val_0_accuracy = 0.93403\n",
      "Best weights from best epoch are automatically used!\n",
      "\n",
      "Early stopping occurred at epoch 31 with best_epoch = 3 and best_val_0_accuracy = 0.9212\n",
      "Best weights from best epoch are automatically used!\n",
      "\n",
      "Early stopping occurred at epoch 42 with best_epoch = 14 and best_val_0_accuracy = 0.9404\n",
      "Best weights from best epoch are automatically used!\n",
      "\n",
      "Early stopping occurred at epoch 58 with best_epoch = 30 and best_val_0_accuracy = 0.9452\n",
      "Best weights from best epoch are automatically used!\n"
     ]
    },
    {
     "name": "stderr",
     "output_type": "stream",
     "text": [
      "\u001b[32m[I 2022-05-12 17:50:29,231]\u001b[0m Trial 74 finished with value: 0.9378494042383047 and parameters: {'mask_type': 'sparsemax', 'n_da': 60, 'n_steps': 4, 'gamma': 1.3, 'n_shared': 5, 'lambda_sparse': 0.000791481270702912, 'sc_gamma': 0.6, 'sc_steps': 50, 'patience': 28, 'epochs': 82}. Best is trial 64 with value: 0.9577670051979208.\u001b[0m\n"
     ]
    },
    {
     "name": "stdout",
     "output_type": "stream",
     "text": [
      "Stop training because you reached max_epochs = 76 with best_epoch = 70 and best_val_0_accuracy = 0.95642\n",
      "Best weights from best epoch are automatically used!\n",
      "Stop training because you reached max_epochs = 76 with best_epoch = 65 and best_val_0_accuracy = 0.95522\n",
      "Best weights from best epoch are automatically used!\n",
      "Stop training because you reached max_epochs = 76 with best_epoch = 71 and best_val_0_accuracy = 0.9564\n",
      "Best weights from best epoch are automatically used!\n",
      "\n",
      "Early stopping occurred at epoch 69 with best_epoch = 39 and best_val_0_accuracy = 0.9532\n",
      "Best weights from best epoch are automatically used!\n",
      "Stop training because you reached max_epochs = 76 with best_epoch = 71 and best_val_0_accuracy = 0.954\n",
      "Best weights from best epoch are automatically used!\n"
     ]
    },
    {
     "name": "stderr",
     "output_type": "stream",
     "text": [
      "\u001b[32m[I 2022-05-12 17:57:48,697]\u001b[0m Trial 75 finished with value: 0.9550470691723311 and parameters: {'mask_type': 'sparsemax', 'n_da': 64, 'n_steps': 4, 'gamma': 1.2, 'n_shared': 2, 'lambda_sparse': 0.000336564335240034, 'sc_gamma': 1.2000000000000002, 'sc_steps': 50, 'patience': 30, 'epochs': 76}. Best is trial 64 with value: 0.9577670051979208.\u001b[0m\n"
     ]
    },
    {
     "name": "stdout",
     "output_type": "stream",
     "text": [
      "Stop training because you reached max_epochs = 58 with best_epoch = 52 and best_val_0_accuracy = 0.95002\n",
      "Best weights from best epoch are automatically used!\n",
      "Stop training because you reached max_epochs = 58 with best_epoch = 48 and best_val_0_accuracy = 0.94642\n",
      "Best weights from best epoch are automatically used!\n",
      "Stop training because you reached max_epochs = 58 with best_epoch = 36 and best_val_0_accuracy = 0.95\n",
      "Best weights from best epoch are automatically used!\n",
      "Stop training because you reached max_epochs = 58 with best_epoch = 57 and best_val_0_accuracy = 0.9536\n",
      "Best weights from best epoch are automatically used!\n",
      "Stop training because you reached max_epochs = 58 with best_epoch = 51 and best_val_0_accuracy = 0.9508\n",
      "Best weights from best epoch are automatically used!\n"
     ]
    },
    {
     "name": "stderr",
     "output_type": "stream",
     "text": [
      "\u001b[32m[I 2022-05-12 18:04:04,946]\u001b[0m Trial 76 finished with value: 0.9501682846861256 and parameters: {'mask_type': 'entmax', 'n_da': 60, 'n_steps': 4, 'gamma': 1.5, 'n_shared': 3, 'lambda_sparse': 2.5527932538791867e-06, 'sc_gamma': 0.7, 'sc_steps': 30, 'patience': 29, 'epochs': 58}. Best is trial 64 with value: 0.9577670051979208.\u001b[0m\n"
     ]
    },
    {
     "name": "stdout",
     "output_type": "stream",
     "text": [
      "Stop training because you reached max_epochs = 97 with best_epoch = 86 and best_val_0_accuracy = 0.94922\n",
      "Best weights from best epoch are automatically used!\n",
      "Stop training because you reached max_epochs = 97 with best_epoch = 90 and best_val_0_accuracy = 0.95642\n",
      "Best weights from best epoch are automatically used!\n",
      "\n",
      "Early stopping occurred at epoch 37 with best_epoch = 11 and best_val_0_accuracy = 0.952\n",
      "Best weights from best epoch are automatically used!\n",
      "Stop training because you reached max_epochs = 97 with best_epoch = 72 and best_val_0_accuracy = 0.9656\n",
      "Best weights from best epoch are automatically used!\n",
      "\n",
      "Early stopping occurred at epoch 34 with best_epoch = 8 and best_val_0_accuracy = 0.9468\n",
      "Best weights from best epoch are automatically used!\n"
     ]
    },
    {
     "name": "stderr",
     "output_type": "stream",
     "text": [
      "\u001b[32m[I 2022-05-12 18:12:29,486]\u001b[0m Trial 77 finished with value: 0.9540075489804078 and parameters: {'mask_type': 'sparsemax', 'n_da': 56, 'n_steps': 4, 'gamma': 1.1, 'n_shared': 4, 'lambda_sparse': 1.5267935854635028e-06, 'sc_gamma': 0.6, 'sc_steps': 50, 'patience': 26, 'epochs': 97}. Best is trial 64 with value: 0.9577670051979208.\u001b[0m\n"
     ]
    },
    {
     "name": "stdout",
     "output_type": "stream",
     "text": [
      "\n",
      "Early stopping occurred at epoch 38 with best_epoch = 15 and best_val_0_accuracy = 0.93523\n",
      "Best weights from best epoch are automatically used!\n",
      "\n",
      "Early stopping occurred at epoch 28 with best_epoch = 5 and best_val_0_accuracy = 0.94202\n",
      "Best weights from best epoch are automatically used!\n",
      "\n",
      "Early stopping occurred at epoch 34 with best_epoch = 11 and best_val_0_accuracy = 0.9392\n",
      "Best weights from best epoch are automatically used!\n",
      "\n",
      "Early stopping occurred at epoch 57 with best_epoch = 34 and best_val_0_accuracy = 0.9544\n",
      "Best weights from best epoch are automatically used!\n",
      "\n",
      "Early stopping occurred at epoch 35 with best_epoch = 12 and best_val_0_accuracy = 0.94\n",
      "Best weights from best epoch are automatically used!\n"
     ]
    },
    {
     "name": "stderr",
     "output_type": "stream",
     "text": [
      "\u001b[32m[I 2022-05-12 18:17:26,019]\u001b[0m Trial 78 finished with value: 0.9421698200719713 and parameters: {'mask_type': 'sparsemax', 'n_da': 52, 'n_steps': 4, 'gamma': 1.6, 'n_shared': 5, 'lambda_sparse': 3.8953341350228416e-06, 'sc_gamma': 0.8, 'sc_steps': 40, 'patience': 23, 'epochs': 88}. Best is trial 64 with value: 0.9577670051979208.\u001b[0m\n"
     ]
    },
    {
     "name": "stdout",
     "output_type": "stream",
     "text": [
      "Stop training because you reached max_epochs = 100 with best_epoch = 93 and best_val_0_accuracy = 0.95722\n",
      "Best weights from best epoch are automatically used!\n",
      "Stop training because you reached max_epochs = 100 with best_epoch = 96 and best_val_0_accuracy = 0.95402\n",
      "Best weights from best epoch are automatically used!\n",
      "Stop training because you reached max_epochs = 100 with best_epoch = 85 and best_val_0_accuracy = 0.9576\n",
      "Best weights from best epoch are automatically used!\n",
      "\n",
      "Early stopping occurred at epoch 99 with best_epoch = 70 and best_val_0_accuracy = 0.9596\n",
      "Best weights from best epoch are automatically used!\n",
      "Stop training because you reached max_epochs = 100 with best_epoch = 88 and best_val_0_accuracy = 0.9632\n",
      "Best weights from best epoch are automatically used!\n"
     ]
    },
    {
     "name": "stderr",
     "output_type": "stream",
     "text": [
      "\u001b[32m[I 2022-05-12 18:27:11,466]\u001b[0m Trial 79 finished with value: 0.9583271011595361 and parameters: {'mask_type': 'sparsemax', 'n_da': 60, 'n_steps': 4, 'gamma': 1.3, 'n_shared': 2, 'lambda_sparse': 8.562607883553948e-06, 'sc_gamma': 0.5, 'sc_steps': 50, 'patience': 29, 'epochs': 100}. Best is trial 79 with value: 0.9583271011595361.\u001b[0m\n"
     ]
    },
    {
     "name": "stdout",
     "output_type": "stream",
     "text": [
      "\n",
      "Early stopping occurred at epoch 45 with best_epoch = 16 and best_val_0_accuracy = 0.94882\n",
      "Best weights from best epoch are automatically used!\n",
      "Stop training because you reached max_epochs = 100 with best_epoch = 99 and best_val_0_accuracy = 0.96122\n",
      "Best weights from best epoch are automatically used!\n",
      "Stop training because you reached max_epochs = 100 with best_epoch = 93 and best_val_0_accuracy = 0.9604\n",
      "Best weights from best epoch are automatically used!\n",
      "Stop training because you reached max_epochs = 100 with best_epoch = 85 and best_val_0_accuracy = 0.9632\n",
      "Best weights from best epoch are automatically used!\n",
      "Stop training because you reached max_epochs = 100 with best_epoch = 86 and best_val_0_accuracy = 0.9588\n",
      "Best weights from best epoch are automatically used!\n"
     ]
    },
    {
     "name": "stderr",
     "output_type": "stream",
     "text": [
      "\u001b[32m[I 2022-05-12 18:36:52,943]\u001b[0m Trial 80 finished with value: 0.9584871971211515 and parameters: {'mask_type': 'sparsemax', 'n_da': 60, 'n_steps': 4, 'gamma': 1.3, 'n_shared': 3, 'lambda_sparse': 1.6435134316084006e-05, 'sc_gamma': 0.5, 'sc_steps': 40, 'patience': 29, 'epochs': 100}. Best is trial 80 with value: 0.9584871971211515.\u001b[0m\n"
     ]
    },
    {
     "name": "stdout",
     "output_type": "stream",
     "text": [
      "\n",
      "Early stopping occurred at epoch 53 with best_epoch = 24 and best_val_0_accuracy = 0.95882\n",
      "Best weights from best epoch are automatically used!\n",
      "\n",
      "Early stopping occurred at epoch 53 with best_epoch = 24 and best_val_0_accuracy = 0.95362\n",
      "Best weights from best epoch are automatically used!\n",
      "Stop training because you reached max_epochs = 100 with best_epoch = 89 and best_val_0_accuracy = 0.9564\n",
      "Best weights from best epoch are automatically used!\n",
      "\n",
      "Early stopping occurred at epoch 48 with best_epoch = 19 and best_val_0_accuracy = 0.9464\n",
      "Best weights from best epoch are automatically used!\n",
      "\n",
      "Early stopping occurred at epoch 69 with best_epoch = 40 and best_val_0_accuracy = 0.9544\n",
      "Best weights from best epoch are automatically used!\n"
     ]
    },
    {
     "name": "stderr",
     "output_type": "stream",
     "text": [
      "\u001b[32m[I 2022-05-12 18:43:58,130]\u001b[0m Trial 81 finished with value: 0.9539270051979208 and parameters: {'mask_type': 'sparsemax', 'n_da': 60, 'n_steps': 4, 'gamma': 1.3, 'n_shared': 3, 'lambda_sparse': 1.9330912965949733e-05, 'sc_gamma': 0.5, 'sc_steps': 40, 'patience': 29, 'epochs': 100}. Best is trial 80 with value: 0.9584871971211515.\u001b[0m\n"
     ]
    },
    {
     "name": "stdout",
     "output_type": "stream",
     "text": [
      "\n",
      "Early stopping occurred at epoch 56 with best_epoch = 26 and best_val_0_accuracy = 0.94642\n",
      "Best weights from best epoch are automatically used!\n",
      "\n",
      "Early stopping occurred at epoch 64 with best_epoch = 34 and best_val_0_accuracy = 0.95362\n",
      "Best weights from best epoch are automatically used!\n",
      "Stop training because you reached max_epochs = 98 with best_epoch = 97 and best_val_0_accuracy = 0.96\n",
      "Best weights from best epoch are automatically used!\n",
      "Stop training because you reached max_epochs = 98 with best_epoch = 87 and best_val_0_accuracy = 0.9616\n",
      "Best weights from best epoch are automatically used!\n",
      "Stop training because you reached max_epochs = 98 with best_epoch = 96 and best_val_0_accuracy = 0.9624\n",
      "Best weights from best epoch are automatically used!\n"
     ]
    },
    {
     "name": "stderr",
     "output_type": "stream",
     "text": [
      "\u001b[32m[I 2022-05-12 18:52:57,547]\u001b[0m Trial 82 finished with value: 0.9568079968012795 and parameters: {'mask_type': 'sparsemax', 'n_da': 64, 'n_steps': 4, 'gamma': 1.3, 'n_shared': 3, 'lambda_sparse': 8.279877838387608e-06, 'sc_gamma': 0.5, 'sc_steps': 40, 'patience': 30, 'epochs': 98}. Best is trial 80 with value: 0.9584871971211515.\u001b[0m\n"
     ]
    },
    {
     "name": "stdout",
     "output_type": "stream",
     "text": [
      "\n",
      "Early stopping occurred at epoch 54 with best_epoch = 25 and best_val_0_accuracy = 0.96042\n",
      "Best weights from best epoch are automatically used!\n",
      "Stop training because you reached max_epochs = 99 with best_epoch = 96 and best_val_0_accuracy = 0.95602\n",
      "Best weights from best epoch are automatically used!\n",
      "Stop training because you reached max_epochs = 99 with best_epoch = 84 and best_val_0_accuracy = 0.9588\n",
      "Best weights from best epoch are automatically used!\n",
      "Stop training because you reached max_epochs = 99 with best_epoch = 78 and best_val_0_accuracy = 0.9652\n",
      "Best weights from best epoch are automatically used!\n",
      "\n",
      "Early stopping occurred at epoch 70 with best_epoch = 41 and best_val_0_accuracy = 0.9568\n",
      "Best weights from best epoch are automatically used!\n"
     ]
    },
    {
     "name": "stderr",
     "output_type": "stream",
     "text": [
      "\u001b[32m[I 2022-05-12 19:02:06,438]\u001b[0m Trial 83 finished with value: 0.9594466853258696 and parameters: {'mask_type': 'sparsemax', 'n_da': 64, 'n_steps': 4, 'gamma': 1.3, 'n_shared': 3, 'lambda_sparse': 1.1299317410352372e-05, 'sc_gamma': 0.5, 'sc_steps': 40, 'patience': 29, 'epochs': 99}. Best is trial 83 with value: 0.9594466853258696.\u001b[0m\n"
     ]
    },
    {
     "name": "stdout",
     "output_type": "stream",
     "text": [
      "Stop training because you reached max_epochs = 98 with best_epoch = 86 and best_val_0_accuracy = 0.95522\n",
      "Best weights from best epoch are automatically used!\n",
      "\n",
      "Early stopping occurred at epoch 66 with best_epoch = 36 and best_val_0_accuracy = 0.95042\n",
      "Best weights from best epoch are automatically used!\n",
      "\n",
      "Early stopping occurred at epoch 60 with best_epoch = 30 and best_val_0_accuracy = 0.954\n",
      "Best weights from best epoch are automatically used!\n",
      "Stop training because you reached max_epochs = 98 with best_epoch = 97 and best_val_0_accuracy = 0.96\n",
      "Best weights from best epoch are automatically used!\n",
      "\n",
      "Early stopping occurred at epoch 95 with best_epoch = 65 and best_val_0_accuracy = 0.9528\n",
      "Best weights from best epoch are automatically used!\n"
     ]
    },
    {
     "name": "stderr",
     "output_type": "stream",
     "text": [
      "\u001b[32m[I 2022-05-12 19:11:08,376]\u001b[0m Trial 84 finished with value: 0.9544875489804078 and parameters: {'mask_type': 'sparsemax', 'n_da': 64, 'n_steps': 4, 'gamma': 1.3, 'n_shared': 3, 'lambda_sparse': 9.071094415126759e-06, 'sc_gamma': 0.5, 'sc_steps': 40, 'patience': 30, 'epochs': 98}. Best is trial 83 with value: 0.9594466853258696.\u001b[0m\n"
     ]
    },
    {
     "name": "stdout",
     "output_type": "stream",
     "text": [
      "\n",
      "Early stopping occurred at epoch 64 with best_epoch = 35 and best_val_0_accuracy = 0.95562\n",
      "Best weights from best epoch are automatically used!\n",
      "\n",
      "Early stopping occurred at epoch 56 with best_epoch = 27 and best_val_0_accuracy = 0.94722\n",
      "Best weights from best epoch are automatically used!\n",
      "Stop training because you reached max_epochs = 95 with best_epoch = 78 and best_val_0_accuracy = 0.9588\n",
      "Best weights from best epoch are automatically used!\n",
      "\n",
      "Early stopping occurred at epoch 31 with best_epoch = 2 and best_val_0_accuracy = 0.9148\n",
      "Best weights from best epoch are automatically used!\n",
      "\n",
      "Early stopping occurred at epoch 40 with best_epoch = 11 and best_val_0_accuracy = 0.9492\n",
      "Best weights from best epoch are automatically used!\n"
     ]
    },
    {
     "name": "stderr",
     "output_type": "stream",
     "text": [
      "\u001b[32m[I 2022-05-12 19:17:24,293]\u001b[0m Trial 85 finished with value: 0.9451277728908437 and parameters: {'mask_type': 'sparsemax', 'n_da': 64, 'n_steps': 4, 'gamma': 1.4, 'n_shared': 3, 'lambda_sparse': 1.2032693939609357e-05, 'sc_gamma': 0.5, 'sc_steps': 40, 'patience': 29, 'epochs': 95}. Best is trial 83 with value: 0.9594466853258696.\u001b[0m\n"
     ]
    },
    {
     "name": "stdout",
     "output_type": "stream",
     "text": [
      "\n",
      "Early stopping occurred at epoch 65 with best_epoch = 35 and best_val_0_accuracy = 0.95202\n",
      "Best weights from best epoch are automatically used!\n",
      "\n",
      "Early stopping occurred at epoch 79 with best_epoch = 49 and best_val_0_accuracy = 0.95722\n",
      "Best weights from best epoch are automatically used!\n",
      "Stop training because you reached max_epochs = 92 with best_epoch = 89 and best_val_0_accuracy = 0.9592\n",
      "Best weights from best epoch are automatically used!\n",
      "Stop training because you reached max_epochs = 92 with best_epoch = 90 and best_val_0_accuracy = 0.9588\n",
      "Best weights from best epoch are automatically used!\n",
      "\n",
      "Early stopping occurred at epoch 58 with best_epoch = 28 and best_val_0_accuracy = 0.9516\n",
      "Best weights from best epoch are automatically used!\n"
     ]
    },
    {
     "name": "stderr",
     "output_type": "stream",
     "text": [
      "\u001b[32m[I 2022-05-12 19:25:41,911]\u001b[0m Trial 86 finished with value: 0.9557672610955616 and parameters: {'mask_type': 'sparsemax', 'n_da': 64, 'n_steps': 4, 'gamma': 1.3, 'n_shared': 3, 'lambda_sparse': 1.646933456872584e-05, 'sc_gamma': 0.6, 'sc_steps': 40, 'patience': 30, 'epochs': 92}. Best is trial 83 with value: 0.9594466853258696.\u001b[0m\n"
     ]
    },
    {
     "name": "stdout",
     "output_type": "stream",
     "text": [
      "Stop training because you reached max_epochs = 48 with best_epoch = 42 and best_val_0_accuracy = 0.91723\n",
      "Best weights from best epoch are automatically used!\n",
      "\n",
      "Early stopping occurred at epoch 34 with best_epoch = 5 and best_val_0_accuracy = 0.93403\n",
      "Best weights from best epoch are automatically used!\n",
      "Stop training because you reached max_epochs = 48 with best_epoch = 20 and best_val_0_accuracy = 0.9484\n",
      "Best weights from best epoch are automatically used!\n",
      "Stop training because you reached max_epochs = 48 with best_epoch = 46 and best_val_0_accuracy = 0.9408\n",
      "Best weights from best epoch are automatically used!\n",
      "Stop training because you reached max_epochs = 48 with best_epoch = 46 and best_val_0_accuracy = 0.9508\n",
      "Best weights from best epoch are automatically used!\n"
     ]
    },
    {
     "name": "stderr",
     "output_type": "stream",
     "text": [
      "\u001b[32m[I 2022-05-12 19:30:36,379]\u001b[0m Trial 87 finished with value: 0.9382518992403039 and parameters: {'mask_type': 'sparsemax', 'n_da': 32, 'n_steps': 4, 'gamma': 1.4, 'n_shared': 3, 'lambda_sparse': 8.134232633018587e-06, 'sc_gamma': 0.6, 'sc_steps': 30, 'patience': 29, 'epochs': 48}. Best is trial 83 with value: 0.9594466853258696.\u001b[0m\n"
     ]
    },
    {
     "name": "stdout",
     "output_type": "stream",
     "text": [
      "\n",
      "Early stopping occurred at epoch 83 with best_epoch = 55 and best_val_0_accuracy = 0.95442\n",
      "Best weights from best epoch are automatically used!\n",
      "Stop training because you reached max_epochs = 99 with best_epoch = 82 and best_val_0_accuracy = 0.95162\n",
      "Best weights from best epoch are automatically used!\n",
      "Stop training because you reached max_epochs = 99 with best_epoch = 98 and best_val_0_accuracy = 0.9548\n",
      "Best weights from best epoch are automatically used!\n",
      "\n",
      "Early stopping occurred at epoch 68 with best_epoch = 40 and best_val_0_accuracy = 0.9576\n",
      "Best weights from best epoch are automatically used!\n",
      "Stop training because you reached max_epochs = 99 with best_epoch = 81 and best_val_0_accuracy = 0.9592\n",
      "Best weights from best epoch are automatically used!\n"
     ]
    },
    {
     "name": "stderr",
     "output_type": "stream",
     "text": [
      "\u001b[32m[I 2022-05-12 19:40:18,667]\u001b[0m Trial 88 finished with value: 0.9555275169932027 and parameters: {'mask_type': 'sparsemax', 'n_da': 60, 'n_steps': 4, 'gamma': 1.3, 'n_shared': 3, 'lambda_sparse': 1.0934402529382883e-05, 'sc_gamma': 0.5, 'sc_steps': 40, 'patience': 28, 'epochs': 99}. Best is trial 83 with value: 0.9594466853258696.\u001b[0m\n"
     ]
    },
    {
     "name": "stdout",
     "output_type": "stream",
     "text": [
      "\n",
      "Early stopping occurred at epoch 33 with best_epoch = 5 and best_val_0_accuracy = 0.94162\n",
      "Best weights from best epoch are automatically used!\n",
      "\n",
      "Early stopping occurred at epoch 31 with best_epoch = 3 and best_val_0_accuracy = 0.94282\n",
      "Best weights from best epoch are automatically used!\n",
      "\n",
      "Early stopping occurred at epoch 32 with best_epoch = 4 and best_val_0_accuracy = 0.9256\n",
      "Best weights from best epoch are automatically used!\n",
      "\n",
      "Early stopping occurred at epoch 35 with best_epoch = 7 and best_val_0_accuracy = 0.9308\n",
      "Best weights from best epoch are automatically used!\n",
      "\n",
      "Early stopping occurred at epoch 35 with best_epoch = 7 and best_val_0_accuracy = 0.9268\n",
      "Best weights from best epoch are automatically used!\n"
     ]
    },
    {
     "name": "stderr",
     "output_type": "stream",
     "text": [
      "\u001b[32m[I 2022-05-12 19:46:47,077]\u001b[0m Trial 89 finished with value: 0.9335292443022791 and parameters: {'mask_type': 'entmax', 'n_da': 64, 'n_steps': 10, 'gamma': 1.4, 'n_shared': 3, 'lambda_sparse': 4.571274990115251e-05, 'sc_gamma': 0.6, 'sc_steps': 40, 'patience': 28, 'epochs': 95}. Best is trial 83 with value: 0.9594466853258696.\u001b[0m\n"
     ]
    },
    {
     "name": "stdout",
     "output_type": "stream",
     "text": [
      "\n",
      "Early stopping occurred at epoch 68 with best_epoch = 39 and best_val_0_accuracy = 0.95642\n",
      "Best weights from best epoch are automatically used!\n",
      "\n",
      "Early stopping occurred at epoch 71 with best_epoch = 42 and best_val_0_accuracy = 0.95122\n",
      "Best weights from best epoch are automatically used!\n",
      "\n",
      "Early stopping occurred at epoch 36 with best_epoch = 7 and best_val_0_accuracy = 0.944\n",
      "Best weights from best epoch are automatically used!\n",
      "\n",
      "Early stopping occurred at epoch 62 with best_epoch = 33 and best_val_0_accuracy = 0.9452\n",
      "Best weights from best epoch are automatically used!\n",
      "Stop training because you reached max_epochs = 92 with best_epoch = 68 and best_val_0_accuracy = 0.9576\n",
      "Best weights from best epoch are automatically used!\n"
     ]
    },
    {
     "name": "stderr",
     "output_type": "stream",
     "text": [
      "\u001b[32m[I 2022-05-12 19:53:16,781]\u001b[0m Trial 90 finished with value: 0.9508873890443823 and parameters: {'mask_type': 'sparsemax', 'n_da': 60, 'n_steps': 4, 'gamma': 1.3, 'n_shared': 2, 'lambda_sparse': 1.585524959553304e-05, 'sc_gamma': 0.5, 'sc_steps': 30, 'patience': 29, 'epochs': 92}. Best is trial 83 with value: 0.9594466853258696.\u001b[0m\n"
     ]
    },
    {
     "name": "stdout",
     "output_type": "stream",
     "text": [
      "Stop training because you reached max_epochs = 98 with best_epoch = 80 and best_val_0_accuracy = 0.95682\n",
      "Best weights from best epoch are automatically used!\n",
      "\n",
      "Early stopping occurred at epoch 86 with best_epoch = 58 and best_val_0_accuracy = 0.95602\n",
      "Best weights from best epoch are automatically used!\n",
      "\n",
      "Early stopping occurred at epoch 73 with best_epoch = 45 and best_val_0_accuracy = 0.9584\n",
      "Best weights from best epoch are automatically used!\n",
      "Stop training because you reached max_epochs = 98 with best_epoch = 85 and best_val_0_accuracy = 0.9628\n",
      "Best weights from best epoch are automatically used!\n",
      "\n",
      "Early stopping occurred at epoch 97 with best_epoch = 69 and best_val_0_accuracy = 0.9576\n",
      "Best weights from best epoch are automatically used!\n"
     ]
    },
    {
     "name": "stderr",
     "output_type": "stream",
     "text": [
      "\u001b[32m[I 2022-05-12 20:02:57,702]\u001b[0m Trial 91 finished with value: 0.9583269732107157 and parameters: {'mask_type': 'sparsemax', 'n_da': 60, 'n_steps': 4, 'gamma': 1.2, 'n_shared': 3, 'lambda_sparse': 6.143840814775308e-06, 'sc_gamma': 0.6, 'sc_steps': 40, 'patience': 28, 'epochs': 98}. Best is trial 83 with value: 0.9594466853258696.\u001b[0m\n"
     ]
    },
    {
     "name": "stdout",
     "output_type": "stream",
     "text": [
      "\n",
      "Early stopping occurred at epoch 61 with best_epoch = 34 and best_val_0_accuracy = 0.95762\n",
      "Best weights from best epoch are automatically used!\n",
      "\n",
      "Early stopping occurred at epoch 90 with best_epoch = 63 and best_val_0_accuracy = 0.95202\n",
      "Best weights from best epoch are automatically used!\n",
      "Stop training because you reached max_epochs = 98 with best_epoch = 77 and best_val_0_accuracy = 0.9564\n",
      "Best weights from best epoch are automatically used!\n",
      "Stop training because you reached max_epochs = 98 with best_epoch = 96 and best_val_0_accuracy = 0.96\n",
      "Best weights from best epoch are automatically used!\n",
      "\n",
      "Early stopping occurred at epoch 53 with best_epoch = 26 and best_val_0_accuracy = 0.95\n",
      "Best weights from best epoch are automatically used!\n"
     ]
    },
    {
     "name": "stderr",
     "output_type": "stream",
     "text": [
      "\u001b[32m[I 2022-05-12 20:11:41,720]\u001b[0m Trial 92 finished with value: 0.9552072291083566 and parameters: {'mask_type': 'sparsemax', 'n_da': 64, 'n_steps': 4, 'gamma': 1.2, 'n_shared': 3, 'lambda_sparse': 2.4312932936654894e-05, 'sc_gamma': 0.5, 'sc_steps': 40, 'patience': 27, 'epochs': 98}. Best is trial 83 with value: 0.9594466853258696.\u001b[0m\n"
     ]
    },
    {
     "name": "stdout",
     "output_type": "stream",
     "text": [
      "\n",
      "Early stopping occurred at epoch 53 with best_epoch = 23 and best_val_0_accuracy = 0.95242\n",
      "Best weights from best epoch are automatically used!\n",
      "\n",
      "Early stopping occurred at epoch 91 with best_epoch = 61 and best_val_0_accuracy = 0.95762\n",
      "Best weights from best epoch are automatically used!\n",
      "Stop training because you reached max_epochs = 100 with best_epoch = 96 and best_val_0_accuracy = 0.9612\n",
      "Best weights from best epoch are automatically used!\n",
      "Stop training because you reached max_epochs = 100 with best_epoch = 98 and best_val_0_accuracy = 0.9652\n",
      "Best weights from best epoch are automatically used!\n",
      "Stop training because you reached max_epochs = 100 with best_epoch = 92 and best_val_0_accuracy = 0.9488\n",
      "Best weights from best epoch are automatically used!\n"
     ]
    },
    {
     "name": "stderr",
     "output_type": "stream",
     "text": [
      "\u001b[32m[I 2022-05-12 20:21:17,079]\u001b[0m Trial 93 finished with value: 0.9570471971211514 and parameters: {'mask_type': 'sparsemax', 'n_da': 60, 'n_steps': 4, 'gamma': 1.3, 'n_shared': 3, 'lambda_sparse': 6.061424301051197e-06, 'sc_gamma': 0.6, 'sc_steps': 40, 'patience': 30, 'epochs': 100}. Best is trial 83 with value: 0.9594466853258696.\u001b[0m\n"
     ]
    },
    {
     "name": "stdout",
     "output_type": "stream",
     "text": [
      "Stop training because you reached max_epochs = 94 with best_epoch = 85 and best_val_0_accuracy = 0.95442\n",
      "Best weights from best epoch are automatically used!\n",
      "Stop training because you reached max_epochs = 94 with best_epoch = 86 and best_val_0_accuracy = 0.95642\n",
      "Best weights from best epoch are automatically used!\n",
      "Stop training because you reached max_epochs = 94 with best_epoch = 69 and best_val_0_accuracy = 0.9552\n",
      "Best weights from best epoch are automatically used!\n",
      "\n",
      "Early stopping occurred at epoch 52 with best_epoch = 23 and best_val_0_accuracy = 0.954\n",
      "Best weights from best epoch are automatically used!\n",
      "Stop training because you reached max_epochs = 94 with best_epoch = 76 and best_val_0_accuracy = 0.9576\n",
      "Best weights from best epoch are automatically used!\n"
     ]
    },
    {
     "name": "stderr",
     "output_type": "stream",
     "text": [
      "\u001b[32m[I 2022-05-12 20:30:31,188]\u001b[0m Trial 94 finished with value: 0.9555271331467413 and parameters: {'mask_type': 'sparsemax', 'n_da': 56, 'n_steps': 4, 'gamma': 1.2, 'n_shared': 3, 'lambda_sparse': 6.005120570706861e-06, 'sc_gamma': 0.7, 'sc_steps': 40, 'patience': 29, 'epochs': 94}. Best is trial 83 with value: 0.9594466853258696.\u001b[0m\n"
     ]
    },
    {
     "name": "stdout",
     "output_type": "stream",
     "text": [
      "\n",
      "Early stopping occurred at epoch 32 with best_epoch = 4 and best_val_0_accuracy = 0.94162\n",
      "Best weights from best epoch are automatically used!\n",
      "Stop training because you reached max_epochs = 96 with best_epoch = 93 and best_val_0_accuracy = 0.95362\n",
      "Best weights from best epoch are automatically used!\n",
      "\n",
      "Early stopping occurred at epoch 40 with best_epoch = 12 and best_val_0_accuracy = 0.9476\n",
      "Best weights from best epoch are automatically used!\n",
      "Stop training because you reached max_epochs = 96 with best_epoch = 94 and best_val_0_accuracy = 0.9616\n",
      "Best weights from best epoch are automatically used!\n",
      "Stop training because you reached max_epochs = 96 with best_epoch = 93 and best_val_0_accuracy = 0.9548\n",
      "Best weights from best epoch are automatically used!\n"
     ]
    },
    {
     "name": "stderr",
     "output_type": "stream",
     "text": [
      "\u001b[32m[I 2022-05-12 20:38:24,214]\u001b[0m Trial 95 finished with value: 0.9518483806477409 and parameters: {'mask_type': 'sparsemax', 'n_da': 60, 'n_steps': 4, 'gamma': 1.4, 'n_shared': 3, 'lambda_sparse': 3.409725778886991e-06, 'sc_gamma': 0.6, 'sc_steps': 30, 'patience': 28, 'epochs': 96}. Best is trial 83 with value: 0.9594466853258696.\u001b[0m\n"
     ]
    },
    {
     "name": "stdout",
     "output_type": "stream",
     "text": [
      "\n",
      "Early stopping occurred at epoch 62 with best_epoch = 32 and best_val_0_accuracy = 0.95762\n",
      "Best weights from best epoch are automatically used!\n",
      "Stop training because you reached max_epochs = 100 with best_epoch = 97 and best_val_0_accuracy = 0.95762\n",
      "Best weights from best epoch are automatically used!\n",
      "Stop training because you reached max_epochs = 100 with best_epoch = 97 and best_val_0_accuracy = 0.9556\n",
      "Best weights from best epoch are automatically used!\n",
      "Stop training because you reached max_epochs = 100 with best_epoch = 97 and best_val_0_accuracy = 0.9636\n",
      "Best weights from best epoch are automatically used!\n",
      "Stop training because you reached max_epochs = 100 with best_epoch = 96 and best_val_0_accuracy = 0.9596\n",
      "Best weights from best epoch are automatically used!\n"
     ]
    },
    {
     "name": "stderr",
     "output_type": "stream",
     "text": [
      "\u001b[32m[I 2022-05-12 20:48:22,789]\u001b[0m Trial 96 finished with value: 0.9588067812874851 and parameters: {'mask_type': 'sparsemax', 'n_da': 60, 'n_steps': 4, 'gamma': 1.3, 'n_shared': 3, 'lambda_sparse': 5.860204730871859e-06, 'sc_gamma': 0.6, 'sc_steps': 40, 'patience': 30, 'epochs': 100}. Best is trial 83 with value: 0.9594466853258696.\u001b[0m\n"
     ]
    },
    {
     "name": "stdout",
     "output_type": "stream",
     "text": [
      "\n",
      "Early stopping occurred at epoch 59 with best_epoch = 29 and best_val_0_accuracy = 0.95642\n",
      "Best weights from best epoch are automatically used!\n",
      "\n",
      "Early stopping occurred at epoch 38 with best_epoch = 8 and best_val_0_accuracy = 0.93723\n",
      "Best weights from best epoch are automatically used!\n",
      "\n",
      "Early stopping occurred at epoch 52 with best_epoch = 22 and best_val_0_accuracy = 0.9528\n",
      "Best weights from best epoch are automatically used!\n",
      "Stop training because you reached max_epochs = 100 with best_epoch = 94 and best_val_0_accuracy = 0.9632\n",
      "Best weights from best epoch are automatically used!\n",
      "Stop training because you reached max_epochs = 100 with best_epoch = 95 and best_val_0_accuracy = 0.9584\n",
      "Best weights from best epoch are automatically used!\n"
     ]
    },
    {
     "name": "stderr",
     "output_type": "stream",
     "text": [
      "\u001b[32m[I 2022-05-12 20:56:00,564]\u001b[0m Trial 97 finished with value: 0.9536085085965613 and parameters: {'mask_type': 'sparsemax', 'n_da': 56, 'n_steps': 4, 'gamma': 1.3, 'n_shared': 3, 'lambda_sparse': 4.394180324055819e-06, 'sc_gamma': 0.6, 'sc_steps': 40, 'patience': 30, 'epochs': 100}. Best is trial 83 with value: 0.9594466853258696.\u001b[0m\n"
     ]
    },
    {
     "name": "stdout",
     "output_type": "stream",
     "text": [
      "Stop training because you reached max_epochs = 32 with best_epoch = 28 and best_val_0_accuracy = 0.93922\n",
      "Best weights from best epoch are automatically used!\n",
      "Stop training because you reached max_epochs = 32 with best_epoch = 23 and best_val_0_accuracy = 0.94322\n",
      "Best weights from best epoch are automatically used!\n",
      "Stop training because you reached max_epochs = 32 with best_epoch = 27 and best_val_0_accuracy = 0.94\n",
      "Best weights from best epoch are automatically used!\n",
      "Stop training because you reached max_epochs = 32 with best_epoch = 22 and best_val_0_accuracy = 0.944\n",
      "Best weights from best epoch are automatically used!\n",
      "Stop training because you reached max_epochs = 32 with best_epoch = 18 and best_val_0_accuracy = 0.9372\n",
      "Best weights from best epoch are automatically used!\n"
     ]
    },
    {
     "name": "stderr",
     "output_type": "stream",
     "text": [
      "\u001b[32m[I 2022-05-12 20:59:46,824]\u001b[0m Trial 98 finished with value: 0.9407294042383046 and parameters: {'mask_type': 'sparsemax', 'n_da': 60, 'n_steps': 4, 'gamma': 1.2, 'n_shared': 4, 'lambda_sparse': 5.568005300372704e-06, 'sc_gamma': 0.6, 'sc_steps': 40, 'patience': 30, 'epochs': 32}. Best is trial 83 with value: 0.9594466853258696.\u001b[0m\n"
     ]
    },
    {
     "name": "stdout",
     "output_type": "stream",
     "text": [
      "Stop training because you reached max_epochs = 90 with best_epoch = 88 and best_val_0_accuracy = 0.95122\n",
      "Best weights from best epoch are automatically used!\n",
      "Stop training because you reached max_epochs = 90 with best_epoch = 81 and best_val_0_accuracy = 0.95762\n",
      "Best weights from best epoch are automatically used!\n",
      "Stop training because you reached max_epochs = 90 with best_epoch = 89 and best_val_0_accuracy = 0.9604\n",
      "Best weights from best epoch are automatically used!\n",
      "Stop training because you reached max_epochs = 90 with best_epoch = 89 and best_val_0_accuracy = 0.9584\n",
      "Best weights from best epoch are automatically used!\n",
      "Stop training because you reached max_epochs = 90 with best_epoch = 78 and best_val_0_accuracy = 0.9512\n",
      "Best weights from best epoch are automatically used!\n"
     ]
    },
    {
     "name": "stderr",
     "output_type": "stream",
     "text": [
      "\u001b[32m[I 2022-05-12 21:09:30,459]\u001b[0m Trial 99 finished with value: 0.955767293082767 and parameters: {'mask_type': 'sparsemax', 'n_da': 60, 'n_steps': 4, 'gamma': 1.3, 'n_shared': 3, 'lambda_sparse': 6.750387627629263e-06, 'sc_gamma': 0.7, 'sc_steps': 40, 'patience': 29, 'epochs': 90}. Best is trial 83 with value: 0.9594466853258696.\u001b[0m\n"
     ]
    },
    {
     "name": "stdout",
     "output_type": "stream",
     "text": [
      "Stop training because you reached max_epochs = 93 with best_epoch = 81 and best_val_0_accuracy = 0.95042\n",
      "Best weights from best epoch are automatically used!\n",
      "Stop training because you reached max_epochs = 93 with best_epoch = 84 and best_val_0_accuracy = 0.95682\n",
      "Best weights from best epoch are automatically used!\n",
      "\n",
      "Early stopping occurred at epoch 58 with best_epoch = 28 and best_val_0_accuracy = 0.9512\n",
      "Best weights from best epoch are automatically used!\n",
      "Stop training because you reached max_epochs = 93 with best_epoch = 78 and best_val_0_accuracy = 0.96\n",
      "Best weights from best epoch are automatically used!\n",
      "Stop training because you reached max_epochs = 93 with best_epoch = 90 and best_val_0_accuracy = 0.9556\n",
      "Best weights from best epoch are automatically used!\n"
     ]
    },
    {
     "name": "stderr",
     "output_type": "stream",
     "text": [
      "\u001b[32m[I 2022-05-12 21:17:59,908]\u001b[0m Trial 100 finished with value: 0.9548074210315874 and parameters: {'mask_type': 'sparsemax', 'n_da': 56, 'n_steps': 4, 'gamma': 1.3, 'n_shared': 2, 'lambda_sparse': 1.1338466706550577e-05, 'sc_gamma': 0.6, 'sc_steps': 40, 'patience': 30, 'epochs': 93}. Best is trial 83 with value: 0.9594466853258696.\u001b[0m\n"
     ]
    },
    {
     "name": "stdout",
     "output_type": "stream",
     "text": [
      "\n",
      "Early stopping occurred at epoch 48 with best_epoch = 19 and best_val_0_accuracy = 0.94442\n",
      "Best weights from best epoch are automatically used!\n",
      "Stop training because you reached max_epochs = 100 with best_epoch = 92 and best_val_0_accuracy = 0.95322\n",
      "Best weights from best epoch are automatically used!\n",
      "Stop training because you reached max_epochs = 100 with best_epoch = 88 and best_val_0_accuracy = 0.9604\n",
      "Best weights from best epoch are automatically used!\n",
      "Stop training because you reached max_epochs = 100 with best_epoch = 81 and best_val_0_accuracy = 0.9596\n",
      "Best weights from best epoch are automatically used!\n",
      "Stop training because you reached max_epochs = 100 with best_epoch = 92 and best_val_0_accuracy = 0.956\n",
      "Best weights from best epoch are automatically used!\n"
     ]
    },
    {
     "name": "stderr",
     "output_type": "stream",
     "text": [
      "\u001b[32m[I 2022-05-12 21:27:39,806]\u001b[0m Trial 101 finished with value: 0.9547281887245103 and parameters: {'mask_type': 'sparsemax', 'n_da': 60, 'n_steps': 4, 'gamma': 1.4, 'n_shared': 3, 'lambda_sparse': 6.928722197814735e-06, 'sc_gamma': 0.7, 'sc_steps': 30, 'patience': 29, 'epochs': 100}. Best is trial 83 with value: 0.9594466853258696.\u001b[0m\n"
     ]
    },
    {
     "name": "stdout",
     "output_type": "stream",
     "text": [
      "Stop training because you reached max_epochs = 96 with best_epoch = 90 and best_val_0_accuracy = 0.96281\n",
      "Best weights from best epoch are automatically used!\n",
      "\n",
      "Early stopping occurred at epoch 85 with best_epoch = 57 and best_val_0_accuracy = 0.95722\n",
      "Best weights from best epoch are automatically used!\n",
      "Stop training because you reached max_epochs = 96 with best_epoch = 69 and best_val_0_accuracy = 0.9604\n",
      "Best weights from best epoch are automatically used!\n",
      "Stop training because you reached max_epochs = 96 with best_epoch = 94 and best_val_0_accuracy = 0.9644\n",
      "Best weights from best epoch are automatically used!\n",
      "\n",
      "Early stopping occurred at epoch 70 with best_epoch = 42 and best_val_0_accuracy = 0.9504\n",
      "Best weights from best epoch are automatically used!\n"
     ]
    },
    {
     "name": "stderr",
     "output_type": "stream",
     "text": [
      "\u001b[32m[I 2022-05-12 21:37:15,431]\u001b[0m Trial 102 finished with value: 0.9590463974410236 and parameters: {'mask_type': 'sparsemax', 'n_da': 60, 'n_steps': 4, 'gamma': 1.2, 'n_shared': 3, 'lambda_sparse': 1.3603612302488157e-05, 'sc_gamma': 0.5, 'sc_steps': 40, 'patience': 28, 'epochs': 96}. Best is trial 83 with value: 0.9594466853258696.\u001b[0m\n"
     ]
    },
    {
     "name": "stdout",
     "output_type": "stream",
     "text": [
      "Stop training because you reached max_epochs = 96 with best_epoch = 95 and best_val_0_accuracy = 0.95322\n",
      "Best weights from best epoch are automatically used!\n",
      "Stop training because you reached max_epochs = 96 with best_epoch = 95 and best_val_0_accuracy = 0.95482\n",
      "Best weights from best epoch are automatically used!\n",
      "Stop training because you reached max_epochs = 96 with best_epoch = 88 and best_val_0_accuracy = 0.9636\n",
      "Best weights from best epoch are automatically used!\n",
      "Stop training because you reached max_epochs = 96 with best_epoch = 89 and best_val_0_accuracy = 0.9624\n",
      "Best weights from best epoch are automatically used!\n",
      "\n",
      "Early stopping occurred at epoch 39 with best_epoch = 11 and best_val_0_accuracy = 0.942\n",
      "Best weights from best epoch are automatically used!\n"
     ]
    },
    {
     "name": "stderr",
     "output_type": "stream",
     "text": [
      "\u001b[32m[I 2022-05-12 21:46:23,476]\u001b[0m Trial 103 finished with value: 0.9552073570571771 and parameters: {'mask_type': 'sparsemax', 'n_da': 60, 'n_steps': 4, 'gamma': 1.2, 'n_shared': 3, 'lambda_sparse': 1.4380447699024157e-05, 'sc_gamma': 0.5, 'sc_steps': 40, 'patience': 28, 'epochs': 96}. Best is trial 83 with value: 0.9594466853258696.\u001b[0m\n"
     ]
    },
    {
     "name": "stdout",
     "output_type": "stream",
     "text": [
      "\n",
      "Early stopping occurred at epoch 88 with best_epoch = 60 and best_val_0_accuracy = 0.95242\n",
      "Best weights from best epoch are automatically used!\n",
      "\n",
      "Early stopping occurred at epoch 44 with best_epoch = 16 and best_val_0_accuracy = 0.94642\n",
      "Best weights from best epoch are automatically used!\n",
      "Stop training because you reached max_epochs = 98 with best_epoch = 90 and best_val_0_accuracy = 0.96\n",
      "Best weights from best epoch are automatically used!\n",
      "Stop training because you reached max_epochs = 98 with best_epoch = 71 and best_val_0_accuracy = 0.9604\n",
      "Best weights from best epoch are automatically used!\n",
      "Stop training because you reached max_epochs = 98 with best_epoch = 86 and best_val_0_accuracy = 0.9572\n",
      "Best weights from best epoch are automatically used!\n"
     ]
    },
    {
     "name": "stderr",
     "output_type": "stream",
     "text": [
      "\u001b[32m[I 2022-05-12 21:55:33,203]\u001b[0m Trial 104 finished with value: 0.9552880927628948 and parameters: {'mask_type': 'sparsemax', 'n_da': 56, 'n_steps': 4, 'gamma': 1.2, 'n_shared': 3, 'lambda_sparse': 1.287675174205251e-05, 'sc_gamma': 0.5, 'sc_steps': 40, 'patience': 28, 'epochs': 98}. Best is trial 83 with value: 0.9594466853258696.\u001b[0m\n"
     ]
    },
    {
     "name": "stdout",
     "output_type": "stream",
     "text": [
      "\n",
      "Early stopping occurred at epoch 54 with best_epoch = 27 and best_val_0_accuracy = 0.95362\n",
      "Best weights from best epoch are automatically used!\n",
      "Stop training because you reached max_epochs = 91 with best_epoch = 74 and best_val_0_accuracy = 0.95642\n",
      "Best weights from best epoch are automatically used!\n",
      "\n",
      "Early stopping occurred at epoch 64 with best_epoch = 37 and best_val_0_accuracy = 0.9524\n",
      "Best weights from best epoch are automatically used!\n",
      "Stop training because you reached max_epochs = 91 with best_epoch = 84 and best_val_0_accuracy = 0.9608\n",
      "Best weights from best epoch are automatically used!\n",
      "Stop training because you reached max_epochs = 91 with best_epoch = 84 and best_val_0_accuracy = 0.9568\n",
      "Best weights from best epoch are automatically used!\n"
     ]
    },
    {
     "name": "stderr",
     "output_type": "stream",
     "text": [
      "\u001b[32m[I 2022-05-12 22:04:00,273]\u001b[0m Trial 105 finished with value: 0.9560071971211516 and parameters: {'mask_type': 'sparsemax', 'n_da': 60, 'n_steps': 4, 'gamma': 1.3, 'n_shared': 3, 'lambda_sparse': 8.57276083073384e-06, 'sc_gamma': 0.6, 'sc_steps': 40, 'patience': 27, 'epochs': 91}. Best is trial 83 with value: 0.9594466853258696.\u001b[0m\n"
     ]
    },
    {
     "name": "stdout",
     "output_type": "stream",
     "text": [
      "Stop training because you reached max_epochs = 19 with best_epoch = 6 and best_val_0_accuracy = 0.88645\n",
      "Best weights from best epoch are automatically used!\n",
      "Stop training because you reached max_epochs = 19 with best_epoch = 13 and best_val_0_accuracy = 0.91723\n",
      "Best weights from best epoch are automatically used!\n",
      "Stop training because you reached max_epochs = 19 with best_epoch = 14 and best_val_0_accuracy = 0.9432\n",
      "Best weights from best epoch are automatically used!\n",
      "Stop training because you reached max_epochs = 19 with best_epoch = 18 and best_val_0_accuracy = 0.9352\n",
      "Best weights from best epoch are automatically used!\n",
      "Stop training because you reached max_epochs = 19 with best_epoch = 2 and best_val_0_accuracy = 0.924\n",
      "Best weights from best epoch are automatically used!\n"
     ]
    },
    {
     "name": "stderr",
     "output_type": "stream",
     "text": [
      "\u001b[32m[I 2022-05-12 22:06:06,909]\u001b[0m Trial 106 finished with value: 0.921215705717713 and parameters: {'mask_type': 'sparsemax', 'n_da': 60, 'n_steps': 4, 'gamma': 1.2, 'n_shared': 3, 'lambda_sparse': 1.0278955132065675e-05, 'sc_gamma': 0.5, 'sc_steps': 40, 'patience': 21, 'epochs': 19}. Best is trial 83 with value: 0.9594466853258696.\u001b[0m\n"
     ]
    },
    {
     "name": "stdout",
     "output_type": "stream",
     "text": [
      "\n",
      "Early stopping occurred at epoch 71 with best_epoch = 41 and best_val_0_accuracy = 0.95242\n",
      "Best weights from best epoch are automatically used!\n",
      "Stop training because you reached max_epochs = 95 with best_epoch = 77 and best_val_0_accuracy = 0.95882\n",
      "Best weights from best epoch are automatically used!\n",
      "\n",
      "Early stopping occurred at epoch 49 with best_epoch = 19 and best_val_0_accuracy = 0.9512\n",
      "Best weights from best epoch are automatically used!\n",
      "Stop training because you reached max_epochs = 95 with best_epoch = 81 and best_val_0_accuracy = 0.962\n",
      "Best weights from best epoch are automatically used!\n",
      "\n",
      "Early stopping occurred at epoch 71 with best_epoch = 41 and best_val_0_accuracy = 0.9588\n",
      "Best weights from best epoch are automatically used!\n"
     ]
    },
    {
     "name": "stderr",
     "output_type": "stream",
     "text": [
      "\u001b[32m[I 2022-05-12 22:14:24,464]\u001b[0m Trial 107 finished with value: 0.9566471011595361 and parameters: {'mask_type': 'sparsemax', 'n_da': 48, 'n_steps': 4, 'gamma': 1.2, 'n_shared': 3, 'lambda_sparse': 9.50438548660867e-06, 'sc_gamma': 0.5, 'sc_steps': 30, 'patience': 30, 'epochs': 95}. Best is trial 83 with value: 0.9594466853258696.\u001b[0m\n"
     ]
    },
    {
     "name": "stdout",
     "output_type": "stream",
     "text": [
      "Stop training because you reached max_epochs = 86 with best_epoch = 85 and best_val_0_accuracy = 0.95882\n",
      "Best weights from best epoch are automatically used!\n",
      "Stop training because you reached max_epochs = 86 with best_epoch = 74 and best_val_0_accuracy = 0.95362\n",
      "Best weights from best epoch are automatically used!\n",
      "Stop training because you reached max_epochs = 86 with best_epoch = 84 and best_val_0_accuracy = 0.9604\n",
      "Best weights from best epoch are automatically used!\n",
      "Stop training because you reached max_epochs = 86 with best_epoch = 84 and best_val_0_accuracy = 0.9612\n",
      "Best weights from best epoch are automatically used!\n",
      "\n",
      "Early stopping occurred at epoch 42 with best_epoch = 13 and best_val_0_accuracy = 0.952\n",
      "Best weights from best epoch are automatically used!\n"
     ]
    },
    {
     "name": "stderr",
     "output_type": "stream",
     "text": [
      "\u001b[32m[I 2022-05-12 22:23:31,062]\u001b[0m Trial 108 finished with value: 0.9572070051979209 and parameters: {'mask_type': 'entmax', 'n_da': 56, 'n_steps': 4, 'gamma': 1.3, 'n_shared': 4, 'lambda_sparse': 5.5270598690350206e-06, 'sc_gamma': 0.6, 'sc_steps': 40, 'patience': 29, 'epochs': 86}. Best is trial 83 with value: 0.9594466853258696.\u001b[0m\n"
     ]
    },
    {
     "name": "stdout",
     "output_type": "stream",
     "text": [
      "Stop training because you reached max_epochs = 85 with best_epoch = 77 and best_val_0_accuracy = 0.96122\n",
      "Best weights from best epoch are automatically used!\n",
      "Stop training because you reached max_epochs = 85 with best_epoch = 60 and best_val_0_accuracy = 0.95562\n",
      "Best weights from best epoch are automatically used!\n",
      "\n",
      "Early stopping occurred at epoch 49 with best_epoch = 20 and best_val_0_accuracy = 0.9544\n",
      "Best weights from best epoch are automatically used!\n",
      "Stop training because you reached max_epochs = 85 with best_epoch = 67 and best_val_0_accuracy = 0.962\n",
      "Best weights from best epoch are automatically used!\n",
      "Stop training because you reached max_epochs = 85 with best_epoch = 84 and best_val_0_accuracy = 0.9592\n",
      "Best weights from best epoch are automatically used!\n"
     ]
    },
    {
     "name": "stderr",
     "output_type": "stream",
     "text": [
      "\u001b[32m[I 2022-05-12 22:32:42,446]\u001b[0m Trial 109 finished with value: 0.9584866533386645 and parameters: {'mask_type': 'entmax', 'n_da': 56, 'n_steps': 4, 'gamma': 1.2, 'n_shared': 4, 'lambda_sparse': 2.085438687922937e-05, 'sc_gamma': 0.7, 'sc_steps': 40, 'patience': 29, 'epochs': 85}. Best is trial 83 with value: 0.9594466853258696.\u001b[0m\n"
     ]
    },
    {
     "name": "stdout",
     "output_type": "stream",
     "text": [
      "\n",
      "Early stopping occurred at epoch 39 with best_epoch = 11 and best_val_0_accuracy = 0.94882\n",
      "Best weights from best epoch are automatically used!\n",
      "Stop training because you reached max_epochs = 84 with best_epoch = 75 and best_val_0_accuracy = 0.95882\n",
      "Best weights from best epoch are automatically used!\n",
      "Stop training because you reached max_epochs = 84 with best_epoch = 82 and best_val_0_accuracy = 0.962\n",
      "Best weights from best epoch are automatically used!\n",
      "Stop training because you reached max_epochs = 84 with best_epoch = 81 and best_val_0_accuracy = 0.9628\n",
      "Best weights from best epoch are automatically used!\n",
      "Stop training because you reached max_epochs = 84 with best_epoch = 73 and best_val_0_accuracy = 0.958\n",
      "Best weights from best epoch are automatically used!\n"
     ]
    },
    {
     "name": "stderr",
     "output_type": "stream",
     "text": [
      "\u001b[32m[I 2022-05-12 22:41:15,345]\u001b[0m Trial 110 finished with value: 0.9580873890443822 and parameters: {'mask_type': 'entmax', 'n_da': 64, 'n_steps': 4, 'gamma': 1.2, 'n_shared': 4, 'lambda_sparse': 2.945076483806566e-05, 'sc_gamma': 0.7, 'sc_steps': 40, 'patience': 28, 'epochs': 84}. Best is trial 83 with value: 0.9594466853258696.\u001b[0m\n"
     ]
    },
    {
     "name": "stdout",
     "output_type": "stream",
     "text": [
      "\n",
      "Early stopping occurred at epoch 51 with best_epoch = 23 and best_val_0_accuracy = 0.94722\n",
      "Best weights from best epoch are automatically used!\n",
      "Stop training because you reached max_epochs = 83 with best_epoch = 61 and best_val_0_accuracy = 0.94682\n",
      "Best weights from best epoch are automatically used!\n",
      "Stop training because you reached max_epochs = 83 with best_epoch = 64 and best_val_0_accuracy = 0.9512\n",
      "Best weights from best epoch are automatically used!\n",
      "Stop training because you reached max_epochs = 83 with best_epoch = 82 and best_val_0_accuracy = 0.958\n",
      "Best weights from best epoch are automatically used!\n",
      "Stop training because you reached max_epochs = 83 with best_epoch = 82 and best_val_0_accuracy = 0.9536\n",
      "Best weights from best epoch are automatically used!\n"
     ]
    },
    {
     "name": "stderr",
     "output_type": "stream",
     "text": [
      "\u001b[32m[I 2022-05-12 22:50:15,852]\u001b[0m Trial 111 finished with value: 0.9513684766093562 and parameters: {'mask_type': 'entmax', 'n_da': 64, 'n_steps': 4, 'gamma': 1.2, 'n_shared': 4, 'lambda_sparse': 3.084868076137137e-05, 'sc_gamma': 0.7, 'sc_steps': 40, 'patience': 28, 'epochs': 83}. Best is trial 83 with value: 0.9594466853258696.\u001b[0m\n"
     ]
    },
    {
     "name": "stdout",
     "output_type": "stream",
     "text": [
      "Stop training because you reached max_epochs = 81 with best_epoch = 74 and best_val_0_accuracy = 0.95082\n",
      "Best weights from best epoch are automatically used!\n",
      "Stop training because you reached max_epochs = 81 with best_epoch = 61 and best_val_0_accuracy = 0.95002\n",
      "Best weights from best epoch are automatically used!\n",
      "\n",
      "Early stopping occurred at epoch 63 with best_epoch = 34 and best_val_0_accuracy = 0.9524\n",
      "Best weights from best epoch are automatically used!\n",
      "Stop training because you reached max_epochs = 81 with best_epoch = 75 and best_val_0_accuracy = 0.9532\n",
      "Best weights from best epoch are automatically used!\n",
      "\n",
      "Early stopping occurred at epoch 55 with best_epoch = 26 and best_val_0_accuracy = 0.9532\n",
      "Best weights from best epoch are automatically used!\n"
     ]
    },
    {
     "name": "stderr",
     "output_type": "stream",
     "text": [
      "\u001b[32m[I 2022-05-12 22:58:47,000]\u001b[0m Trial 112 finished with value: 0.9519279328268692 and parameters: {'mask_type': 'entmax', 'n_da': 64, 'n_steps': 4, 'gamma': 1.2, 'n_shared': 4, 'lambda_sparse': 3.486035270739009e-05, 'sc_gamma': 0.7, 'sc_steps': 40, 'patience': 29, 'epochs': 81}. Best is trial 83 with value: 0.9594466853258696.\u001b[0m\n"
     ]
    },
    {
     "name": "stdout",
     "output_type": "stream",
     "text": [
      "\n",
      "Early stopping occurred at epoch 47 with best_epoch = 20 and best_val_0_accuracy = 0.94842\n",
      "Best weights from best epoch are automatically used!\n",
      "Stop training because you reached max_epochs = 85 with best_epoch = 75 and best_val_0_accuracy = 0.95882\n",
      "Best weights from best epoch are automatically used!\n",
      "Stop training because you reached max_epochs = 85 with best_epoch = 74 and best_val_0_accuracy = 0.9492\n",
      "Best weights from best epoch are automatically used!\n",
      "Stop training because you reached max_epochs = 85 with best_epoch = 69 and best_val_0_accuracy = 0.9604\n",
      "Best weights from best epoch are automatically used!\n",
      "Stop training because you reached max_epochs = 85 with best_epoch = 82 and best_val_0_accuracy = 0.9588\n",
      "Best weights from best epoch are automatically used!\n"
     ]
    },
    {
     "name": "stderr",
     "output_type": "stream",
     "text": [
      "\u001b[32m[I 2022-05-12 23:07:51,510]\u001b[0m Trial 113 finished with value: 0.9551274210315874 and parameters: {'mask_type': 'entmax', 'n_da': 60, 'n_steps': 4, 'gamma': 1.2, 'n_shared': 4, 'lambda_sparse': 2.137957041257394e-05, 'sc_gamma': 0.5, 'sc_steps': 40, 'patience': 27, 'epochs': 85}. Best is trial 83 with value: 0.9594466853258696.\u001b[0m\n"
     ]
    },
    {
     "name": "stdout",
     "output_type": "stream",
     "text": [
      "\n",
      "Early stopping occurred at epoch 67 with best_epoch = 39 and best_val_0_accuracy = 0.95122\n",
      "Best weights from best epoch are automatically used!\n",
      "\n",
      "Early stopping occurred at epoch 59 with best_epoch = 31 and best_val_0_accuracy = 0.94642\n",
      "Best weights from best epoch are automatically used!\n",
      "\n",
      "Early stopping occurred at epoch 66 with best_epoch = 38 and best_val_0_accuracy = 0.9484\n",
      "Best weights from best epoch are automatically used!\n",
      "Stop training because you reached max_epochs = 88 with best_epoch = 79 and best_val_0_accuracy = 0.962\n",
      "Best weights from best epoch are automatically used!\n",
      "Stop training because you reached max_epochs = 88 with best_epoch = 81 and best_val_0_accuracy = 0.956\n",
      "Best weights from best epoch are automatically used!\n"
     ]
    },
    {
     "name": "stderr",
     "output_type": "stream",
     "text": [
      "\u001b[32m[I 2022-05-12 23:16:32,616]\u001b[0m Trial 114 finished with value: 0.9528081887245101 and parameters: {'mask_type': 'entmax', 'n_da': 64, 'n_steps': 4, 'gamma': 1.1, 'n_shared': 4, 'lambda_sparse': 2.505363132736909e-05, 'sc_gamma': 0.6, 'sc_steps': 40, 'patience': 28, 'epochs': 88}. Best is trial 83 with value: 0.9594466853258696.\u001b[0m\n"
     ]
    },
    {
     "name": "stdout",
     "output_type": "stream",
     "text": [
      "\n",
      "Early stopping occurred at epoch 62 with best_epoch = 33 and best_val_0_accuracy = 0.95002\n",
      "Best weights from best epoch are automatically used!\n",
      "\n",
      "Early stopping occurred at epoch 52 with best_epoch = 23 and best_val_0_accuracy = 0.94642\n",
      "Best weights from best epoch are automatically used!\n",
      "Stop training because you reached max_epochs = 92 with best_epoch = 91 and best_val_0_accuracy = 0.9564\n",
      "Best weights from best epoch are automatically used!\n",
      "Stop training because you reached max_epochs = 92 with best_epoch = 85 and best_val_0_accuracy = 0.9612\n",
      "Best weights from best epoch are automatically used!\n",
      "Stop training because you reached max_epochs = 92 with best_epoch = 65 and best_val_0_accuracy = 0.9656\n",
      "Best weights from best epoch are automatically used!\n"
     ]
    },
    {
     "name": "stderr",
     "output_type": "stream",
     "text": [
      "\u001b[32m[I 2022-05-12 23:25:48,158]\u001b[0m Trial 115 finished with value: 0.9559282846861257 and parameters: {'mask_type': 'entmax', 'n_da': 60, 'n_steps': 4, 'gamma': 1.2, 'n_shared': 4, 'lambda_sparse': 1.6915051525865575e-05, 'sc_gamma': 0.5, 'sc_steps': 40, 'patience': 29, 'epochs': 92}. Best is trial 83 with value: 0.9594466853258696.\u001b[0m\n"
     ]
    },
    {
     "name": "stdout",
     "output_type": "stream",
     "text": [
      "Stop training because you reached max_epochs = 78 with best_epoch = 73 and best_val_0_accuracy = 0.95762\n",
      "Best weights from best epoch are automatically used!\n",
      "Stop training because you reached max_epochs = 78 with best_epoch = 63 and best_val_0_accuracy = 0.95442\n",
      "Best weights from best epoch are automatically used!\n",
      "Stop training because you reached max_epochs = 78 with best_epoch = 49 and best_val_0_accuracy = 0.9544\n",
      "Best weights from best epoch are automatically used!\n",
      "Stop training because you reached max_epochs = 78 with best_epoch = 76 and best_val_0_accuracy = 0.9556\n",
      "Best weights from best epoch are automatically used!\n",
      "Stop training because you reached max_epochs = 78 with best_epoch = 71 and best_val_0_accuracy = 0.9584\n",
      "Best weights from best epoch are automatically used!\n"
     ]
    },
    {
     "name": "stderr",
     "output_type": "stream",
     "text": [
      "\u001b[32m[I 2022-05-12 23:34:57,418]\u001b[0m Trial 116 finished with value: 0.956087037185126 and parameters: {'mask_type': 'entmax', 'n_da': 64, 'n_steps': 4, 'gamma': 1.2, 'n_shared': 4, 'lambda_sparse': 7.693736007087139e-05, 'sc_gamma': 0.8, 'sc_steps': 30, 'patience': 29, 'epochs': 78}. Best is trial 83 with value: 0.9594466853258696.\u001b[0m\n"
     ]
    },
    {
     "name": "stdout",
     "output_type": "stream",
     "text": [
      "Stop training because you reached max_epochs = 90 with best_epoch = 88 and best_val_0_accuracy = 0.96122\n",
      "Best weights from best epoch are automatically used!\n",
      "Stop training because you reached max_epochs = 90 with best_epoch = 88 and best_val_0_accuracy = 0.95962\n",
      "Best weights from best epoch are automatically used!\n",
      "\n",
      "Early stopping occurred at epoch 57 with best_epoch = 30 and best_val_0_accuracy = 0.9528\n",
      "Best weights from best epoch are automatically used!\n",
      "Stop training because you reached max_epochs = 90 with best_epoch = 88 and best_val_0_accuracy = 0.9552\n",
      "Best weights from best epoch are automatically used!\n",
      "\n",
      "Early stopping occurred at epoch 29 with best_epoch = 2 and best_val_0_accuracy = 0.9492\n",
      "Best weights from best epoch are automatically used!\n"
     ]
    },
    {
     "name": "stderr",
     "output_type": "stream",
     "text": [
      "\u001b[32m[I 2022-05-12 23:43:20,894]\u001b[0m Trial 117 finished with value: 0.9556063334666133 and parameters: {'mask_type': 'entmax', 'n_da': 60, 'n_steps': 4, 'gamma': 1.1, 'n_shared': 4, 'lambda_sparse': 1.5304861172557606e-05, 'sc_gamma': 0.6, 'sc_steps': 40, 'patience': 27, 'epochs': 90}. Best is trial 83 with value: 0.9594466853258696.\u001b[0m\n"
     ]
    },
    {
     "name": "stdout",
     "output_type": "stream",
     "text": [
      "Stop training because you reached max_epochs = 97 with best_epoch = 93 and best_val_0_accuracy = 0.96122\n",
      "Best weights from best epoch are automatically used!\n",
      "\n",
      "Early stopping occurred at epoch 66 with best_epoch = 38 and best_val_0_accuracy = 0.94922\n",
      "Best weights from best epoch are automatically used!\n",
      "Stop training because you reached max_epochs = 97 with best_epoch = 76 and best_val_0_accuracy = 0.964\n",
      "Best weights from best epoch are automatically used!\n",
      "Stop training because you reached max_epochs = 97 with best_epoch = 71 and best_val_0_accuracy = 0.9588\n",
      "Best weights from best epoch are automatically used!\n",
      "\n",
      "Early stopping occurred at epoch 50 with best_epoch = 22 and best_val_0_accuracy = 0.9532\n",
      "Best weights from best epoch are automatically used!\n"
     ]
    },
    {
     "name": "stderr",
     "output_type": "stream",
     "text": [
      "\u001b[32m[I 2022-05-12 23:52:54,725]\u001b[0m Trial 118 finished with value: 0.9572871651339465 and parameters: {'mask_type': 'entmax', 'n_da': 56, 'n_steps': 4, 'gamma': 1.3, 'n_shared': 4, 'lambda_sparse': 4.880315831309092e-05, 'sc_gamma': 0.7, 'sc_steps': 30, 'patience': 28, 'epochs': 97}. Best is trial 83 with value: 0.9594466853258696.\u001b[0m\n"
     ]
    },
    {
     "name": "stdout",
     "output_type": "stream",
     "text": [
      "\n",
      "Early stopping occurred at epoch 88 with best_epoch = 69 and best_val_0_accuracy = 0.95762\n",
      "Best weights from best epoch are automatically used!\n",
      "\n",
      "Early stopping occurred at epoch 83 with best_epoch = 64 and best_val_0_accuracy = 0.95682\n",
      "Best weights from best epoch are automatically used!\n",
      "\n",
      "Early stopping occurred at epoch 52 with best_epoch = 33 and best_val_0_accuracy = 0.9532\n",
      "Best weights from best epoch are automatically used!\n",
      "\n",
      "Early stopping occurred at epoch 49 with best_epoch = 30 and best_val_0_accuracy = 0.9504\n",
      "Best weights from best epoch are automatically used!\n",
      "\n",
      "Early stopping occurred at epoch 34 with best_epoch = 15 and best_val_0_accuracy = 0.9488\n",
      "Best weights from best epoch are automatically used!\n"
     ]
    },
    {
     "name": "stderr",
     "output_type": "stream",
     "text": [
      "\u001b[32m[I 2022-05-12 23:58:23,072]\u001b[0m Trial 119 finished with value: 0.9533668452618953 and parameters: {'mask_type': 'entmax', 'n_da': 56, 'n_steps': 4, 'gamma': 1.3, 'n_shared': 1, 'lambda_sparse': 4.793080392187104e-05, 'sc_gamma': 0.7, 'sc_steps': 30, 'patience': 19, 'epochs': 97}. Best is trial 83 with value: 0.9594466853258696.\u001b[0m\n"
     ]
    },
    {
     "name": "stdout",
     "output_type": "stream",
     "text": [
      "\n",
      "Early stopping occurred at epoch 60 with best_epoch = 34 and best_val_0_accuracy = 0.95322\n",
      "Best weights from best epoch are automatically used!\n",
      "\n",
      "Early stopping occurred at epoch 57 with best_epoch = 31 and best_val_0_accuracy = 0.94842\n",
      "Best weights from best epoch are automatically used!\n",
      "\n",
      "Early stopping occurred at epoch 48 with best_epoch = 22 and best_val_0_accuracy = 0.9556\n",
      "Best weights from best epoch are automatically used!\n",
      "\n",
      "Early stopping occurred at epoch 93 with best_epoch = 67 and best_val_0_accuracy = 0.9592\n",
      "Best weights from best epoch are automatically used!\n",
      "\n",
      "Early stopping occurred at epoch 62 with best_epoch = 36 and best_val_0_accuracy = 0.9532\n",
      "Best weights from best epoch are automatically used!\n"
     ]
    },
    {
     "name": "stderr",
     "output_type": "stream",
     "text": [
      "\u001b[32m[I 2022-05-13 00:05:24,045]\u001b[0m Trial 120 finished with value: 0.953927868852459 and parameters: {'mask_type': 'entmax', 'n_da': 52, 'n_steps': 4, 'gamma': 1.4, 'n_shared': 3, 'lambda_sparse': 2.8713862536765818e-05, 'sc_gamma': 0.8, 'sc_steps': 30, 'patience': 26, 'epochs': 94}. Best is trial 83 with value: 0.9594466853258696.\u001b[0m\n"
     ]
    },
    {
     "name": "stdout",
     "output_type": "stream",
     "text": [
      "Stop training because you reached max_epochs = 96 with best_epoch = 93 and best_val_0_accuracy = 0.96242\n",
      "Best weights from best epoch are automatically used!\n",
      "\n",
      "Early stopping occurred at epoch 55 with best_epoch = 27 and best_val_0_accuracy = 0.95002\n",
      "Best weights from best epoch are automatically used!\n",
      "Stop training because you reached max_epochs = 96 with best_epoch = 89 and best_val_0_accuracy = 0.966\n",
      "Best weights from best epoch are automatically used!\n",
      "Stop training because you reached max_epochs = 96 with best_epoch = 81 and best_val_0_accuracy = 0.9548\n",
      "Best weights from best epoch are automatically used!\n",
      "Stop training because you reached max_epochs = 96 with best_epoch = 83 and best_val_0_accuracy = 0.9616\n",
      "Best weights from best epoch are automatically used!\n"
     ]
    },
    {
     "name": "stderr",
     "output_type": "stream",
     "text": [
      "\u001b[32m[I 2022-05-13 00:15:33,975]\u001b[0m Trial 121 finished with value: 0.9589670051979209 and parameters: {'mask_type': 'entmax', 'n_da': 56, 'n_steps': 4, 'gamma': 1.3, 'n_shared': 4, 'lambda_sparse': 1.939553304928029e-05, 'sc_gamma': 0.6, 'sc_steps': 30, 'patience': 28, 'epochs': 96}. Best is trial 83 with value: 0.9594466853258696.\u001b[0m\n"
     ]
    },
    {
     "name": "stdout",
     "output_type": "stream",
     "text": [
      "Stop training because you reached max_epochs = 98 with best_epoch = 78 and best_val_0_accuracy = 0.95402\n",
      "Best weights from best epoch are automatically used!\n",
      "Stop training because you reached max_epochs = 98 with best_epoch = 96 and best_val_0_accuracy = 0.95122\n",
      "Best weights from best epoch are automatically used!\n",
      "Stop training because you reached max_epochs = 98 with best_epoch = 86 and best_val_0_accuracy = 0.9604\n",
      "Best weights from best epoch are automatically used!\n",
      "\n",
      "Early stopping occurred at epoch 57 with best_epoch = 29 and best_val_0_accuracy = 0.9476\n",
      "Best weights from best epoch are automatically used!\n",
      "Stop training because you reached max_epochs = 98 with best_epoch = 88 and best_val_0_accuracy = 0.9644\n",
      "Best weights from best epoch are automatically used!\n"
     ]
    },
    {
     "name": "stderr",
     "output_type": "stream",
     "text": [
      "\u001b[32m[I 2022-05-13 00:26:05,901]\u001b[0m Trial 122 finished with value: 0.955527580967613 and parameters: {'mask_type': 'entmax', 'n_da': 56, 'n_steps': 4, 'gamma': 1.3, 'n_shared': 4, 'lambda_sparse': 2.0139183374478327e-05, 'sc_gamma': 0.5, 'sc_steps': 30, 'patience': 28, 'epochs': 98}. Best is trial 83 with value: 0.9594466853258696.\u001b[0m\n"
     ]
    },
    {
     "name": "stdout",
     "output_type": "stream",
     "text": [
      "Stop training because you reached max_epochs = 96 with best_epoch = 86 and best_val_0_accuracy = 0.95282\n",
      "Best weights from best epoch are automatically used!\n",
      "\n",
      "Early stopping occurred at epoch 39 with best_epoch = 11 and best_val_0_accuracy = 0.94802\n",
      "Best weights from best epoch are automatically used!\n",
      "Stop training because you reached max_epochs = 96 with best_epoch = 91 and best_val_0_accuracy = 0.96\n",
      "Best weights from best epoch are automatically used!\n",
      "\n",
      "Early stopping occurred at epoch 48 with best_epoch = 20 and best_val_0_accuracy = 0.9516\n",
      "Best weights from best epoch are automatically used!\n",
      "Stop training because you reached max_epochs = 96 with best_epoch = 91 and best_val_0_accuracy = 0.9556\n",
      "Best weights from best epoch are automatically used!\n"
     ]
    },
    {
     "name": "stderr",
     "output_type": "stream",
     "text": [
      "\u001b[32m[I 2022-05-13 00:34:58,286]\u001b[0m Trial 123 finished with value: 0.9536079328268692 and parameters: {'mask_type': 'entmax', 'n_da': 52, 'n_steps': 4, 'gamma': 1.3, 'n_shared': 4, 'lambda_sparse': 1.8597430109231205e-05, 'sc_gamma': 0.6, 'sc_steps': 30, 'patience': 28, 'epochs': 96}. Best is trial 83 with value: 0.9594466853258696.\u001b[0m\n"
     ]
    },
    {
     "name": "stdout",
     "output_type": "stream",
     "text": [
      "Stop training because you reached max_epochs = 94 with best_epoch = 89 and best_val_0_accuracy = 0.95362\n",
      "Best weights from best epoch are automatically used!\n",
      "Stop training because you reached max_epochs = 94 with best_epoch = 90 and best_val_0_accuracy = 0.95282\n",
      "Best weights from best epoch are automatically used!\n",
      "\n",
      "Early stopping occurred at epoch 64 with best_epoch = 37 and best_val_0_accuracy = 0.9504\n",
      "Best weights from best epoch are automatically used!\n",
      "Stop training because you reached max_epochs = 94 with best_epoch = 76 and best_val_0_accuracy = 0.9608\n",
      "Best weights from best epoch are automatically used!\n",
      "Stop training because you reached max_epochs = 94 with best_epoch = 89 and best_val_0_accuracy = 0.958\n",
      "Best weights from best epoch are automatically used!\n"
     ]
    },
    {
     "name": "stderr",
     "output_type": "stream",
     "text": [
      "\u001b[32m[I 2022-05-13 00:45:19,881]\u001b[0m Trial 124 finished with value: 0.9551274850059975 and parameters: {'mask_type': 'entmax', 'n_da': 56, 'n_steps': 4, 'gamma': 1.3, 'n_shared': 4, 'lambda_sparse': 1.3479272136099909e-05, 'sc_gamma': 0.7, 'sc_steps': 20, 'patience': 27, 'epochs': 94}. Best is trial 83 with value: 0.9594466853258696.\u001b[0m\n"
     ]
    },
    {
     "name": "stdout",
     "output_type": "stream",
     "text": [
      "Stop training because you reached max_epochs = 100 with best_epoch = 94 and best_val_0_accuracy = 0.95922\n",
      "Best weights from best epoch are automatically used!\n",
      "Stop training because you reached max_epochs = 100 with best_epoch = 98 and best_val_0_accuracy = 0.95722\n",
      "Best weights from best epoch are automatically used!\n",
      "Stop training because you reached max_epochs = 100 with best_epoch = 99 and best_val_0_accuracy = 0.9608\n",
      "Best weights from best epoch are automatically used!\n",
      "Stop training because you reached max_epochs = 100 with best_epoch = 86 and best_val_0_accuracy = 0.9632\n",
      "Best weights from best epoch are automatically used!\n",
      "Stop training because you reached max_epochs = 100 with best_epoch = 97 and best_val_0_accuracy = 0.9596\n",
      "Best weights from best epoch are automatically used!\n"
     ]
    },
    {
     "name": "stderr",
     "output_type": "stream",
     "text": [
      "\u001b[32m[I 2022-05-13 00:57:04,532]\u001b[0m Trial 125 finished with value: 0.9600066853258695 and parameters: {'mask_type': 'entmax', 'n_da': 56, 'n_steps': 4, 'gamma': 1.4, 'n_shared': 4, 'lambda_sparse': 2.594063263666403e-05, 'sc_gamma': 0.5, 'sc_steps': 30, 'patience': 28, 'epochs': 100}. Best is trial 125 with value: 0.9600066853258695.\u001b[0m\n"
     ]
    },
    {
     "name": "stdout",
     "output_type": "stream",
     "text": [
      "Stop training because you reached max_epochs = 100 with best_epoch = 77 and best_val_0_accuracy = 0.95642\n",
      "Best weights from best epoch are automatically used!\n",
      "Stop training because you reached max_epochs = 100 with best_epoch = 87 and best_val_0_accuracy = 0.95482\n",
      "Best weights from best epoch are automatically used!\n",
      "\n",
      "Early stopping occurred at epoch 57 with best_epoch = 28 and best_val_0_accuracy = 0.9496\n",
      "Best weights from best epoch are automatically used!\n",
      "Stop training because you reached max_epochs = 100 with best_epoch = 71 and best_val_0_accuracy = 0.9588\n",
      "Best weights from best epoch are automatically used!\n",
      "\n",
      "Early stopping occurred at epoch 70 with best_epoch = 41 and best_val_0_accuracy = 0.9572\n",
      "Best weights from best epoch are automatically used!\n"
     ]
    },
    {
     "name": "stderr",
     "output_type": "stream",
     "text": [
      "\u001b[32m[I 2022-05-13 01:07:07,677]\u001b[0m Trial 126 finished with value: 0.9553671011595363 and parameters: {'mask_type': 'entmax', 'n_da': 64, 'n_steps': 4, 'gamma': 1.4, 'n_shared': 4, 'lambda_sparse': 3.702444161951136e-05, 'sc_gamma': 0.5, 'sc_steps': 30, 'patience': 29, 'epochs': 100}. Best is trial 125 with value: 0.9600066853258695.\u001b[0m\n"
     ]
    },
    {
     "name": "stdout",
     "output_type": "stream",
     "text": [
      "\n",
      "Early stopping occurred at epoch 45 with best_epoch = 17 and best_val_0_accuracy = 0.94202\n",
      "Best weights from best epoch are automatically used!\n",
      "\n",
      "Early stopping occurred at epoch 30 with best_epoch = 2 and best_val_0_accuracy = 0.88645\n",
      "Best weights from best epoch are automatically used!\n",
      "Stop training because you reached max_epochs = 93 with best_epoch = 87 and best_val_0_accuracy = 0.96\n",
      "Best weights from best epoch are automatically used!\n",
      "\n",
      "Early stopping occurred at epoch 31 with best_epoch = 3 and best_val_0_accuracy = 0.9368\n",
      "Best weights from best epoch are automatically used!\n",
      "Stop training because you reached max_epochs = 93 with best_epoch = 87 and best_val_0_accuracy = 0.9548\n",
      "Best weights from best epoch are automatically used!\n"
     ]
    },
    {
     "name": "stderr",
     "output_type": "stream",
     "text": [
      "\u001b[32m[I 2022-05-13 01:15:56,296]\u001b[0m Trial 127 finished with value: 0.9360137225109956 and parameters: {'mask_type': 'entmax', 'n_da': 60, 'n_steps': 7, 'gamma': 1.4, 'n_shared': 3, 'lambda_sparse': 2.4313854493951815e-05, 'sc_gamma': 0.5, 'sc_steps': 30, 'patience': 28, 'epochs': 93}. Best is trial 125 with value: 0.9600066853258695.\u001b[0m\n"
     ]
    },
    {
     "name": "stdout",
     "output_type": "stream",
     "text": [
      "\n",
      "Early stopping occurred at epoch 38 with best_epoch = 16 and best_val_0_accuracy = 0.94682\n",
      "Best weights from best epoch are automatically used!\n",
      "\n",
      "Early stopping occurred at epoch 96 with best_epoch = 74 and best_val_0_accuracy = 0.95722\n",
      "Best weights from best epoch are automatically used!\n",
      "Stop training because you reached max_epochs = 98 with best_epoch = 97 and best_val_0_accuracy = 0.9588\n",
      "Best weights from best epoch are automatically used!\n",
      "Stop training because you reached max_epochs = 98 with best_epoch = 97 and best_val_0_accuracy = 0.9648\n",
      "Best weights from best epoch are automatically used!\n",
      "\n",
      "Early stopping occurred at epoch 40 with best_epoch = 18 and best_val_0_accuracy = 0.9452\n",
      "Best weights from best epoch are automatically used!\n"
     ]
    },
    {
     "name": "stderr",
     "output_type": "stream",
     "text": [
      "\u001b[32m[I 2022-05-13 01:24:43,933]\u001b[0m Trial 128 finished with value: 0.9545676769292284 and parameters: {'mask_type': 'entmax', 'n_da': 60, 'n_steps': 4, 'gamma': 1.3, 'n_shared': 4, 'lambda_sparse': 2.6632552152345898e-05, 'sc_gamma': 0.5, 'sc_steps': 30, 'patience': 22, 'epochs': 98}. Best is trial 125 with value: 0.9600066853258695.\u001b[0m\n"
     ]
    },
    {
     "name": "stdout",
     "output_type": "stream",
     "text": [
      "\n",
      "Early stopping occurred at epoch 56 with best_epoch = 29 and best_val_0_accuracy = 0.94842\n",
      "Best weights from best epoch are automatically used!\n",
      "\n",
      "Early stopping occurred at epoch 34 with best_epoch = 7 and best_val_0_accuracy = 0.94402\n",
      "Best weights from best epoch are automatically used!\n",
      "\n",
      "Early stopping occurred at epoch 43 with best_epoch = 16 and best_val_0_accuracy = 0.952\n",
      "Best weights from best epoch are automatically used!\n",
      "\n",
      "Early stopping occurred at epoch 52 with best_epoch = 25 and best_val_0_accuracy = 0.9512\n",
      "Best weights from best epoch are automatically used!\n",
      "\n",
      "Early stopping occurred at epoch 35 with best_epoch = 8 and best_val_0_accuracy = 0.9464\n",
      "Best weights from best epoch are automatically used!\n"
     ]
    },
    {
     "name": "stderr",
     "output_type": "stream",
     "text": [
      "\u001b[32m[I 2022-05-13 01:29:36,254]\u001b[0m Trial 129 finished with value: 0.9484086045581768 and parameters: {'mask_type': 'entmax', 'n_da': 64, 'n_steps': 4, 'gamma': 1.2, 'n_shared': 3, 'lambda_sparse': 1.1839475096307635e-05, 'sc_gamma': 1.4, 'sc_steps': 30, 'patience': 27, 'epochs': 87}. Best is trial 125 with value: 0.9600066853258695.\u001b[0m\n"
     ]
    },
    {
     "name": "stdout",
     "output_type": "stream",
     "text": [
      "Stop training because you reached max_epochs = 96 with best_epoch = 90 and best_val_0_accuracy = 0.95642\n",
      "Best weights from best epoch are automatically used!\n",
      "Stop training because you reached max_epochs = 96 with best_epoch = 81 and best_val_0_accuracy = 0.95482\n",
      "Best weights from best epoch are automatically used!\n",
      "Stop training because you reached max_epochs = 96 with best_epoch = 89 and best_val_0_accuracy = 0.9568\n",
      "Best weights from best epoch are automatically used!\n",
      "Stop training because you reached max_epochs = 96 with best_epoch = 76 and best_val_0_accuracy = 0.9584\n",
      "Best weights from best epoch are automatically used!\n",
      "\n",
      "Early stopping occurred at epoch 89 with best_epoch = 60 and best_val_0_accuracy = 0.9588\n",
      "Best weights from best epoch are automatically used!\n"
     ]
    },
    {
     "name": "stderr",
     "output_type": "stream",
     "text": [
      "\u001b[32m[I 2022-05-13 01:39:48,606]\u001b[0m Trial 130 finished with value: 0.9570471011595363 and parameters: {'mask_type': 'entmax', 'n_da': 56, 'n_steps': 4, 'gamma': 1.4, 'n_shared': 3, 'lambda_sparse': 2.1752366161519563e-05, 'sc_gamma': 0.6, 'sc_steps': 40, 'patience': 29, 'epochs': 96}. Best is trial 125 with value: 0.9600066853258695.\u001b[0m\n"
     ]
    },
    {
     "name": "stdout",
     "output_type": "stream",
     "text": [
      "\n",
      "Early stopping occurred at epoch 75 with best_epoch = 47 and best_val_0_accuracy = 0.95122\n",
      "Best weights from best epoch are automatically used!\n",
      "Stop training because you reached max_epochs = 98 with best_epoch = 97 and best_val_0_accuracy = 0.95842\n",
      "Best weights from best epoch are automatically used!\n",
      "\n",
      "Early stopping occurred at epoch 83 with best_epoch = 55 and best_val_0_accuracy = 0.9552\n",
      "Best weights from best epoch are automatically used!\n",
      "\n",
      "Early stopping occurred at epoch 54 with best_epoch = 26 and best_val_0_accuracy = 0.9488\n",
      "Best weights from best epoch are automatically used!\n",
      "Stop training because you reached max_epochs = 98 with best_epoch = 95 and best_val_0_accuracy = 0.9616\n",
      "Best weights from best epoch are automatically used!\n"
     ]
    },
    {
     "name": "stderr",
     "output_type": "stream",
     "text": [
      "\u001b[32m[I 2022-05-13 01:49:28,209]\u001b[0m Trial 131 finished with value: 0.9550472291083567 and parameters: {'mask_type': 'entmax', 'n_da': 56, 'n_steps': 4, 'gamma': 1.3, 'n_shared': 4, 'lambda_sparse': 1.556817919600433e-05, 'sc_gamma': 0.6, 'sc_steps': 30, 'patience': 28, 'epochs': 98}. Best is trial 125 with value: 0.9600066853258695.\u001b[0m\n"
     ]
    },
    {
     "name": "stdout",
     "output_type": "stream",
     "text": [
      "\n",
      "Early stopping occurred at epoch 55 with best_epoch = 27 and best_val_0_accuracy = 0.95642\n",
      "Best weights from best epoch are automatically used!\n",
      "\n",
      "Early stopping occurred at epoch 55 with best_epoch = 27 and best_val_0_accuracy = 0.94642\n",
      "Best weights from best epoch are automatically used!\n",
      "\n",
      "Early stopping occurred at epoch 62 with best_epoch = 34 and best_val_0_accuracy = 0.9544\n",
      "Best weights from best epoch are automatically used!\n",
      "Stop training because you reached max_epochs = 100 with best_epoch = 93 and best_val_0_accuracy = 0.9596\n",
      "Best weights from best epoch are automatically used!\n",
      "Stop training because you reached max_epochs = 100 with best_epoch = 91 and best_val_0_accuracy = 0.9544\n",
      "Best weights from best epoch are automatically used!\n"
     ]
    },
    {
     "name": "stderr",
     "output_type": "stream",
     "text": [
      "\u001b[32m[I 2022-05-13 01:58:19,952]\u001b[0m Trial 132 finished with value: 0.9542477728908437 and parameters: {'mask_type': 'entmax', 'n_da': 56, 'n_steps': 4, 'gamma': 1.3, 'n_shared': 4, 'lambda_sparse': 1.3059416015982554e-06, 'sc_gamma': 0.7, 'sc_steps': 30, 'patience': 28, 'epochs': 100}. Best is trial 125 with value: 0.9600066853258695.\u001b[0m\n"
     ]
    },
    {
     "name": "stdout",
     "output_type": "stream",
     "text": [
      "\n",
      "Early stopping occurred at epoch 78 with best_epoch = 50 and best_val_0_accuracy = 0.95282\n",
      "Best weights from best epoch are automatically used!\n",
      "\n",
      "Early stopping occurred at epoch 52 with best_epoch = 24 and best_val_0_accuracy = 0.94802\n",
      "Best weights from best epoch are automatically used!\n",
      "\n",
      "Early stopping occurred at epoch 69 with best_epoch = 41 and best_val_0_accuracy = 0.9552\n",
      "Best weights from best epoch are automatically used!\n",
      "Stop training because you reached max_epochs = 96 with best_epoch = 86 and best_val_0_accuracy = 0.9604\n",
      "Best weights from best epoch are automatically used!\n",
      "\n",
      "Early stopping occurred at epoch 54 with best_epoch = 26 and best_val_0_accuracy = 0.9532\n",
      "Best weights from best epoch are automatically used!\n"
     ]
    },
    {
     "name": "stderr",
     "output_type": "stream",
     "text": [
      "\u001b[32m[I 2022-05-13 02:06:39,164]\u001b[0m Trial 133 finished with value: 0.9539279328268693 and parameters: {'mask_type': 'entmax', 'n_da': 52, 'n_steps': 4, 'gamma': 1.5, 'n_shared': 4, 'lambda_sparse': 3.234673840660799e-05, 'sc_gamma': 0.6, 'sc_steps': 30, 'patience': 28, 'epochs': 96}. Best is trial 125 with value: 0.9600066853258695.\u001b[0m\n"
     ]
    },
    {
     "name": "stdout",
     "output_type": "stream",
     "text": [
      "\n",
      "Early stopping occurred at epoch 51 with best_epoch = 22 and best_val_0_accuracy = 0.95362\n",
      "Best weights from best epoch are automatically used!\n",
      "\n",
      "Early stopping occurred at epoch 72 with best_epoch = 43 and best_val_0_accuracy = 0.94642\n",
      "Best weights from best epoch are automatically used!\n",
      "Stop training because you reached max_epochs = 92 with best_epoch = 84 and best_val_0_accuracy = 0.9588\n",
      "Best weights from best epoch are automatically used!\n",
      "Stop training because you reached max_epochs = 92 with best_epoch = 82 and best_val_0_accuracy = 0.9596\n",
      "Best weights from best epoch are automatically used!\n",
      "\n",
      "Early stopping occurred at epoch 71 with best_epoch = 42 and best_val_0_accuracy = 0.9556\n",
      "Best weights from best epoch are automatically used!\n"
     ]
    },
    {
     "name": "stderr",
     "output_type": "stream",
     "text": [
      "\u001b[32m[I 2022-05-13 02:15:33,965]\u001b[0m Trial 134 finished with value: 0.9548079968012795 and parameters: {'mask_type': 'entmax', 'n_da': 60, 'n_steps': 4, 'gamma': 1.3, 'n_shared': 4, 'lambda_sparse': 1.8384230278785704e-05, 'sc_gamma': 1.7000000000000002, 'sc_steps': 30, 'patience': 29, 'epochs': 92}. Best is trial 125 with value: 0.9600066853258695.\u001b[0m\n"
     ]
    },
    {
     "name": "stdout",
     "output_type": "stream",
     "text": [
      "Stop training because you reached max_epochs = 98 with best_epoch = 80 and best_val_0_accuracy = 0.95002\n",
      "Best weights from best epoch are automatically used!\n",
      "\n",
      "Early stopping occurred at epoch 71 with best_epoch = 42 and best_val_0_accuracy = 0.95162\n",
      "Best weights from best epoch are automatically used!\n",
      "Stop training because you reached max_epochs = 98 with best_epoch = 84 and best_val_0_accuracy = 0.9588\n",
      "Best weights from best epoch are automatically used!\n",
      "\n",
      "Early stopping occurred at epoch 53 with best_epoch = 24 and best_val_0_accuracy = 0.9496\n",
      "Best weights from best epoch are automatically used!\n",
      "Stop training because you reached max_epochs = 98 with best_epoch = 94 and best_val_0_accuracy = 0.9572\n",
      "Best weights from best epoch are automatically used!\n"
     ]
    },
    {
     "name": "stderr",
     "output_type": "stream",
     "text": [
      "\u001b[32m[I 2022-05-13 02:25:24,146]\u001b[0m Trial 135 finished with value: 0.953447868852459 and parameters: {'mask_type': 'entmax', 'n_da': 48, 'n_steps': 4, 'gamma': 1.2, 'n_shared': 4, 'lambda_sparse': 2.5128145168310817e-06, 'sc_gamma': 0.5, 'sc_steps': 40, 'patience': 29, 'epochs': 98}. Best is trial 125 with value: 0.9600066853258695.\u001b[0m\n"
     ]
    },
    {
     "name": "stdout",
     "output_type": "stream",
     "text": [
      "Stop training because you reached max_epochs = 94 with best_epoch = 93 and best_val_0_accuracy = 0.95882\n",
      "Best weights from best epoch are automatically used!\n",
      "Stop training because you reached max_epochs = 94 with best_epoch = 93 and best_val_0_accuracy = 0.95882\n",
      "Best weights from best epoch are automatically used!\n",
      "Stop training because you reached max_epochs = 94 with best_epoch = 89 and best_val_0_accuracy = 0.958\n",
      "Best weights from best epoch are automatically used!\n",
      "\n",
      "Early stopping occurred at epoch 52 with best_epoch = 24 and best_val_0_accuracy = 0.9496\n",
      "Best weights from best epoch are automatically used!\n",
      "Stop training because you reached max_epochs = 94 with best_epoch = 83 and best_val_0_accuracy = 0.9616\n",
      "Best weights from best epoch are automatically used!\n"
     ]
    },
    {
     "name": "stderr",
     "output_type": "stream",
     "text": [
      "\u001b[32m[I 2022-05-13 02:35:28,526]\u001b[0m Trial 136 finished with value: 0.9573665893642543 and parameters: {'mask_type': 'entmax', 'n_da': 56, 'n_steps': 4, 'gamma': 1.3, 'n_shared': 4, 'lambda_sparse': 9.935898432259487e-06, 'sc_gamma': 0.5, 'sc_steps': 30, 'patience': 28, 'epochs': 94}. Best is trial 125 with value: 0.9600066853258695.\u001b[0m\n"
     ]
    },
    {
     "name": "stdout",
     "output_type": "stream",
     "text": [
      "\n",
      "Early stopping occurred at epoch 69 with best_epoch = 42 and best_val_0_accuracy = 0.95362\n",
      "Best weights from best epoch are automatically used!\n",
      "Stop training because you reached max_epochs = 89 with best_epoch = 73 and best_val_0_accuracy = 0.95802\n",
      "Best weights from best epoch are automatically used!\n",
      "\n",
      "Early stopping occurred at epoch 43 with best_epoch = 16 and best_val_0_accuracy = 0.9452\n",
      "Best weights from best epoch are automatically used!\n",
      "\n",
      "Early stopping occurred at epoch 57 with best_epoch = 30 and best_val_0_accuracy = 0.9544\n",
      "Best weights from best epoch are automatically used!\n",
      "Stop training because you reached max_epochs = 89 with best_epoch = 80 and best_val_0_accuracy = 0.9576\n",
      "Best weights from best epoch are automatically used!\n"
     ]
    },
    {
     "name": "stderr",
     "output_type": "stream",
     "text": [
      "\u001b[32m[I 2022-05-13 02:43:03,265]\u001b[0m Trial 137 finished with value: 0.953767069172331 and parameters: {'mask_type': 'sparsemax', 'n_da': 60, 'n_steps': 4, 'gamma': 1.3, 'n_shared': 3, 'lambda_sparse': 9.170484776749713e-06, 'sc_gamma': 0.5, 'sc_steps': 30, 'patience': 27, 'epochs': 89}. Best is trial 125 with value: 0.9600066853258695.\u001b[0m\n"
     ]
    },
    {
     "name": "stdout",
     "output_type": "stream",
     "text": [
      "Stop training because you reached max_epochs = 41 with best_epoch = 36 and best_val_0_accuracy = 0.94642\n",
      "Best weights from best epoch are automatically used!\n",
      "Stop training because you reached max_epochs = 41 with best_epoch = 22 and best_val_0_accuracy = 0.95202\n",
      "Best weights from best epoch are automatically used!\n",
      "\n",
      "Early stopping occurred at epoch 39 with best_epoch = 10 and best_val_0_accuracy = 0.948\n",
      "Best weights from best epoch are automatically used!\n",
      "Stop training because you reached max_epochs = 41 with best_epoch = 23 and best_val_0_accuracy = 0.9476\n",
      "Best weights from best epoch are automatically used!\n",
      "Stop training because you reached max_epochs = 41 with best_epoch = 28 and best_val_0_accuracy = 0.9588\n",
      "Best weights from best epoch are automatically used!\n"
     ]
    },
    {
     "name": "stderr",
     "output_type": "stream",
     "text": [
      "\u001b[32m[I 2022-05-13 02:47:30,863]\u001b[0m Trial 138 finished with value: 0.9505681247500999 and parameters: {'mask_type': 'entmax', 'n_da': 56, 'n_steps': 4, 'gamma': 1.2, 'n_shared': 3, 'lambda_sparse': 7.764626257346195e-06, 'sc_gamma': 0.5, 'sc_steps': 40, 'patience': 29, 'epochs': 41}. Best is trial 125 with value: 0.9600066853258695.\u001b[0m\n"
     ]
    },
    {
     "name": "stdout",
     "output_type": "stream",
     "text": [
      "Stop training because you reached max_epochs = 84 with best_epoch = 57 and best_val_0_accuracy = 0.95482\n",
      "Best weights from best epoch are automatically used!\n",
      "Stop training because you reached max_epochs = 84 with best_epoch = 83 and best_val_0_accuracy = 0.95402\n",
      "Best weights from best epoch are automatically used!\n",
      "\n",
      "Early stopping occurred at epoch 38 with best_epoch = 9 and best_val_0_accuracy = 0.9448\n",
      "Best weights from best epoch are automatically used!\n",
      "Stop training because you reached max_epochs = 84 with best_epoch = 81 and best_val_0_accuracy = 0.9556\n",
      "Best weights from best epoch are automatically used!\n",
      "Stop training because you reached max_epochs = 84 with best_epoch = 73 and best_val_0_accuracy = 0.9556\n",
      "Best weights from best epoch are automatically used!\n"
     ]
    },
    {
     "name": "stderr",
     "output_type": "stream",
     "text": [
      "\u001b[32m[I 2022-05-13 02:54:07,685]\u001b[0m Trial 139 finished with value: 0.9529672930827668 and parameters: {'mask_type': 'sparsemax', 'n_da': 52, 'n_steps': 4, 'gamma': 1.2, 'n_shared': 1, 'lambda_sparse': 1.2959967722945584e-05, 'sc_gamma': 0.5, 'sc_steps': 40, 'patience': 29, 'epochs': 84}. Best is trial 125 with value: 0.9600066853258695.\u001b[0m\n"
     ]
    },
    {
     "name": "stdout",
     "output_type": "stream",
     "text": [
      "\n",
      "Early stopping occurred at epoch 68 with best_epoch = 40 and best_val_0_accuracy = 0.93563\n",
      "Best weights from best epoch are automatically used!\n",
      "\n",
      "Early stopping occurred at epoch 56 with best_epoch = 28 and best_val_0_accuracy = 0.89564\n",
      "Best weights from best epoch are automatically used!\n",
      "\n",
      "Early stopping occurred at epoch 79 with best_epoch = 51 and best_val_0_accuracy = 0.9484\n",
      "Best weights from best epoch are automatically used!\n",
      "\n",
      "Early stopping occurred at epoch 37 with best_epoch = 9 and best_val_0_accuracy = 0.9416\n",
      "Best weights from best epoch are automatically used!\n",
      "\n",
      "Early stopping occurred at epoch 29 with best_epoch = 1 and best_val_0_accuracy = 0.9016\n",
      "Best weights from best epoch are automatically used!\n"
     ]
    },
    {
     "name": "stderr",
     "output_type": "stream",
     "text": [
      "\u001b[32m[I 2022-05-13 03:02:20,326]\u001b[0m Trial 140 finished with value: 0.9245734986005598 and parameters: {'mask_type': 'sparsemax', 'n_da': 36, 'n_steps': 7, 'gamma': 1.4, 'n_shared': 3, 'lambda_sparse': 1.0912572563604701e-05, 'sc_gamma': 0.6, 'sc_steps': 10, 'patience': 28, 'epochs': 95}. Best is trial 125 with value: 0.9600066853258695.\u001b[0m\n"
     ]
    },
    {
     "name": "stdout",
     "output_type": "stream",
     "text": [
      "Stop training because you reached max_epochs = 100 with best_epoch = 98 and best_val_0_accuracy = 0.95882\n",
      "Best weights from best epoch are automatically used!\n",
      "Stop training because you reached max_epochs = 100 with best_epoch = 97 and best_val_0_accuracy = 0.95842\n",
      "Best weights from best epoch are automatically used!\n",
      "Stop training because you reached max_epochs = 100 with best_epoch = 78 and best_val_0_accuracy = 0.9592\n",
      "Best weights from best epoch are automatically used!\n",
      "\n",
      "Early stopping occurred at epoch 52 with best_epoch = 24 and best_val_0_accuracy = 0.9524\n",
      "Best weights from best epoch are automatically used!\n",
      "Stop training because you reached max_epochs = 100 with best_epoch = 95 and best_val_0_accuracy = 0.9632\n",
      "Best weights from best epoch are automatically used!\n"
     ]
    },
    {
     "name": "stderr",
     "output_type": "stream",
     "text": [
      "\u001b[32m[I 2022-05-13 03:12:57,924]\u001b[0m Trial 141 finished with value: 0.9584066213514595 and parameters: {'mask_type': 'entmax', 'n_da': 56, 'n_steps': 4, 'gamma': 1.3, 'n_shared': 4, 'lambda_sparse': 1.9393739882887147e-06, 'sc_gamma': 0.6, 'sc_steps': 30, 'patience': 28, 'epochs': 100}. Best is trial 125 with value: 0.9600066853258695.\u001b[0m\n"
     ]
    },
    {
     "name": "stdout",
     "output_type": "stream",
     "text": [
      "Stop training because you reached max_epochs = 100 with best_epoch = 95 and best_val_0_accuracy = 0.96361\n",
      "Best weights from best epoch are automatically used!\n",
      "\n",
      "Early stopping occurred at epoch 58 with best_epoch = 30 and best_val_0_accuracy = 0.95282\n",
      "Best weights from best epoch are automatically used!\n",
      "Stop training because you reached max_epochs = 100 with best_epoch = 76 and best_val_0_accuracy = 0.9612\n",
      "Best weights from best epoch are automatically used!\n",
      "\n",
      "Early stopping occurred at epoch 50 with best_epoch = 22 and best_val_0_accuracy = 0.9528\n",
      "Best weights from best epoch are automatically used!\n",
      "Stop training because you reached max_epochs = 100 with best_epoch = 93 and best_val_0_accuracy = 0.9556\n",
      "Best weights from best epoch are automatically used!\n"
     ]
    },
    {
     "name": "stderr",
     "output_type": "stream",
     "text": [
      "\u001b[32m[I 2022-05-13 03:22:33,045]\u001b[0m Trial 142 finished with value: 0.9572066853258697 and parameters: {'mask_type': 'entmax', 'n_da': 56, 'n_steps': 4, 'gamma': 1.3, 'n_shared': 4, 'lambda_sparse': 4.606163694150722e-06, 'sc_gamma': 0.6, 'sc_steps': 30, 'patience': 28, 'epochs': 100}. Best is trial 125 with value: 0.9600066853258695.\u001b[0m\n"
     ]
    },
    {
     "name": "stdout",
     "output_type": "stream",
     "text": [
      "\n",
      "Early stopping occurred at epoch 58 with best_epoch = 31 and best_val_0_accuracy = 0.95322\n",
      "Best weights from best epoch are automatically used!\n",
      "Stop training because you reached max_epochs = 94 with best_epoch = 91 and best_val_0_accuracy = 0.94922\n",
      "Best weights from best epoch are automatically used!\n",
      "Stop training because you reached max_epochs = 94 with best_epoch = 93 and best_val_0_accuracy = 0.954\n",
      "Best weights from best epoch are automatically used!\n",
      "\n",
      "Early stopping occurred at epoch 37 with best_epoch = 10 and best_val_0_accuracy = 0.9496\n",
      "Best weights from best epoch are automatically used!\n",
      "Stop training because you reached max_epochs = 94 with best_epoch = 68 and best_val_0_accuracy = 0.9612\n",
      "Best weights from best epoch are automatically used!\n"
     ]
    },
    {
     "name": "stderr",
     "output_type": "stream",
     "text": [
      "\u001b[32m[I 2022-05-13 03:31:26,484]\u001b[0m Trial 143 finished with value: 0.9534478048780487 and parameters: {'mask_type': 'entmax', 'n_da': 60, 'n_steps': 4, 'gamma': 1.3, 'n_shared': 4, 'lambda_sparse': 2.220788411973156e-06, 'sc_gamma': 0.5, 'sc_steps': 30, 'patience': 27, 'epochs': 94}. Best is trial 125 with value: 0.9600066853258695.\u001b[0m\n"
     ]
    },
    {
     "name": "stdout",
     "output_type": "stream",
     "text": [
      "\n",
      "Early stopping occurred at epoch 59 with best_epoch = 32 and best_val_0_accuracy = 0.95282\n",
      "Best weights from best epoch are automatically used!\n",
      "\n",
      "Early stopping occurred at epoch 97 with best_epoch = 70 and best_val_0_accuracy = 0.96082\n",
      "Best weights from best epoch are automatically used!\n",
      "Stop training because you reached max_epochs = 100 with best_epoch = 99 and best_val_0_accuracy = 0.962\n",
      "Best weights from best epoch are automatically used!\n",
      "\n",
      "Early stopping occurred at epoch 53 with best_epoch = 26 and best_val_0_accuracy = 0.9476\n",
      "Best weights from best epoch are automatically used!\n",
      "Stop training because you reached max_epochs = 100 with best_epoch = 99 and best_val_0_accuracy = 0.9604\n",
      "Best weights from best epoch are automatically used!\n"
     ]
    },
    {
     "name": "stderr",
     "output_type": "stream",
     "text": [
      "\u001b[32m[I 2022-05-13 03:41:06,704]\u001b[0m Trial 144 finished with value: 0.9567269092363055 and parameters: {'mask_type': 'entmax', 'n_da': 64, 'n_steps': 4, 'gamma': 1.3, 'n_shared': 4, 'lambda_sparse': 1.6648198078295588e-06, 'sc_gamma': 0.6, 'sc_steps': 30, 'patience': 27, 'epochs': 100}. Best is trial 125 with value: 0.9600066853258695.\u001b[0m\n"
     ]
    },
    {
     "name": "stdout",
     "output_type": "stream",
     "text": [
      "\n",
      "Early stopping occurred at epoch 39 with best_epoch = 11 and best_val_0_accuracy = 0.94762\n",
      "Best weights from best epoch are automatically used!\n",
      "\n",
      "Early stopping occurred at epoch 59 with best_epoch = 31 and best_val_0_accuracy = 0.95122\n",
      "Best weights from best epoch are automatically used!\n",
      "Stop training because you reached max_epochs = 91 with best_epoch = 86 and best_val_0_accuracy = 0.9592\n",
      "Best weights from best epoch are automatically used!\n",
      "\n",
      "Early stopping occurred at epoch 83 with best_epoch = 55 and best_val_0_accuracy = 0.9596\n",
      "Best weights from best epoch are automatically used!\n",
      "\n",
      "Early stopping occurred at epoch 42 with best_epoch = 14 and best_val_0_accuracy = 0.9528\n",
      "Best weights from best epoch are automatically used!\n"
     ]
    },
    {
     "name": "stderr",
     "output_type": "stream",
     "text": [
      "\u001b[32m[I 2022-05-13 03:48:34,387]\u001b[0m Trial 145 finished with value: 0.954088092762895 and parameters: {'mask_type': 'entmax', 'n_da': 60, 'n_steps': 4, 'gamma': 1.4, 'n_shared': 4, 'lambda_sparse': 6.800737856076467e-06, 'sc_gamma': 0.6, 'sc_steps': 30, 'patience': 28, 'epochs': 91}. Best is trial 125 with value: 0.9600066853258695.\u001b[0m\n"
     ]
    },
    {
     "name": "stdout",
     "output_type": "stream",
     "text": [
      "Stop training because you reached max_epochs = 96 with best_epoch = 90 and best_val_0_accuracy = 0.94962\n",
      "Best weights from best epoch are automatically used!\n",
      "Stop training because you reached max_epochs = 96 with best_epoch = 95 and best_val_0_accuracy = 0.95442\n",
      "Best weights from best epoch are automatically used!\n",
      "Stop training because you reached max_epochs = 96 with best_epoch = 85 and best_val_0_accuracy = 0.9572\n",
      "Best weights from best epoch are automatically used!\n",
      "Stop training because you reached max_epochs = 96 with best_epoch = 75 and best_val_0_accuracy = 0.9616\n",
      "Best weights from best epoch are automatically used!\n",
      "Stop training because you reached max_epochs = 96 with best_epoch = 77 and best_val_0_accuracy = 0.958\n",
      "Best weights from best epoch are automatically used!\n"
     ]
    },
    {
     "name": "stderr",
     "output_type": "stream",
     "text": [
      "\u001b[32m[I 2022-05-13 03:59:47,044]\u001b[0m Trial 146 finished with value: 0.9561676769292283 and parameters: {'mask_type': 'sparsemax', 'n_da': 60, 'n_steps': 4, 'gamma': 1.3, 'n_shared': 4, 'lambda_sparse': 1.741223316999178e-06, 'sc_gamma': 0.5, 'sc_steps': 40, 'patience': 29, 'epochs': 96}. Best is trial 125 with value: 0.9600066853258695.\u001b[0m\n"
     ]
    },
    {
     "name": "stdout",
     "output_type": "stream",
     "text": [
      "\n",
      "Early stopping occurred at epoch 46 with best_epoch = 20 and best_val_0_accuracy = 0.95442\n",
      "Best weights from best epoch are automatically used!\n",
      "\n",
      "Early stopping occurred at epoch 40 with best_epoch = 14 and best_val_0_accuracy = 0.94642\n",
      "Best weights from best epoch are automatically used!\n",
      "Stop training because you reached max_epochs = 98 with best_epoch = 75 and best_val_0_accuracy = 0.9572\n",
      "Best weights from best epoch are automatically used!\n",
      "\n",
      "Early stopping occurred at epoch 54 with best_epoch = 28 and best_val_0_accuracy = 0.954\n",
      "Best weights from best epoch are automatically used!\n",
      "\n",
      "Early stopping occurred at epoch 33 with best_epoch = 7 and best_val_0_accuracy = 0.9492\n",
      "Best weights from best epoch are automatically used!\n"
     ]
    },
    {
     "name": "stderr",
     "output_type": "stream",
     "text": [
      "\u001b[32m[I 2022-05-13 04:05:42,987]\u001b[0m Trial 147 finished with value: 0.9522479328268693 and parameters: {'mask_type': 'entmax', 'n_da': 56, 'n_steps': 4, 'gamma': 1.2, 'n_shared': 3, 'lambda_sparse': 1.2487560746267687e-06, 'sc_gamma': 0.5, 'sc_steps': 30, 'patience': 26, 'epochs': 98}. Best is trial 125 with value: 0.9600066853258695.\u001b[0m\n"
     ]
    },
    {
     "name": "stdout",
     "output_type": "stream",
     "text": [
      "Stop training because you reached max_epochs = 94 with best_epoch = 80 and best_val_0_accuracy = 0.95242\n",
      "Best weights from best epoch are automatically used!\n",
      "Stop training because you reached max_epochs = 94 with best_epoch = 92 and best_val_0_accuracy = 0.95762\n",
      "Best weights from best epoch are automatically used!\n",
      "\n",
      "Early stopping occurred at epoch 62 with best_epoch = 34 and best_val_0_accuracy = 0.9516\n",
      "Best weights from best epoch are automatically used!\n",
      "\n",
      "Early stopping occurred at epoch 31 with best_epoch = 3 and best_val_0_accuracy = 0.9376\n",
      "Best weights from best epoch are automatically used!\n",
      "\n",
      "Early stopping occurred at epoch 87 with best_epoch = 59 and best_val_0_accuracy = 0.9564\n",
      "Best weights from best epoch are automatically used!\n"
     ]
    },
    {
     "name": "stderr",
     "output_type": "stream",
     "text": [
      "\u001b[32m[I 2022-05-13 04:13:45,929]\u001b[0m Trial 148 finished with value: 0.9511271971211516 and parameters: {'mask_type': 'sparsemax', 'n_da': 64, 'n_steps': 4, 'gamma': 1.5, 'n_shared': 3, 'lambda_sparse': 9.802900805265762e-06, 'sc_gamma': 0.6, 'sc_steps': 40, 'patience': 28, 'epochs': 94}. Best is trial 125 with value: 0.9600066853258695.\u001b[0m\n"
     ]
    },
    {
     "name": "stdout",
     "output_type": "stream",
     "text": [
      "\n",
      "Early stopping occurred at epoch 68 with best_epoch = 38 and best_val_0_accuracy = 0.95122\n",
      "Best weights from best epoch are automatically used!\n",
      "Stop training because you reached max_epochs = 93 with best_epoch = 90 and best_val_0_accuracy = 0.95522\n",
      "Best weights from best epoch are automatically used!\n",
      "Stop training because you reached max_epochs = 93 with best_epoch = 66 and best_val_0_accuracy = 0.9572\n",
      "Best weights from best epoch are automatically used!\n",
      "Stop training because you reached max_epochs = 93 with best_epoch = 92 and best_val_0_accuracy = 0.956\n",
      "Best weights from best epoch are automatically used!\n",
      "Stop training because you reached max_epochs = 93 with best_epoch = 90 and best_val_0_accuracy = 0.96\n",
      "Best weights from best epoch are automatically used!\n"
     ]
    },
    {
     "name": "stderr",
     "output_type": "stream",
     "text": [
      "\u001b[32m[I 2022-05-13 04:24:11,720]\u001b[0m Trial 149 finished with value: 0.9559274850059974 and parameters: {'mask_type': 'sparsemax', 'n_da': 56, 'n_steps': 4, 'gamma': 1.2, 'n_shared': 4, 'lambda_sparse': 2.1026742590111054e-05, 'sc_gamma': 0.5, 'sc_steps': 40, 'patience': 30, 'epochs': 93}. Best is trial 125 with value: 0.9600066853258695.\u001b[0m\n"
     ]
    },
    {
     "name": "stdout",
     "output_type": "stream",
     "text": [
      "Stop training because you reached max_epochs = 3 with best_epoch = 2 and best_val_0_accuracy = 0.86885\n",
      "Best weights from best epoch are automatically used!\n",
      "Stop training because you reached max_epochs = 3 with best_epoch = 1 and best_val_0_accuracy = 0.87925\n",
      "Best weights from best epoch are automatically used!\n",
      "Stop training because you reached max_epochs = 3 with best_epoch = 2 and best_val_0_accuracy = 0.8804\n",
      "Best weights from best epoch are automatically used!\n",
      "Stop training because you reached max_epochs = 3 with best_epoch = 2 and best_val_0_accuracy = 0.8648\n",
      "Best weights from best epoch are automatically used!\n",
      "Stop training because you reached max_epochs = 3 with best_epoch = 1 and best_val_0_accuracy = 0.8684\n",
      "Best weights from best epoch are automatically used!\n"
     ]
    },
    {
     "name": "stderr",
     "output_type": "stream",
     "text": [
      "\u001b[32m[I 2022-05-13 04:24:31,493]\u001b[0m Trial 150 finished with value: 0.8723401519392244 and parameters: {'mask_type': 'sparsemax', 'n_da': 52, 'n_steps': 4, 'gamma': 1.1, 'n_shared': 2, 'lambda_sparse': 3.1427447162425064e-06, 'sc_gamma': 0.6, 'sc_steps': 30, 'patience': 29, 'epochs': 3}. Best is trial 125 with value: 0.9600066853258695.\u001b[0m\n"
     ]
    },
    {
     "name": "stdout",
     "output_type": "stream",
     "text": [
      "\n",
      "Early stopping occurred at epoch 54 with best_epoch = 26 and best_val_0_accuracy = 0.95442\n",
      "Best weights from best epoch are automatically used!\n",
      "Stop training because you reached max_epochs = 97 with best_epoch = 94 and best_val_0_accuracy = 0.95562\n",
      "Best weights from best epoch are automatically used!\n",
      "\n",
      "Early stopping occurred at epoch 59 with best_epoch = 31 and best_val_0_accuracy = 0.952\n",
      "Best weights from best epoch are automatically used!\n",
      "Stop training because you reached max_epochs = 97 with best_epoch = 89 and best_val_0_accuracy = 0.9584\n",
      "Best weights from best epoch are automatically used!\n",
      "\n",
      "Early stopping occurred at epoch 46 with best_epoch = 18 and best_val_0_accuracy = 0.946\n",
      "Best weights from best epoch are automatically used!\n"
     ]
    },
    {
     "name": "stderr",
     "output_type": "stream",
     "text": [
      "\u001b[32m[I 2022-05-13 04:32:54,034]\u001b[0m Trial 151 finished with value: 0.9532871971211515 and parameters: {'mask_type': 'entmax', 'n_da': 56, 'n_steps': 4, 'gamma': 1.3, 'n_shared': 4, 'lambda_sparse': 1.727370176976906e-05, 'sc_gamma': 0.7, 'sc_steps': 20, 'patience': 28, 'epochs': 97}. Best is trial 125 with value: 0.9600066853258695.\u001b[0m\n"
     ]
    },
    {
     "name": "stdout",
     "output_type": "stream",
     "text": [
      "\n",
      "Early stopping occurred at epoch 59 with best_epoch = 31 and best_val_0_accuracy = 0.94922\n",
      "Best weights from best epoch are automatically used!\n",
      "\n",
      "Early stopping occurred at epoch 33 with best_epoch = 5 and best_val_0_accuracy = 0.94482\n",
      "Best weights from best epoch are automatically used!\n",
      "Stop training because you reached max_epochs = 98 with best_epoch = 89 and best_val_0_accuracy = 0.9576\n",
      "Best weights from best epoch are automatically used!\n",
      "Stop training because you reached max_epochs = 98 with best_epoch = 73 and best_val_0_accuracy = 0.9616\n",
      "Best weights from best epoch are automatically used!\n",
      "Stop training because you reached max_epochs = 98 with best_epoch = 97 and best_val_0_accuracy = 0.9544\n",
      "Best weights from best epoch are automatically used!\n"
     ]
    },
    {
     "name": "stderr",
     "output_type": "stream",
     "text": [
      "\u001b[32m[I 2022-05-13 04:42:01,456]\u001b[0m Trial 152 finished with value: 0.9535284766093561 and parameters: {'mask_type': 'entmax', 'n_da': 56, 'n_steps': 4, 'gamma': 1.3, 'n_shared': 4, 'lambda_sparse': 1.0103434676207584e-06, 'sc_gamma': 0.7, 'sc_steps': 30, 'patience': 28, 'epochs': 98}. Best is trial 125 with value: 0.9600066853258695.\u001b[0m\n"
     ]
    },
    {
     "name": "stdout",
     "output_type": "stream",
     "text": [
      "\n",
      "Early stopping occurred at epoch 35 with best_epoch = 7 and best_val_0_accuracy = 0.94562\n",
      "Best weights from best epoch are automatically used!\n",
      "\n",
      "Early stopping occurred at epoch 44 with best_epoch = 16 and best_val_0_accuracy = 0.94842\n",
      "Best weights from best epoch are automatically used!\n",
      "Stop training because you reached max_epochs = 100 with best_epoch = 99 and best_val_0_accuracy = 0.9568\n",
      "Best weights from best epoch are automatically used!\n",
      "\n",
      "Early stopping occurred at epoch 62 with best_epoch = 34 and best_val_0_accuracy = 0.9568\n",
      "Best weights from best epoch are automatically used!\n",
      "Stop training because you reached max_epochs = 100 with best_epoch = 94 and best_val_0_accuracy = 0.9632\n",
      "Best weights from best epoch are automatically used!\n"
     ]
    },
    {
     "name": "stderr",
     "output_type": "stream",
     "text": [
      "\u001b[32m[I 2022-05-13 04:50:05,516]\u001b[0m Trial 153 finished with value: 0.9541684766093562 and parameters: {'mask_type': 'entmax', 'n_da': 60, 'n_steps': 4, 'gamma': 1.3, 'n_shared': 4, 'lambda_sparse': 0.0001584443441696597, 'sc_gamma': 0.6, 'sc_steps': 30, 'patience': 28, 'epochs': 100}. Best is trial 125 with value: 0.9600066853258695.\u001b[0m\n"
     ]
    },
    {
     "name": "stdout",
     "output_type": "stream",
     "text": [
      "Stop training because you reached max_epochs = 98 with best_epoch = 93 and best_val_0_accuracy = 0.95562\n",
      "Best weights from best epoch are automatically used!\n",
      "\n",
      "Early stopping occurred at epoch 31 with best_epoch = 2 and best_val_0_accuracy = 0.94242\n",
      "Best weights from best epoch are automatically used!\n",
      "Stop training because you reached max_epochs = 98 with best_epoch = 85 and best_val_0_accuracy = 0.9548\n",
      "Best weights from best epoch are automatically used!\n",
      "\n",
      "Early stopping occurred at epoch 56 with best_epoch = 27 and best_val_0_accuracy = 0.9552\n",
      "Best weights from best epoch are automatically used!\n",
      "Stop training because you reached max_epochs = 98 with best_epoch = 91 and best_val_0_accuracy = 0.9612\n",
      "Best weights from best epoch are automatically used!\n"
     ]
    },
    {
     "name": "stderr",
     "output_type": "stream",
     "text": [
      "\u001b[32m[I 2022-05-13 04:59:03,644]\u001b[0m Trial 154 finished with value: 0.953848156737305 and parameters: {'mask_type': 'entmax', 'n_da': 60, 'n_steps': 4, 'gamma': 1.4, 'n_shared': 4, 'lambda_sparse': 2.8097278767666166e-05, 'sc_gamma': 0.7, 'sc_steps': 40, 'patience': 29, 'epochs': 98}. Best is trial 125 with value: 0.9600066853258695.\u001b[0m\n"
     ]
    },
    {
     "name": "stdout",
     "output_type": "stream",
     "text": [
      "Stop training because you reached max_epochs = 96 with best_epoch = 88 and best_val_0_accuracy = 0.95642\n",
      "Best weights from best epoch are automatically used!\n",
      "\n",
      "Early stopping occurred at epoch 46 with best_epoch = 19 and best_val_0_accuracy = 0.94722\n",
      "Best weights from best epoch are automatically used!\n",
      "Stop training because you reached max_epochs = 96 with best_epoch = 92 and best_val_0_accuracy = 0.962\n",
      "Best weights from best epoch are automatically used!\n",
      "Stop training because you reached max_epochs = 96 with best_epoch = 89 and best_val_0_accuracy = 0.9632\n",
      "Best weights from best epoch are automatically used!\n",
      "Stop training because you reached max_epochs = 96 with best_epoch = 81 and best_val_0_accuracy = 0.9596\n",
      "Best weights from best epoch are automatically used!\n"
     ]
    },
    {
     "name": "stderr",
     "output_type": "stream",
     "text": [
      "\u001b[32m[I 2022-05-13 05:09:11,857]\u001b[0m Trial 155 finished with value: 0.9576877089164334 and parameters: {'mask_type': 'entmax', 'n_da': 56, 'n_steps': 4, 'gamma': 1.3, 'n_shared': 4, 'lambda_sparse': 1.8929581429295273e-06, 'sc_gamma': 0.5, 'sc_steps': 30, 'patience': 27, 'epochs': 96}. Best is trial 125 with value: 0.9600066853258695.\u001b[0m\n"
     ]
    },
    {
     "name": "stdout",
     "output_type": "stream",
     "text": [
      "\n",
      "Early stopping occurred at epoch 69 with best_epoch = 44 and best_val_0_accuracy = 0.95402\n",
      "Best weights from best epoch are automatically used!\n",
      "Stop training because you reached max_epochs = 73 with best_epoch = 72 and best_val_0_accuracy = 0.95722\n",
      "Best weights from best epoch are automatically used!\n",
      "Stop training because you reached max_epochs = 73 with best_epoch = 68 and best_val_0_accuracy = 0.954\n",
      "Best weights from best epoch are automatically used!\n",
      "Stop training because you reached max_epochs = 73 with best_epoch = 60 and best_val_0_accuracy = 0.95\n",
      "Best weights from best epoch are automatically used!\n",
      "\n",
      "Early stopping occurred at epoch 65 with best_epoch = 40 and best_val_0_accuracy = 0.95\n",
      "Best weights from best epoch are automatically used!\n"
     ]
    },
    {
     "name": "stderr",
     "output_type": "stream",
     "text": [
      "\u001b[32m[I 2022-05-13 05:17:10,775]\u001b[0m Trial 156 finished with value: 0.9530471011595363 and parameters: {'mask_type': 'entmax', 'n_da': 60, 'n_steps': 4, 'gamma': 1.2, 'n_shared': 4, 'lambda_sparse': 1.4140626395969547e-05, 'sc_gamma': 0.5, 'sc_steps': 40, 'patience': 25, 'epochs': 73}. Best is trial 125 with value: 0.9600066853258695.\u001b[0m\n"
     ]
    },
    {
     "name": "stdout",
     "output_type": "stream",
     "text": [
      "Stop training because you reached max_epochs = 89 with best_epoch = 80 and best_val_0_accuracy = 0.95202\n",
      "Best weights from best epoch are automatically used!\n",
      "Stop training because you reached max_epochs = 89 with best_epoch = 84 and best_val_0_accuracy = 0.95082\n",
      "Best weights from best epoch are automatically used!\n",
      "\n",
      "Early stopping occurred at epoch 41 with best_epoch = 14 and best_val_0_accuracy = 0.9484\n",
      "Best weights from best epoch are automatically used!\n",
      "\n",
      "Early stopping occurred at epoch 81 with best_epoch = 54 and best_val_0_accuracy = 0.9604\n",
      "Best weights from best epoch are automatically used!\n",
      "\n",
      "Early stopping occurred at epoch 33 with best_epoch = 6 and best_val_0_accuracy = 0.9412\n",
      "Best weights from best epoch are automatically used!\n"
     ]
    },
    {
     "name": "stderr",
     "output_type": "stream",
     "text": [
      "\u001b[32m[I 2022-05-13 05:23:45,032]\u001b[0m Trial 157 finished with value: 0.9505677728908436 and parameters: {'mask_type': 'sparsemax', 'n_da': 52, 'n_steps': 4, 'gamma': 1.3, 'n_shared': 2, 'lambda_sparse': 1.8215038504348776e-06, 'sc_gamma': 0.5, 'sc_steps': 30, 'patience': 27, 'epochs': 89}. Best is trial 125 with value: 0.9600066853258695.\u001b[0m\n"
     ]
    },
    {
     "name": "stdout",
     "output_type": "stream",
     "text": [
      "\n",
      "Early stopping occurred at epoch 52 with best_epoch = 23 and best_val_0_accuracy = 0.95202\n",
      "Best weights from best epoch are automatically used!\n",
      "Stop training because you reached max_epochs = 95 with best_epoch = 93 and best_val_0_accuracy = 0.95242\n",
      "Best weights from best epoch are automatically used!\n",
      "Stop training because you reached max_epochs = 95 with best_epoch = 68 and best_val_0_accuracy = 0.9604\n",
      "Best weights from best epoch are automatically used!\n",
      "\n",
      "Early stopping occurred at epoch 47 with best_epoch = 18 and best_val_0_accuracy = 0.9536\n",
      "Best weights from best epoch are automatically used!\n",
      "Stop training because you reached max_epochs = 95 with best_epoch = 87 and best_val_0_accuracy = 0.9532\n",
      "Best weights from best epoch are automatically used!\n"
     ]
    },
    {
     "name": "stderr",
     "output_type": "stream",
     "text": [
      "\u001b[32m[I 2022-05-13 05:32:50,828]\u001b[0m Trial 158 finished with value: 0.9543276449420232 and parameters: {'mask_type': 'entmax', 'n_da': 64, 'n_steps': 4, 'gamma': 1.2, 'n_shared': 4, 'lambda_sparse': 2.5914426163582076e-06, 'sc_gamma': 0.5, 'sc_steps': 40, 'patience': 29, 'epochs': 95}. Best is trial 125 with value: 0.9600066853258695.\u001b[0m\n"
     ]
    },
    {
     "name": "stdout",
     "output_type": "stream",
     "text": [
      "Stop training because you reached max_epochs = 92 with best_epoch = 86 and best_val_0_accuracy = 0.95522\n",
      "Best weights from best epoch are automatically used!\n",
      "Stop training because you reached max_epochs = 92 with best_epoch = 86 and best_val_0_accuracy = 0.95522\n",
      "Best weights from best epoch are automatically used!\n",
      "Stop training because you reached max_epochs = 92 with best_epoch = 77 and best_val_0_accuracy = 0.956\n",
      "Best weights from best epoch are automatically used!\n",
      "\n",
      "Early stopping occurred at epoch 84 with best_epoch = 54 and best_val_0_accuracy = 0.956\n",
      "Best weights from best epoch are automatically used!\n",
      "\n",
      "Early stopping occurred at epoch 64 with best_epoch = 34 and best_val_0_accuracy = 0.9452\n",
      "Best weights from best epoch are automatically used!\n"
     ]
    },
    {
     "name": "stderr",
     "output_type": "stream",
     "text": [
      "\u001b[32m[I 2022-05-13 05:42:52,607]\u001b[0m Trial 159 finished with value: 0.9535271651339464 and parameters: {'mask_type': 'sparsemax', 'n_da': 56, 'n_steps': 4, 'gamma': 1.3, 'n_shared': 4, 'lambda_sparse': 2.0281942673440275e-06, 'sc_gamma': 0.6, 'sc_steps': 40, 'patience': 30, 'epochs': 92}. Best is trial 125 with value: 0.9600066853258695.\u001b[0m\n"
     ]
    },
    {
     "name": "stdout",
     "output_type": "stream",
     "text": [
      "Stop training because you reached max_epochs = 87 with best_epoch = 80 and best_val_0_accuracy = 0.95042\n",
      "Best weights from best epoch are automatically used!\n",
      "Stop training because you reached max_epochs = 87 with best_epoch = 83 and best_val_0_accuracy = 0.94922\n",
      "Best weights from best epoch are automatically used!\n",
      "Stop training because you reached max_epochs = 87 with best_epoch = 79 and best_val_0_accuracy = 0.9548\n",
      "Best weights from best epoch are automatically used!\n",
      "\n",
      "Early stopping occurred at epoch 41 with best_epoch = 13 and best_val_0_accuracy = 0.9356\n",
      "Best weights from best epoch are automatically used!\n",
      "Stop training because you reached max_epochs = 87 with best_epoch = 82 and best_val_0_accuracy = 0.9472\n",
      "Best weights from best epoch are automatically used!\n"
     ]
    },
    {
     "name": "stderr",
     "output_type": "stream",
     "text": [
      "\u001b[32m[I 2022-05-13 05:52:04,131]\u001b[0m Trial 160 finished with value: 0.9474480287884847 and parameters: {'mask_type': 'sparsemax', 'n_da': 56, 'n_steps': 4, 'gamma': 1.4, 'n_shared': 4, 'lambda_sparse': 1.1872062093169403e-05, 'sc_gamma': 2.0, 'sc_steps': 30, 'patience': 28, 'epochs': 87}. Best is trial 125 with value: 0.9600066853258695.\u001b[0m\n"
     ]
    },
    {
     "name": "stdout",
     "output_type": "stream",
     "text": [
      "\n",
      "Early stopping occurred at epoch 61 with best_epoch = 33 and best_val_0_accuracy = 0.95042\n",
      "Best weights from best epoch are automatically used!\n",
      "Stop training because you reached max_epochs = 96 with best_epoch = 88 and best_val_0_accuracy = 0.95522\n",
      "Best weights from best epoch are automatically used!\n",
      "Stop training because you reached max_epochs = 96 with best_epoch = 89 and best_val_0_accuracy = 0.9552\n",
      "Best weights from best epoch are automatically used!\n",
      "Stop training because you reached max_epochs = 96 with best_epoch = 83 and best_val_0_accuracy = 0.9632\n",
      "Best weights from best epoch are automatically used!\n",
      "Stop training because you reached max_epochs = 96 with best_epoch = 95 and best_val_0_accuracy = 0.9592\n",
      "Best weights from best epoch are automatically used!\n"
     ]
    },
    {
     "name": "stderr",
     "output_type": "stream",
     "text": [
      "\u001b[32m[I 2022-05-13 06:02:33,969]\u001b[0m Trial 161 finished with value: 0.9566475489804078 and parameters: {'mask_type': 'entmax', 'n_da': 56, 'n_steps': 4, 'gamma': 1.3, 'n_shared': 4, 'lambda_sparse': 0.0001141581382183205, 'sc_gamma': 0.5, 'sc_steps': 30, 'patience': 28, 'epochs': 96}. Best is trial 125 with value: 0.9600066853258695.\u001b[0m\n"
     ]
    },
    {
     "name": "stdout",
     "output_type": "stream",
     "text": [
      "\n",
      "Early stopping occurred at epoch 51 with best_epoch = 22 and best_val_0_accuracy = 0.94842\n",
      "Best weights from best epoch are automatically used!\n",
      "Stop training because you reached max_epochs = 99 with best_epoch = 77 and best_val_0_accuracy = 0.96002\n",
      "Best weights from best epoch are automatically used!\n",
      "\n",
      "Early stopping occurred at epoch 51 with best_epoch = 22 and best_val_0_accuracy = 0.946\n",
      "Best weights from best epoch are automatically used!\n",
      "Stop training because you reached max_epochs = 99 with best_epoch = 84 and best_val_0_accuracy = 0.9628\n",
      "Best weights from best epoch are automatically used!\n",
      "\n",
      "Early stopping occurred at epoch 49 with best_epoch = 20 and best_val_0_accuracy = 0.948\n",
      "Best weights from best epoch are automatically used!\n"
     ]
    },
    {
     "name": "stderr",
     "output_type": "stream",
     "text": [
      "\u001b[32m[I 2022-05-13 06:10:49,835]\u001b[0m Trial 162 finished with value: 0.9530473250699719 and parameters: {'mask_type': 'entmax', 'n_da': 56, 'n_steps': 4, 'gamma': 1.3, 'n_shared': 4, 'lambda_sparse': 1.4626150742269888e-06, 'sc_gamma': 0.6, 'sc_steps': 30, 'patience': 29, 'epochs': 99}. Best is trial 125 with value: 0.9600066853258695.\u001b[0m\n"
     ]
    },
    {
     "name": "stdout",
     "output_type": "stream",
     "text": [
      "\n",
      "Early stopping occurred at epoch 28 with best_epoch = 1 and best_val_0_accuracy = 0.94122\n",
      "Best weights from best epoch are automatically used!\n",
      "\n",
      "Early stopping occurred at epoch 32 with best_epoch = 5 and best_val_0_accuracy = 0.94922\n",
      "Best weights from best epoch are automatically used!\n",
      "Stop training because you reached max_epochs = 96 with best_epoch = 90 and best_val_0_accuracy = 0.9596\n",
      "Best weights from best epoch are automatically used!\n",
      "\n",
      "Early stopping occurred at epoch 39 with best_epoch = 12 and best_val_0_accuracy = 0.9456\n",
      "Best weights from best epoch are automatically used!\n",
      "\n",
      "Early stopping occurred at epoch 44 with best_epoch = 17 and best_val_0_accuracy = 0.9552\n",
      "Best weights from best epoch are automatically used!\n"
     ]
    },
    {
     "name": "stderr",
     "output_type": "stream",
     "text": [
      "\u001b[32m[I 2022-05-13 06:16:34,310]\u001b[0m Trial 163 finished with value: 0.9501687644942024 and parameters: {'mask_type': 'entmax', 'n_da': 60, 'n_steps': 4, 'gamma': 1.3, 'n_shared': 4, 'lambda_sparse': 8.225997210484502e-06, 'sc_gamma': 0.5, 'sc_steps': 30, 'patience': 27, 'epochs': 96}. Best is trial 125 with value: 0.9600066853258695.\u001b[0m\n"
     ]
    },
    {
     "name": "stdout",
     "output_type": "stream",
     "text": [
      "\n",
      "Early stopping occurred at epoch 69 with best_epoch = 41 and best_val_0_accuracy = 0.95082\n",
      "Best weights from best epoch are automatically used!\n",
      "\n",
      "Early stopping occurred at epoch 59 with best_epoch = 31 and best_val_0_accuracy = 0.95162\n",
      "Best weights from best epoch are automatically used!\n",
      "Stop training because you reached max_epochs = 97 with best_epoch = 89 and best_val_0_accuracy = 0.9616\n",
      "Best weights from best epoch are automatically used!\n",
      "Stop training because you reached max_epochs = 97 with best_epoch = 88 and best_val_0_accuracy = 0.9572\n",
      "Best weights from best epoch are automatically used!\n",
      "Stop training because you reached max_epochs = 97 with best_epoch = 95 and best_val_0_accuracy = 0.9552\n",
      "Best weights from best epoch are automatically used!\n"
     ]
    },
    {
     "name": "stderr",
     "output_type": "stream",
     "text": [
      "\u001b[32m[I 2022-05-13 06:26:30,036]\u001b[0m Trial 164 finished with value: 0.9552878048780489 and parameters: {'mask_type': 'entmax', 'n_da': 56, 'n_steps': 4, 'gamma': 1.3, 'n_shared': 4, 'lambda_sparse': 3.7066097121352863e-06, 'sc_gamma': 0.5, 'sc_steps': 30, 'patience': 28, 'epochs': 97}. Best is trial 125 with value: 0.9600066853258695.\u001b[0m\n"
     ]
    },
    {
     "name": "stdout",
     "output_type": "stream",
     "text": [
      "\n",
      "Early stopping occurred at epoch 44 with best_epoch = 15 and best_val_0_accuracy = 0.94282\n",
      "Best weights from best epoch are automatically used!\n",
      "\n",
      "Early stopping occurred at epoch 33 with best_epoch = 4 and best_val_0_accuracy = 0.91603\n",
      "Best weights from best epoch are automatically used!\n",
      "\n",
      "Early stopping occurred at epoch 68 with best_epoch = 39 and best_val_0_accuracy = 0.9432\n",
      "Best weights from best epoch are automatically used!\n",
      "\n",
      "Early stopping occurred at epoch 33 with best_epoch = 4 and best_val_0_accuracy = 0.9424\n",
      "Best weights from best epoch are automatically used!\n",
      "\n",
      "Early stopping occurred at epoch 37 with best_epoch = 8 and best_val_0_accuracy = 0.9036\n",
      "Best weights from best epoch are automatically used!\n"
     ]
    },
    {
     "name": "stderr",
     "output_type": "stream",
     "text": [
      "\u001b[32m[I 2022-05-13 06:35:36,768]\u001b[0m Trial 165 finished with value: 0.9296112914834067 and parameters: {'mask_type': 'entmax', 'n_da': 60, 'n_steps': 10, 'gamma': 1.2, 'n_shared': 4, 'lambda_sparse': 5.0843035393249605e-05, 'sc_gamma': 0.6, 'sc_steps': 20, 'patience': 29, 'epochs': 93}. Best is trial 125 with value: 0.9600066853258695.\u001b[0m\n"
     ]
    },
    {
     "name": "stdout",
     "output_type": "stream",
     "text": [
      "\n",
      "Early stopping occurred at epoch 53 with best_epoch = 26 and best_val_0_accuracy = 0.95522\n",
      "Best weights from best epoch are automatically used!\n",
      "Stop training because you reached max_epochs = 100 with best_epoch = 99 and best_val_0_accuracy = 0.95442\n",
      "Best weights from best epoch are automatically used!\n",
      "\n",
      "Early stopping occurred at epoch 98 with best_epoch = 71 and best_val_0_accuracy = 0.956\n",
      "Best weights from best epoch are automatically used!\n",
      "Stop training because you reached max_epochs = 100 with best_epoch = 75 and best_val_0_accuracy = 0.9612\n",
      "Best weights from best epoch are automatically used!\n",
      "\n",
      "Early stopping occurred at epoch 85 with best_epoch = 58 and best_val_0_accuracy = 0.9564\n",
      "Best weights from best epoch are automatically used!\n"
     ]
    },
    {
     "name": "stderr",
     "output_type": "stream",
     "text": [
      "\u001b[32m[I 2022-05-13 06:45:03,996]\u001b[0m Trial 166 finished with value: 0.9566472291083568 and parameters: {'mask_type': 'entmax', 'n_da': 64, 'n_steps': 4, 'gamma': 1.3, 'n_shared': 3, 'lambda_sparse': 2.3479032453475532e-05, 'sc_gamma': 0.7, 'sc_steps': 30, 'patience': 27, 'epochs': 100}. Best is trial 125 with value: 0.9600066853258695.\u001b[0m\n"
     ]
    },
    {
     "name": "stdout",
     "output_type": "stream",
     "text": [
      "\n",
      "Early stopping occurred at epoch 34 with best_epoch = 6 and best_val_0_accuracy = 0.94882\n",
      "Best weights from best epoch are automatically used!\n",
      "Stop training because you reached max_epochs = 98 with best_epoch = 77 and best_val_0_accuracy = 0.95522\n",
      "Best weights from best epoch are automatically used!\n",
      "\n",
      "Early stopping occurred at epoch 52 with best_epoch = 24 and best_val_0_accuracy = 0.9456\n",
      "Best weights from best epoch are automatically used!\n",
      "Stop training because you reached max_epochs = 98 with best_epoch = 90 and best_val_0_accuracy = 0.9556\n",
      "Best weights from best epoch are automatically used!\n",
      "Stop training because you reached max_epochs = 98 with best_epoch = 91 and best_val_0_accuracy = 0.9552\n",
      "Best weights from best epoch are automatically used!\n"
     ]
    },
    {
     "name": "stderr",
     "output_type": "stream",
     "text": [
      "\u001b[32m[I 2022-05-13 06:54:03,038]\u001b[0m Trial 167 finished with value: 0.9520876769292282 and parameters: {'mask_type': 'sparsemax', 'n_da': 56, 'n_steps': 4, 'gamma': 1.2, 'n_shared': 4, 'lambda_sparse': 1.5922389657448568e-05, 'sc_gamma': 0.5, 'sc_steps': 30, 'patience': 28, 'epochs': 98}. Best is trial 125 with value: 0.9600066853258695.\u001b[0m\n"
     ]
    },
    {
     "name": "stdout",
     "output_type": "stream",
     "text": [
      "\n",
      "Early stopping occurred at epoch 34 with best_epoch = 5 and best_val_0_accuracy = 0.94802\n",
      "Best weights from best epoch are automatically used!\n",
      "\n",
      "Early stopping occurred at epoch 60 with best_epoch = 31 and best_val_0_accuracy = 0.94962\n",
      "Best weights from best epoch are automatically used!\n",
      "Stop training because you reached max_epochs = 95 with best_epoch = 89 and best_val_0_accuracy = 0.962\n",
      "Best weights from best epoch are automatically used!\n",
      "\n",
      "Early stopping occurred at epoch 48 with best_epoch = 19 and best_val_0_accuracy = 0.9496\n",
      "Best weights from best epoch are automatically used!\n",
      "\n",
      "Early stopping occurred at epoch 45 with best_epoch = 16 and best_val_0_accuracy = 0.9516\n",
      "Best weights from best epoch are automatically used!\n"
     ]
    },
    {
     "name": "stderr",
     "output_type": "stream",
     "text": [
      "\u001b[32m[I 2022-05-13 07:00:47,228]\u001b[0m Trial 168 finished with value: 0.9521681887245101 and parameters: {'mask_type': 'entmax', 'n_da': 60, 'n_steps': 4, 'gamma': 1.3, 'n_shared': 4, 'lambda_sparse': 4.182982655612571e-05, 'sc_gamma': 0.6, 'sc_steps': 40, 'patience': 29, 'epochs': 95}. Best is trial 125 with value: 0.9600066853258695.\u001b[0m\n"
     ]
    },
    {
     "name": "stdout",
     "output_type": "stream",
     "text": [
      "Stop training because you reached max_epochs = 90 with best_epoch = 89 and best_val_0_accuracy = 0.94442\n",
      "Best weights from best epoch are automatically used!\n",
      "\n",
      "Early stopping occurred at epoch 30 with best_epoch = 2 and best_val_0_accuracy = 0.91004\n",
      "Best weights from best epoch are automatically used!\n",
      "Stop training because you reached max_epochs = 90 with best_epoch = 80 and best_val_0_accuracy = 0.956\n",
      "Best weights from best epoch are automatically used!\n",
      "Stop training because you reached max_epochs = 90 with best_epoch = 87 and best_val_0_accuracy = 0.96\n",
      "Best weights from best epoch are automatically used!\n",
      "\n",
      "Early stopping occurred at epoch 37 with best_epoch = 9 and best_val_0_accuracy = 0.9408\n",
      "Best weights from best epoch are automatically used!\n"
     ]
    },
    {
     "name": "stderr",
     "output_type": "stream",
     "text": [
      "\u001b[32m[I 2022-05-13 07:08:07,939]\u001b[0m Trial 169 finished with value: 0.942251643342663 and parameters: {'mask_type': 'sparsemax', 'n_da': 52, 'n_steps': 4, 'gamma': 2.0, 'n_shared': 3, 'lambda_sparse': 8.893931075456527e-06, 'sc_gamma': 0.8, 'sc_steps': 40, 'patience': 28, 'epochs': 90}. Best is trial 125 with value: 0.9600066853258695.\u001b[0m\n"
     ]
    },
    {
     "name": "stdout",
     "output_type": "stream",
     "text": [
      "\n",
      "Early stopping occurred at epoch 42 with best_epoch = 16 and best_val_0_accuracy = 0.94642\n",
      "Best weights from best epoch are automatically used!\n",
      "Stop training because you reached max_epochs = 100 with best_epoch = 88 and best_val_0_accuracy = 0.95562\n",
      "Best weights from best epoch are automatically used!\n",
      "Stop training because you reached max_epochs = 100 with best_epoch = 89 and best_val_0_accuracy = 0.9624\n",
      "Best weights from best epoch are automatically used!\n",
      "\n",
      "Early stopping occurred at epoch 43 with best_epoch = 17 and best_val_0_accuracy = 0.948\n",
      "Best weights from best epoch are automatically used!\n",
      "Stop training because you reached max_epochs = 100 with best_epoch = 75 and best_val_0_accuracy = 0.9528\n",
      "Best weights from best epoch are automatically used!\n"
     ]
    },
    {
     "name": "stderr",
     "output_type": "stream",
     "text": [
      "\u001b[32m[I 2022-05-13 07:16:28,187]\u001b[0m Trial 170 finished with value: 0.953047836865254 and parameters: {'mask_type': 'entmax', 'n_da': 60, 'n_steps': 4, 'gamma': 1.9, 'n_shared': 3, 'lambda_sparse': 2.2395150710275002e-06, 'sc_gamma': 0.5, 'sc_steps': 30, 'patience': 26, 'epochs': 100}. Best is trial 125 with value: 0.9600066853258695.\u001b[0m\n"
     ]
    },
    {
     "name": "stdout",
     "output_type": "stream",
     "text": [
      "\n",
      "Early stopping occurred at epoch 52 with best_epoch = 22 and best_val_0_accuracy = 0.94682\n",
      "Best weights from best epoch are automatically used!\n",
      "\n",
      "Early stopping occurred at epoch 33 with best_epoch = 3 and best_val_0_accuracy = 0.93283\n",
      "Best weights from best epoch are automatically used!\n",
      "Stop training because you reached max_epochs = 86 with best_epoch = 85 and best_val_0_accuracy = 0.9524\n",
      "Best weights from best epoch are automatically used!\n",
      "Stop training because you reached max_epochs = 86 with best_epoch = 79 and best_val_0_accuracy = 0.956\n",
      "Best weights from best epoch are automatically used!\n",
      "Stop training because you reached max_epochs = 86 with best_epoch = 74 and best_val_0_accuracy = 0.9584\n",
      "Best weights from best epoch are automatically used!\n"
     ]
    },
    {
     "name": "stderr",
     "output_type": "stream",
     "text": [
      "\u001b[32m[I 2022-05-13 07:24:33,531]\u001b[0m Trial 171 finished with value: 0.9492896281487404 and parameters: {'mask_type': 'sparsemax', 'n_da': 60, 'n_steps': 4, 'gamma': 1.2, 'n_shared': 4, 'lambda_sparse': 0.0009621793984120055, 'sc_gamma': 0.6, 'sc_steps': 50, 'patience': 30, 'epochs': 86}. Best is trial 125 with value: 0.9600066853258695.\u001b[0m\n"
     ]
    },
    {
     "name": "stdout",
     "output_type": "stream",
     "text": [
      "\n",
      "Early stopping occurred at epoch 49 with best_epoch = 19 and best_val_0_accuracy = 0.94082\n",
      "Best weights from best epoch are automatically used!\n",
      "Stop training because you reached max_epochs = 91 with best_epoch = 66 and best_val_0_accuracy = 0.95922\n",
      "Best weights from best epoch are automatically used!\n",
      "\n",
      "Early stopping occurred at epoch 57 with best_epoch = 27 and best_val_0_accuracy = 0.9552\n",
      "Best weights from best epoch are automatically used!\n",
      "Stop training because you reached max_epochs = 91 with best_epoch = 88 and best_val_0_accuracy = 0.958\n",
      "Best weights from best epoch are automatically used!\n",
      "Stop training because you reached max_epochs = 91 with best_epoch = 77 and best_val_0_accuracy = 0.9584\n",
      "Best weights from best epoch are automatically used!\n"
     ]
    },
    {
     "name": "stderr",
     "output_type": "stream",
     "text": [
      "\u001b[32m[I 2022-05-13 07:33:31,270]\u001b[0m Trial 172 finished with value: 0.9543279968012796 and parameters: {'mask_type': 'sparsemax', 'n_da': 60, 'n_steps': 4, 'gamma': 1.2, 'n_shared': 4, 'lambda_sparse': 0.00044990780092162117, 'sc_gamma': 0.6, 'sc_steps': 50, 'patience': 30, 'epochs': 91}. Best is trial 125 with value: 0.9600066853258695.\u001b[0m\n"
     ]
    },
    {
     "name": "stdout",
     "output_type": "stream",
     "text": [
      "Stop training because you reached max_epochs = 94 with best_epoch = 68 and best_val_0_accuracy = 0.95882\n",
      "Best weights from best epoch are automatically used!\n",
      "Stop training because you reached max_epochs = 94 with best_epoch = 90 and best_val_0_accuracy = 0.95202\n",
      "Best weights from best epoch are automatically used!\n",
      "\n",
      "Early stopping occurred at epoch 33 with best_epoch = 3 and best_val_0_accuracy = 0.9252\n",
      "Best weights from best epoch are automatically used!\n",
      "\n",
      "Early stopping occurred at epoch 85 with best_epoch = 55 and best_val_0_accuracy = 0.9472\n",
      "Best weights from best epoch are automatically used!\n",
      "Stop training because you reached max_epochs = 94 with best_epoch = 85 and best_val_0_accuracy = 0.9604\n",
      "Best weights from best epoch are automatically used!\n"
     ]
    },
    {
     "name": "stderr",
     "output_type": "stream",
     "text": [
      "\u001b[32m[I 2022-05-13 07:42:53,598]\u001b[0m Trial 173 finished with value: 0.9487271331467413 and parameters: {'mask_type': 'sparsemax', 'n_da': 32, 'n_steps': 4, 'gamma': 1.2, 'n_shared': 4, 'lambda_sparse': 0.0006898036537410761, 'sc_gamma': 0.7, 'sc_steps': 30, 'patience': 30, 'epochs': 94}. Best is trial 125 with value: 0.9600066853258695.\u001b[0m\n"
     ]
    },
    {
     "name": "stdout",
     "output_type": "stream",
     "text": [
      "Stop training because you reached max_epochs = 97 with best_epoch = 81 and best_val_0_accuracy = 0.95682\n",
      "Best weights from best epoch are automatically used!\n",
      "\n",
      "Early stopping occurred at epoch 57 with best_epoch = 28 and best_val_0_accuracy = 0.94562\n",
      "Best weights from best epoch are automatically used!\n",
      "\n",
      "Early stopping occurred at epoch 32 with best_epoch = 3 and best_val_0_accuracy = 0.928\n",
      "Best weights from best epoch are automatically used!\n",
      "\n",
      "Early stopping occurred at epoch 50 with best_epoch = 21 and best_val_0_accuracy = 0.9516\n",
      "Best weights from best epoch are automatically used!\n",
      "Stop training because you reached max_epochs = 97 with best_epoch = 92 and best_val_0_accuracy = 0.954\n",
      "Best weights from best epoch are automatically used!\n"
     ]
    },
    {
     "name": "stderr",
     "output_type": "stream",
     "text": [
      "\u001b[32m[I 2022-05-13 07:50:47,177]\u001b[0m Trial 174 finished with value: 0.9472078048780487 and parameters: {'mask_type': 'sparsemax', 'n_da': 44, 'n_steps': 4, 'gamma': 1.3, 'n_shared': 4, 'lambda_sparse': 0.0006039906768676356, 'sc_gamma': 0.5, 'sc_steps': 40, 'patience': 29, 'epochs': 97}. Best is trial 125 with value: 0.9600066853258695.\u001b[0m\n"
     ]
    },
    {
     "name": "stdout",
     "output_type": "stream",
     "text": [
      "\n",
      "Early stopping occurred at epoch 66 with best_epoch = 37 and best_val_0_accuracy = 0.95402\n",
      "Best weights from best epoch are automatically used!\n",
      "Stop training because you reached max_epochs = 82 with best_epoch = 79 and best_val_0_accuracy = 0.95042\n",
      "Best weights from best epoch are automatically used!\n",
      "\n",
      "Early stopping occurred at epoch 53 with best_epoch = 24 and best_val_0_accuracy = 0.9488\n",
      "Best weights from best epoch are automatically used!\n",
      "\n",
      "Early stopping occurred at epoch 36 with best_epoch = 7 and best_val_0_accuracy = 0.9436\n",
      "Best weights from best epoch are automatically used!\n",
      "Stop training because you reached max_epochs = 82 with best_epoch = 57 and best_val_0_accuracy = 0.9496\n",
      "Best weights from best epoch are automatically used!\n"
     ]
    },
    {
     "name": "stderr",
     "output_type": "stream",
     "text": [
      "\u001b[32m[I 2022-05-13 07:58:19,806]\u001b[0m Trial 175 finished with value: 0.9492876449420231 and parameters: {'mask_type': 'sparsemax', 'n_da': 56, 'n_steps': 4, 'gamma': 1.2, 'n_shared': 4, 'lambda_sparse': 1.9295677347450228e-05, 'sc_gamma': 0.6, 'sc_steps': 40, 'patience': 29, 'epochs': 82}. Best is trial 125 with value: 0.9600066853258695.\u001b[0m\n"
     ]
    },
    {
     "name": "stdout",
     "output_type": "stream",
     "text": [
      "Stop training because you reached max_epochs = 63 with best_epoch = 58 and best_val_0_accuracy = 0.95322\n",
      "Best weights from best epoch are automatically used!\n",
      "Stop training because you reached max_epochs = 63 with best_epoch = 49 and best_val_0_accuracy = 0.94802\n",
      "Best weights from best epoch are automatically used!\n",
      "Stop training because you reached max_epochs = 63 with best_epoch = 62 and best_val_0_accuracy = 0.9576\n",
      "Best weights from best epoch are automatically used!\n",
      "Stop training because you reached max_epochs = 63 with best_epoch = 58 and best_val_0_accuracy = 0.958\n",
      "Best weights from best epoch are automatically used!\n",
      "Stop training because you reached max_epochs = 63 with best_epoch = 62 and best_val_0_accuracy = 0.9476\n",
      "Best weights from best epoch are automatically used!\n"
     ]
    },
    {
     "name": "stderr",
     "output_type": "stream",
     "text": [
      "\u001b[32m[I 2022-05-13 08:05:43,945]\u001b[0m Trial 176 finished with value: 0.9528879008396643 and parameters: {'mask_type': 'sparsemax', 'n_da': 64, 'n_steps': 4, 'gamma': 1.4, 'n_shared': 4, 'lambda_sparse': 7.150520829444372e-06, 'sc_gamma': 0.6, 'sc_steps': 50, 'patience': 30, 'epochs': 63}. Best is trial 125 with value: 0.9600066853258695.\u001b[0m\n"
     ]
    },
    {
     "name": "stdout",
     "output_type": "stream",
     "text": [
      "\n",
      "Early stopping occurred at epoch 51 with best_epoch = 23 and best_val_0_accuracy = 0.94362\n",
      "Best weights from best epoch are automatically used!\n",
      "\n",
      "Early stopping occurred at epoch 34 with best_epoch = 6 and best_val_0_accuracy = 0.90364\n",
      "Best weights from best epoch are automatically used!\n",
      "Stop training because you reached max_epochs = 84 with best_epoch = 63 and best_val_0_accuracy = 0.956\n",
      "Best weights from best epoch are automatically used!\n",
      "Stop training because you reached max_epochs = 84 with best_epoch = 60 and best_val_0_accuracy = 0.9584\n",
      "Best weights from best epoch are automatically used!\n",
      "Stop training because you reached max_epochs = 84 with best_epoch = 78 and best_val_0_accuracy = 0.9572\n",
      "Best weights from best epoch are automatically used!\n"
     ]
    },
    {
     "name": "stderr",
     "output_type": "stream",
     "text": [
      "\u001b[32m[I 2022-05-13 08:13:03,440]\u001b[0m Trial 177 finished with value: 0.9437722191123552 and parameters: {'mask_type': 'sparsemax', 'n_da': 60, 'n_steps': 4, 'gamma': 1.3, 'n_shared': 3, 'lambda_sparse': 1.0655445033350683e-05, 'sc_gamma': 0.7, 'sc_steps': 30, 'patience': 28, 'epochs': 84}. Best is trial 125 with value: 0.9600066853258695.\u001b[0m\n"
     ]
    },
    {
     "name": "stdout",
     "output_type": "stream",
     "text": [
      "Stop training because you reached max_epochs = 88 with best_epoch = 72 and best_val_0_accuracy = 0.96042\n",
      "Best weights from best epoch are automatically used!\n",
      "\n",
      "Early stopping occurred at epoch 41 with best_epoch = 12 and best_val_0_accuracy = 0.95002\n",
      "Best weights from best epoch are automatically used!\n",
      "Stop training because you reached max_epochs = 88 with best_epoch = 83 and best_val_0_accuracy = 0.96\n",
      "Best weights from best epoch are automatically used!\n",
      "\n",
      "Early stopping occurred at epoch 47 with best_epoch = 18 and best_val_0_accuracy = 0.946\n",
      "Best weights from best epoch are automatically used!\n",
      "Stop training because you reached max_epochs = 88 with best_epoch = 71 and best_val_0_accuracy = 0.9564\n",
      "Best weights from best epoch are automatically used!\n"
     ]
    },
    {
     "name": "stderr",
     "output_type": "stream",
     "text": [
      "\u001b[32m[I 2022-05-13 08:21:23,035]\u001b[0m Trial 178 finished with value: 0.9545671651339465 and parameters: {'mask_type': 'entmax', 'n_da': 60, 'n_steps': 4, 'gamma': 1.3, 'n_shared': 4, 'lambda_sparse': 1.256389854842749e-05, 'sc_gamma': 0.5, 'sc_steps': 40, 'patience': 29, 'epochs': 88}. Best is trial 125 with value: 0.9600066853258695.\u001b[0m\n"
     ]
    },
    {
     "name": "stdout",
     "output_type": "stream",
     "text": [
      "Stop training because you reached max_epochs = 96 with best_epoch = 86 and best_val_0_accuracy = 0.95602\n",
      "Best weights from best epoch are automatically used!\n",
      "\n",
      "Early stopping occurred at epoch 93 with best_epoch = 65 and best_val_0_accuracy = 0.95842\n",
      "Best weights from best epoch are automatically used!\n",
      "Stop training because you reached max_epochs = 96 with best_epoch = 84 and best_val_0_accuracy = 0.9604\n",
      "Best weights from best epoch are automatically used!\n",
      "Stop training because you reached max_epochs = 96 with best_epoch = 85 and best_val_0_accuracy = 0.952\n",
      "Best weights from best epoch are automatically used!\n",
      "Stop training because you reached max_epochs = 96 with best_epoch = 73 and best_val_0_accuracy = 0.9616\n",
      "Best weights from best epoch are automatically used!\n"
     ]
    },
    {
     "name": "stderr",
     "output_type": "stream",
     "text": [
      "\u001b[32m[I 2022-05-13 08:30:43,148]\u001b[0m Trial 179 finished with value: 0.9576868452618953 and parameters: {'mask_type': 'sparsemax', 'n_da': 64, 'n_steps': 4, 'gamma': 1.2, 'n_shared': 2, 'lambda_sparse': 0.00027781939952330827, 'sc_gamma': 0.6, 'sc_steps': 30, 'patience': 28, 'epochs': 96}. Best is trial 125 with value: 0.9600066853258695.\u001b[0m\n"
     ]
    },
    {
     "name": "stdout",
     "output_type": "stream",
     "text": [
      "\n",
      "Early stopping occurred at epoch 67 with best_epoch = 39 and best_val_0_accuracy = 0.95202\n",
      "Best weights from best epoch are automatically used!\n",
      "\n",
      "Early stopping occurred at epoch 98 with best_epoch = 70 and best_val_0_accuracy = 0.94762\n",
      "Best weights from best epoch are automatically used!\n",
      "\n",
      "Early stopping occurred at epoch 49 with best_epoch = 21 and best_val_0_accuracy = 0.9544\n",
      "Best weights from best epoch are automatically used!\n",
      "\n",
      "Early stopping occurred at epoch 53 with best_epoch = 25 and best_val_0_accuracy = 0.9508\n",
      "Best weights from best epoch are automatically used!\n",
      "\n",
      "Early stopping occurred at epoch 83 with best_epoch = 55 and best_val_0_accuracy = 0.9552\n",
      "Best weights from best epoch are automatically used!\n"
     ]
    },
    {
     "name": "stderr",
     "output_type": "stream",
     "text": [
      "\u001b[32m[I 2022-05-13 08:37:40,660]\u001b[0m Trial 180 finished with value: 0.9520080287884847 and parameters: {'mask_type': 'entmax', 'n_da': 64, 'n_steps': 4, 'gamma': 1.1, 'n_shared': 2, 'lambda_sparse': 2.8979436058972688e-05, 'sc_gamma': 1.9000000000000001, 'sc_steps': 30, 'patience': 28, 'epochs': 100}. Best is trial 125 with value: 0.9600066853258695.\u001b[0m\n"
     ]
    },
    {
     "name": "stdout",
     "output_type": "stream",
     "text": [
      "\n",
      "Early stopping occurred at epoch 75 with best_epoch = 47 and best_val_0_accuracy = 0.95562\n",
      "Best weights from best epoch are automatically used!\n",
      "\n",
      "Early stopping occurred at epoch 74 with best_epoch = 46 and best_val_0_accuracy = 0.94682\n",
      "Best weights from best epoch are automatically used!\n",
      "\n",
      "Early stopping occurred at epoch 63 with best_epoch = 35 and best_val_0_accuracy = 0.9492\n",
      "Best weights from best epoch are automatically used!\n",
      "Stop training because you reached max_epochs = 96 with best_epoch = 87 and best_val_0_accuracy = 0.9616\n",
      "Best weights from best epoch are automatically used!\n",
      "Stop training because you reached max_epochs = 96 with best_epoch = 69 and best_val_0_accuracy = 0.9556\n",
      "Best weights from best epoch are automatically used!\n"
     ]
    },
    {
     "name": "stderr",
     "output_type": "stream",
     "text": [
      "\u001b[32m[I 2022-05-13 08:45:36,527]\u001b[0m Trial 181 finished with value: 0.9537678048780489 and parameters: {'mask_type': 'sparsemax', 'n_da': 64, 'n_steps': 4, 'gamma': 1.2, 'n_shared': 2, 'lambda_sparse': 0.0002797109192651916, 'sc_gamma': 0.6, 'sc_steps': 30, 'patience': 28, 'epochs': 96}. Best is trial 125 with value: 0.9600066853258695.\u001b[0m\n"
     ]
    },
    {
     "name": "stdout",
     "output_type": "stream",
     "text": [
      "Stop training because you reached max_epochs = 93 with best_epoch = 92 and best_val_0_accuracy = 0.95722\n",
      "Best weights from best epoch are automatically used!\n",
      "Stop training because you reached max_epochs = 93 with best_epoch = 90 and best_val_0_accuracy = 0.96042\n",
      "Best weights from best epoch are automatically used!\n",
      "Stop training because you reached max_epochs = 93 with best_epoch = 91 and best_val_0_accuracy = 0.95\n",
      "Best weights from best epoch are automatically used!\n",
      "Stop training because you reached max_epochs = 93 with best_epoch = 71 and best_val_0_accuracy = 0.9588\n",
      "Best weights from best epoch are automatically used!\n",
      "Stop training because you reached max_epochs = 93 with best_epoch = 82 and best_val_0_accuracy = 0.9644\n",
      "Best weights from best epoch are automatically used!\n"
     ]
    },
    {
     "name": "stderr",
     "output_type": "stream",
     "text": [
      "\u001b[32m[I 2022-05-13 08:54:42,377]\u001b[0m Trial 182 finished with value: 0.9581665893642544 and parameters: {'mask_type': 'sparsemax', 'n_da': 64, 'n_steps': 4, 'gamma': 1.2, 'n_shared': 2, 'lambda_sparse': 0.00041165419813122476, 'sc_gamma': 0.5, 'sc_steps': 30, 'patience': 29, 'epochs': 93}. Best is trial 125 with value: 0.9600066853258695.\u001b[0m\n"
     ]
    },
    {
     "name": "stdout",
     "output_type": "stream",
     "text": [
      "\n",
      "Early stopping occurred at epoch 37 with best_epoch = 8 and best_val_0_accuracy = 0.94362\n",
      "Best weights from best epoch are automatically used!\n",
      "Stop training because you reached max_epochs = 98 with best_epoch = 94 and best_val_0_accuracy = 0.95362\n",
      "Best weights from best epoch are automatically used!\n",
      "\n",
      "Early stopping occurred at epoch 95 with best_epoch = 66 and best_val_0_accuracy = 0.962\n",
      "Best weights from best epoch are automatically used!\n",
      "Stop training because you reached max_epochs = 98 with best_epoch = 95 and best_val_0_accuracy = 0.9636\n",
      "Best weights from best epoch are automatically used!\n",
      "Stop training because you reached max_epochs = 98 with best_epoch = 90 and best_val_0_accuracy = 0.9592\n",
      "Best weights from best epoch are automatically used!\n"
     ]
    },
    {
     "name": "stderr",
     "output_type": "stream",
     "text": [
      "\u001b[32m[I 2022-05-13 09:03:01,934]\u001b[0m Trial 183 finished with value: 0.9564082207117153 and parameters: {'mask_type': 'sparsemax', 'n_da': 64, 'n_steps': 4, 'gamma': 1.2, 'n_shared': 2, 'lambda_sparse': 0.0007897340871009979, 'sc_gamma': 0.5, 'sc_steps': 30, 'patience': 29, 'epochs': 98}. Best is trial 125 with value: 0.9600066853258695.\u001b[0m\n"
     ]
    },
    {
     "name": "stdout",
     "output_type": "stream",
     "text": [
      "Stop training because you reached max_epochs = 93 with best_epoch = 73 and best_val_0_accuracy = 0.95282\n",
      "Best weights from best epoch are automatically used!\n",
      "\n",
      "Early stopping occurred at epoch 31 with best_epoch = 4 and best_val_0_accuracy = 0.94202\n",
      "Best weights from best epoch are automatically used!\n",
      "Stop training because you reached max_epochs = 93 with best_epoch = 85 and best_val_0_accuracy = 0.9588\n",
      "Best weights from best epoch are automatically used!\n",
      "\n",
      "Early stopping occurred at epoch 28 with best_epoch = 1 and best_val_0_accuracy = 0.9328\n",
      "Best weights from best epoch are automatically used!\n",
      "\n",
      "Early stopping occurred at epoch 32 with best_epoch = 5 and best_val_0_accuracy = 0.9388\n",
      "Best weights from best epoch are automatically used!\n"
     ]
    },
    {
     "name": "stderr",
     "output_type": "stream",
     "text": [
      "\u001b[32m[I 2022-05-13 09:08:32,819]\u001b[0m Trial 184 finished with value: 0.945048412634946 and parameters: {'mask_type': 'sparsemax', 'n_da': 64, 'n_steps': 4, 'gamma': 1.2, 'n_shared': 2, 'lambda_sparse': 1.4581974347014678e-05, 'sc_gamma': 0.5, 'sc_steps': 30, 'patience': 27, 'epochs': 93}. Best is trial 125 with value: 0.9600066853258695.\u001b[0m\n"
     ]
    },
    {
     "name": "stdout",
     "output_type": "stream",
     "text": [
      "\n",
      "Early stopping occurred at epoch 68 with best_epoch = 40 and best_val_0_accuracy = 0.95002\n",
      "Best weights from best epoch are automatically used!\n",
      "\n",
      "Early stopping occurred at epoch 31 with best_epoch = 3 and best_val_0_accuracy = 0.93523\n",
      "Best weights from best epoch are automatically used!\n",
      "Stop training because you reached max_epochs = 95 with best_epoch = 91 and best_val_0_accuracy = 0.9588\n",
      "Best weights from best epoch are automatically used!\n",
      "Stop training because you reached max_epochs = 95 with best_epoch = 86 and best_val_0_accuracy = 0.954\n",
      "Best weights from best epoch are automatically used!\n",
      "\n",
      "Early stopping occurred at epoch 66 with best_epoch = 38 and best_val_0_accuracy = 0.9524\n",
      "Best weights from best epoch are automatically used!\n"
     ]
    },
    {
     "name": "stderr",
     "output_type": "stream",
     "text": [
      "\u001b[32m[I 2022-05-13 09:15:35,309]\u001b[0m Trial 185 finished with value: 0.9500891803278689 and parameters: {'mask_type': 'sparsemax', 'n_da': 64, 'n_steps': 4, 'gamma': 1.3, 'n_shared': 2, 'lambda_sparse': 6.758210473944898e-05, 'sc_gamma': 0.5, 'sc_steps': 30, 'patience': 28, 'epochs': 95}. Best is trial 125 with value: 0.9600066853258695.\u001b[0m\n"
     ]
    },
    {
     "name": "stdout",
     "output_type": "stream",
     "text": [
      "\n",
      "Early stopping occurred at epoch 42 with best_epoch = 13 and best_val_0_accuracy = 0.95402\n",
      "Best weights from best epoch are automatically used!\n",
      "Stop training because you reached max_epochs = 98 with best_epoch = 80 and best_val_0_accuracy = 0.95962\n",
      "Best weights from best epoch are automatically used!\n",
      "Stop training because you reached max_epochs = 98 with best_epoch = 92 and best_val_0_accuracy = 0.9588\n",
      "Best weights from best epoch are automatically used!\n",
      "\n",
      "Early stopping occurred at epoch 68 with best_epoch = 39 and best_val_0_accuracy = 0.9512\n",
      "Best weights from best epoch are automatically used!\n",
      "Stop training because you reached max_epochs = 98 with best_epoch = 95 and best_val_0_accuracy = 0.9532\n",
      "Best weights from best epoch are automatically used!\n"
     ]
    },
    {
     "name": "stderr",
     "output_type": "stream",
     "text": [
      "\u001b[32m[I 2022-05-13 09:23:29,386]\u001b[0m Trial 186 finished with value: 0.9553669092363055 and parameters: {'mask_type': 'sparsemax', 'n_da': 64, 'n_steps': 4, 'gamma': 1.2, 'n_shared': 2, 'lambda_sparse': 0.00032771429442275647, 'sc_gamma': 0.6, 'sc_steps': 30, 'patience': 29, 'epochs': 98}. Best is trial 125 with value: 0.9600066853258695.\u001b[0m\n"
     ]
    },
    {
     "name": "stdout",
     "output_type": "stream",
     "text": [
      "\n",
      "Early stopping occurred at epoch 99 with best_epoch = 71 and best_val_0_accuracy = 0.95282\n",
      "Best weights from best epoch are automatically used!\n",
      "Stop training because you reached max_epochs = 100 with best_epoch = 85 and best_val_0_accuracy = 0.95122\n",
      "Best weights from best epoch are automatically used!\n",
      "\n",
      "Early stopping occurred at epoch 76 with best_epoch = 48 and best_val_0_accuracy = 0.9544\n",
      "Best weights from best epoch are automatically used!\n",
      "\n",
      "Early stopping occurred at epoch 98 with best_epoch = 70 and best_val_0_accuracy = 0.9588\n",
      "Best weights from best epoch are automatically used!\n",
      "\n",
      "Early stopping occurred at epoch 69 with best_epoch = 41 and best_val_0_accuracy = 0.9552\n",
      "Best weights from best epoch are automatically used!\n"
     ]
    },
    {
     "name": "stderr",
     "output_type": "stream",
     "text": [
      "\u001b[32m[I 2022-05-13 09:33:08,630]\u001b[0m Trial 187 finished with value: 0.9544876769292283 and parameters: {'mask_type': 'sparsemax', 'n_da': 64, 'n_steps': 4, 'gamma': 1.3, 'n_shared': 3, 'lambda_sparse': 0.0005028728752374338, 'sc_gamma': 0.5, 'sc_steps': 30, 'patience': 28, 'epochs': 100}. Best is trial 125 with value: 0.9600066853258695.\u001b[0m\n"
     ]
    },
    {
     "name": "stdout",
     "output_type": "stream",
     "text": [
      "Stop training because you reached max_epochs = 96 with best_epoch = 95 and best_val_0_accuracy = 0.95962\n",
      "Best weights from best epoch are automatically used!\n",
      "Stop training because you reached max_epochs = 96 with best_epoch = 90 and best_val_0_accuracy = 0.95802\n",
      "Best weights from best epoch are automatically used!\n",
      "Stop training because you reached max_epochs = 96 with best_epoch = 84 and best_val_0_accuracy = 0.9624\n",
      "Best weights from best epoch are automatically used!\n",
      "\n",
      "Early stopping occurred at epoch 58 with best_epoch = 29 and best_val_0_accuracy = 0.9484\n",
      "Best weights from best epoch are automatically used!\n",
      "Stop training because you reached max_epochs = 96 with best_epoch = 87 and best_val_0_accuracy = 0.9568\n",
      "Best weights from best epoch are automatically used!\n"
     ]
    },
    {
     "name": "stderr",
     "output_type": "stream",
     "text": [
      "\u001b[32m[I 2022-05-13 09:41:42,397]\u001b[0m Trial 188 finished with value: 0.9570465893642544 and parameters: {'mask_type': 'entmax', 'n_da': 56, 'n_steps': 4, 'gamma': 1.3, 'n_shared': 2, 'lambda_sparse': 0.0001973776899002061, 'sc_gamma': 0.5, 'sc_steps': 30, 'patience': 29, 'epochs': 96}. Best is trial 125 with value: 0.9600066853258695.\u001b[0m\n"
     ]
    },
    {
     "name": "stdout",
     "output_type": "stream",
     "text": [
      "\n",
      "Early stopping occurred at epoch 79 with best_epoch = 51 and best_val_0_accuracy = 0.94522\n",
      "Best weights from best epoch are automatically used!\n",
      "\n",
      "Early stopping occurred at epoch 68 with best_epoch = 40 and best_val_0_accuracy = 0.94242\n",
      "Best weights from best epoch are automatically used!\n",
      "Stop training because you reached max_epochs = 91 with best_epoch = 86 and best_val_0_accuracy = 0.9616\n",
      "Best weights from best epoch are automatically used!\n",
      "\n",
      "Early stopping occurred at epoch 76 with best_epoch = 48 and best_val_0_accuracy = 0.9568\n",
      "Best weights from best epoch are automatically used!\n",
      "Stop training because you reached max_epochs = 91 with best_epoch = 83 and best_val_0_accuracy = 0.9568\n",
      "Best weights from best epoch are automatically used!\n"
     ]
    },
    {
     "name": "stderr",
     "output_type": "stream",
     "text": [
      "\u001b[32m[I 2022-05-13 09:49:38,296]\u001b[0m Trial 189 finished with value: 0.9525689884046381 and parameters: {'mask_type': 'sparsemax', 'n_da': 64, 'n_steps': 4, 'gamma': 1.1, 'n_shared': 2, 'lambda_sparse': 3.5278912714224874e-05, 'sc_gamma': 0.6, 'sc_steps': 30, 'patience': 28, 'epochs': 91}. Best is trial 125 with value: 0.9600066853258695.\u001b[0m\n"
     ]
    },
    {
     "name": "stdout",
     "output_type": "stream",
     "text": [
      "\n",
      "Early stopping occurred at epoch 42 with best_epoch = 13 and best_val_0_accuracy = 0.94722\n",
      "Best weights from best epoch are automatically used!\n",
      "\n",
      "Early stopping occurred at epoch 33 with best_epoch = 4 and best_val_0_accuracy = 0.95122\n",
      "Best weights from best epoch are automatically used!\n",
      "\n",
      "Early stopping occurred at epoch 42 with best_epoch = 13 and best_val_0_accuracy = 0.9524\n",
      "Best weights from best epoch are automatically used!\n",
      "Stop training because you reached max_epochs = 93 with best_epoch = 85 and best_val_0_accuracy = 0.9608\n",
      "Best weights from best epoch are automatically used!\n",
      "\n",
      "Early stopping occurred at epoch 38 with best_epoch = 9 and best_val_0_accuracy = 0.9484\n",
      "Best weights from best epoch are automatically used!\n"
     ]
    },
    {
     "name": "stderr",
     "output_type": "stream",
     "text": [
      "\u001b[32m[I 2022-05-13 09:55:06,459]\u001b[0m Trial 190 finished with value: 0.9520081247500999 and parameters: {'mask_type': 'entmax', 'n_da': 56, 'n_steps': 4, 'gamma': 1.4, 'n_shared': 3, 'lambda_sparse': 0.00040090029670666595, 'sc_gamma': 0.5, 'sc_steps': 30, 'patience': 29, 'epochs': 93}. Best is trial 125 with value: 0.9600066853258695.\u001b[0m\n"
     ]
    },
    {
     "name": "stdout",
     "output_type": "stream",
     "text": [
      "\n",
      "Early stopping occurred at epoch 77 with best_epoch = 47 and best_val_0_accuracy = 0.95522\n",
      "Best weights from best epoch are automatically used!\n",
      "Stop training because you reached max_epochs = 90 with best_epoch = 88 and best_val_0_accuracy = 0.95882\n",
      "Best weights from best epoch are automatically used!\n",
      "\n",
      "Early stopping occurred at epoch 78 with best_epoch = 48 and best_val_0_accuracy = 0.9572\n",
      "Best weights from best epoch are automatically used!\n",
      "Stop training because you reached max_epochs = 90 with best_epoch = 86 and best_val_0_accuracy = 0.96\n",
      "Best weights from best epoch are automatically used!\n",
      "Stop training because you reached max_epochs = 90 with best_epoch = 80 and best_val_0_accuracy = 0.9608\n",
      "Best weights from best epoch are automatically used!\n"
     ]
    },
    {
     "name": "stderr",
     "output_type": "stream",
     "text": [
      "\u001b[32m[I 2022-05-13 10:04:18,758]\u001b[0m Trial 191 finished with value: 0.9584068772491003 and parameters: {'mask_type': 'sparsemax', 'n_da': 60, 'n_steps': 4, 'gamma': 1.2, 'n_shared': 3, 'lambda_sparse': 0.0006073579674503108, 'sc_gamma': 0.6, 'sc_steps': 40, 'patience': 30, 'epochs': 90}. Best is trial 125 with value: 0.9600066853258695.\u001b[0m\n"
     ]
    },
    {
     "name": "stdout",
     "output_type": "stream",
     "text": [
      "\n",
      "Early stopping occurred at epoch 77 with best_epoch = 47 and best_val_0_accuracy = 0.95042\n",
      "Best weights from best epoch are automatically used!\n",
      "Stop training because you reached max_epochs = 98 with best_epoch = 86 and best_val_0_accuracy = 0.95762\n",
      "Best weights from best epoch are automatically used!\n",
      "\n",
      "Early stopping occurred at epoch 58 with best_epoch = 28 and best_val_0_accuracy = 0.9528\n",
      "Best weights from best epoch are automatically used!\n",
      "Stop training because you reached max_epochs = 98 with best_epoch = 93 and best_val_0_accuracy = 0.9652\n",
      "Best weights from best epoch are automatically used!\n",
      "Stop training because you reached max_epochs = 98 with best_epoch = 93 and best_val_0_accuracy = 0.9552\n",
      "Best weights from best epoch are automatically used!\n"
     ]
    },
    {
     "name": "stderr",
     "output_type": "stream",
     "text": [
      "\u001b[32m[I 2022-05-13 10:13:39,153]\u001b[0m Trial 192 finished with value: 0.9562473570571772 and parameters: {'mask_type': 'sparsemax', 'n_da': 60, 'n_steps': 4, 'gamma': 1.2, 'n_shared': 3, 'lambda_sparse': 0.0003795445586821103, 'sc_gamma': 0.6, 'sc_steps': 40, 'patience': 30, 'epochs': 98}. Best is trial 125 with value: 0.9600066853258695.\u001b[0m\n"
     ]
    },
    {
     "name": "stdout",
     "output_type": "stream",
     "text": [
      "\n",
      "Early stopping occurred at epoch 63 with best_epoch = 36 and best_val_0_accuracy = 0.94842\n",
      "Best weights from best epoch are automatically used!\n",
      "Stop training because you reached max_epochs = 94 with best_epoch = 67 and best_val_0_accuracy = 0.95242\n",
      "Best weights from best epoch are automatically used!\n",
      "Stop training because you reached max_epochs = 94 with best_epoch = 71 and best_val_0_accuracy = 0.9568\n",
      "Best weights from best epoch are automatically used!\n",
      "Stop training because you reached max_epochs = 94 with best_epoch = 82 and best_val_0_accuracy = 0.9632\n",
      "Best weights from best epoch are automatically used!\n",
      "\n",
      "Early stopping occurred at epoch 44 with best_epoch = 17 and best_val_0_accuracy = 0.9524\n",
      "Best weights from best epoch are automatically used!\n"
     ]
    },
    {
     "name": "stderr",
     "output_type": "stream",
     "text": [
      "\u001b[32m[I 2022-05-13 10:22:06,001]\u001b[0m Trial 193 finished with value: 0.9546479328268692 and parameters: {'mask_type': 'sparsemax', 'n_da': 60, 'n_steps': 4, 'gamma': 1.2, 'n_shared': 3, 'lambda_sparse': 0.0008581690744556666, 'sc_gamma': 0.6, 'sc_steps': 40, 'patience': 27, 'epochs': 94}. Best is trial 125 with value: 0.9600066853258695.\u001b[0m\n"
     ]
    },
    {
     "name": "stdout",
     "output_type": "stream",
     "text": [
      "\n",
      "Early stopping occurred at epoch 69 with best_epoch = 41 and best_val_0_accuracy = 0.95202\n",
      "Best weights from best epoch are automatically used!\n",
      "\n",
      "Early stopping occurred at epoch 53 with best_epoch = 25 and best_val_0_accuracy = 0.93882\n",
      "Best weights from best epoch are automatically used!\n",
      "Stop training because you reached max_epochs = 89 with best_epoch = 82 and best_val_0_accuracy = 0.96\n",
      "Best weights from best epoch are automatically used!\n",
      "Stop training because you reached max_epochs = 89 with best_epoch = 87 and best_val_0_accuracy = 0.96\n",
      "Best weights from best epoch are automatically used!\n",
      "Stop training because you reached max_epochs = 89 with best_epoch = 86 and best_val_0_accuracy = 0.956\n",
      "Best weights from best epoch are automatically used!\n"
     ]
    },
    {
     "name": "stderr",
     "output_type": "stream",
     "text": [
      "\u001b[32m[I 2022-05-13 10:30:29,448]\u001b[0m Trial 194 finished with value: 0.9533687325069973 and parameters: {'mask_type': 'sparsemax', 'n_da': 60, 'n_steps': 4, 'gamma': 1.2, 'n_shared': 3, 'lambda_sparse': 9.796277103536668e-06, 'sc_gamma': 0.7, 'sc_steps': 40, 'patience': 28, 'epochs': 89}. Best is trial 125 with value: 0.9600066853258695.\u001b[0m\n"
     ]
    },
    {
     "name": "stdout",
     "output_type": "stream",
     "text": [
      "Stop training because you reached max_epochs = 96 with best_epoch = 89 and best_val_0_accuracy = 0.94442\n",
      "Best weights from best epoch are automatically used!\n",
      "Stop training because you reached max_epochs = 96 with best_epoch = 74 and best_val_0_accuracy = 0.95762\n",
      "Best weights from best epoch are automatically used!\n",
      "Stop training because you reached max_epochs = 96 with best_epoch = 93 and best_val_0_accuracy = 0.9564\n",
      "Best weights from best epoch are automatically used!\n",
      "Stop training because you reached max_epochs = 96 with best_epoch = 89 and best_val_0_accuracy = 0.958\n",
      "Best weights from best epoch are automatically used!\n",
      "Stop training because you reached max_epochs = 96 with best_epoch = 79 and best_val_0_accuracy = 0.9576\n",
      "Best weights from best epoch are automatically used!\n"
     ]
    },
    {
     "name": "stderr",
     "output_type": "stream",
     "text": [
      "\u001b[32m[I 2022-05-13 10:40:46,977]\u001b[0m Trial 195 finished with value: 0.954807836865254 and parameters: {'mask_type': 'sparsemax', 'n_da': 24, 'n_steps': 4, 'gamma': 1.3, 'n_shared': 3, 'lambda_sparse': 1.8278821369330014e-06, 'sc_gamma': 0.5, 'sc_steps': 40, 'patience': 29, 'epochs': 96}. Best is trial 125 with value: 0.9600066853258695.\u001b[0m\n"
     ]
    },
    {
     "name": "stdout",
     "output_type": "stream",
     "text": [
      "Stop training because you reached max_epochs = 98 with best_epoch = 97 and best_val_0_accuracy = 0.95722\n",
      "Best weights from best epoch are automatically used!\n",
      "Stop training because you reached max_epochs = 98 with best_epoch = 96 and best_val_0_accuracy = 0.95722\n",
      "Best weights from best epoch are automatically used!\n",
      "Stop training because you reached max_epochs = 98 with best_epoch = 96 and best_val_0_accuracy = 0.9588\n",
      "Best weights from best epoch are automatically used!\n",
      "Stop training because you reached max_epochs = 98 with best_epoch = 70 and best_val_0_accuracy = 0.9552\n",
      "Best weights from best epoch are automatically used!\n",
      "Stop training because you reached max_epochs = 98 with best_epoch = 88 and best_val_0_accuracy = 0.954\n",
      "Best weights from best epoch are automatically used!\n"
     ]
    },
    {
     "name": "stderr",
     "output_type": "stream",
     "text": [
      "\u001b[32m[I 2022-05-13 10:51:21,412]\u001b[0m Trial 196 finished with value: 0.9564868452618953 and parameters: {'mask_type': 'sparsemax', 'n_da': 56, 'n_steps': 4, 'gamma': 1.2, 'n_shared': 3, 'lambda_sparse': 0.0006103015170954816, 'sc_gamma': 0.6, 'sc_steps': 40, 'patience': 29, 'epochs': 98}. Best is trial 125 with value: 0.9600066853258695.\u001b[0m\n"
     ]
    },
    {
     "name": "stdout",
     "output_type": "stream",
     "text": [
      "Stop training because you reached max_epochs = 7 with best_epoch = 6 and best_val_0_accuracy = 0.88445\n",
      "Best weights from best epoch are automatically used!\n",
      "Stop training because you reached max_epochs = 7 with best_epoch = 3 and best_val_0_accuracy = 0.90204\n",
      "Best weights from best epoch are automatically used!\n",
      "Stop training because you reached max_epochs = 7 with best_epoch = 4 and best_val_0_accuracy = 0.8844\n",
      "Best weights from best epoch are automatically used!\n",
      "Stop training because you reached max_epochs = 7 with best_epoch = 6 and best_val_0_accuracy = 0.932\n",
      "Best weights from best epoch are automatically used!\n",
      "Stop training because you reached max_epochs = 7 with best_epoch = 3 and best_val_0_accuracy = 0.87\n",
      "Best weights from best epoch are automatically used!\n"
     ]
    },
    {
     "name": "stderr",
     "output_type": "stream",
     "text": [
      "\u001b[32m[I 2022-05-13 10:52:09,496]\u001b[0m Trial 197 finished with value: 0.8945770811675329 and parameters: {'mask_type': 'sparsemax', 'n_da': 64, 'n_steps': 4, 'gamma': 1.3, 'n_shared': 3, 'lambda_sparse': 0.00022962583056551105, 'sc_gamma': 0.5, 'sc_steps': 30, 'patience': 28, 'epochs': 7}. Best is trial 125 with value: 0.9600066853258695.\u001b[0m\n"
     ]
    },
    {
     "name": "stdout",
     "output_type": "stream",
     "text": [
      "\n",
      "Early stopping occurred at epoch 36 with best_epoch = 6 and best_val_0_accuracy = 0.95042\n",
      "Best weights from best epoch are automatically used!\n",
      "Stop training because you reached max_epochs = 85 with best_epoch = 82 and best_val_0_accuracy = 0.95362\n",
      "Best weights from best epoch are automatically used!\n",
      "Stop training because you reached max_epochs = 85 with best_epoch = 84 and best_val_0_accuracy = 0.9596\n",
      "Best weights from best epoch are automatically used!\n",
      "Stop training because you reached max_epochs = 85 with best_epoch = 72 and best_val_0_accuracy = 0.9624\n",
      "Best weights from best epoch are automatically used!\n",
      "\n",
      "Early stopping occurred at epoch 40 with best_epoch = 10 and best_val_0_accuracy = 0.9488\n",
      "Best weights from best epoch are automatically used!\n"
     ]
    },
    {
     "name": "stderr",
     "output_type": "stream",
     "text": [
      "\u001b[32m[I 2022-05-13 10:58:41,443]\u001b[0m Trial 198 finished with value: 0.9549676769292283 and parameters: {'mask_type': 'entmax', 'n_da': 60, 'n_steps': 4, 'gamma': 1.2, 'n_shared': 2, 'lambda_sparse': 2.5180913959243888e-05, 'sc_gamma': 0.7, 'sc_steps': 40, 'patience': 30, 'epochs': 85}. Best is trial 125 with value: 0.9600066853258695.\u001b[0m\n"
     ]
    },
    {
     "name": "stdout",
     "output_type": "stream",
     "text": [
      "\n",
      "Early stopping occurred at epoch 58 with best_epoch = 29 and best_val_0_accuracy = 0.95002\n",
      "Best weights from best epoch are automatically used!\n",
      "Stop training because you reached max_epochs = 100 with best_epoch = 95 and best_val_0_accuracy = 0.95642\n",
      "Best weights from best epoch are automatically used!\n",
      "Stop training because you reached max_epochs = 100 with best_epoch = 95 and best_val_0_accuracy = 0.9592\n",
      "Best weights from best epoch are automatically used!\n",
      "Stop training because you reached max_epochs = 100 with best_epoch = 98 and best_val_0_accuracy = 0.9576\n",
      "Best weights from best epoch are automatically used!\n",
      "\n",
      "Early stopping occurred at epoch 57 with best_epoch = 28 and best_val_0_accuracy = 0.9512\n",
      "Best weights from best epoch are automatically used!\n"
     ]
    },
    {
     "name": "stderr",
     "output_type": "stream",
     "text": [
      "\u001b[32m[I 2022-05-13 11:07:40,926]\u001b[0m Trial 199 finished with value: 0.9548874850059976 and parameters: {'mask_type': 'sparsemax', 'n_da': 64, 'n_steps': 4, 'gamma': 1.2, 'n_shared': 3, 'lambda_sparse': 5.3521456626380104e-06, 'sc_gamma': 0.6, 'sc_steps': 40, 'patience': 29, 'epochs': 100}. Best is trial 125 with value: 0.9600066853258695.\u001b[0m\n"
     ]
    },
    {
     "name": "stdout",
     "output_type": "stream",
     "text": [
      "Stop training because you reached max_epochs = 24 with best_epoch = 16 and best_val_0_accuracy = 0.94882\n",
      "Best weights from best epoch are automatically used!\n",
      "Stop training because you reached max_epochs = 24 with best_epoch = 18 and best_val_0_accuracy = 0.95082\n",
      "Best weights from best epoch are automatically used!\n",
      "Stop training because you reached max_epochs = 24 with best_epoch = 17 and best_val_0_accuracy = 0.938\n",
      "Best weights from best epoch are automatically used!\n",
      "Stop training because you reached max_epochs = 24 with best_epoch = 5 and best_val_0_accuracy = 0.9452\n",
      "Best weights from best epoch are automatically used!\n",
      "Stop training because you reached max_epochs = 24 with best_epoch = 21 and best_val_0_accuracy = 0.9456\n",
      "Best weights from best epoch are automatically used!\n"
     ]
    },
    {
     "name": "stderr",
     "output_type": "stream",
     "text": [
      "\u001b[32m[I 2022-05-13 11:10:18,259]\u001b[0m Trial 200 finished with value: 0.9456880287884845 and parameters: {'mask_type': 'entmax', 'n_da': 56, 'n_steps': 4, 'gamma': 1.3, 'n_shared': 3, 'lambda_sparse': 1.8748496880038376e-05, 'sc_gamma': 0.5, 'sc_steps': 30, 'patience': 27, 'epochs': 24}. Best is trial 125 with value: 0.9600066853258695.\u001b[0m\n"
     ]
    },
    {
     "name": "stdout",
     "output_type": "stream",
     "text": [
      "Stop training because you reached max_epochs = 91 with best_epoch = 77 and best_val_0_accuracy = 0.95602\n",
      "Best weights from best epoch are automatically used!\n",
      "Stop training because you reached max_epochs = 91 with best_epoch = 77 and best_val_0_accuracy = 0.95522\n",
      "Best weights from best epoch are automatically used!\n",
      "\n",
      "Early stopping occurred at epoch 33 with best_epoch = 3 and best_val_0_accuracy = 0.942\n",
      "Best weights from best epoch are automatically used!\n",
      "\n",
      "Early stopping occurred at epoch 37 with best_epoch = 7 and best_val_0_accuracy = 0.946\n",
      "Best weights from best epoch are automatically used!\n",
      "Stop training because you reached max_epochs = 91 with best_epoch = 90 and best_val_0_accuracy = 0.9564\n",
      "Best weights from best epoch are automatically used!\n"
     ]
    },
    {
     "name": "stderr",
     "output_type": "stream",
     "text": [
      "\u001b[32m[I 2022-05-13 11:18:23,837]\u001b[0m Trial 201 finished with value: 0.9511271011595361 and parameters: {'mask_type': 'sparsemax', 'n_da': 60, 'n_steps': 4, 'gamma': 1.2, 'n_shared': 4, 'lambda_sparse': 0.0005254432632147549, 'sc_gamma': 0.6, 'sc_steps': 40, 'patience': 30, 'epochs': 91}. Best is trial 125 with value: 0.9600066853258695.\u001b[0m\n"
     ]
    },
    {
     "name": "stdout",
     "output_type": "stream",
     "text": [
      "Stop training because you reached max_epochs = 88 with best_epoch = 76 and best_val_0_accuracy = 0.94562\n",
      "Best weights from best epoch are automatically used!\n",
      "Stop training because you reached max_epochs = 88 with best_epoch = 75 and best_val_0_accuracy = 0.95602\n",
      "Best weights from best epoch are automatically used!\n",
      "Stop training because you reached max_epochs = 88 with best_epoch = 74 and best_val_0_accuracy = 0.9608\n",
      "Best weights from best epoch are automatically used!\n",
      "\n",
      "Early stopping occurred at epoch 54 with best_epoch = 24 and best_val_0_accuracy = 0.9448\n",
      "Best weights from best epoch are automatically used!\n",
      "Stop training because you reached max_epochs = 88 with best_epoch = 74 and best_val_0_accuracy = 0.9564\n",
      "Best weights from best epoch are automatically used!\n"
     ]
    },
    {
     "name": "stderr",
     "output_type": "stream",
     "text": [
      "\u001b[32m[I 2022-05-13 11:27:58,609]\u001b[0m Trial 202 finished with value: 0.952727868852459 and parameters: {'mask_type': 'sparsemax', 'n_da': 60, 'n_steps': 4, 'gamma': 1.2, 'n_shared': 4, 'lambda_sparse': 0.0007070271284843986, 'sc_gamma': 0.6, 'sc_steps': 30, 'patience': 30, 'epochs': 88}. Best is trial 125 with value: 0.9600066853258695.\u001b[0m\n"
     ]
    },
    {
     "name": "stdout",
     "output_type": "stream",
     "text": [
      "Stop training because you reached max_epochs = 92 with best_epoch = 76 and best_val_0_accuracy = 0.95722\n",
      "Best weights from best epoch are automatically used!\n",
      "Stop training because you reached max_epochs = 92 with best_epoch = 69 and best_val_0_accuracy = 0.95242\n",
      "Best weights from best epoch are automatically used!\n",
      "\n",
      "Early stopping occurred at epoch 91 with best_epoch = 61 and best_val_0_accuracy = 0.9552\n",
      "Best weights from best epoch are automatically used!\n",
      "\n",
      "Early stopping occurred at epoch 77 with best_epoch = 47 and best_val_0_accuracy = 0.954\n",
      "Best weights from best epoch are automatically used!\n",
      "Stop training because you reached max_epochs = 92 with best_epoch = 90 and best_val_0_accuracy = 0.9564\n",
      "Best weights from best epoch are automatically used!\n"
     ]
    },
    {
     "name": "stderr",
     "output_type": "stream",
     "text": [
      "\u001b[32m[I 2022-05-13 11:35:49,316]\u001b[0m Trial 203 finished with value: 0.9550472291083567 and parameters: {'mask_type': 'sparsemax', 'n_da': 60, 'n_steps': 4, 'gamma': 1.2, 'n_shared': 1, 'lambda_sparse': 0.0004901129938332163, 'sc_gamma': 0.7, 'sc_steps': 50, 'patience': 30, 'epochs': 92}. Best is trial 125 with value: 0.9600066853258695.\u001b[0m\n"
     ]
    },
    {
     "name": "stdout",
     "output_type": "stream",
     "text": [
      "Stop training because you reached max_epochs = 95 with best_epoch = 81 and best_val_0_accuracy = 0.95282\n",
      "Best weights from best epoch are automatically used!\n",
      "Stop training because you reached max_epochs = 95 with best_epoch = 86 and best_val_0_accuracy = 0.95562\n",
      "Best weights from best epoch are automatically used!\n",
      "Stop training because you reached max_epochs = 95 with best_epoch = 86 and best_val_0_accuracy = 0.9588\n",
      "Best weights from best epoch are automatically used!\n",
      "\n",
      "Early stopping occurred at epoch 45 with best_epoch = 16 and best_val_0_accuracy = 0.94\n",
      "Best weights from best epoch are automatically used!\n",
      "Stop training because you reached max_epochs = 95 with best_epoch = 74 and best_val_0_accuracy = 0.9588\n",
      "Best weights from best epoch are automatically used!\n"
     ]
    },
    {
     "name": "stderr",
     "output_type": "stream",
     "text": [
      "\u001b[32m[I 2022-05-13 11:45:49,092]\u001b[0m Trial 204 finished with value: 0.953207325069972 and parameters: {'mask_type': 'sparsemax', 'n_da': 60, 'n_steps': 4, 'gamma': 1.3, 'n_shared': 4, 'lambda_sparse': 0.0008313689561096982, 'sc_gamma': 0.6, 'sc_steps': 30, 'patience': 29, 'epochs': 95}. Best is trial 125 with value: 0.9600066853258695.\u001b[0m\n"
     ]
    },
    {
     "name": "stdout",
     "output_type": "stream",
     "text": [
      "Stop training because you reached max_epochs = 97 with best_epoch = 96 and best_val_0_accuracy = 0.95322\n",
      "Best weights from best epoch are automatically used!\n",
      "\n",
      "Early stopping occurred at epoch 69 with best_epoch = 41 and best_val_0_accuracy = 0.95202\n",
      "Best weights from best epoch are automatically used!\n",
      "Stop training because you reached max_epochs = 97 with best_epoch = 96 and best_val_0_accuracy = 0.9568\n",
      "Best weights from best epoch are automatically used!\n",
      "Stop training because you reached max_epochs = 97 with best_epoch = 93 and best_val_0_accuracy = 0.9616\n",
      "Best weights from best epoch are automatically used!\n",
      "\n",
      "Early stopping occurred at epoch 41 with best_epoch = 13 and best_val_0_accuracy = 0.95\n",
      "Best weights from best epoch are automatically used!\n"
     ]
    },
    {
     "name": "stderr",
     "output_type": "stream",
     "text": [
      "\u001b[32m[I 2022-05-13 11:55:14,402]\u001b[0m Trial 205 finished with value: 0.954727580967613 and parameters: {'mask_type': 'sparsemax', 'n_da': 64, 'n_steps': 4, 'gamma': 1.2, 'n_shared': 4, 'lambda_sparse': 0.0004613049268990779, 'sc_gamma': 0.5, 'sc_steps': 40, 'patience': 28, 'epochs': 97}. Best is trial 125 with value: 0.9600066853258695.\u001b[0m\n"
     ]
    },
    {
     "name": "stdout",
     "output_type": "stream",
     "text": [
      "Stop training because you reached max_epochs = 56 with best_epoch = 52 and best_val_0_accuracy = 0.95442\n",
      "Best weights from best epoch are automatically used!\n",
      "\n",
      "Early stopping occurred at epoch 24 with best_epoch = 1 and best_val_0_accuracy = 0.93563\n",
      "Best weights from best epoch are automatically used!\n",
      "Stop training because you reached max_epochs = 56 with best_epoch = 47 and best_val_0_accuracy = 0.9576\n",
      "Best weights from best epoch are automatically used!\n",
      "\n",
      "Early stopping occurred at epoch 33 with best_epoch = 10 and best_val_0_accuracy = 0.9452\n",
      "Best weights from best epoch are automatically used!\n",
      "\n",
      "Early stopping occurred at epoch 53 with best_epoch = 30 and best_val_0_accuracy = 0.9476\n",
      "Best weights from best epoch are automatically used!\n"
     ]
    },
    {
     "name": "stderr",
     "output_type": "stream",
     "text": [
      "\u001b[32m[I 2022-05-13 12:00:06,460]\u001b[0m Trial 206 finished with value: 0.9480887964814073 and parameters: {'mask_type': 'sparsemax', 'n_da': 56, 'n_steps': 4, 'gamma': 1.1, 'n_shared': 3, 'lambda_sparse': 0.0005999147705074864, 'sc_gamma': 0.5, 'sc_steps': 30, 'patience': 23, 'epochs': 56}. Best is trial 125 with value: 0.9600066853258695.\u001b[0m\n"
     ]
    },
    {
     "name": "stdout",
     "output_type": "stream",
     "text": [
      "\n",
      "Early stopping occurred at epoch 36 with best_epoch = 12 and best_val_0_accuracy = 0.95282\n",
      "Best weights from best epoch are automatically used!\n",
      "\n",
      "Early stopping occurred at epoch 36 with best_epoch = 12 and best_val_0_accuracy = 0.95322\n",
      "Best weights from best epoch are automatically used!\n",
      "\n",
      "Early stopping occurred at epoch 58 with best_epoch = 34 and best_val_0_accuracy = 0.9528\n",
      "Best weights from best epoch are automatically used!\n",
      "\n",
      "Early stopping occurred at epoch 30 with best_epoch = 6 and best_val_0_accuracy = 0.9476\n",
      "Best weights from best epoch are automatically used!\n",
      "\n",
      "Early stopping occurred at epoch 82 with best_epoch = 58 and best_val_0_accuracy = 0.9568\n",
      "Best weights from best epoch are automatically used!\n"
     ]
    },
    {
     "name": "stderr",
     "output_type": "stream",
     "text": [
      "\u001b[32m[I 2022-05-13 12:05:26,940]\u001b[0m Trial 207 finished with value: 0.9526475169932027 and parameters: {'mask_type': 'entmax', 'n_da': 60, 'n_steps': 4, 'gamma': 1.3, 'n_shared': 3, 'lambda_sparse': 0.0003309798878322823, 'sc_gamma': 0.6, 'sc_steps': 40, 'patience': 24, 'epochs': 90}. Best is trial 125 with value: 0.9600066853258695.\u001b[0m\n"
     ]
    },
    {
     "name": "stdout",
     "output_type": "stream",
     "text": [
      "Stop training because you reached max_epochs = 94 with best_epoch = 87 and best_val_0_accuracy = 0.95922\n",
      "Best weights from best epoch are automatically used!\n",
      "Stop training because you reached max_epochs = 94 with best_epoch = 70 and best_val_0_accuracy = 0.94922\n",
      "Best weights from best epoch are automatically used!\n",
      "Stop training because you reached max_epochs = 94 with best_epoch = 71 and best_val_0_accuracy = 0.9568\n",
      "Best weights from best epoch are automatically used!\n",
      "Stop training because you reached max_epochs = 94 with best_epoch = 91 and best_val_0_accuracy = 0.9544\n",
      "Best weights from best epoch are automatically used!\n",
      "\n",
      "Early stopping occurred at epoch 48 with best_epoch = 18 and best_val_0_accuracy = 0.9404\n",
      "Best weights from best epoch are automatically used!\n"
     ]
    },
    {
     "name": "stderr",
     "output_type": "stream",
     "text": [
      "\u001b[32m[I 2022-05-13 12:15:27,370]\u001b[0m Trial 208 finished with value: 0.9520073250699721 and parameters: {'mask_type': 'sparsemax', 'n_da': 56, 'n_steps': 4, 'gamma': 1.2, 'n_shared': 4, 'lambda_sparse': 2.1547682413246702e-05, 'sc_gamma': 0.5, 'sc_steps': 30, 'patience': 30, 'epochs': 94}. Best is trial 125 with value: 0.9600066853258695.\u001b[0m\n"
     ]
    },
    {
     "name": "stdout",
     "output_type": "stream",
     "text": [
      "\n",
      "Early stopping occurred at epoch 45 with best_epoch = 17 and best_val_0_accuracy = 0.94322\n",
      "Best weights from best epoch are automatically used!\n",
      "Stop training because you reached max_epochs = 86 with best_epoch = 79 and best_val_0_accuracy = 0.95442\n",
      "Best weights from best epoch are automatically used!\n",
      "Stop training because you reached max_epochs = 86 with best_epoch = 60 and best_val_0_accuracy = 0.96\n",
      "Best weights from best epoch are automatically used!\n",
      "\n",
      "Early stopping occurred at epoch 53 with best_epoch = 25 and best_val_0_accuracy = 0.9552\n",
      "Best weights from best epoch are automatically used!\n",
      "\n",
      "Early stopping occurred at epoch 45 with best_epoch = 17 and best_val_0_accuracy = 0.9472\n",
      "Best weights from best epoch are automatically used!\n"
     ]
    },
    {
     "name": "stderr",
     "output_type": "stream",
     "text": [
      "\u001b[32m[I 2022-05-13 12:22:56,710]\u001b[0m Trial 209 finished with value: 0.9520081887245102 and parameters: {'mask_type': 'entmax', 'n_da': 52, 'n_steps': 4, 'gamma': 1.3, 'n_shared': 4, 'lambda_sparse': 1.5845231274951252e-06, 'sc_gamma': 0.7, 'sc_steps': 30, 'patience': 28, 'epochs': 86}. Best is trial 125 with value: 0.9600066853258695.\u001b[0m\n"
     ]
    },
    {
     "name": "stdout",
     "output_type": "stream",
     "text": [
      "\n",
      "Early stopping occurred at epoch 77 with best_epoch = 48 and best_val_0_accuracy = 0.95282\n",
      "Best weights from best epoch are automatically used!\n",
      "Stop training because you reached max_epochs = 100 with best_epoch = 93 and best_val_0_accuracy = 0.96002\n",
      "Best weights from best epoch are automatically used!\n",
      "\n",
      "Early stopping occurred at epoch 33 with best_epoch = 4 and best_val_0_accuracy = 0.9416\n",
      "Best weights from best epoch are automatically used!\n",
      "Stop training because you reached max_epochs = 100 with best_epoch = 84 and best_val_0_accuracy = 0.9632\n",
      "Best weights from best epoch are automatically used!\n",
      "Stop training because you reached max_epochs = 100 with best_epoch = 99 and best_val_0_accuracy = 0.9592\n",
      "Best weights from best epoch are automatically used!\n"
     ]
    },
    {
     "name": "stderr",
     "output_type": "stream",
     "text": [
      "\u001b[32m[I 2022-05-13 12:31:49,537]\u001b[0m Trial 210 finished with value: 0.9553669732107156 and parameters: {'mask_type': 'sparsemax', 'n_da': 64, 'n_steps': 4, 'gamma': 1.2, 'n_shared': 3, 'lambda_sparse': 6.402182312154696e-06, 'sc_gamma': 0.6, 'sc_steps': 40, 'patience': 29, 'epochs': 100}. Best is trial 125 with value: 0.9600066853258695.\u001b[0m\n"
     ]
    },
    {
     "name": "stdout",
     "output_type": "stream",
     "text": [
      "\n",
      "Early stopping occurred at epoch 49 with best_epoch = 20 and best_val_0_accuracy = 0.94922\n",
      "Best weights from best epoch are automatically used!\n",
      "\n",
      "Early stopping occurred at epoch 54 with best_epoch = 25 and best_val_0_accuracy = 0.94842\n",
      "Best weights from best epoch are automatically used!\n",
      "Stop training because you reached max_epochs = 83 with best_epoch = 80 and best_val_0_accuracy = 0.96\n",
      "Best weights from best epoch are automatically used!\n",
      "Stop training because you reached max_epochs = 83 with best_epoch = 74 and best_val_0_accuracy = 0.9612\n",
      "Best weights from best epoch are automatically used!\n",
      "Stop training because you reached max_epochs = 83 with best_epoch = 82 and best_val_0_accuracy = 0.9544\n",
      "Best weights from best epoch are automatically used!\n"
     ]
    },
    {
     "name": "stderr",
     "output_type": "stream",
     "text": [
      "\u001b[32m[I 2022-05-13 12:40:09,452]\u001b[0m Trial 211 finished with value: 0.9546481887245101 and parameters: {'mask_type': 'entmax', 'n_da': 56, 'n_steps': 4, 'gamma': 1.3, 'n_shared': 4, 'lambda_sparse': 7.808495060074858e-06, 'sc_gamma': 0.6, 'sc_steps': 40, 'patience': 29, 'epochs': 83}. Best is trial 125 with value: 0.9600066853258695.\u001b[0m\n"
     ]
    },
    {
     "name": "stdout",
     "output_type": "stream",
     "text": [
      "Stop training because you reached max_epochs = 86 with best_epoch = 85 and best_val_0_accuracy = 0.95962\n",
      "Best weights from best epoch are automatically used!\n",
      "\n",
      "Early stopping occurred at epoch 45 with best_epoch = 16 and best_val_0_accuracy = 0.94882\n",
      "Best weights from best epoch are automatically used!\n",
      "Stop training because you reached max_epochs = 86 with best_epoch = 83 and best_val_0_accuracy = 0.9596\n",
      "Best weights from best epoch are automatically used!\n",
      "Stop training because you reached max_epochs = 86 with best_epoch = 84 and best_val_0_accuracy = 0.9576\n",
      "Best weights from best epoch are automatically used!\n",
      "Stop training because you reached max_epochs = 86 with best_epoch = 76 and best_val_0_accuracy = 0.9536\n",
      "Best weights from best epoch are automatically used!\n"
     ]
    },
    {
     "name": "stderr",
     "output_type": "stream",
     "text": [
      "\u001b[32m[I 2022-05-13 12:49:23,125]\u001b[0m Trial 212 finished with value: 0.9558473250699719 and parameters: {'mask_type': 'entmax', 'n_da': 56, 'n_steps': 4, 'gamma': 1.3, 'n_shared': 4, 'lambda_sparse': 5.743789842506875e-06, 'sc_gamma': 0.6, 'sc_steps': 40, 'patience': 29, 'epochs': 86}. Best is trial 125 with value: 0.9600066853258695.\u001b[0m\n"
     ]
    },
    {
     "name": "stdout",
     "output_type": "stream",
     "text": [
      "Stop training because you reached max_epochs = 87 with best_epoch = 79 and best_val_0_accuracy = 0.95282\n",
      "Best weights from best epoch are automatically used!\n",
      "Stop training because you reached max_epochs = 87 with best_epoch = 78 and best_val_0_accuracy = 0.96002\n",
      "Best weights from best epoch are automatically used!\n",
      "Stop training because you reached max_epochs = 87 with best_epoch = 76 and best_val_0_accuracy = 0.9568\n",
      "Best weights from best epoch are automatically used!\n",
      "\n",
      "Early stopping occurred at epoch 83 with best_epoch = 55 and best_val_0_accuracy = 0.9576\n",
      "Best weights from best epoch are automatically used!\n",
      "Stop training because you reached max_epochs = 87 with best_epoch = 78 and best_val_0_accuracy = 0.9584\n",
      "Best weights from best epoch are automatically used!\n"
     ]
    },
    {
     "name": "stderr",
     "output_type": "stream",
     "text": [
      "\u001b[32m[I 2022-05-13 12:59:31,296]\u001b[0m Trial 213 finished with value: 0.9571269732107158 and parameters: {'mask_type': 'entmax', 'n_da': 56, 'n_steps': 4, 'gamma': 1.3, 'n_shared': 4, 'lambda_sparse': 4.1848360919310644e-06, 'sc_gamma': 0.5, 'sc_steps': 40, 'patience': 28, 'epochs': 87}. Best is trial 125 with value: 0.9600066853258695.\u001b[0m\n"
     ]
    },
    {
     "name": "stdout",
     "output_type": "stream",
     "text": [
      "\n",
      "Early stopping occurred at epoch 62 with best_epoch = 33 and best_val_0_accuracy = 0.94962\n",
      "Best weights from best epoch are automatically used!\n",
      "\n",
      "Early stopping occurred at epoch 48 with best_epoch = 19 and best_val_0_accuracy = 0.95242\n",
      "Best weights from best epoch are automatically used!\n",
      "\n",
      "Early stopping occurred at epoch 47 with best_epoch = 18 and best_val_0_accuracy = 0.9524\n",
      "Best weights from best epoch are automatically used!\n",
      "Stop training because you reached max_epochs = 98 with best_epoch = 95 and best_val_0_accuracy = 0.9588\n",
      "Best weights from best epoch are automatically used!\n",
      "\n",
      "Early stopping occurred at epoch 55 with best_epoch = 26 and best_val_0_accuracy = 0.9472\n",
      "Best weights from best epoch are automatically used!\n"
     ]
    },
    {
     "name": "stderr",
     "output_type": "stream",
     "text": [
      "\u001b[32m[I 2022-05-13 13:06:52,812]\u001b[0m Trial 214 finished with value: 0.9520878368652539 and parameters: {'mask_type': 'entmax', 'n_da': 60, 'n_steps': 4, 'gamma': 1.3, 'n_shared': 4, 'lambda_sparse': 1.3145083074666057e-05, 'sc_gamma': 0.6, 'sc_steps': 50, 'patience': 29, 'epochs': 98}. Best is trial 125 with value: 0.9600066853258695.\u001b[0m\n"
     ]
    },
    {
     "name": "stdout",
     "output_type": "stream",
     "text": [
      "Stop training because you reached max_epochs = 81 with best_epoch = 66 and best_val_0_accuracy = 0.95682\n",
      "Best weights from best epoch are automatically used!\n",
      "\n",
      "Early stopping occurred at epoch 68 with best_epoch = 38 and best_val_0_accuracy = 0.94882\n",
      "Best weights from best epoch are automatically used!\n",
      "Stop training because you reached max_epochs = 81 with best_epoch = 77 and best_val_0_accuracy = 0.9628\n",
      "Best weights from best epoch are automatically used!\n",
      "Stop training because you reached max_epochs = 81 with best_epoch = 71 and best_val_0_accuracy = 0.9612\n",
      "Best weights from best epoch are automatically used!\n",
      "Stop training because you reached max_epochs = 81 with best_epoch = 56 and best_val_0_accuracy = 0.9592\n",
      "Best weights from best epoch are automatically used!\n"
     ]
    },
    {
     "name": "stderr",
     "output_type": "stream",
     "text": [
      "\u001b[32m[I 2022-05-13 13:16:07,320]\u001b[0m Trial 215 finished with value: 0.957767548980408 and parameters: {'mask_type': 'entmax', 'n_da': 56, 'n_steps': 4, 'gamma': 1.3, 'n_shared': 4, 'lambda_sparse': 5.091278913773635e-06, 'sc_gamma': 0.5, 'sc_steps': 40, 'patience': 30, 'epochs': 81}. Best is trial 125 with value: 0.9600066853258695.\u001b[0m\n"
     ]
    },
    {
     "name": "stdout",
     "output_type": "stream",
     "text": [
      "\n",
      "Early stopping occurred at epoch 51 with best_epoch = 21 and best_val_0_accuracy = 0.95402\n",
      "Best weights from best epoch are automatically used!\n",
      "Stop training because you reached max_epochs = 96 with best_epoch = 94 and best_val_0_accuracy = 0.95682\n",
      "Best weights from best epoch are automatically used!\n",
      "\n",
      "Early stopping occurred at epoch 70 with best_epoch = 40 and best_val_0_accuracy = 0.9496\n",
      "Best weights from best epoch are automatically used!\n",
      "Stop training because you reached max_epochs = 96 with best_epoch = 87 and best_val_0_accuracy = 0.9628\n",
      "Best weights from best epoch are automatically used!\n",
      "Stop training because you reached max_epochs = 96 with best_epoch = 76 and best_val_0_accuracy = 0.9604\n",
      "Best weights from best epoch are automatically used!\n"
     ]
    },
    {
     "name": "stderr",
     "output_type": "stream",
     "text": [
      "\u001b[32m[I 2022-05-13 13:25:44,591]\u001b[0m Trial 216 finished with value: 0.9567271331467413 and parameters: {'mask_type': 'entmax', 'n_da': 60, 'n_steps': 4, 'gamma': 1.3, 'n_shared': 4, 'lambda_sparse': 1.1900758106820438e-06, 'sc_gamma': 0.5, 'sc_steps': 40, 'patience': 30, 'epochs': 96}. Best is trial 125 with value: 0.9600066853258695.\u001b[0m\n"
     ]
    },
    {
     "name": "stdout",
     "output_type": "stream",
     "text": [
      "\n",
      "Early stopping occurred at epoch 80 with best_epoch = 50 and best_val_0_accuracy = 0.95282\n",
      "Best weights from best epoch are automatically used!\n",
      "\n",
      "Early stopping occurred at epoch 71 with best_epoch = 41 and best_val_0_accuracy = 0.95162\n",
      "Best weights from best epoch are automatically used!\n",
      "\n",
      "Early stopping occurred at epoch 68 with best_epoch = 38 and best_val_0_accuracy = 0.9552\n",
      "Best weights from best epoch are automatically used!\n",
      "\n",
      "Early stopping occurred at epoch 47 with best_epoch = 17 and best_val_0_accuracy = 0.9484\n",
      "Best weights from best epoch are automatically used!\n",
      "Stop training because you reached max_epochs = 81 with best_epoch = 80 and best_val_0_accuracy = 0.9532\n",
      "Best weights from best epoch are automatically used!\n"
     ]
    },
    {
     "name": "stderr",
     "output_type": "stream",
     "text": [
      "\u001b[32m[I 2022-05-13 13:33:59,687]\u001b[0m Trial 217 finished with value: 0.9522476449420232 and parameters: {'mask_type': 'sparsemax', 'n_da': 56, 'n_steps': 4, 'gamma': 1.2, 'n_shared': 4, 'lambda_sparse': 8.92201303183876e-06, 'sc_gamma': 0.5, 'sc_steps': 40, 'patience': 30, 'epochs': 81}. Best is trial 125 with value: 0.9600066853258695.\u001b[0m\n"
     ]
    },
    {
     "name": "stdout",
     "output_type": "stream",
     "text": [
      "\n",
      "Early stopping occurred at epoch 55 with best_epoch = 25 and best_val_0_accuracy = 0.95242\n",
      "Best weights from best epoch are automatically used!\n",
      "\n",
      "Early stopping occurred at epoch 47 with best_epoch = 17 and best_val_0_accuracy = 0.94682\n",
      "Best weights from best epoch are automatically used!\n",
      "\n",
      "Early stopping occurred at epoch 60 with best_epoch = 30 and best_val_0_accuracy = 0.9528\n",
      "Best weights from best epoch are automatically used!\n",
      "\n",
      "Early stopping occurred at epoch 62 with best_epoch = 32 and best_val_0_accuracy = 0.9596\n",
      "Best weights from best epoch are automatically used!\n",
      "\n",
      "Early stopping occurred at epoch 39 with best_epoch = 9 and best_val_0_accuracy = 0.9488\n",
      "Best weights from best epoch are automatically used!\n"
     ]
    },
    {
     "name": "stderr",
     "output_type": "stream",
     "text": [
      "\u001b[32m[I 2022-05-13 13:39:47,570]\u001b[0m Trial 218 finished with value: 0.9520880607756897 and parameters: {'mask_type': 'entmax', 'n_da': 60, 'n_steps': 4, 'gamma': 1.3, 'n_shared': 3, 'lambda_sparse': 1.1565721545653184e-05, 'sc_gamma': 0.5, 'sc_steps': 40, 'patience': 30, 'epochs': 79}. Best is trial 125 with value: 0.9600066853258695.\u001b[0m\n"
     ]
    },
    {
     "name": "stdout",
     "output_type": "stream",
     "text": [
      "\n",
      "Early stopping occurred at epoch 74 with best_epoch = 44 and best_val_0_accuracy = 0.95162\n",
      "Best weights from best epoch are automatically used!\n",
      "Stop training because you reached max_epochs = 98 with best_epoch = 68 and best_val_0_accuracy = 0.95082\n",
      "Best weights from best epoch are automatically used!\n",
      "\n",
      "Early stopping occurred at epoch 85 with best_epoch = 55 and best_val_0_accuracy = 0.936\n",
      "Best weights from best epoch are automatically used!\n",
      "Stop training because you reached max_epochs = 98 with best_epoch = 96 and best_val_0_accuracy = 0.9524\n",
      "Best weights from best epoch are automatically used!\n",
      "\n",
      "Early stopping occurred at epoch 73 with best_epoch = 43 and best_val_0_accuracy = 0.9296\n",
      "Best weights from best epoch are automatically used!\n"
     ]
    },
    {
     "name": "stderr",
     "output_type": "stream",
     "text": [
      "\u001b[32m[I 2022-05-13 13:48:14,005]\u001b[0m Trial 219 finished with value: 0.9440878048780487 and parameters: {'mask_type': 'sparsemax', 'n_da': 56, 'n_steps': 4, 'gamma': 1.2, 'n_shared': 2, 'lambda_sparse': 1.7573207383389127e-05, 'sc_gamma': 0.5, 'sc_steps': 10, 'patience': 30, 'epochs': 98}. Best is trial 125 with value: 0.9600066853258695.\u001b[0m\n"
     ]
    },
    {
     "name": "stdout",
     "output_type": "stream",
     "text": [
      "\n",
      "Early stopping occurred at epoch 83 with best_epoch = 55 and best_val_0_accuracy = 0.95722\n",
      "Best weights from best epoch are automatically used!\n",
      "Stop training because you reached max_epochs = 92 with best_epoch = 87 and best_val_0_accuracy = 0.95722\n",
      "Best weights from best epoch are automatically used!\n",
      "Stop training because you reached max_epochs = 92 with best_epoch = 73 and best_val_0_accuracy = 0.96\n",
      "Best weights from best epoch are automatically used!\n",
      "Stop training because you reached max_epochs = 92 with best_epoch = 80 and best_val_0_accuracy = 0.9596\n",
      "Best weights from best epoch are automatically used!\n",
      "\n",
      "Early stopping occurred at epoch 31 with best_epoch = 3 and best_val_0_accuracy = 0.8944\n",
      "Best weights from best epoch are automatically used!\n"
     ]
    },
    {
     "name": "stderr",
     "output_type": "stream",
     "text": [
      "\u001b[32m[I 2022-05-13 13:57:28,346]\u001b[0m Trial 220 finished with value: 0.9456868452618952 and parameters: {'mask_type': 'sparsemax', 'n_da': 60, 'n_steps': 4, 'gamma': 1.4, 'n_shared': 4, 'lambda_sparse': 7.68989318843577e-06, 'sc_gamma': 0.8, 'sc_steps': 30, 'patience': 28, 'epochs': 92}. Best is trial 125 with value: 0.9600066853258695.\u001b[0m\n"
     ]
    },
    {
     "name": "stdout",
     "output_type": "stream",
     "text": [
      "\n",
      "Early stopping occurred at epoch 48 with best_epoch = 19 and best_val_0_accuracy = 0.94602\n",
      "Best weights from best epoch are automatically used!\n",
      "Stop training because you reached max_epochs = 84 with best_epoch = 69 and best_val_0_accuracy = 0.94882\n",
      "Best weights from best epoch are automatically used!\n",
      "Stop training because you reached max_epochs = 84 with best_epoch = 77 and best_val_0_accuracy = 0.9552\n",
      "Best weights from best epoch are automatically used!\n",
      "\n",
      "Early stopping occurred at epoch 53 with best_epoch = 24 and best_val_0_accuracy = 0.95\n",
      "Best weights from best epoch are automatically used!\n",
      "Stop training because you reached max_epochs = 84 with best_epoch = 79 and best_val_0_accuracy = 0.9588\n",
      "Best weights from best epoch are automatically used!\n"
     ]
    },
    {
     "name": "stderr",
     "output_type": "stream",
     "text": [
      "\u001b[32m[I 2022-05-13 14:05:47,196]\u001b[0m Trial 221 finished with value: 0.9517684126349459 and parameters: {'mask_type': 'entmax', 'n_da': 56, 'n_steps': 4, 'gamma': 1.3, 'n_shared': 4, 'lambda_sparse': 5.590258390286251e-06, 'sc_gamma': 0.6, 'sc_steps': 40, 'patience': 29, 'epochs': 84}. Best is trial 125 with value: 0.9600066853258695.\u001b[0m\n"
     ]
    },
    {
     "name": "stdout",
     "output_type": "stream",
     "text": [
      "Stop training because you reached max_epochs = 88 with best_epoch = 85 and best_val_0_accuracy = 0.95322\n",
      "Best weights from best epoch are automatically used!\n",
      "Stop training because you reached max_epochs = 88 with best_epoch = 83 and best_val_0_accuracy = 0.95402\n",
      "Best weights from best epoch are automatically used!\n",
      "Stop training because you reached max_epochs = 88 with best_epoch = 76 and best_val_0_accuracy = 0.9596\n",
      "Best weights from best epoch are automatically used!\n",
      "\n",
      "Early stopping occurred at epoch 51 with best_epoch = 22 and best_val_0_accuracy = 0.9508\n",
      "Best weights from best epoch are automatically used!\n",
      "Stop training because you reached max_epochs = 88 with best_epoch = 80 and best_val_0_accuracy = 0.9564\n",
      "Best weights from best epoch are automatically used!\n"
     ]
    },
    {
     "name": "stderr",
     "output_type": "stream",
     "text": [
      "\u001b[32m[I 2022-05-13 14:15:16,097]\u001b[0m Trial 222 finished with value: 0.9548074210315874 and parameters: {'mask_type': 'entmax', 'n_da': 56, 'n_steps': 4, 'gamma': 1.3, 'n_shared': 4, 'lambda_sparse': 3.6122307034234902e-06, 'sc_gamma': 1.0, 'sc_steps': 40, 'patience': 29, 'epochs': 88}. Best is trial 125 with value: 0.9600066853258695.\u001b[0m\n"
     ]
    },
    {
     "name": "stdout",
     "output_type": "stream",
     "text": [
      "Stop training because you reached max_epochs = 86 with best_epoch = 64 and best_val_0_accuracy = 0.95322\n",
      "Best weights from best epoch are automatically used!\n",
      "Stop training because you reached max_epochs = 86 with best_epoch = 67 and best_val_0_accuracy = 0.95282\n",
      "Best weights from best epoch are automatically used!\n",
      "\n",
      "Early stopping occurred at epoch 53 with best_epoch = 25 and best_val_0_accuracy = 0.9476\n",
      "Best weights from best epoch are automatically used!\n",
      "Stop training because you reached max_epochs = 86 with best_epoch = 74 and best_val_0_accuracy = 0.962\n",
      "Best weights from best epoch are automatically used!\n",
      "Stop training because you reached max_epochs = 86 with best_epoch = 81 and best_val_0_accuracy = 0.9576\n",
      "Best weights from best epoch are automatically used!\n"
     ]
    },
    {
     "name": "stderr",
     "output_type": "stream",
     "text": [
      "\u001b[32m[I 2022-05-13 14:24:32,749]\u001b[0m Trial 223 finished with value: 0.9546475169932027 and parameters: {'mask_type': 'entmax', 'n_da': 56, 'n_steps': 4, 'gamma': 1.3, 'n_shared': 4, 'lambda_sparse': 6.459089507733087e-06, 'sc_gamma': 0.5, 'sc_steps': 40, 'patience': 28, 'epochs': 86}. Best is trial 125 with value: 0.9600066853258695.\u001b[0m\n"
     ]
    },
    {
     "name": "stdout",
     "output_type": "stream",
     "text": [
      "\n",
      "Early stopping occurred at epoch 69 with best_epoch = 40 and best_val_0_accuracy = 0.94882\n",
      "Best weights from best epoch are automatically used!\n",
      "Stop training because you reached max_epochs = 100 with best_epoch = 99 and best_val_0_accuracy = 0.96002\n",
      "Best weights from best epoch are automatically used!\n",
      "Stop training because you reached max_epochs = 100 with best_epoch = 96 and best_val_0_accuracy = 0.9616\n",
      "Best weights from best epoch are automatically used!\n"
     ]
    }
   ],
   "source": [
    "study = optuna.create_study(direction=\"maximize\", study_name='TabNet optimization')\n",
    "study.optimize(Objective, timeout=1000000)"
   ]
  },
  {
   "cell_type": "code",
   "execution_count": null,
   "id": "9f80dbc5-6e42-4345-81ac-7c998e7f88e6",
   "metadata": {},
   "outputs": [],
   "source": [
    "TabNet_params = study.best_params\n",
    "print(TabNet_params)"
   ]
  },
  {
   "cell_type": "code",
   "execution_count": null,
   "id": "40818758-1fc0-4d20-a495-34db8651fee6",
   "metadata": {},
   "outputs": [],
   "source": [
    "final_params = dict(cat_idxs         = cat_idx,\n",
    "                    cat_dims         = cat_dim,\n",
    "                    n_d              = TabNet_params['n_da'],\n",
    "                    n_a              = TabNet_params['n_da'],\n",
    "                    n_steps          = TabNet_params['n_steps'],\n",
    "                    gamma            = TabNet_params['gamma'],\n",
    "                    lambda_sparse    = TabNet_params['lambda_sparse'],\n",
    "                    optimizer_fn     = torch.optim.Adam,\n",
    "                    optimizer_params = dict(lr=2e-2, weight_decay=1e-5),\n",
    "                    mask_type        = TabNet_params['mask_type'],\n",
    "                    n_shared         = TabNet_params['n_shared'],\n",
    "                    scheduler_params = dict(gamma=TabNet_params[\"sc_gamma\"], step_size=TabNet_params[\"sc_steps\"]),\n",
    "                    scheduler_fn     = torch.optim.lr_scheduler.StepLR,\n",
    "                    verbose=0,\n",
    "                    )\n",
    "\n",
    "epochs = TabNet_params['epochs']"
   ]
  },
  {
   "cell_type": "code",
   "execution_count": null,
   "id": "e9fa374d-35dc-479a-9334-8143b48ba136",
   "metadata": {},
   "outputs": [],
   "source": [
    "tabnet = TabNetClassifier(**final_params)\n",
    "tabnet.fit(X_train     = x,\n",
    "           y_train     = y,\n",
    "           patience    = TabNet_params['patience'],\n",
    "           max_epochs  = epochs,\n",
    "           eval_metric = ['accuracy'],\n",
    "           weights     = {0:weight_0, 1:weight_1})"
   ]
  },
  {
   "cell_type": "markdown",
   "id": "a95fbf99-f731-4f91-9f4e-86bd1befe3d6",
   "metadata": {
    "tags": []
   },
   "source": [
    "### Prediction and Confusion Matrix"
   ]
  },
  {
   "cell_type": "code",
   "execution_count": null,
   "id": "afdf73d1-5949-4768-9d30-ccae55118bf4",
   "metadata": {},
   "outputs": [],
   "source": [
    "from sklearn.metrics import roc_auc_score\n",
    "from sklearn.metrics import precision_score\n",
    "from sklearn.metrics import recall_score\n",
    "from sklearn.metrics import f1_score\n",
    "\n",
    "pred = tabnet.predict_proba(x_test)\n",
    "test_auc = roc_auc_score(y_score=pred[:,1], y_true=y_test)\n",
    "\n",
    "pred = tabnet.predict(x_test)\n",
    "test_pre = precision_score(y_test, pred, average='macro')\n",
    "test_rec = recall_score(y_test, pred, average='macro')\n",
    "test_f1s = f1_score(y_test, pred, average='macro')"
   ]
  },
  {
   "cell_type": "code",
   "execution_count": null,
   "id": "31025048-1acc-4c94-b8ff-4affc6fd2aed",
   "metadata": {},
   "outputs": [],
   "source": [
    "print(\"AUC \\t\\t:\", test_auc)\n",
    "print(\"Precision \\t:\", test_pre)\n",
    "print(\"Recall \\t\\t:\", test_rec)\n",
    "print(\"F1 score \\t:\", test_f1s)"
   ]
  },
  {
   "cell_type": "code",
   "execution_count": null,
   "id": "47d86ab3-a14f-4420-8ff9-cda3d4be72b6",
   "metadata": {},
   "outputs": [],
   "source": [
    "from sklearn.metrics import confusion_matrix\n",
    "con_mat = confusion_matrix(y_test,pred, labels=[1,0])\n",
    "print(con_mat)"
   ]
  },
  {
   "cell_type": "code",
   "execution_count": null,
   "id": "d66e30aa-8f9a-468d-9615-5cba49bae5be",
   "metadata": {},
   "outputs": [],
   "source": [
    "print(\"Actual Death :\", len(y_test[y_test==1]))\n",
    "print(\"Actual Survive :\", len(y_test[y_test==0]))\n",
    "print(\"Predicted Death :\", len(pred[pred==1]))\n",
    "print(\"Predicted Survive :\", len(pred[pred==0]))\n",
    "print()\n",
    "print(\"Death Recall :\", con_mat[0][0]/len(y_test[y_test==1])*100)\n",
    "print(\"Survival Recall :\", con_mat[1][1]/len(y_test[y_test==0])*100)\n",
    "print()\n",
    "print(\"Death Precision :\", con_mat[0][0]/len(pred[pred==1])*100)\n",
    "print(\"Survival Precision :\", con_mat[1][1]/len(pred[pred==0])*100)"
   ]
  },
  {
   "cell_type": "markdown",
   "id": "61c25254-5e33-4db6-9234-32ef58960e96",
   "metadata": {
    "tags": []
   },
   "source": [
    "### Explainable"
   ]
  },
  {
   "cell_type": "code",
   "execution_count": null,
   "id": "4de2f80d-29bb-4c26-a7c3-68ed0761b144",
   "metadata": {},
   "outputs": [],
   "source": [
    "import matplotlib.pyplot as plt\n",
    "\n",
    "explain_matrix, masks = tabnet.explain(x_test)\n",
    "\n",
    "# for i in range(3):\n",
    "#     plt.figure(figsize=(20, 400))\n",
    "#     plt.imshow(masks[i][:50])"
   ]
  },
  {
   "cell_type": "code",
   "execution_count": null,
   "id": "7fb663a5-1bc5-4d60-b1aa-aaec699682fb",
   "metadata": {},
   "outputs": [],
   "source": [
    "x_test.shape"
   ]
  },
  {
   "cell_type": "code",
   "execution_count": null,
   "id": "2efd4a56-3fba-463c-8ec2-f2a3cd996c94",
   "metadata": {},
   "outputs": [],
   "source": [
    "important_feature = []\n",
    "\n",
    "for i in range(len(explain_matrix)):\n",
    "    imp_idx = np.where(explain_matrix[i]==max(explain_matrix[i]))[0][0] \n",
    "#     print(\"Test Case\", i, \":\", imp_idx)\n",
    "    important_feature.append(imp_idx)"
   ]
  },
  {
   "cell_type": "code",
   "execution_count": null,
   "id": "ea86f015-584d-4db5-8c96-da4584744197",
   "metadata": {},
   "outputs": [],
   "source": [
    "uniq_arr = np.unique(important_feature, return_counts=True)\n",
    "print(uniq_arr)"
   ]
  },
  {
   "cell_type": "code",
   "execution_count": null,
   "id": "529dee5a-378b-4229-9100-0e9e5aa85625",
   "metadata": {},
   "outputs": [],
   "source": [
    "most_idx = np.where(uniq_arr[1]==max(uniq_arr[1]))"
   ]
  },
  {
   "cell_type": "code",
   "execution_count": null,
   "id": "115d4bd8-bd17-41d1-bfd8-275a8dd1f3ab",
   "metadata": {},
   "outputs": [],
   "source": [
    "first_imp_feature = uniq_arr[0][most_idx][0]"
   ]
  },
  {
   "cell_type": "markdown",
   "id": "11c58581-06e5-4bb7-9655-17fd20503452",
   "metadata": {
    "tags": []
   },
   "source": [
    "### Save model"
   ]
  },
  {
   "cell_type": "code",
   "execution_count": null,
   "id": "f7caea2e-9422-4c7a-a9ce-73072547b697",
   "metadata": {},
   "outputs": [],
   "source": [
    "# saving_path_name = \"saveModel/tabnet_optuna1\"\n",
    "# saved_filepath = tabnet.save_model(saving_path_name)"
   ]
  },
  {
   "cell_type": "markdown",
   "id": "25d5ac3b-aac5-413c-9a99-c182e3e49002",
   "metadata": {
    "jp-MarkdownHeadingCollapsed": true,
    "tags": []
   },
   "source": [
    "### Load model"
   ]
  },
  {
   "cell_type": "code",
   "execution_count": null,
   "id": "a93a1b82-71b8-4044-bdcf-5e9bc2d36dcd",
   "metadata": {},
   "outputs": [],
   "source": [
    "# loaded_tabnet = TabNetClassifier()\n",
    "# loaded_tabnet.load_model(saved_filepath)\n",
    "\n",
    "# max_epochs = 200\n",
    "\n",
    "# loaded_tabnet.fit(\n",
    "#     X_train=x_train, y_train=y_train,\n",
    "#     eval_set=[(x_train, y_train), (x_valid, y_valid)],\n",
    "#     eval_name=['train', 'valid'],\n",
    "#     eval_metric=['auc'],\n",
    "#     max_epochs=max_epochs , patience=20,\n",
    "#     batch_size=1024, virtual_batch_size=128,\n",
    "#     num_workers=0,\n",
    "#     weights=1,\n",
    "#     drop_last=False,\n",
    "# )"
   ]
  },
  {
   "cell_type": "markdown",
   "id": "9f83a9ba-f2c2-443b-a9df-b81bc2c071af",
   "metadata": {},
   "source": [
    "### Reference\n",
    "##### https://wsshin.tistory.com/5"
   ]
  }
 ],
 "metadata": {
  "kernelspec": {
   "display_name": "Python 3",
   "language": "python",
   "name": "python3"
  },
  "language_info": {
   "codemirror_mode": {
    "name": "ipython",
    "version": 3
   },
   "file_extension": ".py",
   "mimetype": "text/x-python",
   "name": "python",
   "nbconvert_exporter": "python",
   "pygments_lexer": "ipython3",
   "version": "3.6.9"
  }
 },
 "nbformat": 4,
 "nbformat_minor": 5
}
