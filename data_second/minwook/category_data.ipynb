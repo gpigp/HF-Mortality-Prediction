{
 "cells": [
  {
   "cell_type": "code",
   "execution_count": 1,
   "metadata": {},
   "outputs": [],
   "source": [
    "import pandas as pd\n",
    "import numpy as np\n",
    "import torch\n",
    "import os"
   ]
  },
  {
   "cell_type": "code",
   "execution_count": 2,
   "metadata": {},
   "outputs": [],
   "source": [
    "if os.path.isfile('./data.pt'):\n",
    "    data = torch.load('data.pt')\n",
    "else:\n",
    "    data = pd.read_excel('220106_자료/KAMIR-V 1Y FU DATA_Cumulative Death_20220106 변수 정리.xlsx', sheet_name='KAMIR-V 1년 F-U DATA', skiprows=[0])"
   ]
  },
  {
   "cell_type": "code",
   "execution_count": 3,
   "metadata": {},
   "outputs": [],
   "source": [
    "from utils import get_col_dict\n",
    "\n",
    "col_dict = get_col_dict()"
   ]
  },
  {
   "cell_type": "code",
   "execution_count": 4,
   "metadata": {},
   "outputs": [],
   "source": [
    "category_cols = [38, 41, 42, 47, 51, 55, 73, 88, 98, 102, 113, 115, 116, 141, 164, 165, 166, 167, 172, 325, 373, 376, 392, 393, 394, 529, 534, 539, 544, 549, 554, 559, 564, 569, 574, 579, 584, 589, 594, 599, 604, 609]\n",
    "category_data = data.iloc[:,category_cols]"
   ]
  },
  {
   "cell_type": "code",
   "execution_count": 133,
   "metadata": {},
   "outputs": [],
   "source": [
    "#category_data['on Treatment'] = category_data['on Treatment'].apply(lambda x : None if x == 'Unknown' or type(x) == np.float else x)"
   ]
  },
  {
   "cell_type": "code",
   "execution_count": 134,
   "metadata": {},
   "outputs": [
    {
     "name": "stdout",
     "output_type": "stream",
     "text": [
      "방문 당시 Killip class ; 심근경색증의 증상에 따른 분류임.  I~IV 중 하나, I : 심부전증 증상 없음, II: 양폐하엽에서 수포음이 들리고 청진 시 말발굽소리 들림, 흉부 x 선 사진에서 부종소견, III: 저명한 폐부종, IV: 쇼크상태 \n",
      "최초 심전도에서 ST 분절의 변화 : ST segment elevation (ST 분절 상승) or not\n",
      "최초 심전도에서 심장 리듬 : wide QRS tachycardia, atrial fibrillation (심방세동), 2nd+3rd degree AV block (2도, 3도 방실 차단) 각각 유무\n",
      "고혈압 치료 내용 : medical treatment (약물치료) \n",
      "당뇨병 치료 내용 : insulin (인슐린) or not, oral agent (경구 약제)\n",
      "고지혈증 치료 내용 : medical treatment (약물치료) or not\n",
      "흡연력 : current smoker (현재 흡연) or not, ex smoker (과거 흡연), never smoker (한 번도 핀 적이 없는 경우)\n",
      "STEMI 인 경우 최초 치료 원칙 : primary PCI (90분 이내 PCI 시행) or not, conservative Tx (보존적 약물치료), thrombolysis (혈전용해술), facilitated PCI (혈전용해술 후 PCI)\n",
      "침범 혈관 개수 : Left main, complex (좌주간지 혈관부, 복잡병변) + Left main, simple (좌주간지 혈관부, 단순병변) or one vessel (1개) or two vessels (2개) or three vessels (3개), or no (질병 없음)\n",
      "PCI 접근 경로 : transradial (요골동맥을 통해), transfemoral (대퇴동맥을 통해), both puncture (양쪽 다 사용함)\n",
      "목표 혈관 : LAD, LCX, RCA, LM \n",
      "목표 혈관의 시술 전 TIMI flow score : 0, 1, 2, 3\n",
      "목표 혈관의 치료 내용 : stent or not, balloon, no, thrombus aspiration\n",
      "목표혈관 치료 후 TIMI flow grade : 0, 1,2, 3\n",
      "PCI 치료 결과 : successful PCI (성공적), suboptimal (불완전), failed (실패함)\n",
      "재개통상태 : total revascularization (전체 재개통), partial revascularization (부분 재개통), no revascularization of IRA (경색혈관 미개통), \n",
      "index procedure : culprit only (경색혈관만 시술), multivessels (다혈관 시술), 모름\n",
      "2차 시술여부 : single PCI (한번만 시행), stepwise PCI (2차 시술), 모름 \n",
      "승모판막역류 grade : 0~IV\n",
      "최종진단 : STEMI (ST 분절 상승 심근경색증), NSTEMI (ST 분절 비상승 심근경색증), UAP (불안정 협심증)\n",
      "ACEi 상품명\n",
      "ARB 상품명\n",
      "1st OHA 상품명  (이 중에서 붉은 색 cell 로 표시한 것을 포함한 group 과 그렇지 않은 group 으로 구분 필요함)\n",
      "2nd OHA 상품명 (이 중에서 붉은 색 cell 로 표시한 것을 포함한 group 과 그렇지 않은 group 으로 구분 필요함)\n",
      "3rd OHA 상품명 (이 중에서 붉은 색 cell 로 표시한 것을 포함한 group 과 그렇지 않은 group 으로 구분 필요함)\n",
      "12개월 ARB 투여 유무 :  on-going (지속 처방중), stop (쓰다가 중단한 상태), no use (한번도 쓰지 않았음), new start (12개월째 새로 시작됨), unknown \n",
      "12개월 omega 3 처방 여부 : on-going (지속 처방중), stop (쓰다가 중단한 상태), no use (한번도 쓰지 않았음), new start (12개월째 새로 시작됨), unknown \n",
      "12개월 1st OHA 처방 여부 : on-going (지속 처방중), stop (쓰다가 중단한 상태), no use (한번도 쓰지 않았음), new start (12개월째 새로 시작됨), unknown \n",
      "12개월 2nd OHA 처방 여부 : on-going (지속 처방중), stop (쓰다가 중단한 상태), no use (한번도 쓰지 않았음), new start (12개월째 새로 시작됨), unknown \n",
      "12개월 3rd OHA 처방 여부 : on-going (지속 처방중), stop (쓰다가 중단한 상태), no use (한번도 쓰지 않았음), new start (12개월째 새로 시작됨), unknown \n",
      "12개월 anticoagulant 처방 여부 : on-going (지속 처방중), stop (쓰다가 중단한 상태), no use (한번도 쓰지 않았음), new start (12개월째 새로 시작됨), unknown \n",
      "12개월 ezetimibe 처방 여부 : on-going (지속 처방중), stop (쓰다가 중단한 상태), no use (한번도 쓰지 않았음), new start (12개월째 새로 시작됨), unknown \n",
      "12개월 Fibrate 처방 여부 : on-going (지속 처방중), stop (쓰다가 중단한 상태), no use (한번도 쓰지 않았음), new start (12개월째 새로 시작됨), unknown \n",
      "12개월 Statin 처방 여부 : on-going (지속 처방중), stop (쓰다가 중단한 상태), no use (한번도 쓰지 않았음), new start (12개월째 새로 시작됨), unknown \n",
      "12개월 Aspirin 처방 여부 : on-going (지속 처방중), stop (쓰다가 중단한 상태), no use (한번도 쓰지 않았음), new start (12개월째 새로 시작됨), unknown \n",
      "12개월 ACE inhibitor 투여 유무 :  on-going (지속 처방중), stop (쓰다가 중단한 상태), no use (한번도 쓰지 않았음), new start (12개월째 새로 시작됨), unknown \n",
      "12개월 Beta-blocker 투여 유무 :  on-going (지속 처방중), stop (쓰다가 중단한 상태), no use (한번도 쓰지 않았음), new start (12개월째 새로 시작됨), unknown \n",
      "12개월 Ca-channel blocker 처방 여부 : on-going (지속 처방중), stop (쓰다가 중단한 상태), no use (한번도 쓰지 않았음), new start (12개월째 새로 시작됨), unknown \n",
      "12개월 Ticagrelor 처방 여부 : on-going (지속 처방중), stop (쓰다가 중단한 상태), no use (한번도 쓰지 않았음), new start (12개월째 새로 시작됨), unknown \n",
      "12개월 Cilostazol 처방 여부 : on-going (지속 처방중), stop (쓰다가 중단한 상태), no use (한번도 쓰지 않았음), new start (12개월째 새로 시작됨), unknown \n",
      "12개월 Prasugurel 처방 여부 : on-going (지속 처방중), stop (쓰다가 중단한 상태), no use (한번도 쓰지 않았음), new start (12개월째 새로 시작됨), unknown \n",
      "12개월 Clopidogrel 처방 여부 : on-going (지속 처방중), stop (쓰다가 중단한 상태), no use (한번도 쓰지 않았음), new start (12개월째 새로 시작됨), unknown \n"
     ]
    }
   ],
   "source": [
    "for c in category_data.columns:\n",
    "    print(col_dict[c])"
   ]
  },
  {
   "cell_type": "code",
   "execution_count": 138,
   "metadata": {},
   "outputs": [
    {
     "name": "stdout",
     "output_type": "stream",
     "text": [
      "Beta-blocker\n",
      "[1 0]\n"
     ]
    }
   ],
   "source": [
    "idx = 368 #530\n",
    "print(data.columns[idx])\n",
    "print(data.iloc[:, idx].unique())"
   ]
  }
 ],
 "metadata": {
  "interpreter": {
   "hash": "78f7fc97bf5f739df685398a6b375f5a3b22935caa8ea8f31ce823c485c184ce"
  },
  "kernelspec": {
   "display_name": "Python 3",
   "language": "python",
   "name": "python3"
  },
  "language_info": {
   "codemirror_mode": {
    "name": "ipython",
    "version": 3
   },
   "file_extension": ".py",
   "mimetype": "text/x-python",
   "name": "python",
   "nbconvert_exporter": "python",
   "pygments_lexer": "ipython3",
   "version": "3.6.9"
  }
 },
 "nbformat": 4,
 "nbformat_minor": 4
}
