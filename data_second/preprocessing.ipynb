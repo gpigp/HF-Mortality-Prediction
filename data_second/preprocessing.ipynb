{
 "cells": [
  {
   "cell_type": "markdown",
   "id": "3280ea89-cc82-4ad2-bae7-74cb365356e2",
   "metadata": {
    "tags": []
   },
   "source": [
    "# Data Preprocessing"
   ]
  },
  {
   "cell_type": "code",
   "execution_count": 1,
   "id": "2f3bbc94-99e1-42f7-ad48-7cc01f89c536",
   "metadata": {},
   "outputs": [],
   "source": [
    "# Auto Reload\n",
    "%load_ext autoreload\n",
    "%autoreload 2"
   ]
  },
  {
   "cell_type": "code",
   "execution_count": 2,
   "id": "d7aa2b67-f2a7-45a3-b4f4-8c4847f19e80",
   "metadata": {
    "scrolled": true,
    "tags": []
   },
   "outputs": [
    {
     "name": "stderr",
     "output_type": "stream",
     "text": [
      "/usr/local/lib/python3.6/dist-packages/IPython/core/interactiveshell.py:3263: DtypeWarning: Columns (139,140,141,142,155,157,178,180,182) have mixed types.Specify dtype option on import or set low_memory=False.\n",
      "  if (await self.run_code(code, result,  async_=asy)):\n"
     ]
    }
   ],
   "source": [
    "import pandas as pd\n",
    "import numpy as np\n",
    "from func import load\n",
    "\n",
    "df_ = load()\n",
    "df = df_.copy()"
   ]
  },
  {
   "cell_type": "markdown",
   "id": "4b4b6384-6222-4256-92ba-88e848a818fa",
   "metadata": {
    "tags": []
   },
   "source": [
    "### Label\n",
    "1. 전체 환자군을 입원 중Q32-2 LVEF (Q32-2) <40%, >=40%  로 나누어서 각각 \n",
    "</br></br>\n",
    "   - 입원 사망 (Q37-2-1) 과  1년째 사망 (Q62-1 + 62-2), 1년째 심부전 입원 )Q64) 예측\n",
    "   -  KAMIR score (reference 5) 와 비교 (입원사망), MAGGIC score (reference 4) ,SHFS 와 비교 (1년째 사망).\n",
    "</br></br>\n",
    "2. 심장초음파 지표에서 revere remodeling 이 12개월째 나타나는 사건의 예측\n",
    "</br></br>\n",
    "   reverse remodeling 정의 : \n",
    "      - 최초의 LVEF (Q32--2) 에 비교하여 12개월째 LVEF (Q67-2) 가 절대값 10 point 이상 증가하거나\n",
    "      - 최초의 LVESD (Q32-5-1) 혹은 LVESV (Q32-6-1) 가 12개월째에(Q67-5-1 혹은 Q67-6-1) 10% 이상 증가하는 경우로 정의"
   ]
  },
  {
   "cell_type": "markdown",
   "id": "39ec7e33-f2ef-4ea0-9ed9-905f21868aa2",
   "metadata": {
    "tags": []
   },
   "source": [
    "##### Label 1"
   ]
  },
  {
   "cell_type": "code",
   "execution_count": 3,
   "id": "6f79f6e7-14be-4bd9-b3d0-a546db42ae89",
   "metadata": {},
   "outputs": [],
   "source": [
    "label_1 = df.iloc[:,137:143].copy()\n",
    "label_2 = df.iloc[:,171:173].copy()\n",
    "label_3 = df.iloc[:,176:187].copy()\n",
    "label_4 = df.iloc[:,190:199].copy()\n",
    "\n",
    "labels = pd.concat([label_1, label_2, label_3, label_4],axis=1)"
   ]
  },
  {
   "cell_type": "code",
   "execution_count": 4,
   "id": "70ad68c3-3e3e-46bd-8977-c453a215a0fe",
   "metadata": {},
   "outputs": [],
   "source": [
    "labels.to_excel('edit/KAMIR_Labels1.xlsx')"
   ]
  },
  {
   "cell_type": "code",
   "execution_count": 5,
   "id": "da4bf2ee-44dd-4411-aec0-943d73e06417",
   "metadata": {},
   "outputs": [],
   "source": [
    "# 이름으로 컬럼 찾기\n",
    "# print(df.columns.get_loc(\"12M_MACE\"))\n",
    "# print(df.columns.get_loc(\"12M_Rehospitalization d/t HF \"))\n",
    "\n",
    "# 또는\n",
    "# label_list = [137, 138, 139, 140, 141, 142, 171, 172, 176, 177, 178,\n",
    "#              179, 180, 181, 182, 183, 184, 185, 186, 190, 191, 192,\n",
    "#              193, 194, 195, 196, 197, 198]\n",
    "# labels = df.iloc[:,label_list]\n",
    "\n",
    "# 칼럼 index : 칼럼이름\n",
    "# for i in labels:\n",
    "#     print(\"Column\", df.columns.get_loc(i), \"\\t:\", i)"
   ]
  },
  {
   "cell_type": "markdown",
   "id": "dbd47b3d-8334-4dd1-b053-035c8e82a696",
   "metadata": {
    "tags": []
   },
   "source": [
    "##### Label 2"
   ]
  },
  {
   "cell_type": "code",
   "execution_count": 6,
   "id": "d8158207-6f0c-4730-8e27-085c143de8e3",
   "metadata": {
    "tags": []
   },
   "outputs": [],
   "source": [
    "# from func import lvef_type_change as ltc\n",
    "\n",
    "# lvef = df['LVEF'].copy()\n",
    "# lvef = ltc(lvef)\n",
    "\n",
    "# # target - lvef threshold 40\n",
    "# down_index = lvef[lvef < 40].index\n",
    "# up_index = lvef[lvef >= 40].index\n",
    "# non_index = lvef[lvef.isnull()].index\n",
    "\n",
    "# # print(down_index)\n",
    "# # print(up_index)\n",
    "# # print(non_index)\n",
    "\n",
    "# down_1 = df['Date of death'].copy()\n",
    "# down_2 = df['12M_Cardiac death'].copy()\n",
    "# down_3 = df['12M_Non-cardiac death'].copy()\n",
    "# down_4 = df['12M_Rehospitalization d/t HF '].copy()\n"
   ]
  },
  {
   "cell_type": "code",
   "execution_count": 7,
   "id": "c41421d1-7c3f-4be5-bd1c-05912f97780e",
   "metadata": {
    "tags": []
   },
   "outputs": [],
   "source": [
    "# lvef_first = df['LVEF'].copy()\n",
    "# lvef_first = ltc(lvef_first)\n",
    "# lvef_12m = df['12M_LVEF'].copy()\n",
    "# lvef_12m = ltc(lvef_12m)\n",
    "\n",
    "# y_2_1 = abs(lvef_first-lvef_12m)"
   ]
  },
  {
   "cell_type": "markdown",
   "id": "12606731-ff75-4e7d-9888-7270a8e4e9f6",
   "metadata": {
    "tags": []
   },
   "source": [
    "### Drop Feature"
   ]
  },
  {
   "cell_type": "code",
   "execution_count": 8,
   "id": "2917a1cb-9747-42e8-ad69-0808d4392829",
   "metadata": {
    "scrolled": true,
    "tags": []
   },
   "outputs": [],
   "source": [
    "x = df.drop(labels, axis=1)"
   ]
  },
  {
   "cell_type": "code",
   "execution_count": 9,
   "id": "77164372-91f5-4a2a-8aaf-f894feaef2f1",
   "metadata": {},
   "outputs": [],
   "source": [
    "date_feature_list = [11, 15, 24, 56, 101, 103, 105, 107, 109, 111, \n",
    "                     113, 115, 117, 121, 123, 125, 127, 129, 131, 134,\n",
    "                     172, 180, 191, 194, 197, 200, 203, 206, 209, 212,\n",
    "                     215, 218, 16, 58, 14, 97, 99]\n",
    "stage_list = [0]\n",
    "drop_list = x.iloc[:, date_feature_list+stage_list].copy()\n",
    "x = x.drop(drop_list, axis=1)\n",
    "# 58-16, 210은 data값임"
   ]
  },
  {
   "cell_type": "code",
   "execution_count": 10,
   "id": "6d93556f-c81a-4093-8093-969a61863652",
   "metadata": {},
   "outputs": [],
   "source": [
    "# x.to_excel('/edit/KAMIR_drop_label1.xlsx')\n",
    "# x.to_excel('/edit/KAMIR_drop_date.xlsx')\n",
    "\n",
    "# for i in x.columns:\n",
    "#     print(\"Column\", x.columns.get_loc(i), \"\\t:\", i)\n",
    "\n",
    "# # 4984번 환자는 병원 도착한 시간이 없음 (This hospital Arrival time : null)\n",
    "# for i in x.columns:\n",
    "#     print(\"Column\", x.columns.get_loc(i), \"\\t:\", i)\n",
    "# x.to_excel('edit/KAMIR_fillna(0).xlsx')\n",
    "\n",
    "# for i in x.columns:\n",
    "#     print(\"Column\", x.columns.get_loc(i), \"\\t:\", i)\n",
    "\n",
    "# 추후 drop할 drug name : 41, 134, 135, 136, 186, 190, 197, 198, 202, 206, 210, 214, 218, 222, 226, 230, 234, 238, 242, 246, 250\n",
    "\n",
    "# 질문 : 188, \n",
    "\n",
    "# for i in le_list:\n",
    "#     df[df.columns[i]] = le(df[df.columns[i]])\n",
    "\n",
    "# # 분포도 시각화\n",
    "# import seaborn as sns\n",
    "# sns.distplot(df.iloc[:,0], kde=False)\n",
    "\n",
    "# # 원하는 조건의 인덱스\n",
    "# print(\"Index : \", df.index[df.iloc[:,0]==1])\n",
    "\n",
    "# # 원하는 조건의 인덱스 개수\n",
    "# print(\"Index Len : \", len(df.index[df.iloc[:,0]==1]))"
   ]
  },
  {
   "cell_type": "markdown",
   "id": "76ada775-13a2-4fe3-afe8-1e09a8b9e4fe",
   "metadata": {
    "tags": []
   },
   "source": [
    "### null value"
   ]
  },
  {
   "cell_type": "code",
   "execution_count": 11,
   "id": "c294e8cd-c50e-42d4-8097-b1d0cbcdc0b4",
   "metadata": {},
   "outputs": [],
   "source": [
    "x = x.fillna(0)"
   ]
  },
  {
   "cell_type": "markdown",
   "id": "b542c609-603f-497f-b440-4e7b24652423",
   "metadata": {},
   "source": [
    "### replace"
   ]
  },
  {
   "cell_type": "code",
   "execution_count": 12,
   "id": "ca361672-12d6-4f08-8087-efd13491306d",
   "metadata": {},
   "outputs": [
    {
     "name": "stderr",
     "output_type": "stream",
     "text": [
      "/usr/local/lib/python3.6/dist-packages/pandas/core/frame.py:4389: SettingWithCopyWarning: \n",
      "A value is trying to be set on a copy of a slice from a DataFrame\n",
      "\n",
      "See the caveats in the documentation: https://pandas.pydata.org/pandas-docs/stable/user_guide/indexing.html#returning-a-view-versus-a-copy\n",
      "  method=method,\n"
     ]
    }
   ],
   "source": [
    "# FEATURE\n",
    "\n",
    "no_list = [22, 24, 26, 28, 30, 32, 34, 35, 38, 40,\n",
    "           48, 64, 65, 183, 187, 191, 195]\n",
    "unknown_list = no_list\n",
    "\n",
    "x.iloc[:, no_list].replace('No', 0, inplace=True)\n",
    "x.iloc[:, no_list].replace('No Use', 0, inplace=True)\n",
    "x.iloc[:, unknown_list].replace('Unknown', 0, inplace=True)"
   ]
  },
  {
   "cell_type": "markdown",
   "id": "7c730dea-202e-43d3-b090-5919a554f02d",
   "metadata": {
    "tags": []
   },
   "source": [
    "### Label encoding"
   ]
  },
  {
   "cell_type": "code",
   "execution_count": 13,
   "id": "913bf9cf-2f0c-4836-9d1b-5dc8e081bfb7",
   "metadata": {},
   "outputs": [],
   "source": [
    "from func import le\n",
    "\n",
    "le_list = [1, 3, 4, 11, 18, 19, 20, 36, 42, 43, 44, 47,\n",
    "           50, 57, 58, 59, 60, 61, 62, 63, 67, 111, \n",
    "           147, 199, 203, 207, 211, 215, 219, 223,\n",
    "           227, 231, 235, 239, 243, 247]\n",
    "le_list.extend(no_list)"
   ]
  },
  {
   "cell_type": "code",
   "execution_count": 14,
   "id": "78fbc78d-b1ab-4072-946b-ad80613f1e8a",
   "metadata": {},
   "outputs": [],
   "source": [
    "from func import le\n",
    "\n",
    "for i in le_list:\n",
    "    x.iloc[:, i].replace(0, str(0), inplace=True)\n",
    "for i in le_list:\n",
    "    x[x.columns[i]] = le(x[x.columns[i]])"
   ]
  },
  {
   "cell_type": "code",
   "execution_count": 15,
   "id": "7c1f9567-3503-4590-b11d-abf12e4116bb",
   "metadata": {},
   "outputs": [
    {
     "data": {
      "text/plain": [
       "['Sex',\n",
       " 'ECG Change',\n",
       " 'Chest pain',\n",
       " 'FMC',\n",
       " 'Killip Class at admission',\n",
       " 'ST change on ECG',\n",
       " 'Heart rhythm on ECG',\n",
       " 'Smoking History',\n",
       " 'Initial diagnosis',\n",
       " 'STEMI',\n",
       " 'NSTEMI',\n",
       " 'Coronary artery stenosis',\n",
       " 'Puncture route',\n",
       " 'Target vessel',\n",
       " 'Lesion type of target vessel',\n",
       " 'Pre TIMI flow of target vessel',\n",
       " 'Treatment of target Vessel',\n",
       " 'Post TIMI flow of target vessel',\n",
       " 'Result of PCI',\n",
       " 'Status of revascularization',\n",
       " 'MR grade',\n",
       " 'Final diagnosis',\n",
       " '12M_MR grade',\n",
       " '12M_Oral hypoglycemic agent (1)',\n",
       " '12M_Oral anticoagulant',\n",
       " '12M_Ezetimide',\n",
       " '12M_Fibrate',\n",
       " '12M_Statin',\n",
       " '12M_Aspirin',\n",
       " '12M_ACE inhibitor',\n",
       " '12M_Beta-blocker',\n",
       " '12M_Ca-channel blocker',\n",
       " '12M_Ticagrelor',\n",
       " '12M_Cilostazol',\n",
       " '12M_Prasugurel',\n",
       " '12M_Clopidogrel',\n",
       " 'on Treatment',\n",
       " 'on Treatment.1',\n",
       " 'on Treatment.2',\n",
       " 'on Treatment.3',\n",
       " 'on Treatment.4',\n",
       " 'on Treatment.5',\n",
       " 'DiagnosisCerebrovascular Disease',\n",
       " 'on Treatment.6',\n",
       " 'Menopause',\n",
       " 'Hysterectomy History',\n",
       " 'Number of involved vessels',\n",
       " 'Index procedure',\n",
       " 'Staged PCI',\n",
       " '12M_ARB',\n",
       " '12M_Omega3 FA',\n",
       " '12M_Oral hypoglycemic agent (3)',\n",
       " '12M_Oral hypoglycemic agent (2)']"
      ]
     },
     "execution_count": 15,
     "metadata": {},
     "output_type": "execute_result"
    }
   ],
   "source": [
    "cat_col_names = []\n",
    "for i in le_list:\n",
    "    cat_col_names.append(x.iloc[:, i].name)\n",
    "cat_col_names"
   ]
  },
  {
   "cell_type": "markdown",
   "id": "f3b3505e-5d10-4576-94f5-a65e81c8de75",
   "metadata": {},
   "source": [
    "### str with \"|\" -> int"
   ]
  },
  {
   "cell_type": "code",
   "execution_count": 15,
   "id": "752bb0cd-200f-4669-add0-2e5e0ade800c",
   "metadata": {},
   "outputs": [],
   "source": [
    "lvef_type_list =[66, 68, 69, 71, 72, 88, 89, 90, 91, 92, 93, 94, 95, 96, 97, 98, 99, 100,\n",
    "                 101, 102, 103, 104, 105, 106, 107, 108, 109, 110, 123, 125, 127, 129, 138,\n",
    "                 146, 148, 149, 150, 151, 153, 155, 157, 159, 161, 163, 165, 167, 169, 171,\n",
    "                 173, 175, 177, 179, 181, 184, 185, 188, 189, 192, 193, 196, 197, 200, 201,\n",
    "                 204, 205, 208, 209, 212, 213, 216, 217, 220, 221, 224, 225, 228, 229, 232,\n",
    "                 233, 236, 237, 240, 241, 244, 245, 248, 249]"
   ]
  },
  {
   "cell_type": "code",
   "execution_count": 16,
   "id": "be58d657-c7c3-4271-bc40-58f49cbfa52e",
   "metadata": {},
   "outputs": [
    {
     "name": "stderr",
     "output_type": "stream",
     "text": [
      "  0%|          | 0/87 [00:00<?, ?it/s]/home/Lab_Project_001/data_second/func.py:17: SettingWithCopyWarning: \n",
      "A value is trying to be set on a copy of a slice from a DataFrame\n",
      "\n",
      "See the caveats in the documentation: https://pandas.pydata.org/pandas-docs/stable/user_guide/indexing.html#returning-a-view-versus-a-copy\n",
      "  data[k]=data[k].split()[0]\n",
      "/home/Lab_Project_001/data_second/func.py:20: SettingWithCopyWarning: \n",
      "A value is trying to be set on a copy of a slice from a DataFrame\n",
      "\n",
      "See the caveats in the documentation: https://pandas.pydata.org/pandas-docs/stable/user_guide/indexing.html#returning-a-view-versus-a-copy\n",
      "  data[k] = float(data[k])\n",
      "/home/Lab_Project_001/data_second/func.py:19: SettingWithCopyWarning: \n",
      "A value is trying to be set on a copy of a slice from a DataFrame\n",
      "\n",
      "See the caveats in the documentation: https://pandas.pydata.org/pandas-docs/stable/user_guide/indexing.html#returning-a-view-versus-a-copy\n",
      "  data[k] = str(0)\n",
      "100%|██████████| 87/87 [07:08<00:00,  4.92s/it]\n"
     ]
    }
   ],
   "source": [
    "from func import lvef_type_change as ltc\n",
    "from tqdm import tqdm\n",
    "\n",
    "for i in lvef_type_list:\n",
    "    x.iloc[:, i].replace(0, float(0), inplace=True)\n",
    "for i in tqdm(lvef_type_list):\n",
    "    x[x.columns[i]] = ltc(x[x.columns[i]])"
   ]
  },
  {
   "cell_type": "markdown",
   "id": "100c8417-6a40-4e27-8fd3-a0bd74ab354a",
   "metadata": {},
   "source": [
    "### Drop again due to drug name & all value 0"
   ]
  },
  {
   "cell_type": "code",
   "execution_count": 17,
   "id": "21354435-ca93-4eef-88eb-6a739a60a1e1",
   "metadata": {},
   "outputs": [],
   "source": [
    "drug_list = [134, 135, 136, 186, 190, 194, 198, 202, 206, 210, 214, 218, 222, 226, 230, 234, 238, 242, 246, 250]\n",
    "value_list = [41]\n",
    "drop_list = x.iloc[:, drug_list+value_list].copy()\n",
    "x = x.drop(drop_list, axis=1)"
   ]
  },
  {
   "cell_type": "code",
   "execution_count": 18,
   "id": "110ca01c-6e8a-4acf-bc20-c1c1e361be93",
   "metadata": {},
   "outputs": [],
   "source": [
    "# x.to_excel('edit/KAMIR_edited1.xlsx')"
   ]
  },
  {
   "cell_type": "markdown",
   "id": "9bb3ae1e-bcad-4410-8158-274608caf901",
   "metadata": {},
   "source": [
    "### Nomarlization"
   ]
  },
  {
   "cell_type": "code",
   "execution_count": 19,
   "id": "81f7e2a5-7e43-4dbc-92a5-09ef674dd7d1",
   "metadata": {},
   "outputs": [],
   "source": [
    "# from sklearn import preprocessing\n",
    "\n",
    "# train = preprocessing.normalize(x)\n",
    "# train = pd.DataFrame(train, columns=x.columns, index=list(x.index.values))"
   ]
  },
  {
   "cell_type": "code",
   "execution_count": 20,
   "id": "5fbc6c75-0cd7-4b9b-859c-fc928a94f38f",
   "metadata": {},
   "outputs": [],
   "source": [
    "# train"
   ]
  },
  {
   "cell_type": "code",
   "execution_count": 22,
   "id": "e741848a-c598-40b2-ac3f-e80b2646bf5e",
   "metadata": {},
   "outputs": [],
   "source": [
    "x.to_excel('edit/KAMIR_data_preprocessing_no_normalization.xlsx')"
   ]
  },
  {
   "cell_type": "code",
   "execution_count": null,
   "id": "a7923499-f7bc-4337-aaa5-734a7c6c60c7",
   "metadata": {},
   "outputs": [],
   "source": [
    "# df[df.columns[le_list[-1]]]"
   ]
  },
  {
   "cell_type": "markdown",
   "id": "89623209-fd41-42a4-a259-a6927a0e3d23",
   "metadata": {
    "tags": []
   },
   "source": [
    "### 상관 관계 분석(Correlation Analysis)"
   ]
  },
  {
   "cell_type": "code",
   "execution_count": null,
   "id": "b23e4644-c5d0-457e-9e9b-d710715e04eb",
   "metadata": {},
   "outputs": [],
   "source": [
    "import pandas as pd\n",
    "import matplotlib.pyplot as plt\n",
    "import seaborn as sns"
   ]
  },
  {
   "cell_type": "code",
   "execution_count": null,
   "id": "fb7b60c4-9ab9-46d1-945c-64caeeabc1ec",
   "metadata": {},
   "outputs": [],
   "source": [
    "corr_ = train.corr(method='pearson')\n",
    "sns.set(rc = {'figure.figsize':(100,100)})\n",
    "sns.heatmap(corr_)"
   ]
  },
  {
   "cell_type": "code",
   "execution_count": null,
   "id": "a1bd4ffa-1807-4ae9-96d4-ec538d159551",
   "metadata": {},
   "outputs": [],
   "source": [
    "# cbar : 막대 범주\n",
    "# annot : 상관 계수 표시\n",
    "# annot_kws : 글자 크기\n",
    "# fmt : 소수점 자리\n",
    "# square : 정사각형 (false는 직사각형)\n",
    "# cmap : 색상\n",
    "\n",
    "# df_heatmap = sns.heatmap(corr, cbar = True, annot = True, annot_kws={'size' : 20}, \n",
    "#                          fmt = '.2f', square = True, cmap = 'Blues'\n",
    "\n",
    "# sns.clustermap(corr)\n",
    "\n",
    "# PCA, 상위 0.1%개 뽑아서 표준편차 outlier 뽑아서 질문"
   ]
  },
  {
   "cell_type": "code",
   "execution_count": null,
   "id": "475ed15c-2667-4110-abf0-79157ad1a36b",
   "metadata": {},
   "outputs": [],
   "source": []
  }
 ],
 "metadata": {
  "kernelspec": {
   "display_name": "Python 3",
   "language": "python",
   "name": "python3"
  },
  "language_info": {
   "codemirror_mode": {
    "name": "ipython",
    "version": 3
   },
   "file_extension": ".py",
   "mimetype": "text/x-python",
   "name": "python",
   "nbconvert_exporter": "python",
   "pygments_lexer": "ipython3",
   "version": "3.6.9"
  }
 },
 "nbformat": 4,
 "nbformat_minor": 5
}
